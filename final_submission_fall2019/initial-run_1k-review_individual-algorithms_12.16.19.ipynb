{
 "cells": [
  {
   "cell_type": "markdown",
   "metadata": {
    "colab_type": "text",
    "id": "KgAN2AOo0pUn"
   },
   "source": [
    "# Initial Approaches based on a total of 1000 reviews:\n",
    "*   Training Data: 800 reviews\n",
    "*   Testing Data: 200 reviews\n",
    "\n",
    "\n",
    "\n",
    "---\n",
    "\n"
   ]
  },
  {
   "cell_type": "markdown",
   "metadata": {
    "colab_type": "text",
    "id": "EntIINW4mGi1"
   },
   "source": [
    "# Google Colab Configuration"
   ]
  },
  {
   "cell_type": "markdown",
   "metadata": {
    "colab_type": "text",
    "id": "DlHN4Swf2ekA"
   },
   "source": [
    "## Mount Google Drive on Colab:"
   ]
  },
  {
   "cell_type": "markdown",
   "metadata": {
    "colab_type": "text",
    "id": "JaB1lMiEmXIW"
   },
   "source": [
    "Enable loading external data from Google Drive by mounting your Google Drive into the Colab runtime's virtual machine:"
   ]
  },
  {
   "cell_type": "code",
   "execution_count": 1,
   "metadata": {
    "colab": {},
    "colab_type": "code",
    "id": "88LKxDL4a_zd"
   },
   "outputs": [],
   "source": [
    "# from google.colab import drive\n",
    "# drive.mount('/content/drive')"
   ]
  },
  {
   "cell_type": "markdown",
   "metadata": {
    "colab_type": "text",
    "id": "Mmky8jmRn6T5"
   },
   "source": [
    "Now Google Drive is mounted on Colab. Run the block of testing code below to verify writing to a new file in Drive."
   ]
  },
  {
   "cell_type": "code",
   "execution_count": 2,
   "metadata": {
    "colab": {
     "base_uri": "https://localhost:8080/",
     "height": 34
    },
    "colab_type": "code",
    "executionInfo": {
     "elapsed": 31658,
     "status": "ok",
     "timestamp": 1576468989786,
     "user": {
      "displayName": "Louise Dev",
      "photoUrl": "",
      "userId": "08535859031441537751"
     },
     "user_tz": 300
    },
    "id": "dzCbidPKcZ8T",
    "outputId": "ea0a173a-5733-4b4b-c41c-a7ced56e42af"
   },
   "outputs": [],
   "source": [
    "# with open('/content/drive/My Drive/foo.txt', 'w') as f:\n",
    "#   f.write('Hello Google Drive AGAIN!')\n",
    "# !cat /content/drive/My\\ Drive/foo.txt"
   ]
  },
  {
   "cell_type": "markdown",
   "metadata": {
    "colab_type": "text",
    "id": "N3YdvXsX3mVI"
   },
   "source": [
    "## Set Runtime Type:"
   ]
  },
  {
   "cell_type": "markdown",
   "metadata": {
    "colab_type": "text",
    "id": "N9MbdWBWqIJD"
   },
   "source": [
    "Set GPU runtime:"
   ]
  },
  {
   "cell_type": "code",
   "execution_count": 3,
   "metadata": {
    "colab": {
     "base_uri": "https://localhost:8080/",
     "height": 80
    },
    "colab_type": "code",
    "executionInfo": {
     "elapsed": 34345,
     "status": "ok",
     "timestamp": 1576468992487,
     "user": {
      "displayName": "Louise Dev",
      "photoUrl": "",
      "userId": "08535859031441537751"
     },
     "user_tz": 300
    },
    "id": "oWL4BkTvpmEA",
    "outputId": "6938abb2-df42-4287-d8de-dbdd04f042fe"
   },
   "outputs": [],
   "source": [
    "# # Ensure you have the latest TensorFlow GPU release installed.\n",
    "# from __future__ import absolute_import, division, print_function, unicode_literals\n",
    "\n",
    "# import tensorflow as tf \n",
    "# tf.test.gpu_device_name() "
   ]
  },
  {
   "cell_type": "markdown",
   "metadata": {
    "colab_type": "text",
    "id": "3H56r97OqTSJ"
   },
   "source": [
    "Set TPU runtime:"
   ]
  },
  {
   "cell_type": "code",
   "execution_count": 4,
   "metadata": {
    "colab": {},
    "colab_type": "code",
    "id": "EXKsbM4Wpyo3"
   },
   "outputs": [],
   "source": [
    "# import os \n",
    "  \n",
    "# if 'COLAB_TPU_ADDR' not in os.environ: \n",
    "#   print('Not connected to TPU') \n",
    "# else: \n",
    "#   print(\"Connected to TPU\") "
   ]
  },
  {
   "cell_type": "markdown",
   "metadata": {
    "colab_type": "text",
    "id": "FwIKZsbGqcqZ"
   },
   "source": [
    "Show all pre-installed libraries by Google Colab:"
   ]
  },
  {
   "cell_type": "code",
   "execution_count": 5,
   "metadata": {
    "colab": {},
    "colab_type": "code",
    "id": "0QRwCIoSp47P"
   },
   "outputs": [],
   "source": [
    "# # List all Google Colab supported (pre-installed) libraries:\n",
    "# !pip freeze"
   ]
  },
  {
   "cell_type": "markdown",
   "metadata": {
    "colab_type": "text",
    "id": "LZUDdJlVXxVF"
   },
   "source": [
    "# Data Preprocessing"
   ]
  },
  {
   "cell_type": "markdown",
   "metadata": {
    "colab_type": "text",
    "id": "m1YWcJha3yTW"
   },
   "source": [
    "## Prepare Packages & Modules:"
   ]
  },
  {
   "cell_type": "markdown",
   "metadata": {
    "colab_type": "text",
    "id": "XuvEl1GHoj0t"
   },
   "source": [
    "Install packages with pip if running locally. Colab already comes with built-in packages."
   ]
  },
  {
   "cell_type": "code",
   "execution_count": 6,
   "metadata": {
    "colab": {
     "base_uri": "https://localhost:8080/",
     "height": 122
    },
    "colab_type": "code",
    "executionInfo": {
     "elapsed": 38577,
     "status": "ok",
     "timestamp": 1576468996744,
     "user": {
      "displayName": "Louise Dev",
      "photoUrl": "",
      "userId": "08535859031441537751"
     },
     "user_tz": 300
    },
    "id": "lDby2AdbXxVI",
    "outputId": "2482811c-3a7b-44d7-83e4-e16d56dd2da3",
    "pycharm": {
     "is_executing": false
    }
   },
   "outputs": [
    {
     "name": "stdout",
     "output_type": "stream",
     "text": [
      "Requirement already satisfied: vaderSentiment in c:\\programdata\\anaconda3\\lib\\site-packages (3.2.1)\n"
     ]
    }
   ],
   "source": [
    "# # Install the Pandas library (Python Data Analysis Library) via Pip:\n",
    "# # The exclamation mark ! means run it as a shell command rather than a notebook command.\n",
    "# # Google Colab wants an exclamation point before most commands.\n",
    "# \n",
    "# # Install the Pandas library for data manipulation and analysis:\n",
    "# # Use Pandas especially for manipulating numerical tables and time series.\n",
    "# !pip install pandas\n",
    "# \n",
    "# # Install the Numpy library for scientific & mathematical operation:\n",
    "# # Numpy allows to work with multi-dimensional arrays & matrices.\n",
    "# !pip install numpy\n",
    "# \n",
    "# # Install the Beautiful Soup library for scraping data from HTML and XML files:\n",
    "# !pip install beautifulsoup4\n",
    "# \n",
    "# # Install the NLTK library for NLP:\n",
    "# !pip install nltk\n",
    "# # scipy needs to be installed prior to gensim installation.\n",
    "# !pip3 install scipy\n",
    "# !pip install gensim\n",
    "# \n",
    "# # Install the Scikit-learn for supervise & unsupervise learning algorithms:\n",
    "# !pip install scikit-learn\n",
    "# \n",
    "# # Install the Matplotlib library for visualization:\n",
    "# !pip install matplotlib\n",
    "# # Install the Seaborn library for pretty plot:\n",
    "# !pip install seaborn\n",
    "# \n",
    "# Install the Vader Lexicon for Sentiment Analysis:\n",
    "!pip install vaderSentiment"
   ]
  },
  {
   "cell_type": "markdown",
   "metadata": {
    "colab_type": "text",
    "id": "Xycai-OPo4Kk"
   },
   "source": [
    "Import necessary libraries and modules:"
   ]
  },
  {
   "cell_type": "code",
   "execution_count": 7,
   "metadata": {
    "colab": {
     "base_uri": "https://localhost:8080/",
     "height": 190
    },
    "colab_type": "code",
    "executionInfo": {
     "elapsed": 41009,
     "status": "ok",
     "timestamp": 1576468999191,
     "user": {
      "displayName": "Louise Dev",
      "photoUrl": "",
      "userId": "08535859031441537751"
     },
     "user_tz": 300
    },
    "id": "2Yw-Vg-3XxVM",
    "outputId": "024abb9c-86ea-4d3d-ba96-a7d1c95061c9",
    "pycharm": {
     "is_executing": false
    }
   },
   "outputs": [
    {
     "name": "stderr",
     "output_type": "stream",
     "text": [
      "[nltk_data] Downloading package punkt to\n",
      "[nltk_data]     C:\\Users\\Louise\\AppData\\Roaming\\nltk_data...\n",
      "[nltk_data]   Package punkt is already up-to-date!\n",
      "[nltk_data] Downloading package stopwords to\n",
      "[nltk_data]     C:\\Users\\Louise\\AppData\\Roaming\\nltk_data...\n",
      "[nltk_data]   Package stopwords is already up-to-date!\n",
      "[nltk_data] Downloading package wordnet to\n",
      "[nltk_data]     C:\\Users\\Louise\\AppData\\Roaming\\nltk_data...\n",
      "[nltk_data]   Package wordnet is already up-to-date!\n",
      "[nltk_data] Downloading package vader_lexicon to\n",
      "[nltk_data]     C:\\Users\\Louise\\AppData\\Roaming\\nltk_data...\n",
      "[nltk_data]   Package vader_lexicon is already up-to-date!\n"
     ]
    }
   ],
   "source": [
    "# Import libraries for data preprocessing:\n",
    "\n",
    "from pandas import DataFrame\n",
    "import pandas as pd\n",
    "import numpy as np\n",
    "\n",
    "\n",
    "# Import NLTK modules:\n",
    "import nltk\n",
    "\n",
    "# Download the NLTK Punkt Sentence Tokenizer that divides a text into a list of sentences:\n",
    "nltk.download('punkt')\n",
    "# Import tokenizer for word and sentence:\n",
    "from nltk.tokenize import word_tokenize, sent_tokenize\n",
    "\n",
    "# Download the NLTK stopword corpus:\n",
    "nltk.download('stopwords')\n",
    "# Import the Stopwords module:\n",
    "from nltk.corpus import stopwords\n",
    "\n",
    "# Import PorterStemmer for stemming words:\n",
    "from nltk.stem.porter import PorterStemmer\n",
    "\n",
    "# Download the NLTK wordnet corpus:\n",
    "nltk.download('wordnet')\n",
    "# Import WordNetLemmatizer for lemmatization:\n",
    "from nltk.stem.wordnet import WordNetLemmatizer\n",
    "\n",
    "\n",
    "# Download the NLTK vader_lexicon:\n",
    "nltk.download('vader_lexicon')\n",
    "# Import SentimentIntensityAnalyzer from NLTK Vader lexicon:\n",
    "from nltk.sentiment.vader import SentimentIntensityAnalyzer\n",
    "\n",
    "\n",
    "# Import CountVectorizer from Sciket Learn for converting a collection of text documents to a matrix of token counts:\n",
    "from sklearn.feature_extraction.text import CountVectorizer\n",
    "\n",
    "# Import train_test_split from Sciket Learn for splitting the dataset:\n",
    "from sklearn.model_selection import train_test_split\n",
    "\n",
    "# Import Gaussian Naive Bayes model from Sciket Learn for classification:\n",
    "from sklearn.naive_bayes import GaussianNB\n",
    "\n",
    "# Import RandomForestClassifier from Sciket Learn for classification:\n",
    "from sklearn.ensemble import RandomForestClassifier\n",
    "\n",
    "# Import confusion_matrix from Scikit Learn for accuracy evaluation:\n",
    "from sklearn.metrics import confusion_matrix\n",
    "\n",
    "# Import accuracy_score from Scikit Learn for computing the prediction accuracy:\n",
    "from sklearn.metrics import accuracy_score\n",
    "\n",
    "# Import TfidfVectorizer from Scikit Learn for converting a collection of raw documents to a matrix of TF-IDF features (in percentage):\n",
    "from sklearn.feature_extraction.text import TfidfVectorizer\n",
    "\n",
    "# Important Kmeans from Scikit Learn for K-means Clustering:\n",
    "from sklearn.cluster import KMeans\n",
    "\n",
    "# Import LinearRegression, LogisticRegression from Scikit Learn for Regression modeling:\n",
    "from sklearn.linear_model import LinearRegression, LogisticRegression\n",
    "from sklearn import metrics\n",
    "\n",
    "# Import SVM from Sciket Learn for classification:\n",
    "from sklearn import svm\n",
    "\n",
    "\n",
    "# Import the Python built-in RegEx (Regular Expression) module for text cleaning & text search:\n",
    "import re\n",
    "\n",
    "\n",
    "# Import Matplotlib modules:\n",
    "import matplotlib.pyplot as plt\n",
    "\n",
    "# Set the output of plotting commands to be displayed inline in the notebook document (E.g., Jupyter, Colob):\n",
    "%matplotlib inline\n",
    "\n",
    "# # Set the interactive plots embedded within the notebook that allow zoom and resize:\n",
    "# %matplotlib notebook\n",
    "\n",
    "# Import the Seaborn library for pretty statiscal visualization:\n",
    "import seaborn as sns"
   ]
  },
  {
   "cell_type": "markdown",
   "metadata": {
    "colab_type": "text",
    "id": "1uieieND36hz"
   },
   "source": [
    "## Load Data:"
   ]
  },
  {
   "cell_type": "markdown",
   "metadata": {
    "colab_type": "text",
    "id": "z8GJfXJbo-n7"
   },
   "source": [
    "Load data from source (local file or Google Drive):"
   ]
  },
  {
   "cell_type": "code",
   "execution_count": 8,
   "metadata": {
    "colab": {
     "base_uri": "https://localhost:8080/",
     "height": 238
    },
    "colab_type": "code",
    "executionInfo": {
     "elapsed": 45346,
     "status": "ok",
     "timestamp": 1576469003543,
     "user": {
      "displayName": "Louise Dev",
      "photoUrl": "",
      "userId": "08535859031441537751"
     },
     "user_tz": 300
    },
    "id": "6LI_lEMiXxVQ",
    "outputId": "52e08b1f-fc64-4dba-fb43-22e228c15047",
    "pycharm": {
     "is_executing": false,
     "name": "#%%\n"
    }
   },
   "outputs": [],
   "source": [
    "# # Read the dataset from txt file into Pandas DataFrame:\n",
    "\n",
    "# # Use pd.read_fwf() to easily read a table of fixed-width formatted lines into DataFrame.\n",
    "# # Also supports optionally iterating or breaking of the file into chunks.\n",
    "\n",
    "# # Each customer comment is split into two columns of \"label\" and \"review\".\n",
    "# # datasetTest = pd.read_fwf('data/amazon-review.test.ft.txt', header = None, names = [\"label\", \"review\"])\n",
    "# # The line above is for reading the dataset from local machine while coding in Pycharm.\n",
    "\n",
    "\n",
    "# # If read the dataset from mounted Google Drive, change the data path to the following:\n",
    "# # dataset = pd.read_fwf('/content/drive/My Drive/Colab Notebooks/Emotion AI Chatbot/data/amazon-review.test.ft.txt', header = None, names = [\"label\", \"review\"])\n",
    "# datasetTest = pd.read_fwf('/content/drive/My Drive/Colab Notebooks/Emotion AI Chatbot/data/amazon-review.test.ft.txt', delim_whitespace = True, header = None, index_col = False, names = [\"label\", \"review\"], encoding='utf-8')\n",
    "\n",
    "# print(\"Original Testing Dataset:\")\n",
    "# print(datasetTest.shape)\n",
    "\n",
    "# datasetTest.head()\n"
   ]
  },
  {
   "cell_type": "markdown",
   "metadata": {},
   "source": [
    "Load data from local machine:"
   ]
  },
  {
   "cell_type": "code",
   "execution_count": 9,
   "metadata": {},
   "outputs": [
    {
     "name": "stdout",
     "output_type": "stream",
     "text": [
      "C:\\Users\\Louise\\Documents\\Code\\Emotion AI Chatbot\\Emotion AI Chatbot\\LU_DANIEL_emotion-ai_final_submission\n"
     ]
    }
   ],
   "source": [
    "# Print current working directory:\n",
    "import os\n",
    "print(os.getcwd())"
   ]
  },
  {
   "cell_type": "code",
   "execution_count": 10,
   "metadata": {
    "colab": {
     "base_uri": "https://localhost:8080/",
     "height": 238
    },
    "colab_type": "code",
    "executionInfo": {
     "elapsed": 72909,
     "status": "ok",
     "timestamp": 1576469031136,
     "user": {
      "displayName": "Louise Dev",
      "photoUrl": "",
      "userId": "08535859031441537751"
     },
     "user_tz": 300
    },
    "id": "Y3WaOze1B7VI",
    "outputId": "80d20542-25bf-40fb-df7a-950e555387d8"
   },
   "outputs": [],
   "source": [
    "# datasetTrain = pd.read_fwf('/content/drive/My Drive/Colab Notebooks/Emotion AI Chatbot/data/amazon-review.train.ft.txt', delim_whitespace = True, header = None, index_col = False, names = [\"label\", \"review\"], encoding='utf-8')\n",
    "\n",
    "# print(\"Original Training Dataset:\")\n",
    "# print(datasetTrain.shape)\n",
    "\n",
    "# datasetTrain.head()"
   ]
  },
  {
   "cell_type": "code",
   "execution_count": 11,
   "metadata": {},
   "outputs": [
    {
     "name": "stdout",
     "output_type": "stream",
     "text": [
      "Original Training Dataset:\n",
      "(3600000, 2)\n"
     ]
    },
    {
     "data": {
      "text/html": [
       "<div>\n",
       "<style scoped>\n",
       "    .dataframe tbody tr th:only-of-type {\n",
       "        vertical-align: middle;\n",
       "    }\n",
       "\n",
       "    .dataframe tbody tr th {\n",
       "        vertical-align: top;\n",
       "    }\n",
       "\n",
       "    .dataframe thead th {\n",
       "        text-align: right;\n",
       "    }\n",
       "</style>\n",
       "<table border=\"1\" class=\"dataframe\">\n",
       "  <thead>\n",
       "    <tr style=\"text-align: right;\">\n",
       "      <th></th>\n",
       "      <th>label</th>\n",
       "      <th>review</th>\n",
       "    </tr>\n",
       "  </thead>\n",
       "  <tbody>\n",
       "    <tr>\n",
       "      <td>0</td>\n",
       "      <td>__label__2</td>\n",
       "      <td>Stuning even for the non-gamer: This sound tra...</td>\n",
       "    </tr>\n",
       "    <tr>\n",
       "      <td>1</td>\n",
       "      <td>__label__2</td>\n",
       "      <td>The best soundtrack ever to anything.: I'm rea...</td>\n",
       "    </tr>\n",
       "    <tr>\n",
       "      <td>2</td>\n",
       "      <td>__label__2</td>\n",
       "      <td>Amazing!: This soundtrack is my favorite music...</td>\n",
       "    </tr>\n",
       "    <tr>\n",
       "      <td>3</td>\n",
       "      <td>__label__2</td>\n",
       "      <td>Excellent Soundtrack: I truly like this soundt...</td>\n",
       "    </tr>\n",
       "    <tr>\n",
       "      <td>4</td>\n",
       "      <td>__label__2</td>\n",
       "      <td>Remember, Pull Your Jaw Off The Floor After He...</td>\n",
       "    </tr>\n",
       "  </tbody>\n",
       "</table>\n",
       "</div>"
      ],
      "text/plain": [
       "        label                                             review\n",
       "0  __label__2  Stuning even for the non-gamer: This sound tra...\n",
       "1  __label__2  The best soundtrack ever to anything.: I'm rea...\n",
       "2  __label__2  Amazing!: This soundtrack is my favorite music...\n",
       "3  __label__2  Excellent Soundtrack: I truly like this soundt...\n",
       "4  __label__2  Remember, Pull Your Jaw Off The Floor After He..."
      ]
     },
     "execution_count": 11,
     "metadata": {},
     "output_type": "execute_result"
    }
   ],
   "source": [
    "# Read the original training dataset from the local machine:\n",
    "# For Windows OS, add r in front of the path \"\" string without changing forward slashes to back slashes.\n",
    "datasetTrain = pd.read_fwf(r'train1.ft.txt', delim_whitespace = True, header = None, index_col = False, names = [\"label\", \"review\"], encoding='utf-8')\n",
    "\n",
    "print(\"Original Training Dataset:\")\n",
    "print(datasetTrain.shape)\n",
    "\n",
    "datasetTrain.head()"
   ]
  },
  {
   "cell_type": "code",
   "execution_count": 12,
   "metadata": {
    "colab": {
     "base_uri": "https://localhost:8080/",
     "height": 54
    },
    "colab_type": "code",
    "executionInfo": {
     "elapsed": 72897,
     "status": "ok",
     "timestamp": 1576469031138,
     "user": {
      "displayName": "Louise Dev",
      "photoUrl": "",
      "userId": "08535859031441537751"
     },
     "user_tz": 300
    },
    "id": "iLUvP67XXRM8",
    "outputId": "a2bc3d2e-54af-4e6d-bad4-8f1e9739c18a"
   },
   "outputs": [
    {
     "name": "stdout",
     "output_type": "stream",
     "text": [
      "Stuning even for the non-gamer: This sound track was beautiful! It paints the senery in your mind so well I would recomend it even to people who hate vid. game music! I have played the game Chrono Cross but out of all of the games I have ever played it has the best music! It backs away from crude keyboarding and takes a fresher step with grate guitars and soulful orchestras. It would impress anyone who cares to listen! ^_^\n"
     ]
    }
   ],
   "source": [
    "print(datasetTrain.iloc[0, 1])"
   ]
  },
  {
   "cell_type": "code",
   "execution_count": 13,
   "metadata": {},
   "outputs": [
    {
     "name": "stdout",
     "output_type": "stream",
     "text": [
      "Original Testing Dataset:\n",
      "(400000, 2)\n"
     ]
    },
    {
     "data": {
      "text/html": [
       "<div>\n",
       "<style scoped>\n",
       "    .dataframe tbody tr th:only-of-type {\n",
       "        vertical-align: middle;\n",
       "    }\n",
       "\n",
       "    .dataframe tbody tr th {\n",
       "        vertical-align: top;\n",
       "    }\n",
       "\n",
       "    .dataframe thead th {\n",
       "        text-align: right;\n",
       "    }\n",
       "</style>\n",
       "<table border=\"1\" class=\"dataframe\">\n",
       "  <thead>\n",
       "    <tr style=\"text-align: right;\">\n",
       "      <th></th>\n",
       "      <th>label</th>\n",
       "      <th>review</th>\n",
       "    </tr>\n",
       "  </thead>\n",
       "  <tbody>\n",
       "    <tr>\n",
       "      <td>0</td>\n",
       "      <td>__label__2</td>\n",
       "      <td>Great CD: My lovely Pat has one of the GREAT v...</td>\n",
       "    </tr>\n",
       "    <tr>\n",
       "      <td>1</td>\n",
       "      <td>__label__2</td>\n",
       "      <td>One of the best game music soundtracks - for a...</td>\n",
       "    </tr>\n",
       "    <tr>\n",
       "      <td>2</td>\n",
       "      <td>__label__1</td>\n",
       "      <td>Batteries died within a year ...: I bought thi...</td>\n",
       "    </tr>\n",
       "    <tr>\n",
       "      <td>3</td>\n",
       "      <td>__label__2</td>\n",
       "      <td>works fine, but Maha Energy is better: Check o...</td>\n",
       "    </tr>\n",
       "    <tr>\n",
       "      <td>4</td>\n",
       "      <td>__label__2</td>\n",
       "      <td>Great for the non-audiophile: Reviewed quite a...</td>\n",
       "    </tr>\n",
       "  </tbody>\n",
       "</table>\n",
       "</div>"
      ],
      "text/plain": [
       "        label                                             review\n",
       "0  __label__2  Great CD: My lovely Pat has one of the GREAT v...\n",
       "1  __label__2  One of the best game music soundtracks - for a...\n",
       "2  __label__1  Batteries died within a year ...: I bought thi...\n",
       "3  __label__2  works fine, but Maha Energy is better: Check o...\n",
       "4  __label__2  Great for the non-audiophile: Reviewed quite a..."
      ]
     },
     "execution_count": 13,
     "metadata": {},
     "output_type": "execute_result"
    }
   ],
   "source": [
    "# Read the original testing dataset from the local machine:\n",
    "# For Windows OS, add r in front of the path \"\" string without changing forward slashes to back slashes.\n",
    "datasetTest = pd.read_fwf(r'test1.ft.txt', delim_whitespace = True, header = None, index_col = False, names = [\"label\", \"review\"], encoding = 'utf-8')\n",
    "\n",
    "print(\"Original Testing Dataset:\")\n",
    "print(datasetTest.shape)\n",
    "\n",
    "datasetTest.head()"
   ]
  },
  {
   "cell_type": "code",
   "execution_count": 14,
   "metadata": {
    "colab": {
     "base_uri": "https://localhost:8080/",
     "height": 54
    },
    "colab_type": "code",
    "executionInfo": {
     "elapsed": 45332,
     "status": "ok",
     "timestamp": 1576469003544,
     "user": {
      "displayName": "Louise Dev",
      "photoUrl": "",
      "userId": "08535859031441537751"
     },
     "user_tz": 300
    },
    "id": "9NUMssRHZwvH",
    "outputId": "df5f4152-82b1-4bf2-e6d7-b56f68b9a866"
   },
   "outputs": [
    {
     "name": "stdout",
     "output_type": "stream",
     "text": [
      "Great CD: My lovely Pat has one of the GREAT voices of her generation. I have listened to this CD for YEARS and I still LOVE IT. When I'm in a good mood it makes me feel better. A bad mood just evaporates like sugar in the rain. This CD just oozes LIFE. Vocals are jusat STUUNNING and lyrics just kill. One of life's hidden gems. This is a desert isle CD in my book. Why she never made it big is just beyond me. Everytime I play this, no matter black, white, young, old, male, female EVERYBODY says one thing \"Who was that singing ?\"\n"
     ]
    }
   ],
   "source": [
    "print(datasetTest.iloc[0, 1])"
   ]
  },
  {
   "cell_type": "markdown",
   "metadata": {
    "colab_type": "text",
    "id": "ogx_0zzka9KZ"
   },
   "source": [
    "\n",
    "\n",
    "---\n",
    "\n"
   ]
  },
  {
   "cell_type": "markdown",
   "metadata": {
    "colab_type": "text",
    "id": "wyo5O978Sqrz"
   },
   "source": [
    "**\"__label__1\" represents negative reviews with 1-2 stars where \"__label__2\" indicates positive reviews of 4-5 stars. 3-star reviews are neutral so they are not included in the original dataset.**"
   ]
  },
  {
   "cell_type": "code",
   "execution_count": 15,
   "metadata": {
    "colab": {
     "base_uri": "https://localhost:8080/",
     "height": 54
    },
    "colab_type": "code",
    "executionInfo": {
     "elapsed": 73007,
     "status": "ok",
     "timestamp": 1576469031273,
     "user": {
      "displayName": "Louise Dev",
      "photoUrl": "",
      "userId": "08535859031441537751"
     },
     "user_tz": 300
    },
    "id": "EjWvIRmNXxVW",
    "outputId": "5ab8f11d-9d2a-43ef-9003-1d320d030286",
    "pycharm": {
     "is_executing": false,
     "name": "#%%\n"
    }
   },
   "outputs": [
    {
     "name": "stdout",
     "output_type": "stream",
     "text": [
      "Great CD: My lovely Pat has one of the GREAT voices of her generation. I have listened to this CD for YEARS and I still LOVE IT. When I'm in a good mood it makes me feel better. A bad mood just evaporates like sugar in the rain. This CD just oozes LIFE. Vocals are jusat STUUNNING and lyrics just kill. One of life's hidden gems. This is a desert isle CD in my book. Why she never made it big is just beyond me. Everytime I play this, no matter black, white, young, old, male, female EVERYBODY says one thing \"Who was that singing ?\"\n"
     ]
    }
   ],
   "source": [
    "# Print the first content of the first review:\n",
    "print(datasetTest.iloc[0, 1])"
   ]
  },
  {
   "cell_type": "code",
   "execution_count": 16,
   "metadata": {
    "colab": {
     "base_uri": "https://localhost:8080/",
     "height": 153
    },
    "colab_type": "code",
    "executionInfo": {
     "elapsed": 73603,
     "status": "ok",
     "timestamp": 1576469031884,
     "user": {
      "displayName": "Louise Dev",
      "photoUrl": "",
      "userId": "08535859031441537751"
     },
     "user_tz": 300
    },
    "id": "AlNu81OvXxVZ",
    "outputId": "1dde02ff-947b-4cdf-97c5-e87fcf6620ab",
    "pycharm": {
     "is_executing": false,
     "name": "#%%\n"
    }
   },
   "outputs": [
    {
     "name": "stdout",
     "output_type": "stream",
     "text": [
      "<class 'pandas.core.frame.DataFrame'>\n",
      "RangeIndex: 400000 entries, 0 to 399999\n",
      "Data columns (total 2 columns):\n",
      "label     400000 non-null object\n",
      "review    400000 non-null object\n",
      "dtypes: object(2)\n",
      "memory usage: 6.1+ MB\n"
     ]
    },
    {
     "data": {
      "text/plain": [
       "(400000, 2)"
      ]
     },
     "execution_count": 16,
     "metadata": {},
     "output_type": "execute_result"
    }
   ],
   "source": [
    "# Get the datatype:\n",
    "datasetTest.dtypes\n",
    "\n",
    "# Print the structure of the dataframe: (Equivalent to the str() function in R)\n",
    "datasetTest.info()\n",
    "# Text data type is known as Strings in Python, or Objects in Pandas.\n",
    "\n",
    "# Show the summary of the dataframe: (Equivalent to the summary() function in R)\n",
    "datasetTest.describe()\n",
    "\n",
    "# Get the dimension of the dataframe:\n",
    "datasetTest.shape"
   ]
  },
  {
   "cell_type": "code",
   "execution_count": 17,
   "metadata": {
    "colab": {
     "base_uri": "https://localhost:8080/",
     "height": 204
    },
    "colab_type": "code",
    "executionInfo": {
     "elapsed": 73587,
     "status": "ok",
     "timestamp": 1576469031885,
     "user": {
      "displayName": "Louise Dev",
      "photoUrl": "",
      "userId": "08535859031441537751"
     },
     "user_tz": 300
    },
    "id": "k-FkWXvFXOnW",
    "outputId": "dcd85da5-9c92-467e-a4ca-ec3eb45a0d1c"
   },
   "outputs": [
    {
     "data": {
      "text/html": [
       "<div>\n",
       "<style scoped>\n",
       "    .dataframe tbody tr th:only-of-type {\n",
       "        vertical-align: middle;\n",
       "    }\n",
       "\n",
       "    .dataframe tbody tr th {\n",
       "        vertical-align: top;\n",
       "    }\n",
       "\n",
       "    .dataframe thead th {\n",
       "        text-align: right;\n",
       "    }\n",
       "</style>\n",
       "<table border=\"1\" class=\"dataframe\">\n",
       "  <thead>\n",
       "    <tr style=\"text-align: right;\">\n",
       "      <th></th>\n",
       "      <th>label</th>\n",
       "      <th>review</th>\n",
       "    </tr>\n",
       "  </thead>\n",
       "  <tbody>\n",
       "    <tr>\n",
       "      <td>0</td>\n",
       "      <td>__label__2</td>\n",
       "      <td>Great CD: My lovely Pat has one of the GREAT v...</td>\n",
       "    </tr>\n",
       "    <tr>\n",
       "      <td>1</td>\n",
       "      <td>__label__2</td>\n",
       "      <td>One of the best game music soundtracks - for a...</td>\n",
       "    </tr>\n",
       "    <tr>\n",
       "      <td>2</td>\n",
       "      <td>__label__1</td>\n",
       "      <td>Batteries died within a year ...: I bought thi...</td>\n",
       "    </tr>\n",
       "    <tr>\n",
       "      <td>3</td>\n",
       "      <td>__label__2</td>\n",
       "      <td>works fine, but Maha Energy is better: Check o...</td>\n",
       "    </tr>\n",
       "    <tr>\n",
       "      <td>4</td>\n",
       "      <td>__label__2</td>\n",
       "      <td>Great for the non-audiophile: Reviewed quite a...</td>\n",
       "    </tr>\n",
       "  </tbody>\n",
       "</table>\n",
       "</div>"
      ],
      "text/plain": [
       "        label                                             review\n",
       "0  __label__2  Great CD: My lovely Pat has one of the GREAT v...\n",
       "1  __label__2  One of the best game music soundtracks - for a...\n",
       "2  __label__1  Batteries died within a year ...: I bought thi...\n",
       "3  __label__2  works fine, but Maha Energy is better: Check o...\n",
       "4  __label__2  Great for the non-audiophile: Reviewed quite a..."
      ]
     },
     "execution_count": 17,
     "metadata": {},
     "output_type": "execute_result"
    }
   ],
   "source": [
    "datasetTest.head()"
   ]
  },
  {
   "cell_type": "code",
   "execution_count": 18,
   "metadata": {
    "colab": {
     "base_uri": "https://localhost:8080/",
     "height": 204
    },
    "colab_type": "code",
    "executionInfo": {
     "elapsed": 73709,
     "status": "ok",
     "timestamp": 1576469032023,
     "user": {
      "displayName": "Louise Dev",
      "photoUrl": "",
      "userId": "08535859031441537751"
     },
     "user_tz": 300
    },
    "id": "KWR-UULIXSIN",
    "outputId": "10bf8243-92d6-48b1-adfd-05876363bb62"
   },
   "outputs": [
    {
     "data": {
      "text/html": [
       "<div>\n",
       "<style scoped>\n",
       "    .dataframe tbody tr th:only-of-type {\n",
       "        vertical-align: middle;\n",
       "    }\n",
       "\n",
       "    .dataframe tbody tr th {\n",
       "        vertical-align: top;\n",
       "    }\n",
       "\n",
       "    .dataframe thead th {\n",
       "        text-align: right;\n",
       "    }\n",
       "</style>\n",
       "<table border=\"1\" class=\"dataframe\">\n",
       "  <thead>\n",
       "    <tr style=\"text-align: right;\">\n",
       "      <th></th>\n",
       "      <th>label</th>\n",
       "      <th>review</th>\n",
       "    </tr>\n",
       "  </thead>\n",
       "  <tbody>\n",
       "    <tr>\n",
       "      <td>399995</td>\n",
       "      <td>__label__1</td>\n",
       "      <td>Unbelievable- In a Bad Way: We bought this Tho...</td>\n",
       "    </tr>\n",
       "    <tr>\n",
       "      <td>399996</td>\n",
       "      <td>__label__1</td>\n",
       "      <td>Almost Great, Until it Broke...: My son reciev...</td>\n",
       "    </tr>\n",
       "    <tr>\n",
       "      <td>399997</td>\n",
       "      <td>__label__1</td>\n",
       "      <td>Disappointed !!!: I bought this toy for my son...</td>\n",
       "    </tr>\n",
       "    <tr>\n",
       "      <td>399998</td>\n",
       "      <td>__label__2</td>\n",
       "      <td>Classic Jessica Mitford: This is a compilation...</td>\n",
       "    </tr>\n",
       "    <tr>\n",
       "      <td>399999</td>\n",
       "      <td>__label__1</td>\n",
       "      <td>Comedy Scene, and Not Heard: This DVD will be ...</td>\n",
       "    </tr>\n",
       "  </tbody>\n",
       "</table>\n",
       "</div>"
      ],
      "text/plain": [
       "             label                                             review\n",
       "399995  __label__1  Unbelievable- In a Bad Way: We bought this Tho...\n",
       "399996  __label__1  Almost Great, Until it Broke...: My son reciev...\n",
       "399997  __label__1  Disappointed !!!: I bought this toy for my son...\n",
       "399998  __label__2  Classic Jessica Mitford: This is a compilation...\n",
       "399999  __label__1  Comedy Scene, and Not Heard: This DVD will be ..."
      ]
     },
     "execution_count": 18,
     "metadata": {},
     "output_type": "execute_result"
    }
   ],
   "source": [
    "datasetTest.tail()"
   ]
  },
  {
   "cell_type": "code",
   "execution_count": 19,
   "metadata": {
    "colab": {
     "base_uri": "https://localhost:8080/",
     "height": 204
    },
    "colab_type": "code",
    "executionInfo": {
     "elapsed": 73696,
     "status": "ok",
     "timestamp": 1576469032025,
     "user": {
      "displayName": "Louise Dev",
      "photoUrl": "",
      "userId": "08535859031441537751"
     },
     "user_tz": 300
    },
    "id": "rdbRO9miXxVc",
    "outputId": "9661caa7-b04d-4679-c5b7-7d367dcb7ee7",
    "pycharm": {
     "is_executing": false,
     "name": "#%%\n"
    }
   },
   "outputs": [
    {
     "data": {
      "text/html": [
       "<div>\n",
       "<style scoped>\n",
       "    .dataframe tbody tr th:only-of-type {\n",
       "        vertical-align: middle;\n",
       "    }\n",
       "\n",
       "    .dataframe tbody tr th {\n",
       "        vertical-align: top;\n",
       "    }\n",
       "\n",
       "    .dataframe thead th {\n",
       "        text-align: right;\n",
       "    }\n",
       "</style>\n",
       "<table border=\"1\" class=\"dataframe\">\n",
       "  <thead>\n",
       "    <tr style=\"text-align: right;\">\n",
       "      <th></th>\n",
       "      <th>label</th>\n",
       "      <th>review</th>\n",
       "    </tr>\n",
       "  </thead>\n",
       "  <tbody>\n",
       "    <tr>\n",
       "      <td>0</td>\n",
       "      <td>__label__2</td>\n",
       "      <td>Great CD: My lovely Pat has one of the GREAT v...</td>\n",
       "    </tr>\n",
       "    <tr>\n",
       "      <td>1</td>\n",
       "      <td>__label__2</td>\n",
       "      <td>One of the best game music soundtracks - for a...</td>\n",
       "    </tr>\n",
       "    <tr>\n",
       "      <td>2</td>\n",
       "      <td>__label__1</td>\n",
       "      <td>Batteries died within a year ...: I bought thi...</td>\n",
       "    </tr>\n",
       "    <tr>\n",
       "      <td>3</td>\n",
       "      <td>__label__2</td>\n",
       "      <td>works fine, but Maha Energy is better: Check o...</td>\n",
       "    </tr>\n",
       "    <tr>\n",
       "      <td>4</td>\n",
       "      <td>__label__2</td>\n",
       "      <td>Great for the non-audiophile: Reviewed quite a...</td>\n",
       "    </tr>\n",
       "  </tbody>\n",
       "</table>\n",
       "</div>"
      ],
      "text/plain": [
       "        label                                             review\n",
       "0  __label__2  Great CD: My lovely Pat has one of the GREAT v...\n",
       "1  __label__2  One of the best game music soundtracks - for a...\n",
       "2  __label__1  Batteries died within a year ...: I bought thi...\n",
       "3  __label__2  works fine, but Maha Energy is better: Check o...\n",
       "4  __label__2  Great for the non-audiophile: Reviewed quite a..."
      ]
     },
     "execution_count": 19,
     "metadata": {},
     "output_type": "execute_result"
    }
   ],
   "source": [
    "# Due the computational cost, we only select the first 1,000 rows of reviews as new dataset:\n",
    "# df1 = datasetTest.sample(n = 1000, random_state = 123)\n",
    "df1 = datasetTest.head(1000)\n",
    "len(df1)\n",
    "df1.head()"
   ]
  },
  {
   "cell_type": "code",
   "execution_count": 20,
   "metadata": {
    "colab": {
     "base_uri": "https://localhost:8080/",
     "height": 68
    },
    "colab_type": "code",
    "executionInfo": {
     "elapsed": 73682,
     "status": "ok",
     "timestamp": 1576469032025,
     "user": {
      "displayName": "Louise Dev",
      "photoUrl": "",
      "userId": "08535859031441537751"
     },
     "user_tz": 300
    },
    "id": "cF0ACVdXr2v6",
    "outputId": "f061a7bb-e93f-4175-aa8b-02e44280338b"
   },
   "outputs": [
    {
     "data": {
      "text/plain": [
       "__label__2    502\n",
       "__label__1    498\n",
       "Name: label, dtype: int64"
      ]
     },
     "execution_count": 20,
     "metadata": {},
     "output_type": "execute_result"
    }
   ],
   "source": [
    "df1['label'].value_counts()"
   ]
  },
  {
   "cell_type": "markdown",
   "metadata": {
    "colab_type": "text",
    "id": "NjaTwBLZ_P6m"
   },
   "source": [
    "## Clean Texts:"
   ]
  },
  {
   "cell_type": "code",
   "execution_count": 21,
   "metadata": {
    "colab": {
     "base_uri": "https://localhost:8080/",
     "height": 34
    },
    "colab_type": "code",
    "executionInfo": {
     "elapsed": 73670,
     "status": "ok",
     "timestamp": 1576469032026,
     "user": {
      "displayName": "Louise Dev",
      "photoUrl": "",
      "userId": "08535859031441537751"
     },
     "user_tz": 300
    },
    "id": "Au1VPrF5Pa4n",
    "outputId": "cd567383-5cfd-470c-d2f5-3d53106bfa0d"
   },
   "outputs": [
    {
     "name": "stdout",
     "output_type": "stream",
     "text": [
      "int32\n"
     ]
    }
   ],
   "source": [
    "labelArray = df1.iloc[: , 0].values\n",
    "\n",
    "# Replace the original labbels with strings of numbers:\n",
    "labelArray = np.where(labelArray == \"__label__1\", \"1\", labelArray)  # Use \"1\" for negative reviews (1-2 Starts)\n",
    "labelArray = np.where(labelArray == \"__label__2\", \"2\", labelArray)  # Use \"2\" for postive reviews (4-5 Starts)\n",
    "\n",
    "# Parse the the Numpy array of strings to integers:\n",
    "labelArray = labelArray.astype(int)\n",
    "\n",
    "print(labelArray.dtype)\n"
   ]
  },
  {
   "cell_type": "code",
   "execution_count": 22,
   "metadata": {
    "colab": {},
    "colab_type": "code",
    "id": "5ftMzvrxJAy6"
   },
   "outputs": [],
   "source": [
    "from nltk.corpus import stopwords\n",
    "\n",
    "# Import PorterStemmer module for word stemming by chopping off its inflections:\n",
    "from nltk.stem.porter import PorterStemmer\n",
    "\n",
    "# In general, lemmatization offers better precision than stemming while reducing words to their base word by the context:\n",
    "from nltk.stem.wordnet import WordNetLemmatizer\n"
   ]
  },
  {
   "cell_type": "code",
   "execution_count": 23,
   "metadata": {
    "colab": {},
    "colab_type": "code",
    "id": "9fkVK-R0XxVf",
    "pycharm": {
     "is_executing": false,
     "name": "#%%\n"
    }
   },
   "outputs": [],
   "source": [
    "# Initialize an empty list to append cleaned text of reviews:\n",
    "reviewCorpus = []\n",
    "\n",
    "for i in range(0, len(df1)):\n",
    "  # The sub() function replaces the matches with the text of your choice.\n",
    "  # Replace anything except alphabet letters with a whitespace:\n",
    "  review = re.sub('[^a-zA-Z]',        # Returns a match for any character EXCEPT \"a...z\" or \"A...Z\"\n",
    "                  ' ',                # replaced with a whitespace\n",
    "                  df1['review'][i])   # in this string of the [i]th row of column \"review\"\n",
    "  \n",
    "  # Covert all letters to lowercase:\n",
    "  review = review.lower()\n",
    "  \n",
    "  # Split the string into a list:\n",
    "  review = review.split()\n",
    "  \n",
    "  # # Define the stemmer:\n",
    "  # ps = PorterStemmer()\n",
    "\n",
    "  # for word in review:\n",
    "  #   if word not in set(stopwords.words('english')):   # Remove stopwords\n",
    "  #     review = [ps.stem(word)]   # Stem words\n",
    "\n",
    "  \n",
    "  # Define the lemmatizer:\n",
    "  lemmatizer = WordNetLemmatizer()\n",
    "  \n",
    "  review = [lemmatizer.lemmatize(word) for word in review\n",
    "            if word not in set(stopwords.words('english'))]\n",
    "  \n",
    "  # Join all cleaned words into a string, using a white space as separator:\n",
    "  review = ' '.join(review)\n",
    "  \n",
    "  # Append each reviews to the corpus list:\n",
    "  reviewCorpus.append(review)"
   ]
  },
  {
   "cell_type": "code",
   "execution_count": 24,
   "metadata": {
    "colab": {
     "base_uri": "https://localhost:8080/",
     "height": 54
    },
    "colab_type": "code",
    "executionInfo": {
     "elapsed": 87667,
     "status": "ok",
     "timestamp": 1576469046040,
     "user": {
      "displayName": "Louise Dev",
      "photoUrl": "",
      "userId": "08535859031441537751"
     },
     "user_tz": 300
    },
    "id": "kKP6Zks6XxVi",
    "outputId": "d1132ae2-a40c-4900-f07d-0234371d91ca",
    "pycharm": {
     "is_executing": false,
     "name": "#%%\n"
    },
    "scrolled": true
   },
   "outputs": [
    {
     "name": "stdout",
     "output_type": "stream",
     "text": [
      "['great cd lovely pat one great voice generation listened cd year still love good mood make feel better bad mood evaporates like sugar rain cd ooze life vocal jusat stuunning lyric kill one life hidden gem desert isle cd book never made big beyond everytime play matter black white young old male female everybody say one thing singing', 'one best game music soundtrack game really play despite fact played small portion game music heard plus connection chrono trigger great well led purchase soundtrack remains one favorite album incredible mix fun epic emotional song sad beautiful track especially like many kind song video game soundtrack must admit one song life distant promise brought tear eye many occasion one complaint soundtrack use guitar fretting effect many song find distracting even included would still consider collection worth', 'battery died within year bought charger jul worked ok design nice convenient however year battery would hold charge might well get alkaline disposable look elsewhere charger come battery better staying power', 'work fine maha energy better check maha energy website powerex mh c f charger work minute rapid charge option slower charge better battery mah battery', 'great non audiophile reviewed quite bit combo player hesitant due unfavorable review size machine weaning vhs collection want replace dvd unit well built easy setup resolution special effect progressive scan hdtv owner suitable many people looking versatile product con universal remote', 'dvd player crapped one year also began incorrect disc problem read vcr still work hte dvd side useless understand dvd player sometimes quit even one year sign bad quality giving jvc well sticking sony giving another brand shot', 'incorrect disc love style couple year dvd giving problem even work anymore use broken p recommend going upgrade recorder wish would work guess giving jvc really like one stopped working dvd player gave problem probably year', 'dvd menu select problem cannot scroll dvd menu set vertically triangle key select horizontally cannot select anything dvd besides play special feature language select nothing play', 'unique weird orientalia exotic tale orient dr shen fu weird tale magazine reprint elixir life grant immortality price tired modern author sound alike antidote owen palette loaded splash chinese japanese colour marvelous', 'ultimate guide firstly enjoyed format tone book author addressed reader however feel imparted insider secret book promised reveal starting research law school know requirement admission book may tremendous help done homework looking edge come admission recommend topic specific book example book write personal statment book geared specifically towards lsat preparation powerscore book helpful website great advice geared towards aiding individual asking write letter recommendation yet new entire affair book definitely clarify requirement', 'great book travelling europe currently live europe book recommend visitor cover many country colour picture nice starter go', 'want listen el duke better access shower gimmick well orchestrated', 'complete bust game requires quicktime work better version quicktime ask install quicktime available cd click let play begrudgingly clicked yes third try installed quicktime tell please install quicktime available disc kept telling even uninstalled version quicktime reinstalled barbie rapunzel quicktime frustrating game absolutely work keep telling install quicktime tho installation process repeatedly operating system limitation brand new computer merely week old state art contraption', 'truly made difference using product couple year started using hair gotten dry chemical treatment relaxer actualy came relaxer kit tried could beleive difference made one use could find store time searched amazon absolutely love best moisturizing product used far hair soft good elasticity breaking anywhere close happy', 'run usb bus power hoping drive would run bus power required adapter actually work sent back', 'buy first company took money sent email telling product shipped week half later received another email telling sorry actually item received email telling shipped mistake finally got money back went another company buy product work phone even though depicts sent numerous email company actually find phone number website still gotten kind response kind customer service one help problem advice waste money', 'simple durable fun game age awesome game almost everyone know tic tac toe easy learn quick play play twist piece slightly different size big enough gobble opponent first person make tic tac toe win easy look stuck mindset making three row forget gobbling possibility year old beat even trying win excellent beginning critical thinking game grandparent loved playing kid', 'review kelly club toddler price pc game well worth great graphic colorful lot four year old daughter love many task complete game including dressing grooming wide variety pet decoration numerous float show little one parade', 'soy un apasionado del box este libro est espl ndido lo disfrutas lo puedes usar como obra de consultanos trae la historia de los boxeadores brillantes de los campeones durante cien o si te gusta el box te lo pierdas', 'best fiddle playing heard long time excellent album great fiddle playing ryan amazing watch play person feel emotion put song', 'long boring read book much expectation boring book', 'dont like product smell open package appears one gel cushion leak spent havent worn wouldnt buy product dont waste money something may able use', 'one last series collect magazine good condition usual high standard article photo victoria magazine come represent collected previous magazine series still enjoy leafing rainy day', 'sony hi camcorder lcd believe happy camcorder small light easy handle lcd clear bright ease operation', 'take chance get se branded cable purchase data cable need know receive real direction information regarding check nothing work directed downloaded file se site mb dial downloaded user guide everything seemed install ok nothing would make phone recognized scoured se site troubleshooting info branded cable hope something would help figure problem full day beating head wall finally threw cable useless cd came trash used brain would paid extra se branded cable software support come along real deal se data cable software guess yep installation breeze work beautifully really get pay', 'waste money like many barbie cd rom playtime limited averaging min two daughter age like barbie movie cd rom graphic poorly done', 'work great bought item connect strobe light unit function well sure range claimed never really believe everything manufacturer claim product like many variable say work neighbor house garage least going thru two building make much noise later night simply press button let know', 'range suppose going sit room line sight device lamp etc plugged control might work maybe completely within stated range one basic house wall separating unit completely unreliable recommend spending touch money getting higher quality product', 'wish gotten sooner ive got lamp corner room behind desk thats complete pain arse turn ive using lamp month work perfectly added little velcro light switch ever want desk shelf etc', 'three day use broke disappointed product worked perfectly exactly three day could resuscitated inexpensive want pay half price ship back exchange company would nothing sent inquiry product satisfaction', 'time best book time best book mentoins book anyone vampire know well anyway like idea one soulmate one crazed werewolf crush p think good twist story anone part night world', 'mary ash believe never reviewed book first read back like lot girl wanting mysterious boyfriend believed soul mate drug book rereading time year later still stand test time ash bad boy want parent want stay away even though seems like jerk something make wanna root', 'tha bomb book l j smith best author whole world read book year ago stop reading beyond sweet love ash entire night world seris bomb read mostly everyone l j smith book awesome think ash mary lynetee one sweetest soulmates loved tried fight feeling real guy like ash quinn juliun damon gabriel go forever think everyone read least one l j smith book hooked life like l j smith best', 'book great book read many time book great loved read many time soon buy new copy last one fell apart hope follow story want know mary lynette ash get together', 'watch nonstop let apart arriving broken first time kid loving dvd alternate purchased keep sanity dvd created thomas fan yr old daughter well', 'expected child get easily bored video thought several episode thomas lot child parent talking thomas keep kid attention kid want sit listen bunch talking first thomas video purchase hopefully next show le talking', 'wonderful went online information docker khaki pant size husband wear hard find store impressed selection thrilled pant without taken length delivery quick especially christmas really appreciate effort made send u selection chose', 'doublecharged shipping merchant backordered merchant stock second pair pant shipped charged second pair stock week later buy amazon vendor', 'book chance finished reading food love anthony capella since nothing read mind reading one favorite pastime recently bought series book food love one book picked get three price two deal waterstones london british equivalent barnes noble really interested one interesting option well glad made right choice started reading last night put since love food little romance fond excellent book read mr capella remarkably thorough description rich textured italian dish word assails sense smell taste leaf hungry book took surprise sure would disappointed', 'light reading light substance clich storyline based classic cyrano de bergerac book read like rookie novel written someone knowledge passion italian culture cuisine little experience developing story understand bruno passion cooking clue passion laura seems primarily based blonde american exotic character underdeveloped know studying art history enjoys bruno cooking passion tomasso clich sexed mediterranean male encounter foreign female light entertaining read get beyond reason put walk away said however check author recent novel seem way technical detail hopefully storytelling caught', 'weib forever great cd love weib kreuz anime awsome bout guy hhhooottt work flower shop night white hunter byce anime assasins hunt tomorrow bad guy bad guy police cant get like teen start blowing flame public reason strange gas substance w instant contact ingulfs object couldnt resist also emotional anime time think cd anime anime fan see', 'great book unacceptable condition looking forward receiving book going new orleans antoine restaurant read book least thirty year ago wanted copy book came without dust jacket musty could read without eye watering sent back expense date refund', 'real html people build site living book simply great build site living probably struggle book trivialize html present syntax willy nilly book book ever seen actually seems written someone build site professionally want know markup explains logical physical tagging style well really good job showing hook html technology without trying teach cgi cs etc time thing wish guy would write javascript dhtml book buy right away', 'marriage good bad moment tear jerker mixed humor lot rough patch couple let scare also lot good time watch movie often hopeless romantic thoroughly enjoy music dancing hindi style pop rock mix plus worth wading tear get fun part end way typical relationship type would exactly bad thing case recommend everyone', 'amazing love touch bad dvd description mention subtitle', 'leslie nutshell danelectro dj c rocky road spin speaker mini effect pedal amazing little pedal use guitar keyboard using keyboard organ mode matter type jazz rock give instant controllable leslie effect includes fast slow ramp boost volume drive thru mixer stereo amazing stuff inexpensive unit drawback found button hard engage disengage working modify spring possible maybe even send recommendation danelectro', 'romance please le mystery reason gave two star usually give star m feehan book b c book tooooooo mystery gothic genre rather romance really feel like two main character love fact entire book almost entirely heroine point view getting sick whining point view unlike dark series really didnt feel passion book better suited mystery gothic genre romance even mystery good last chapter unforseen reason villain confesses le three page throughout entire book kept suspense bad guy wanted know look last couple page m feehan reading please focuse main character relation rather distract u much unamusing mystery', 'lost author read carpathian novel date except one much enjoyed first nothing ever get resolved would think book something would resolved new obstacle introduced book shoot another carpathian novel jaguar line hoping find curse origin male kill female nothing word jaguar curse wall ceiling change idea introduced left m feehan went tagent book become le le meaty expensive buying book author shame', 'okay messy purchased bag vacation taking cruise wanted use left ship bag convenient carry however faux leather began peeling first bad became annoying began flaking skin clothes would rather bag cloth bag flaking faux leather keep wisking away skin clothes', 'patricia cornwell turned reader never really big reader somebody put patricia cornwell well put book book get better better go kay scarpetta series really enjoy series concept fact character keep returning book book nice see character develop story line allows get comfortable get close get frustrated something character highly recommend reading book entire kay scarpetta series', 'best first four series awesome book kay keep getting better better also fun see character develop book kay seems always one world marino appears heading towards sort heart attack lucy seems getting quixotic book kay find smack middle series gruesome killing appears recently executed murderer kay seen autopsy table still around committing crime number murder occur executed murderer fingerprint turning kay marino benton try track killer appears corruption go long way political stratosphere taut totally believable thriller wait next one book ended way wide open next installment', 'great beginning poor ending parricia corwell cruel unusual breathtaking beginning relation family dedication work exeptional however story began get boring towards end ending great', 'potty humor somethings comedy make saw movie felt compelled warn people waste agonizing minute life nutshell heard many clever joke one liner watching king queen cable seriously folk bad bad joke reference small jewish penis got old real quick thought would always sandler fan clearly adam need rent money jumped script cash ran else would plot line include seth rogan writing put thing perspective film made bruno look like casablanca', 'wish adam sandler known going movie judd apatow part would mean would hate however adam sandler seeing preview theater gave hopeful chance movie loses true premise depth amongst terrible crude joke say make minute movie turning constant barrage pathetic behavior believe many people like relate behavior disappointing', 'wonderful baffling mix everything rabbi course learned devout even schooling cause nervousness cat becomes fantastical mystery grant human speech visit abroad capture distrust alien insular small towner summon around monotonous drama life unfolds love loss change one know ride comic moved well past bampow genre many idiom might border chick lit much le reality fantasy remain negotiable deep family devotion deeper shallower personal one ragged line comic might touch wiredweird', 'another grill like grill one kind use anywhere without much hard work fit snugly anywhere', 'disappointment extreme never read author knew many read book made movie seemed good opportunity read seeing screen mess work pray screen extremely disappointed work unrealistic fails capture reader point completely engrossed left struggling whether wanted pick hope written better else lot people bothered reading strong author available character sympathetic draw reader attention dull overall scope many good book read pick another book author', 'potter field patricia cornwell good book excellent description real page turner keep wondering going happen next best part beggining end', 'engrossing chilling read first foray novel patricia cornwell left impressed character intense realistic concern evil temple gault end novel vague beginning decide trail give gift dr scarpetta needle say reading cornwell book especially like novel', 'great book loved mentioned movie publisher said soon movie anyone know movie ever created', 'simply awesome first cornwell novel hooked past month managed collect book wait dive summer suspensful one scarpetta', 'predictable lame ending read scarpetta novel worst would cause death rt thought story began well enough ending lame plot predictable lucy nauseating ever wish die scarpetta still overly materialistic self righteous gotten old one many gripe would find hard believe crime agency medium zero knowledge serial killer family background close family member like twin sister advice let st scarpetta novel', 'black knight c c heat squash racquet great racquet power hitter power generating difficulty racquet style try volleyball everything found racquet well balanced maneuvered like factory grip although distinct ridge others prefer smooth grip may give factory grip chance may come like sale price right high end racquet racquet black knight reputation overall durability get plenty use replacement note got first c c level player like immediately howeve game improved version switched bandit black knight c c white racquet great success might right racquet beginner intermediate advanced player benefit fine racquet', 'historical gem whose title obscures intent started laughing second chapter enjoyed book realized going learn anything new obviously miracle survived year since first published seeing pending insolvency u loudly shouted worth price book quote would shame modern day political extreme u kudos whoever owns copyright economics action', 'vastly overrated work fiction sorely disappointed vapid smarmy demogoguery sure back google searching number crunching laptop plenty economic data available author managed circumvent probably book greatest failing compare field economics science even today analytical resource economist still map prediction conclusion hand meteorologist seem quite well naturally radical libertarian tea bagger republican love slim volume even slimmer evidence would read want know lunatic fringe nutty irrational', 'ergeant frost lonely heart club band edith created venue exorcise melancholic memory painful melody disguise collection lonesome guitar medicinal piano radiate mood broken spirit writes song ballad definite reminder unbearable moment live gray sky secluded isolating tune envision ironical pace thought chicago million million people sings stark loneline', 'great camera recently purchased camera satisfied find quality picture camera good better anything else without going digital comfortable hold control easy use highly reccomend product anyone looking top quality camera affordable price nice going sony', 'return sizing perfect medium fit right size lb baby gained lb pregnancy idea sizing keepin mind everyone different fat distribution body like post baby fat getting pushed top make look like back boob shape wear crunched sit bent feel smooth squeem make vest version maybe one better choice better coverage decide purchase product easier squeeze lay bed suck gut', 'broke nd time wore great think product provided great fit able hook first row within min max quite difficult get thought might although particularly easy either tried wore hour nd time wore period time took one metal boning piece popped hanging bottom product far expensive something like happen fit snug sure correct size figure get resolved', 'amazing squeem love love love squeem picture definitely real immediately tell difference put definitely improves posture eat much le since squeeze outta uncomfortable squeeze', 'great product friend recommended product flatten tummy great look dress brought medium according measurement guide line needed small extremely difficult put needed assistance still able contract core meant needed smaller size believe waist sits high torso great buy', 'recommend ordering size larger regular size ordered squeem waist shaper size small general size weigh lb right winter ate much cheese gained lb much complain roll belly fat show slinky dress wanted smooth middle fat hip wish ordered medium even large instead hooking waist shaper top bottom instructed way way way tight time tried hook lower hip want uncomfortable want smooth finish similar size recommend ordering medium instead general quality product exceptionally well stitched built last', 'waste money inner metal rod keep poking squeem great idea construction best product compress stomach inner metal spine bend protrude end sew end repeatedly spine keep poking one point spine developed sort crack poked bottom scraped stomach took immediately never washed product washing machine always handwashed manufacturer say take good care', 'cause bruising blister worn long ordered product slim stomach looking something could wear day jean well underneath dress wore squeem work occasionally would take got home would take felt sore around side back washed squeem several time even wore side thinking would help one night work coworkers went drink ended keeping squeem hour instead normal hour night took squeem blister bruising side back left black mark black body read review purchased squeem see anything alerted buy sure happened read happens say warn', 'happy really unhappy followed others said ordered based prepregnancy size way small week post pardum ten week post pardum may try real self esteem crusher initially size pre pregnancy thought fair order x guess', 'nice product wife love unfortunately perchaced wrong size made coment sizing chart dress size picked size received apparel way small meaning exchange tough get time new born twin wanted apparel really excited receive part disappointed fit', 'job looking something hold stomach elastic based found item say pretty pleased hook take done waist cincher say negative thing lot review complain tend cause back fat appear prominent underarms wear top clingy wear looser fitting shirt oh well nothing perfect', 'conspiracy theorist author likely kurdish nationalist implausibly quite supporter pkk communist room religion analysis misleading basically run muslim banner islamism seek undermine islamic religion satisfy psychological need author suppervised work others also claimed proved islam work author use objective scientific method basically writes way confirms priori conclusion read book wish qualification mind may read understand bigot mind actually work', 'another disappointment higgins novella stretched page wide margin double spaced line read like screenplay treatment little character development movie like dialogue plenty mindless action ending wholly unsatisfying led believe simply set another book author integrity would placed edge danger part part novel dead set reading edge danger waste money cover price insult deeply discounted price still leave feeling ripped go local library morning finish edge danger time early lunch expect appetite left', 'thats generous read many jack higgins book poorest far humble belief travelled thro page got harder harder believe simplicity mr dillon stroll thro event hand story also lack imagination could probably summed short story mr dillon sci fi afraid quote start book got near final chapter starting imagine author would writing finale mr dillon quote read te think time author think may mean something else', 'good matt nude lipstick got nice warm scent vanilla like smell texture creamy meadow sweet nice nude color apply much else look bit dry', 'would sell book complete dust cover excellent west fairly judged breadth work special view human nature weakness', 'welcomed change frozen plain europe refreshing sunwarmed beautifull change frozen steep plain ice age europe delightful story woman must face overcome immense odds survive plot line move different way woman odds novel fresh predictable good read much better choice jean auel shelter stone', 'novel begin found preachy long got bored claw way wordy prologue tried find actual novelfinally gave', 'avoid abridged version book would read sin inevitable make best bad situation oh way woman strong ya go nuff said need read obnoxiously long sentence lamenting one sentiment entire odd page travesty entire book one big complaint girl commits adultery lament whole stinking book put obnoxious kid whole thing well painfully thick language stupid storyline quixotic style everything would piss recreational reader avoid', 'ok book recommend neighbor dont think dis dat gud book recommend didnt like much', 'scarlet letter really enjoyed book show judgmental tendency human race one woman strove live life service others gain redemption mistake go wrong classic', 'edition complete review refers isbn explanation indication edition leaf author introductory chapter custom house admittedly chapter long tedious skipped many still leaf book useless classroom let face else going read exactly light summer reading addition bolding sat word definition margin reviewer mention main reason chose edition fact abbreviated text absolutely nothing forward reader guide author bio nothing helpful textbook bright side well bound type quite easy read returning book looking suitable edition', 'creepy creepiest book ever read creepy mystery romance one creepy book would read lol', 'book time hand book great many people give one two star great book able enjoyed level everyone best knowledge erudites scholar enjoy book good book one limited audience read unless mind wading waste deep overly long sentence antiquicated word flowery prose personally like author get point', 'painful book one tedious work literature ever written hawthorne great writer know book made sacred list call classic perhaps merit name alone', 'great novel scarlet letter nathaniel hawthorne great novel take place boston massachusetts era puritan main character hester prynne forced wear scarlet letter adultery cheat husband waiting come europe book really recapture puritanism like interesting think america would like still puritan theme book concealed guilt minister arthur dimmesdale concealed guilt cause severe pain message book let minor sin past haunt rest life book denounces religious atmosphere puritan village claiming stifled merriment joy culture old england get picture wonderful culture portrayed work chaucer lost america due influence puritan', 'horrible reader listen book woman reading screechy horrible voice give review actual book whatever try find version different reader audio book', 'mistake ordered penguin edition book five week grad class started important correct edition proper pagination paid penguin edition got dover thrift edition three week later called distributor told email remind fix ask name order number anything identify customer asked email address told look confirmation email email address confirmation email work spend another get correct edition book already paid book got would worth brand new purchase distributor', 'scarlet letter much amazement book placed banned list several state excellent study devastation caused guilt although story allude frequently adultery graphic detail would make unsuitable use high school classroom illness caused guilt good health overcome made clear', 'scarlet letter must read american best book ever assigned read school far way hawthorne capture shame hetser wearer scarlet letter feel everyday utter torment weak dimmesdale coming forth saying slept hester revenge ridden character chillingworth spectactular way hawthorne describes setting action character truly outstanding hawthorne huge flare dramatic great reader since hester main character concieved daughter pearl affair snetenced wear scarlet chest rest life story start day hester stand infront town wear badge shame drama small puritanical town boston start must read american', 'scarlet letter soap opera although book considered great work literature written describe harshness purtian new england plus book heavily laiden symbolism many literary tool scarlet letter soap opera bad one boring true action occurs book nothing truly interesting happens book boring work literature spends entire chapter describing prison door although author creative job conveying point still worst book ever read would never recomend book anyone sit read script second class soap opera falling asleep first page good book study however good book read pleasure circumstance', 'book great one might notice many negative review book contain horrible grammer multiple spelling error although respect disliked scarlet letter disagree wonder people know capitalize word thought book wonderful willing put effort understanding', 'read read book school like sure point story several people hae told think dont agree dont agree', 'possibly funniest movie ever made start bit slow product placement joke start take', 'ame problem munchkin version ditto complaint separate easily either unscrewing prizing cheap flimsy leak water also gasket looking something else hoping reviewer give honest good advice almost identical product munchkin', 'sassy baby warming dish interesting concept tried baby warming dish found year old pretty small really hold enough water keep warm think would work ok infant although think blanket would work well recommendation buy holdsell', 'unreadable good book may print quality bad cannot read zero star would appropriate', 'used circuit project used generator circuit project work pretty well little resistance however wire connection seemed cheap loose would recommend buying battery powered one rechargeable battery worried environment', 'two tedious hour early success adam sandler film gave mistaken impression actor writer film prof neither grating voice guy boot enjoyed happy gilmore much lesser degree little nicky big daddy sandler one trick pony seen trick interesting anymore thought might one hanukah film world x ma fare nothing holiday definitely kid', 'one worst movie god dumb movie fact adam sandler wrong never life true right smell like cheese sick demented joke dont help premise though whitey get life nicely animated poor outcome think guide beofer watching jon lovitz rob schneider others contribute voice', 'fantastic movie make feel lot better holiday although childish movie eight crazy night fantastic sandler movie', 'disappointing movie vulgar meant child typical adam sandler movie foul language raunchy humor enjoyable', 'sandler strike crazy night might sweet film good message kid scatological humor offensive language explicit sexual reference made unsuitable year old plot hand fine year old obvious simplistic adult audience result probably worst film year certainly running', 'worst far good film dubious honor included book worst film time definently one one hardly call proper film either rather loose framework new song could presented le natural manner great great grandfather music video better', 'waiting foreign lauguage aol cd translation choppy singer medicore best orchestration overwhelming love change everything shredded point hurt listen oddly best song french chanson enfance surprised japanese usually put extramely good cast cd cat phantom tokoyo evita great unless total alw aol fanatic save money', 'rise fluff book first thing struck easy read print readable illustration helpful also find grammatical error earlier review said mostly specific practical chapter helpful emotional state music hard find book subject across board dealing many different issue one address nearly every brain related research issue nutrition memory scientist also work high school student found translation brain research classroom thoughtful enthusiastic tough subject translate get thought would book mostly helped get past hype get real practical meat material book far perfect best seen far topic', 'itten element color pleased review art book arrived pristine condition would rated excellent condition rather good would like thank person made possible misplaced name address', 'great imo first saw review tyley mike relite thought grossly overcritical everything every instrument played like hear tyley mike album since think better seriously think people understand thing sound way meant sound sound poppy made way hell stick norm want something different opinion sound great write good enough review album album actually masterpiece still different enough keep interesting bug group evolve try new thing stay exactly ever time glad see progress grow much say describe album frankly think could write good enough review justice give', 'wish never heard fair midland hearing music cant help making comparison still wonderful music ill explore', 'good follow el cielo bit change time dredg le progressive material straight ahead rock tune little disappointed alot stuff going like el cielo pretty big compared catch without arm still direction chose go definitely good one', 'wow book really bother parent trying deal daily struggle child disability read book offer advice parent help fuel negativitiy please put reading book still grieving stage book help parent please try surrounding positive child disability bring joy life help learn help become empathetic help become stronger bring wonderful caring people life please remember thing trying get time life waste time listening family story frustration anger sadness embarrassment instead surround positive', 'hard rock one rock band capture ear pity almost retiring soon', 'low class effort high class band material represents died music bland poppy wilson sister garnered wig corset music became something inside joke mentioning real band looking back cd music dated caught era best left forgotten', 'good quality cell phone holder contrary review found cell phone holder good quality used long time problem whatsoever', 'loved love christmas movie favorite always bring decorating start enjoying holiday', 'charlie brown christmas great christmas gift gave movie co worker love charlie brown classic shown tv thrilled opened', 'way anyone soul could ever give negative review one sweetest sad funny actually profound christmas special ever well maybe dostoyevsky deepness quite lot depth unlike lot modern christmas special plug toy suit cbs hated series thought intelligent kid like vince guardaldi jazz score bonafide classic almost air luckily better people', 'ought slug r movie loving critic know entertainment krusty would say love charlie brown christmas joy entire family young old christmas play directed charlie brown everyone complaining charlie sad know true spirit christmas friend tell spirit christmas play never finished though like toon charlie brown christmas gut tell gabriel telling shepherd good news baby jesus born manger would recommend', 'charlie brown christmas one favorite christmas show time great service provider', 'proof good thing built last mr schulz bill melendez decided launch half hour special tv many thing odds music subject treatment linus bible reading unlike anything else tried tv work done month flat considering lot work go animated feature lot money resource put stake lucky lot u sparky hit nail head film absolute winner next year emmy award television kid programming along accolade recognition think different treatment christmas theme present film captured interest across generation true peanut style something make ponder beyond obvious one film never fade enjoyable beyond season', 'great christmas gift classic christmas tale wonderful gift bought friend said watch every year', 'yahoo charlie brown able watch something like charlie brown christmas whenever want soothing soul especially since get really busy around holiday always catch tv', 'best present child little old age wise still enjoy watching around time year classic never die enjoyed many generation come always huge fan charlie brown begin far favorite christmas special remember seeing first time like yesterday charles shulzz one amazing job classic short animated special show child true meaning christmas linus delightful explanation timeless teaching classic something enjoyed people age especially family small child one great video would make excellent addition anyone collection', 'classic watched two year old daughter first time christmas nice watch classic movie grew watching kid well hubby peanut gang classic simple love', 'real rammstein album bootleg collection b side remixes single really even bother', 'month broken charger worked fine month charge slowly using computer charging drain battery frustrating poor quality', 'work great half price ac adapter work great apple aluminum g powerbook apple still want charge insane price last generation power supply luckily macally solution almost nice half price light indicate charging bad nice touch', 'good product mac powerbook g cord started going fritz year half gotten laptop sure since macbook replaced powerbook apple longer sell adapter get adapter online really expensive found option thrilled worked perfectly since day got sturdier apple adapter feel last longer also white like many apple adapter worried aesthetic computer option good one highly recommend product macally p ac ac power adapter apple g', 'quite satisfactory product work well problem far month keep ibook g running issue light indicates whether power received minor thing also easy use cable wrapping thing original mere quibble satisfied purchase', 'great product great price replacement adapter year old g powerbook going cost apple macally adapter le half price built like tank wire thicker plastic durable thing might miss yellow green charging light luxury necessity highly recommended', 'excellent item miss lighted ring telling charger charging price apple replacement without led bright cool bluish color cable break apple charger noticeably thicker charger get regret', 'hard find type charger since mac switched magnetic type hit miss working battery indicator switch charging blinking fashion', 'cheap charge dangerous power cord one poorly designed implemented charger around powerbook g listed compatible problem actually watt power cord expect use computer charging expect able touch brick plugged burn returned item got charger another company dollar work ton better', 'much better apple version love long connection secure get hot wonderful', 'good product reasonable price though output power supply lower apple supply seems work fine reasonably priced bad amazon stopped carrying supply', 'tempted throw away bought charger near end may year stopped working week ago charger picture gray cord look like generic charger available amazon charge quite slowly ibook g brand new apple brand battery think anything computer stick cheaper generic charger computer totally dead', 'plug work ibook g product advertised work ibook g plug look fine despite product description stats compatible year old version inch ibook g must buy yet another plug one work consider warned', 'stopped working day difficult open package adapter worked couple day missed light end standard apple adapter yellow charging green charged price right started cycling mac screen would dim brighten dim brighten boy glad notice screen battery light cycling c battery unplugged macally computer ran fine battery run fine apple charger left home good news return amazon extremely easy presuming lack destroyed packaging void refund ordered different brand light one may bad example good luck macally gear', 'another binchy great book take typical family examines seperate member provides look whole knowledge secret member enjoy binchy style writing interconnected story weave together pulled first lilac bus silver wedding', 'tu vida jamas volvera ser la misma despues de leer este maravilloso libro mi manera de ver la vida e muy diferente todo tiene sentido gracias estos conocimientos podido ayudar otras seres vivir su vida con un proposito que e ser mejores cada dia para pasar de nivel en nuestro crecimiento espiritual este libro e para aquellas persona que le tienen miedo la verdad pero si te atrevez leerlo te aseguro que tu vida jamas volvera ser la misma atrevete', 'deep view count run growing organization say concept book add playing future utmost importance many u tough experience survive keep running important thing work get done equal u lose help lot organization book deal get done self sustained fruitfull', 'book jack bought book amazon used condition like new little realize even think come jack ball try find right size jack jumbo one ball guess get pay', 'thomas connector track thomas wooden track connector piece needed setting different design sometimes setting new design year old grandson whould end way connect finish piece helped problem', 'plain simple journey amish disapointing book author make complexe amish community forgave muders young daughter nickle mine school one diminsional disney character tension conflict human condition make people real oh sweet group simple people course allow u learn anything amish sure lot learn author self absorbed try draw lesson time amish spot though please get finish book waste time', 'disturbing looking book amish theology history lifestyle agricultural technique look elsewhere five minute yahoo search yield veritable library resource compared book surprisingly ample information online oft misunderstood sect christendom book modicum useful information enough warrant mandatory single star found author whining fit pontifications raging narcissism beyond nauseating great pleasure found last page ultimately book serf commentary amish rather disaffected yuppie lifestyle author author found utterly alien amish anachronistic culture rather love god family exceeds everything else', 'good dont advise buying grider broken pressed plastic fragile dont support pressure requered grinding pepper', 'cannot adjust coarseness description say adjust coarseness salt pepper knob mini grinder replaced store bought salt sea salt grinder work disappointing', 'solid effort missing spark statheads fantasy player know value book found statistic projection future performance anyone playing long term keeper league benefit keeping near draft day look prospect take flyer stats book good ever top prospect list edition fall flat essay past essay read like great magazine article mixed stats narrative ratio year essay far statitically driven written ratio meaning flow article interuppted frequently data analysis make book far dryer usual chore get still invaluable reference tool entertainment fall little short', 'girl like two half year old girl like much every want allure bed sleep say read spy bed', 'still great book wind light book great one exception like first best reason gave book star rating better would gave read others', 'could spent money better book move plot unrealistic character shallow seem like real people', 'terrific reference identifying butterfly monarch viceroy queen butterfly identify butterfly look field guide butterfly texas next time tell tiger swallowtail zebra swallowtail spicebush swallowtail child fascinated insect butterfly well teach appreciate nature learning name butterfly good way start', 'climalite work intended visually interesting plain white material definitely better dampness plain cotton please wear sandal visually interesting bottom black part thicker thick enough pill get natty use know mean thick sock way breaking wear upper white colored part thin stretchy breathable flexible enough well pull slightly rear make show choose', 'man reason height age reason united state america created men thomas paine many others held man philosophy long enough get idea individual right paper form constitution united state america paine contribution end well known paine noted book power make world man right life law one right another man life god race dictatorship proletariat great society new deal thanks thomas paine men like writing life free dispose way let work together free men woman keep freedom spread around world oppressed brother sister glory man', 'liked way butler filled history queen mary andqueen elizabeth also told good clear picture lifewe lived aboard ship page second phargaph tell march crossing passage well remember hearingthe depth charge explodimg still white tag cabinwith number deck verify memory checked discharge called coplit yes remembered hearing depth charge tolded vital roll two great ship played inwinning war many thing new', 'course book well course called fundamnetals socal research expensive indeed wanted first make comment thats', 'leadership made spiritual maxwell succeeds creating new way experience leadership principle bible used guide youth group leadership program highshcool junior senior perfect excellent gift idea anyone interest leadership belief christain faith critical approach', 'absolutely incredible happy dolly hungry return real country like new country like pop music quite one hit wonder dolly parton like torus amos ani difranco two came mind make entire album great music instead album showcase two hit song like folk indie music think love bluegrass album cover johnny cash still miss someone gave chill favorite song definitely waiting bluegrass definitely like female singing mellows dolly put two great album rumor possibly going tour happier listening since little never gotten see perform live album critic praising country hall famer album deserves every wonderful word', 'think child grew knoxville tn watching dolly partin ca walker farm home show remember singing bluegrass back really appreciate hearing unfortunately got away root returned brilliantly crafted cd critic fan screaming praise dolly voice perfectly suited singing bluegrass shine like beacon dark arrangement simple understated song selection impeccable tenneseean wish would included awesome version rocky top least updated dolly gonna give lot fellow artist run money year grammy grass blue trio ii top cd ever heard one', 'band save cd usual dolly continues trying sing voice musician good thing recording attempting sing country song bluegrass style work', 'almost perfect cd reason giving cd star instead short lhasa voice sultry sad powerful music haunting yet airy perfection', 'castle attic would recommend book kid love great adventure edge seat whole way book especially loved silver knight became friend william go get book', 'non stop adventure great magical young boy nanny leaving give small castal going away present turn night came w castal real night shrunken turned stone young boy break spell evil sorcerer put night go back time stop wrong sorcerer stop evil sorcerer evil sorcerer stop find incredible story magic adventure', 'worst book world worst book ever read entire life forced read school complicated boring would recommend book anyone please waste time money read book read something else', 'one favorite kid loved book eight year old looking back easy see william main character gymnast rather shy reserved manages important help people around immensely sympathetic compelling though familiar fantasyland evil wizard ruling faux medieval kingdom plotline hold surprise adult reader familiar convention genre surprised excited kid reading recently found hold well favorite book younger madeleine l engle ring endless light hold better many strong book child adult hard time imagining perfect book bed time reading', 'excellent good price excellent design shipped well would better vendor also provided personalized engraving', 'best witch book ever read spellbinder st night world book ever read recomended book friend recomend also l j smith talented writer plan read book come', 'maybe next time like lot people writing review play lot first person shooter liked splinter cell buy traod used agree everyone story good control le mediocre even enter matrix blew game away customizing keyboard help le expected tried leave feedback eidos avail hopefully another one beta lot longer think might pc assure case', 'many issue story interesting action enemy awesome game many technical issue think rushed get shelf asap tech problem quirk game', 'lara remained tomb looking forward game released internet weekly basis looking new release date delay delay bought game day release loaded onto computer ready play one disappointment another first control different game ok get use new one second biggest controlling virtually impossible jerky sporadic right slow awkward reload game time get simple maneuver given many time shear frustration frustration felt game think continue playing game time move enjoy another game game sorry core eidos could biggest mistake especially movie well boost', 'angel darkness correct game angel darkness control system impossible menu screen ridiculous bulky manage played tomb raider game one near unplayable thing went straight ebay save money something good tr people need something fresh character like send space something jeez franchise getting old stale due lack innovation change', 'great work poorly organized kindle book review intended review book work edgar allan poe poe fan purchased book pure fun reading poe kindle however book poorly organized finding particular tale poem real pain take lot fun table content individual work list rather grouping work know guess group work may looking belongs ala also index electronic book able toggle table content particular work select taken happen way recommended kindle reader', 'interest child insect would great book use elementary school science class wonderful layout many beautiful photograph insect called beautiful text mixed nicely picture cover basic information insect well various interesting fact', 'good midway point wonderful victorian style novel manor house mistress domestic wonderful middle story author make choice effectively shut flow pacing story spooky interesting sudden turn unexpected switch narrator point view time setting make rest great read downer', 'terrible product well manufactured recieved timely manner product poorly constructed husbandand put together easily cotter key hold wheel made flimsy material might well foil screw fit well really disappointed buy spend little get better one hopefully word poor design excuted sub standard part', 'buyer beware biggest waste money spent long time even make one bag leaf would demand money back would cost much send back believe amazon still piece trash online shopping department take advice save money would given star option opinion rate star', 'didactic melodrama read enough know preached huxley unsuccessful masking assertion human condition island disappointed since huxley ability write well even esoteric subject see perennial philosophy instance end making hash highly recommended', 'well everything decent book lot new information part simply confirmed basic long believed living dream child encouraging exploration without forcing achievement need provide additional mean learning etc lot time spent selecting school gifted kid really apply small town like live good chapter different kind gifted child scattered teaching method lot real life example stretched across several chapter opinion became scattered approach probably novel idea came across better good enough parent perfect one klein opinion manage perfect parent set standard high child anxiety trying live example sure interesting take', 'software horrible software user friendly sample help would imagine sat hundred hour could figure dot go whole interface make sense time consuming total waste dollar apple store', 'biography wright work easy reading book would recommend want sort executive summary story behind wright work said found depth detail lacking read extensively architect whose noteriety growing time collector unless like want book help fill spectrum vast number publication continue come popular view', 'top ten list christian byjames w moore bit simplistic time got good discussion goingin sunday school class methodist would recommend itfor contemporary adult sunday school class bible study', 'live still work great food kept fresh inside dome good seal', 'elem diff e q shipping amazing book much use list problem text explaining theory behind written like sandpaper often jump around leaving important process would hard book use solo resource w instructor leading', 'really cool really cool record favorite muff album happy birthday alert today alive tomorrow like later material hambuger lot early stuff later really like think cronilogical interesting hear improved time good cd', 'disappointing hoping band would evolved degree past decade sadly courtney love message cd testament band tapped kim think would emphasis release breakthrough cd rather take past', 'carefully constructed read book structured even page short pithy quote summarize textaul body book odd page book written style manual dip point need refer material came basic thesis book want enjoy life place one hand tiller steer towards people place thing like way chart course taken alan lakein get control time life excellent book strategy dealing misteps also covered author try overtly avoid religion slight christian undertone run book probably unintentionally author quote cutltural background', 'poor quality high price knock offs ordered two cowboy slim cut x already wrangler waist way small fly left really weird ugly uncomfortable way made mexico like one bought target badging different rubber badge back right pocket thin leather wrangler badge rear right waist knock offs sure returned went target got two pair original legendary gold cowboy still half price pard', 'almost perfect stocking easy find live northern california cannot stand wear panty hose decided try stocking recommended site used find garter belt really like stocking darker black picture depicts prefer black lace top little tight much stretch large thigh might like next order order one size larger reason although large thigh husband really like fact like make happy buy', 'stainless may look like brushed stainless steel magnet glued back hold anything heavier light potholder tried hanging apron fell bottom refrigerator crafty remove tiny magnet attach larger stronger magnet hook useful otherwise worth anything guess get pay', 'meaning god meaning life issue among others examined simple yet complex story variety character recognize lie beneath skin average person believe make world shatter would make world shatter author never waste word entertwining character unlikely believable way quick read lingers reader make think belief would belief individual book could god meaning life simply fit world make book touching personal level think every reader find different way reason love book', 'disappointment big belva plain fan always enjoyed book fire disappointing read bothered character hyacinth weak stupid woman believable mother fight end child kept hoping would snap never kept trusting stupid men believing think twice spending money another belva plain novel future', 'get pay expecting bigger set surprised small spent better set', 'junk buy even come screw could build better set twig skip', 'fireplace tool set good product got timely manner exactly supposed expensive good rest tool priced tool work great used lot winter', 'failed work unable get game work window vista inquired patch receive response', 'long hot summer sweet dream baby sterling watsonon sultry summer river two young people explore small town life backwater florida tapestry story mesmerized rich character tangled landscape troubled family brooding mystery appreciate musical prose gripping plot relish haunting book wait sequel learn travis delia', 'mathematical nonsense mathematically speaking book nonsense instance author argues owning home expensive owning true compare person living tree versus one owning home argues person owning home negative cash flow k per year due interest pay mortage detail left make useless point person owns home home live hundred buck month whereas person home pay may k per year rent wipe saving author claiming money drain since go landlord whereas owner home build equity recommendation stay away nonsensical book else screwed follow advice', 'boring bought book read review look interesting funny first page knew mistake repetitive content really ridiculous age time', 'stuck really like book author write sex portion book would much write happened nick law suit barely mentioned could written le descriptive sex', 'none awesome simply awesome put laughed smiled even got tear brand new favorite author', 'witty clever really fun read dialogue witty clever really enjoyed progression romance probably could tied little sooner last th book kind drag story storyline introduced sooner ended introduced wish nick rachel storyline included enjoyed banter potential recommend modern romance fan', 'glorify thy name w kent henry great kent henry praise worship classic go wrong one sleep kent henry mentioned previous review one favorite praise worship leader man gifted anointed sings many spontanious praise worship song although spontanious song one cd independent label loaded talent ushering believer god presence song mixture upbeat mellow classic must cd print get hand one quickly', 'lousy outdated guide horrible printing flaw first thing noticed book page stuck together really printer get right cut edge book many page hand cut turn could stand design get everything readable find information herein oh year old totally useless current midi application might ok looking history midi want spent hour making book readable cutting uncut page actually read', 'still yet recieve still yet receive item purchased month ago tried everything track might success', 'big thing small package purchased small hardcover book expect much pleasantly surprised read one sitting twice want put one lbw simple yet romantic story originates africa childhood friend jacques margaret margaret move london wed lord berkley childhood friend return africa storytelling becomes richer even separated continent decade lover jacques margaret maintain sweet friendship must read well written culturally enlightening', 'broken base frame completely attached fixed little glue friend loved', 'lousy rf range worked away range use practically useless could get foot range button put remote right receiver get even work bought particular model discrete button make easier elderly mom figure supposed used remotely reboot cable modem located basement end flaky let fuss switched different unit foot consistent reliable range tossed one junk drawer', 'left feeling wanting somehow spent time reading book little purchasing bought talk extensively competition rig rule etc interest yet see gun rag writer talk honestly gun ever see bad review gun magazine', 'gun digest review purchased christmas gift excellent tutorial entertaining detailed discriptions picture informative spoke recipient gift christmas agreed really appreciate amazon speedy service', 'cd suckx listening cd friend house really sucked someone itnerested buying watse money', 'nice sony must give u info nice tripod strong elegant cool love trouble find cool gadget detail list compatible sony camera mean owner sony cybershot camera w h able use remote control camera sony give u information', 'lively experimental synthesizer jazz global fusion cd instrumental experimental jazz near trance synthesizer piece rhythm pattern latin flavor feel danceable others remind chill lounge music selection subdued vocal part background rather foreground enjoyed selection liked working background heard volume series cannot compare reservation collection mood selection always consistent mellow lively mood cd consistent lot collection heard piece experimental others interesting study two felt slightly dissident experimental sound still felt worth hearing', 'cut def old school jam searched searched cd longest finally found purchase', 'recommend vacuum bought emer galilieo vacuum cleaner one year ago retractable cord broke short time send vacuum nj get repaired using warranty month sent back problem button broken well called customer service asked refund replacement kind enough replace vacuum new one vacuum powerful however handle hose kind heavy hose twist frequently make difficult use considering high price guess much better choice one looking powerful canister vacuum cleaner', 'fiction fact donal cline clearly demonstrates inability distinguish fact fiction find book biased towards murphy dolan faction poorly researched claiming billy kid known michael mccarty finding questionable present evidence without veryfiable source reading book asked cline write book seems think much billy kid write book stick true passion write documentary james dolan l g murphy', 'waste time money squiggler fell apart second use way put prong back base worthless piece junk waste time sub standard horribly designed made product', 'co alarm easy product install fuss plug sight behind couch satisfied j', 'easy bought first alert co two reason rental unit california requires carbon monoxide alarm one second reason price ordered unit delivered rental unit lady rent mechanically inclined trouble setting completely happy california happy happy', 'rocket red glare priced pain sitting area always glaring red light red light commonly used warn immediate danger requires attention carbon monoxide problem red light also stayed week plugged outside plug', 'absolutely great tripod movie camera excellent cheap panning act almost like tripod movie camera control handle add convenience control shaky movement sold stable tall worth price', 'written masterpiece first read book high school bought copy several friend last year plan giving book gift everyone xmas basket white yellow candle read book least time year inspiration guidance next bible book masterpiece unparalleled', 'love jerry dean version disappointed realize film however sound picture much film additionally listed dvd r wish better quality production sound picture sync really wanted collection', 'crap junk worthless etc star poster absolutely correct thing crap ordered two kid neither worked rocket seal pump pressure could pumped thus making useless high hope toy love younger always quality nostalgic toy leave much desired looking evel knievel dare devil stunt set price cheap quality cheaper', 'dense knowledge film filled informative interview great film also subtitled great definately worth afternoon watch film intention filled teaching visual cue subtitle', 'give star could cover blurb book say office slave internet addict stressed student ha three like looked many yoga book put aside due difficult position instruction time involved still want feel better relax also rejuivinate well relieve symptom computer age book definate must buy', 'american treasure charles brown american treasure blue piano stylings perfect compliment unmistakable vocal selection cd typical high quality music cb produced entire life buy cd buy cd charles brown regret', 'finding comfort food read book search way view body self positively however book claim overweight people eating disorder lack self confidence true obviously overweight never eating disorder positive self image like read book relate title misleading', 'typical thomas video james biggest problem dvd order episode someone complained many video review several episode specifically refer episode bootstrap used james brake line episode actually occurs one last dvd would taken like minute video play chronological order good dvd thomas friend story james prominent personal complaint purchased store online even though box said includes bonus wooden train box actually take along bertie son bertie eager get realize metal take along kind wooden series son take along item think wooden series far better', 'inexpensive poor quality set shipped carrying case covered oil like substance either oil case smelled horrendous also punch dull uniformly sharpened dulled however look difficulty cutting even thin soft silicone sheet sharpening rotary tool help feel brand new product sure actually repackaged imagine using metal let alone rubber despite affordable price would purchased set reason', 'dull dirty well usually write review feel need product rst caked mud nd dulli guess sharpened see', 'deserving pulitzer scared remnick pulitzer unwrapping plus year communist control collection nation depth discus purge environment event allowed occur russian view patriotic war wwii rise fall communism communism doomed start remnick explains exactly russian people wonderful met many book also give reader understanding world grew world stalin literally god world without independent thought fascinating heart wrenching readable', 'like technotronic featuring monday midnite like breath fresh air dance music world filled meaningless technobeat specific direction song brought back good memory using sample classic clean ghetto monday midnite freestyle story experience london underground discotheque unique succintly clear distinctive accent rare like lot plus song keep dancing till last beat love', 'disappointing misrepresentation baking julia amazing book exceptionally well written resource accurate reflection pb televised series name stumbled onto option order dvd suposedly full series book writter dorie greenspan ordered immediately well dvd arrived today minute fraction e show far extensive series selection book recipe misleading dissapointment expected place order dvd reflected full series nothing product description indicated otherewise would still purchase knew front full series probably yes love julia well series book however nature post buyer beware', 'peek inside process first thing first homespun album demo apple venus record look first although new xtc skylarking usual recommendation collection demo expect essentially track track match apple venus sonically tell much set demo except couple place frivolous tonight sound complete fact point piece sound virtually identical final take even place expect like orchestral workout river orchid green man interesting yeah extremely lot place good better original knight shining karma truth told unless diehard probably need hear work version material casual fan definitely want check apple venus fine record', 'good guy new book horatio nelson read antony beevor got hooked stalingrad book good beevor also good hayward new book admiral nelson get high praise scholarly work also readable far make guy work', 'worthy addition ww ii eastern front history read tremendous amount subject ww ii history rarely read book anything new tell book class well written two point found interesting discussion original focus hitler campaign russia first extensive history read airlift effort save paulus th army trapped stalingrad offer original research question promised hitler luftwaffe could sustain th army airlift successful soviet interfering airlift anyone interested history ww ii eastern front book must read', 'buy software tried software alternative ulead dvd pictureshow good news dvd photoplay make easier load picture slide show project ulead software bad news software work tested program three computer ibm laptop hp usb cd writer dell desktop internal cd writer sony vaio desktop internal cd writer whenever tried write project cd software failed recognize cd writer machine emailed customer support though assured would receive answer within day day later still heard wish kept receipt could get money back worthless software', 'spiderman trilogy blu ray oustanding product love quality picture sound spiderman fan blu ray way go highly recommend product', 'awesome movie awesome picture sound quality top notch well bonus content definitely worth every cent', 'glad found one time cereal available local store however discontinued searched internet finally found quaker oat bran cereal great crunchy hold crunchiness even add milk love flavor help control cholesterol', 'excellent really recovered eye strain tiny print realized read earth shattering book wicca witchcraft taken hand book bad history book fix rip history section every book glue book place unapologetically modernistic source back excellent really excellent', 'cable cable work else want know cheapest one one say sony yea true believer get pay im sure better quality five dollar version flea market know sure feel warm fuzzy getting quality sony product', 'awesome book explain death child book great watch shipping especially want order cant without paying double shipping bad rip', 'grateful book two beloved cat die child fifth year wanted book dealt death frankly gently book promise eternal life give religious message several different way using different living thing example book communicates death natural part life girl even requested book couple time bedtime found slightly surprising', 'effective book discussing physical death child public school librarian would say lifetime effective picture book adult share child child dealing subject death however person faith would add scope book limited earthly life therefore touch belief life death text state nothing alive go living ever statement either reflects author intent dealing concept physical death could interpreted belief statement suggest lifetime read shared caring adult would able answer child question based family belief system', 'great band even better ra one underrated band rock music heard first cd blown away guy amazing whole feel band different anything heard many year cd really good would hope world would sit take notice guy talented musician modern music rare music angery powerful smooth melodic tell lost everything today one got going one stand cover police every little thing magic one interesting cover ever heard liked one buy disc would love see guy live', 'usa current state scholarship academy today footnote primary source listed conclusion supposed believe pinhead phd behind name side list hundred primary source work sure pc teacher prof love probably staple every modern college worth dime thinking person really want truth', 'worst night world book worst book night world series gillian lj smith worst heroine mary lynette best gillian superficial think popular girl school getting david david worst night world hero thierry best stupid cheated sat read night world book start one', 'book messed book real love scene top girl cousin try convince soulmate granted angel dead still related definately trying catch cousin ewww top wrongness book barely mention vamp stuff also coming age story popluar important love every night world book retarded', 'impressive one cd asatru music actually enjoy could quibble thing lyric quite line lore overall find music pleasant inspiring cd draw upon scandinavian folk music inspiration melody exception one track lyric english lead singer andrea nebel haugan actually sing professionally done melodic many non heathen friend also enjoy listening cd', 'haiku year exemplifies integrating creativity small gem book appreciated modern poetic viewpoint also philosophical standpoint comment integrating pure creativity everyday motion read book prepared question thought perception might change afternoon book', 'hoped expected least hoped le straightforward account mothman phenomenon year ago instead meandering book comprises hick ufo sighting infrequently connected mothman keel trust know talking theory explanation particularly dismayed seemingly endless account men black behaving badly little recommend aside providing detail mothman sighting recommendation mothman prophecy considerable disappointment', 'shame mr keel let start saying mothman prophecy novel coherent story start strong enough draw go spectral energy crap hole led believe mr keel sensiable unbiased investigator really parinoid delusional whack buy word see movie instead', 'point although prefer book actual plot mind reading choppy journal type entry actually point least entry entertaining book albeit beginning begin wonder author wanted portray paranoid schizophrenic side effect complete lack organization logic writing style book worth time title hardly anything mothman', 'mothman proficies page covering men black light sky phone trouble page mothman want read old ufo story book want read mothman buy something else', 'never quit reading book made page stop waited year read oh man disappointed thought would intelligent well written peice mothman mystery know holy mackeral never seen bad writing someone else mentioned incoherent tell place absolutely clue going book crazy favourite horrified dropped small baby arm child began cry insulted hurt thinking kid hurt insulted keel dude much talking mysterious guy tiny witness said saw wire running pant leg quote tiny wearing electric sock wired android operated remote control pretty much stopped mind turned mush', 'joking giving one star le possible people realize book others kind complete utter fiction right truth behind whatsoever science documentary physical evidence nothing mib except movie secret conspiracy hide evidence alien visitation alien abduction absolutely none book kind true ask really true government unable keep secret presidential peccadillo financial scandal politcal dirty trick payoff espionage intelligence screwup like conspiracy magnitude escaped detection revelation simply make sense pure entertainment nothing five star reviewer credit card', 'fine support terrorism find terrorist link song offensive taken fire fire growin brewin upguerilla gettin trained uplook look outfrom rooftop reffering ltte sniper competition coming nowload aim fire fire pop lot ltte propaganda music website even promotes terrorist organisation music need get grip people buying music need get grip actually look buying', 'good afterwork cruising better airplane tranquility listening cd turned car stereo way way back work lyric ostentatious beat showy dollar hombre two favorite track clever yet funny political overtone ok like revolution type mood actually good stuff plane totally block cry sound baby next seat imagine party head', 'big deal thing interesting album mia accent seriously beat singing layered tired clich vocal album anyone else would top final verdict bad music', 'excellant love kala well sound cleaner developed however album excellant break career fire fire one favorite mix marijuana', 'original fun friend introduced cd quickly become favourite music catchy fun dance yet also lasting listening love fact brings ethnic vibe music', 'noritake colorwave stoneware disappointed shipping delay cooking company said would reimburse shipping charge date product shipped beyond date said would ship unusual amount time', 'wish time travel rockaway old rockaway new york early photograph exceeded expectation thought would provide photographic history perhaps pleasantly surprised find nineteenth century photograph peninsula true heyday lived arverne amazed see rich famous visited area similar way rich famous today visit hampton east end long island view postcard early era actually see unspoiled landscape sand dune bay marsh longer exist magnificent hotel home graced popular resort prove city new york truly mi managed development since', 'old age gold year old man uk stunned record took back bike ride along beach simpler time quite frankly time love hope thanks oc', 'tiene que ser sensilla quien va ser sensilla con la poca fama talento bellesa que esta mujer tiene tiene voz suave ni fuerte deveria dedicarse otra cosa lo que sea menos cantar actuar porque seria igual de ridicula que patty navidad este e uno de los peores disco que escuchado en toda mi vida', 'repetitive monotone really wanted like book based title cover art instead found caring narrator whatsoever repeat thought throughout entire book reminds reader mother dead nobody love many time stopped caring situation repetition monotone voice stop narrator truly developed character connect part story seem unnecessary pointless really lead anything interest later characterization direct left nothing reader consider title extremely misleading learn absolutely nothing mother aside death childbirth unable find anything positive describe book sadly', 'worst book ever read got one depressing book ever read depressing sense tone book depressing depressing sense poor quality first book attempted read author since waste time trying finish pretty sure reading book jamaica kincade', 'frankenstein continued first heard book wonderded going new story continuation fortunately continuation read review book local library ever copy sock bought read day reading night work say good read steady flowing action real dull moment unnecessary story line etc disappointed gave star much reason others ending rushed abrupt never fear book real ending something look forward second koontz book read unable distinguish writing author writing die hard koontz fan may able tell difference overall good smooth never dull read highly recommend anyone looking different take c', 'fine started eating tape like many reviewer zr giving infamous remove cassette message mangling tape used record maybe hour worth video last two year search web canon zr user group eating tape hear similar horror story stay away canon camcorder', 'goodness world noti repeatdo get camcorderthere nothing worse thisi wasted money buying amazon comi could gotten thing le including firewire dv carrying caseit honestly worst disgusting despicable electronic thereif get literallyliterally threw money atlantic oceando get even someone pay return get money back', 'lot effect lightweight easy use awesome camcorder camera function lightweight easy use camcorder make breeze shoot great memory novice like right box camcorder also huge selection special effect option make really interesting video effect love camcorder', 'excellent book novice improviser instructor izzy great job making format book simple yet engaging explaination game goal group size time process variation game helpful written sale team leader could pick great game get team thinking creatively working teamwork self confidence complaint past performer current instructor long enough write another', 'hard find tension rod living room bow window five narrow panel looked many place narrow strong tension rod pleased find get free shipping happy purchase thank', 'yes yes yes great read love book born year late would liked time however massacre sound like feel good lol', 'must one writing review music dance angel fantastic pas cd loss', 'paradise kiss rock omg thats say sooo fabulous first heard contridicting weather read decided hey read fab manga there turning back totally keeper strongly recomend', 'nirvana fan album huge nirvana fan one ever since first listened bleach die hard like like album probably already song album waste money reason would recommend someone album buy box set wish back', 'ehh disc intact case terrible ocndition broken half chipped top portion case', 'true nirvana suck tell really spirit band fbi seal warning back cover state duplication cd illegal anybody would enjoy duplication anyway true nirvana true nirvana suck', 'garbage complete garbage sound quality horrible going release best cd record something preschool microphone covered wet rag', 'expected read cd thought music chopin really lot soprano singing', 'love glass love anchor hocking glass parent set pattern year moved place college tired free plastic cup went store found glass big glass blue color wanting matching smaller glass seem find color anyway really like square help hold glass easier also glass stable tip easily plus bottom heavy bottom heavy way slip hand easily broken many glass cause bottom heavy never broken one', 'forsyte saga well awarded oft forgotten classic make short point quite avid reader usually enjoy book nature opting fantasy sci fi escapism instead story beautifully told though subtlety character twisting life forsyte family fascinating make one helluva page turner hooked immediately honestly believe people age love book urge give shot know sometimes novel taking place particular era seem daunting u crave adventure action type book lack excitement', 'book great edition embarrasment oxford university press quite annoying typo see new forsyte name scames unlisted french word ficbe came result faulty character recognition soames born got thirty eight beyond proof reader anymore mean read book may find lot later work literature derive edition', 'expensive experiment work hoping acid convenient use well pretty convenient swipe nothing wanted try get rid little bump clogging pore frequent breakout however skin remained really scent seems chemical wafting pad affected sinus quite sensitive nose switched using back got result nothing expensive experiment work may work someone else nothing disappointing since switched salicylic gel peel hurt whole lot get job done', 'lame jujitsuka find move wally jay best mediocre originally hawaii many judokas major move watching move much fluid continuous see many martial artist screaming credential rank making tired though started martial art year old became head instructor skill need perfect hope see real martial artist recognised', 'small type review center one thing type size edition disappointingly humble opinion unnecessarily small increasing type size point two would move edition unreadable readable increase book length hundred page since currently almost page feel quite certain binding could accommodate another page problem make frustrating type nice clean face require magnifying glass little larger really believe lord meant u suffer eye strain read word think want u carry around large book small book readable type would serve purpose', 'take tree hugging new level third forest midworld one better learn hug close one home tree risk killed innumerable plant animal insect being le well categorized yet despite living space defined various level hell planet accommodates small group human succeeded adapting rigor ironically one intolerable element relatively new colony set clear cut space human corporate mind driven motif sheer greed alan dean foster one favorite author though remain envious imagination writing skill interesting life fashioned much possible planet experienced much action describes fiction', 'best alan dean foster book read year ago pre teen hooked sf alan dean let time time since book classic must read one fun able put finishing one try hunting dark star movie novelization almost good midworld', 'plain putrid book obscene part even written naomi campbell filthy man dont pick book want brain burnt away promiscious literary flop freak', 'shoot year back forced read te english class nobody class could ever finish reading book u could ever even finish cliff note professor tried solving situation renting u video u fast asleep half hour te bimbo brain insult woman yes even time book rated called classic really want read good literature read h lawrence read tolstoy read evn modern classical writer like achebe cry loud waste time money te', 'awful one worst book ever read go way long lot filler seems place', 'cruel depressing story hardy paint cruel picture woman lower society either tempted cause evil mischief tragic ending created virtuous woman form te end criminal impossible woman te virtue turn criminal would recommend book anyone would look escape depression', 'book boring victorian ideal te boring book analytical point book major theme fate however must interested victorian era order enjoy book thing scarlet letter enjoy book must know time era problem character faced book laughable today standard', 'obligatory kindle making one two three four five six seven eight nine ten eleven twelve thirteen', 'good companion piece read book soon seen e mini series reading book watching series gave better appreciation dialect hardy us throughout novel could little difficult decipher good book overall', 'great classic remember read novel high school wanted read forgotten story thoroughly enjoyed following te trial tribulation albeit self imposed', 'beautifully written dark masterpiece unforgetable victorian girl beautifully written dark masterpiece unforgetable victorian girl father discovers descended aristocracy drink stupor unable fulfill obligation te take place series misfortune sent away rich relative hope getting financial assistance family meet rogue mansion taken many way fast forward meet another man fall love tragic love story much discovered morality rule expectation victorian society thomas hardy brought life amazing character work conceived story embed psyche one contemplates work beautiful love story much highly recommended', 'hated book hate revenge forced read te kid write negative review adult done', 'bad purchace well thought getting student edition got instructor edition guess go back b n', 'ummm using several month particularly impressed liquid smooth silky go wash quite easily seems done anything skin jury sill', 'science fact empowers science fiction mar rising best documentary ever seen issue surrounding future manned mission mar shatner voice give extra credibility race mar realistic movie ever made manned mission mar genre', 'unbearable lightness unbearable yet enjoyable age communist oppression see side daniel day lewis reminiscent lovable letch newland age innocence daniel play perfectly doctor living prague cannot tolerate oppression resist woman influence drive unimaginable amazing seeing two main rival affection manage kill pussyfoot around painful truth lena olin sabina perfect seductress famous bowler hat one easily love well hate try deceive ever wise tereza tomas wife juliette binoche thumb tereza acknowledges tomas cannot force face weakness love provides measure redemption still tomas decision return prague result terrible consequence needle eroticism would star movie', 'please read kundera book instead kundera novel unbearable lightness absolutely amazing film fall far short despite almost immediate dislike film actually stuck watched entire thing hoping daniel day lewis could somehow salvage film might actually express idea kundera book sorely disappointed please read kundera novel wonderful help think kundera referring film wrote later novel immortality present era grab everything ever written order transform film tv program cartoon essential novel precisely expressed novel every adaptation contains nothing nonessential', 'sad yet beautiful unbearable lightness ability give body without becomimg emotionally involved problem hero film wrenching experience heroine belief emotional physical fidelity mate cannot change feeling film explores difference two pain one cause lightness towards end movie becomes tearjerker ready cry eye', 'milan kundera ride wonderful drama unfolding two life read book shallow minded', 'lacking movie fine watch different book told father book decided rent movie library watch big mistake film sex scene came standard sex scene book strong focus involved party thought motivation void philosophy psychology', 'unbearable length worker parasite end spoiler basically go like eastern european intellect survive constant angst lot sex end seems frigging hour hour self loathing finally find happiness die truck accident', 'disappointed impressed pickin music lynyrd skynyrd led zep santana name however hendrix music translate well bluegrass style great disappointment one cd get rid quickly', 'birth drone far know predates anything else known drone music seems popular genre day psychedelic get mind wandering infinite void good', 'short story message living chaos living stability book involving true story powerful thought encouraging uplifting book personal people private life experience yet relates everyday life experience occur anybody whether peak life beginning new chapter life something drastic happen change world around story touching yet enlightening bring inner strength deal reality life would strongly recommend book reader walk life', 'fantastic product great way try try everything new hoping find something show result right away give back glow skin seems wither away time pass anyway read rice bran thought brand contains lot rice bran like nd ingredient everything water nothing else pronounce stuff smell great go non greasy especially face cream like face thirsty suck truerenu store give cute little pahmplets detail ingredient insturctions package written japanese need read instruction even got free gift green tea yum', 'amazingly soft hair looking natural shampoo wonderful one made hair incredibly soft ton body incredibly surprised well worked hair sample worth price test', 'prose poetry inspire agree positive review book although little biased kerouac favorite author book inspired write poem finished reading although may inspire anything good could inspire something positive life even viewpoint artwork artist read road town city one subterraneans found really great quite difficult read without blood run ear sentence page long one much fun read could put really like jack also check james baldwin norman mailer', 'road enlightenment le plot pot road kerouac famous novel reckless travel music girl rebellion dharma bum introspective lot meditation soul searching existential rumination life truth nature regret choose book format hard keep philosophical ramblings listening car', 'flat kerouac amazed many people find dharma bum worth reading kerouac flattest sentence lack usual energy lyrical beauty virtually action buddhist philosophy feel pasted contrived definitely kerouac book recommend reader would better pick copy desolation angel excepting page transcribed conversation middle vision cody already read lot kerouac want move modern counterpart pick vincent czyz adrift vanishing city lyrical experimental hot house writing take quick talkin drifter native kansa far afield berlin mexico city paris never loses vernacular even waxin metaphysical might also try sliding henry miller tropic cancer popular sexus far better written', 'self indulgent nonsense operative word title bum book self indulgent self righteous idleness work redeeming feature', 'outline theology aa hodge kindle edition disappointed book great work many unreadable word kindle e book edition page frustration finally give trying product either taken availablity corrected error becomes readable', 'life changing book changed life opened eye think misery want buy copy away give people life', 'worth mediocre best story line bad dry predictable action scene drew interest used one liner previous movie', 'wait better dvd combo dissapointing pre ordered thinking great deal wrong blu ray movie extra either blu ray regular dvd rushed trick u worth bought extended edition blu ray dvd combo edition suckerpunch came hour extra wait better verison movie incredible save money wait see extra trust returned day got saving deluxe edition maybe even box set ton extra', 'really good movie film like teenager short attention span storytelling like facebooking many plot cover horrible pacing depth', 'transformer awesome movie make movie even better movie darker movie ther comedy thrown right moment', 'loved original transformer fan original cartoon action start finish love story slow thing watched movie numerous time still see thing missed first time watch loved', 'transformer dark moon say awesome family loved happy watch enjoy great family evening thanks bunch', 'tranformers dark moon transformer dark moon granddaughter really enjoys watching dvd especially like bumble bee fascinated transformation', 'sin atrocity lack word describe awfulness saw review giving movie rd time respected source ever done listened plot hole plot chasm story special effect redeem gaping wound make rest film plot charisma fan service michael bay really need stop raping people childhood la south park george lucas style go watch animated film instead save excruciating pain dark side moon talking pink floyd', 'yeah mean never greatest movie ever two logically one came quickly shipped well problem except film bad', 'please way franchise going stop rated one worst movie ever see found total waste time unless devoted transformer fan must see thing transformer stay away movie', 'instant video mislabeling movie search movie amazon instant video movie came purchased disapointed see writing review without watching minute movie movie bad amazon need label movie selection', 'another video game type movie whyyy lot loud noise quick movement kind thing monkey idiot enjoy please love god make another sequel movie really sucked', 'great eye candy compare poorly first one surprise left highly predictable plot great action scene spectacular special effect tire hard reinvigorate first episode lack suspense drama year old got kick got bored', 'horrible absolutely rubbish would feed film dog simply good measure really ought find something else time sure wish', 'transformer dark moon account michael bay directed transformer film date good stopped making gob gob cash third installment dark moon made time around sam witwicky autobots must race recover protect ancient autobot ancestor crash landed moon decepticons interfere thing exactly seem found dark moon improvement second installment impressive special effect work action sequence film whole leaf lot desired expect find much movie ooh big robot explosion hey really need', 'movie ok streaming crap movie play steadily watch netflix later error kept popping saying internet connection fast enough play movie internet connection fine watched movie checked online amazon customer service page minimum requirement first time problem streaming amazon awful every movie would stop pop error message tried restarting app restarting p luck', 'perfect movie yr old gave one star website allow go lower effort put computer animation team movie negative star plot sequence make sense ever list teleporting another planet earth atmosphere really optimus prime getting trapped bunch cable min movie high tech alien robotic race end fighting shield sword ax literally plot hole something make sense every minute movie throughout entire thing thought second movie ridiculous wait see reason watch movie want leave brain dead hour watching flashy robot transform fire rocket random thing besides please favor something productive extra hour', 'light awful film went see hope getting revenge fallen bad taste mouth fission mailedwhere begin plot nowhere near immature rotf still suffered clogged much filler making much sense overlong mess cgi eye candy redeeming factor film clear bay know make big budget action film explosion aplenty cannot write decent script movie save life fort since rock movie peak huge final battle chicago nut wanting time finally take place well used spot cannot make fact almost everything letdown buy unless really want complete collection', 'great first transformer movie always best one ok movie long jumping back forth poorly constructed', 'digital copy code expired bought black friday sale digital copy significant part purchasing decision inexcusably digital copy code expired product sold minimum disclosed product description', 'love movie great movie special feature opened movie noticed coupon version coming special feature', 'could much better shorter plot storyline cohesive movie way long character really coming life making movie longer making movie better fact movie weak making longer make point even painfully obvious kept watching movie see would improve unfortunately case maybe dreamworks move another project save money intend buy better rent save rest better movie', 'review transformer dark moon enjoyable science fiction actioner fairly plausible plot type movie also excellent acting live actor voice acting transformer robot beef language make inappropriate tweens pre teen overall excellent adult recommended', 'transformer dark moon pure joy watch many special effect true master piece keep edge seat', 'movie ok title disk pack totally wrong blue ray dvd digital copy available dla gb download get digital copy instead including lame enter long url input code start download managerafter finished enter long url try play movie get error website foundi get web site enter transformer site digital copy play site cannot accessed paramount take lesson fox include digital copy', 'guy movie people saying movie bad take step back look watching hollywood movie made audience love explosion car gun sexy woman simple story line movie made realistic sci fi movie pop corn watch enjoy way better notebook chick flick', 'never thought miss megan fox excited see movie available amazon prime disappointed started watching really stand sam new model girlfriend annoying spends film posing pouting prettily also confused lot movie trouble figuring lot decepticons seemed similar course must admit maybe would clearer followed transformer cartoon another big flaw long action sequence involving glass building foreshadowing nasa guy announces going taking refuge glass building could possibly go wrong', 'transformer dark moon watched one previous one several time like movie lot kid thanks much', 'thought transformer suppose kid know lot movie going kid friendly fast forward past thing transformer advertise kid theme sold toy store find macdonald happy meal would think movie kid focus sam love gal robot story forget sam name movie transformer rate movie star love cgi robot barley seen robot whole movie sam love interest michael bay need hang give true comic fan direct movie transformer pitiful', 'safety pin another reviewer noted pierce cloth well basically useless threw trash', 'bad movie bad wrestler bother cena potential rock even kane matter trying make money uneducated wrestling fan', 'b movie licious surprised much enjoyed surprised little disappointed taste anyway know exactly expect movie explosion fighting luckily delivers spade especially splosions never seen many thing blow every fifteen minute john cena barely escape building blowing slow motion course story kelly carlson kidnapped robert patrick john cena must rescue robert patrick plain fantastic flick filmmaker smart gave lion share line mr patrick play great sarcastic bad guy plain simple john cena act sense arnold schwarzenegger act mr cena let action speaking thankfully plus hottie overall easy cheesy blow em action b movie extra pretty lame though', 'hell might actually watch cena acting worse wrestling persona last movie update marine ii star ted dibease hahahahahahah lol pathetic', 'complete utter waste time money movie really complete stinkpot acting horrible action way top unbeleivable comedy way stupid cheesy first movie get started crazy action scene war flashback story ever car chase scene full car get shot high powered rifle like time still driving around even twist end completely easy figure please avoid reeking exploding crock', 'please listen buy product many problem sony computer item thought give one try phone sony even know emarker four hour still thing work problem program download emarker com program problem loading emarker usb drive computer thus use wait till develop product work problem sony told would pas problem research development team would try get back soon hope team know product plan returning emarker today', 'sony e marker obsolete excellent product sony taking support product end sept bother buying shame really good lasted', 'good idea good look need lot work recently purchased emarker sony show far technology come also show useless afformentioned technology look great attached keyring needle say sleek stylish good look attracts lot attention main problem lack extremely useful feature hope sony make revision release better useful product like come expect', 'totally useless bought hype emarker presented using week realized pathetic product nothing clock mark time day song nothing else look everything manually including radio station appropriate time memorize mark stand station doesnt even stupid sony believe sell product putting name tsk tsk product also really dependent internet dont good connection like forget practicality emarker actually even cable dsl line still useless', 'worthless space zero star purchased emarker ill tell one thing read review first bad hear little thing true priveliged enough live area sony feel compelled offer service dont even one station mark site terrible cant even get program enable whats difference though cant anything anyway typical sony advice check rating go website see even offer station area believe wont tell work area however neat idea need lot work', 'another thingabob key chain e marker started lose appeal problem driver sony provided little assistance situation basically solve trial error website easy manuever receiving proper listing constant give sony credit coming idea respect potential however serf interesting eye candy piece key chain', 'sony pulled plug use emarker depends emarker website however sony announced discontinuing website emarker device useless buy one unless want museum piece u already emarker sony graciously offered provide cash refund every emarker returned directly', 'worthless sony stopped supporting e marker offering refund anyone already one', 'buy junk buying product read review unfortunately pay enough attention warning product work thought could trust company like sony deliver reliable product figured poor review result consumer error wrong complementary review site real product look nice work like piece junk', 'artwork national socialist require censorship something new artwork even scary wtf ruined classic one buy b', 'absolutely ruined child would stare gammell illustration reading story illustration made book much imaginative influential opinion new illustration beloved set justice extremely disappointed find original print buy kid loved book much kid actually going write letter paper stamp harper collins telling role crazy art imagination development creative person jeez absolutely terrible new illustrator must dignity ruin', 'read book better illustration story scary story tell dark book remain stephen gammell illustration haunted imagination scrapped candy coated picture candy coated upon searching tale horror alvin schwartz dark dark room written level read child collection found water colored image scarier cartoonish image release scary story tell dark', 'description said stephen gammell artist disappointed discover copy ordered scary trilogy described illustrated stephen gammell actually updated version watered artwork another artist keeping book worthless without better artwork first time disappointed order amazon big one need change description include correct illustrator', 'disappointed video let historical blurb beginning time waster pain fast forward thru every time want practice dancing agree reviewer regarding time devoted freestyle improvisation new recognize move put together quickly without commentary find struggling part worse standing feeling frustrated foolish instruction regarding transition one move another would appreciated positive side actual breakdown move helpful especially belly roll undulation really struggling confidently way wish covered move manner bottom line week already seeking another video buy', 'tongue hurt ankle shoe seemed nice purchased e version since read another review tight unfortunately top tongue bit ankle tied shoe matter sock wore return', 'buy version instead bought book thinking would updated improved version bookarmed female twelve million american woman gun author book excellent wanted latest version unfortunately received much expensive pamphlet page ten dollar abounds typographical error point error change meaning sentence several place enough much content appears cribbed various blog web page read free simple google search sum version armed female well written interesting resource albeit slightly dated technical recommendation ammunition caliber course make model available handgun book unfortunately overpriced badly printed rehash information avai', 'protection advice paxton quigleys self protection book written woman general excellent advice sex men usually stronger larger woman well trained female use firearm knowledge use today society almost necessity purchased book gift woman care guide point correct direction', 'know source information good information book ask consider source m quigley testified behalf woman shooting gun hillside toward strip mall dog barking approaching acting reasonably jury disagreed convicted defendant testifying grossly negligent discharge firearm approach bit aggressive', 'great movie terrific view dingle peninsula visited dingle peninsula ireland fall see movie filmed turn addition great scene dingle countryside also good story line terrific acting irish history thrown good measure', 'viewed yesterday movie would make great opera adaptation dare say sara mile carry movie david lean imprint obnoxiously heavy handed score', 'ryan revenge surprisingly bad film painfully slow paced convoluted really one hell mess exploitation pitiful malformed character played john mill top insensitive tasteless comic bent frequently employed demand mention story feel minor begin disjointed inane best described story music hard describe kind helpful reason see film absolutely gorgeous almost hypnotic cinematography perhaps young radiant sarah mile enough save film tough aggressive editing little devotion good taste instead forced endure kind personal career psychosis great director david lean', 'excellant movie seller saw movie first came hauntingly beautiful happy get dvd may find little slow area loved appreciate work david lean acting sarah mile robert mitchum love rank right dr zhivago also pleasure seeing first came big screen wonderful epic movie seller extremely prompt made purchase feel though buying friend way business', 'sound great sound great im wondering already star di u think would great year old', 'reliable printer love photosmart little discouraged driver xp available neat thing printer mainly use print photo memory card connected pc know number want print enter go quality print great right connected imac splendidly quite dependable expensive recommend highly', 'grindhouse guess totally meaning grindhouse one would assume title tag would sex filled movie little plot thrown good measure full slow moving plot sex scene would make censor proud', 'missing something sorry star rating book content read horrible way display ipad cover page nice big fill screen look great ever subsequent page however half size meaning two page fit across ipad screen font small readable furthermore ipad version allows landscape viewing stupid kindle app remains orientation returning book list moving another book missing something', 'honesty always rewarded pus boot wonderful story book beautiful like precious work art great read aloud exceptional illustration child adult adore presenting tale child take great thought though try avoid dishonesty terrorism thievery focus resourcefulness first impression survival fred marcellino one top illustrator time wish website', 'love book read entire book front back day great full useful information make feel wether initiator', 'awesome overplayed first song incredible rest ok live france chumbawamba never got really big heard tubthumping zillion time make still interesting listen', 'great cd people got cd year half ago still listen good cd good dance track plus trumpet playing great also liked smoothly music vocal came together truly masterpiece', 'beyond mega hit preview better thing come besides much maligned mega hit tubthumping like first released like solid cd great arrangement lyric performance perfect many cd perfect day recently discovered ready mades clearly star effort symposium arrange song masterfully done write song song critique several reviewer done adequate job however put forward challenge rtbarry az move beyond drivel masquerading review capable explain detail opinion lacking cd rate one star believe supposed obey fiat review kim jong il north korea otherwise rtbarry waste time drivel', 'great really great cd chumbawamba many political social thought understand', 'one star one star one good song cd tubthumping actually song blow hear time cd cd player day bought like wasting money buy cd', 'buy one mine two year love color give also given lot problem something gone wrong memory inside making impossible print best quality error message pop screen start printing garbled junk loaded latest driver success waste money especially ink cartridge high', 'non computer geek stay away printer hp moderate success month multiple paper pickup jam problem kept occuring satisfactory fix got printer even worse print correctly multiple jam even two hour box copy consistantly misaligned sending back', 'curved thomas train track good product priced would try find gently used one', 'okay read different book everyone else thought horrible mean demeaning woman imply prove man would best woman strength every time even woman fighting skill whiny main character regardless obvious hand fact prove sabin honest honorable man still call foul continues abuse worst way yet continues chase help love regardless everything added moriah deserve man like sabin lastly top unloaded abuse abuse simply tell good guy like oh well case believe love utterly stupid action obviously mean nothing listen say wham bam terrible terrible', 'head first book trilogy disappointed first book foundation gave two star wanting read trilogy year believe mediocre pulp foundation empire saving grace look forward next book', 'good book liked book really anything profound say writing review reason amazon giving option rating book without review asimov seems interesting twist european history book event occur seem parallel fall roman empire successor germanic kingdom rise merchant class renaissance understanding history western civilization probably given fun comparison asimov fictional galactic history', 'fantastic sci fi classic foundation novel superb went read entire original trilogy first foundation book favorite story jump ahead leap bound section confusing first end making fantastic treat recommend series highly enough scifi fan', 'phenomenal cannot recommend foundation entire series highly enough come worldbuilding examining possibility earth future asimov best entire basis intelligence learning confrontation unknown salvation instead ignorance seeing carry biggest gun welcome change', 'good politics science book start enticing psychohistory idea dive deep politics quite interesting read ingenious solution crisis taken great leader foundation specially resigning war whenever seemed sensible way problem book supposed science fiction yet story seemed happened back mercantilism period xvii century priest king viceroy merchant ship trading raw material manufactured good gadget used trader fool empire bit silly well far future based science fiction', 'asimow one best writer time foundation book complete extense colection wonderful remember read book year ago see still love want read book series saga foundation three book foundation foundation empire second foundation want read good good good gooooooooood series book read regret really loved book', 'classic isaac asimov exception author genre happens write science fiction foundation novel apex classic science fiction going read one book genre one choose universe creates vivid book difficult put case tell fan', 'bother prelude foundation excellent however stop foundation bad book totally predictable read dune want something intelligent entertaining read foundation want something probably even finish', 'tough going got pretty bogged multiple character place time period good book pick occasionally take focussed reading one series', 'dissatified dissatisfied novel avid fan asimov foundation series younger version mathimatical genius match older one changed history race better think story female appealing match story seemed tacked series write another novel unfortunate writer invented positronic brain three law robotics course genuis foundation series wrote tacked story', 'go haywire regularly setup easy enough printer routinely go haywire spitting whole cartridge load paper refusing print tried several different pc intermittent weird behavior reset printerand computer seem fix everything buy epson', 'old fashioned sweet story much challenge read enjoyed change modern world therefore recommend', 'stay away plain bad boring find least bit entertaining interesting waste time', 'worst movie ever go break open red light camera steal film watch time better acting much coherent plot', 'blu ray review terrible movie garbage totally suck hollywood coming seems running story make movie garbage good lord right boondock saint smokin ace', 'last nicolas cage film one redeemable quality film period nicolas cage bottom barrel absolutely range acting worse low budget b movie think seriously something new orleans post katrina nic supposed tough guy get kind trouble figure coming going baffled entire movie line horrible please save money', 'watch dirty cop around horrible person spoiler everything worked end heck point movie seriously everything worked end know continued watch', 'great writing think review need corrective tynan sharpest funniest best informed theatre critic generation also wonderful stylist precocious one many writer never write well tynan still teen letter enjoyed simply manipulation language tynan always liked think outsider someone pushing envelope yet also entranced establishment play enjoyed lowbrow entertainment almost much shakespeare sophocles letter demonstrate bifurcation character making sort un selfconscious autobiography well worth buying anyone like reading letter must tynan fan work reisssued', 'make mongolia season mykel board punk rocker new yorker gonzo provocateur fulfills lifetime dream moving mongolia one year teach english glad easy read writing style brutally honest hysterically funny problem overcoming constipation metamucil sold outer mongolia board resort consuming rancid street food encourage diarrhea visit mongolian dance club confusing hurdle presented post soviet limbo land welcome mongolia standard response native cultural idiosyncracies brought attention unlike travel memoir overwrought pretentious analysis foreign culture even though time fellow traveler longed mykel take deeper look rarely examined country making book fun unrestrained ride remote kafka esque', 'banal boring making somebody actually produced recording actually two people produced nearly two string quartet assembled play say nearly track played trio apparently used overdubbing inflate quartet sure string quartet could made music seem appropriate entertaining folk certainly task end result banal boring even work novelty record might fun play party unbelievable', 'great item find item expectedand think everyone consider buying onei tell everyone', 'amazing score wow word barely express awesomeness piece first start movie brilliant said film ost beautiful work dark somber piece moody atmospheric something listen fun least background music business brilliant every track amazing beginning end unfamiliar johnny klimek reinhold heild work cd however make want definatly look perfect sound go along dark nature film track tranquil moody others pound beat fast paced cd definate must collection highly recommneded', 'buy camera nice camera get wrong however due compact design speaker close tape motor quiet quiet area hear high pitched humm coming camera well record canon confirmed design flaw zr really disappointed returned mine wish way fix', 'brio medium straight track brio durable best quality wooden train market piece must extending existing train set year old love extra piece create', 'simple even kiss book know whole point dummie kiss book supposed easy anyone understand book simple basic read chapter could hardly bear invest anymore time since information sparse gotten book steal would upset waste money real information waste', 'quality tripp lite always always go trip lite fiber patch cable due quality proud name triple price', 'awful big waste money washing noticed pillow case different shade wrinkled matter tried stuck since washed find packaging', 'good grill money happy easy use clean grill used grill steak duck breast veggie chicken take longer gas grill get job done without smoking kitchen', 'excessive typo ruined agree w prendergast review concerning laughable typo thought proof reader editor version must abusing drug distracting read called classic find reading like h sophomore paper drunk sophomore somehow managed finish book came amazon immediately following see others read erroneous version weird typo poor punctuation etc ruined', 'entertaining action movie spoiler main reason waited morning cause fan chris lambert saw id say excellent action acting done chris lambert ice great action dissapionted christopher lambert told marcus killed daughter didnt killed ugly old woman even act probably old enough look like shes mabye entaining worth watch', 'one positive note know anyone else addresed building barn shop year book cover many thought concern would wanted sooner later point raised consideration noise sound put wood wall painted white sealed moisture fussed drywall considered sound issue went wood reading author comment spending extra time fire protection sound absorption part shop alone nieghbors well good book read contemplating shop hey get find master wood roughed well', 'criminally stupid mistake provide orginal sound buy video dvd technology would brainer provide sound track original aussie version rotten american dubbed version dope chose give u one nobody want perhaps nobody buy get clue', 'movie introduced awesomeness action movie probably mel gibson first film film done doubt would become great star native australia film launched international movie star especially since released mad max universally released road warrior road warrior one top ten favorite film sure mad max cheesy seventy style definitely introduced u new kind nameless hero became common theme upcoming action film even made today mad max one film year old still loved cherished people even le year old today film classic action hero drama movie lover enjoy building respectable movie library amongst home theatre', 'great dvd packed ton feature seen mad max dozen time watching new se dvd like watching first time exaggeration new dvd offer choice poorly dubbed u soundtrack original australian soundtrack watch original track pacing film change entirely character original soundtrack breathes new life film feature great trivia track pop info production car aussie slang term used watch documentary tv spot theater trailer print fabulous turn film really need see widescreen seen way tell pan scanned version miss lot stuntwork chase scene action seen movie past thought ok new dvd saying great', 'awful absolute worst book ever read dullest boring thing since learned algebra first chapter already wanted kill gave another chance another another another continually dissapointecd waste hard earned money aboration book', 'oh god stereolab ever since got album since last summer kept thinking album sound like never wanted stop listening album music spectacular heard first track laetitia kinda loud humming someone keep playing synthesizer reminds beatles eerie song revolution white album could imagined listening baby lulu make mind clear soothing beautiful sound best album ever heard listen album study listen work home stereolab totally get stress away listening bye bye', 'perfect family fun funny movie star martin short murray bumbling fairy god mother hardly anything right first job helping anabel greening played mara wilson anabel wish dad auditioning part broadway musical want get part unfortunately murray accidentally turn dad statue anabel brother charlie murray go nafgaa tell queen fairy godmother happened tell anabel reverse spell midnight remain statue forever get wand back evil claudia highly recommend simple wish', 'great kid movie kid loved movie martin short hillarious fact still teach kid dont always get ask', 'funny movie little girl matilda martin short good family picture loved came excellent condition', 'excellent album known kenneth copland since always set high standard recording prpduction album album exception', 'well played kid music trout fishing america make kid music well album probably stand death play kid give even adult although highly doubt many adult listen merit need cd kid listen drive crazy found otherwise probably cd want', 'highway robbery always amazes outside vendor try gouge consumer highly priced item bet never buy anything vendor even great deal ridiculously high price red bull sale store one find would someone pay online caveat emptor let buyer beware', 'well also really loved book showed two strong willed people first glance totally wrong mean century old vampire vampire slayer ironic also liked even though quin cold fish outside inside lonely rashel even rarely admitted loved book put u read yet', 'woodwind performance seem fine recording mess woodwind lost intro festive overture much reverberation mics must placed back empty hall like cavern real disappointment orchestra outstanding one listen cd file away forever', 'vivid color tight fit last time puzzle lovely graphic sturdy construction others mentioned piece tight difficult maneuver right box wood cut one piece three us however smooth fit together well problem splinter rough first break apart piece could see splinter might develop month old daughter love puzzle trouble putting together without visual guide color area distinguishable pretty easy determine piece connects happy customer', 'shoe made walking merrill way great shoe daughter say merrills hug foot even though minimal strap right place adjustable go everywhere love', 'persuasive book unusual approach book detail many important dynamic war took place within single provice process bergerud reveals much important know war whole personally possibly important vietnam book read provided framework understanding war beginning american involvement end still use many reader could important first book read vietnam america relation', 'another sensual gem composer yet another lush shimmering pscyo erotic opera franz schreker wonderfully performed force involved suggest read review get good summary surreal plot least one reviewer termed good composer masterpiece die gezeichneten disagree judgement music drama come pretty close matching sibling particularly second half mozart bizet carmen small handful others great opera fan schreker output genre absolutely stunning highly recommended', 'kingston technology kvr x c pc mb mx work great snap slot turn pc second running pc working much faster', 'enjoy cd got huge kick vinny interpretation beatles song never recorded sure ver due element later year skipped written mimic previous cover try recreate early beatle sound light fun must beatles fan think get big kick disc', 'madonna great singer madonna great singer sings even better musical full emotion last wispers lament actually sound like enter immortality song beuonos aire sound like ambitious young girl yelling attention great actor could change one thing would switch jimmy nail jonathin pryce nail sing song price sing le', 'evita evita evita evita evita evita say wow never thought madonna could sing like huge fan antonio banderas accent make fit part che nicely song incomparable could change one thing would jonathan pryce annoying voice', 'disappointed product quality support returning first version product constant paper jam replacement would recognize printer driver first allow replace trying overcome hp support line recorded message said would directed representative promptly cut call twice returned version also', 'text book worth keeping reference text book selling back like reference style set tabbed page sure referring throughout rest college course', 'small leak right box try sleeping first night couple hour le firm made difficult roll around take long realize buying bed mistake returning difficult almost impossible fit back original carton one cannot evacuate residual air necessary make fold small enough prospective buyer mindful', 'last long used le day guest everything advertised except began leak air time wake morning shrunk le half inflated height patch kit included could find air coming return amazon bought single folding bed instead memory foam mattress compact le risky airbed', 'great value purchased twin size intex pillow airbed impressed quality ordered second easy inflate held firmness easy take easily stored granddaughter come visit bed great pajama party', 'great bed guest highly recommend item great price amazon prime son us whenever sleep love say like sleeping cloud electric pump attached inflates deflates super fast also fold rather small rectangle come canvas bag store', 'comfortable sleep found air bed perfect person ease filling height exceptional would reccomend bed anyone', 'intex pillow rest twin airbed built electric pump product difficult use air pump connect easily would recommend', 'great bed guest bought grandson sleep family came visit christmas wonderful super easy inflate deflate nicely raised floor said comfortable grandma scored home run one', 'intex pillow rest twin airbed built electric pump excellent value money convenient comfortable wish little higher would recommend product', 'buy inflates like charm deflates weight child within hour gone gut purchased another aerobed one already queen worked year', 'would great stayed inflated purchased two air mattress inflated great night slowing deflate yet discover keep mattress inflated eight full hour wish would bought different air mattress', 'valve broke couple us mother bought bed year old use visited weekend worked great first time used valve let air close spin seal shut inflate mattress poor quality', 'ecelente producto funciono sin ningun inconveniente de acuerdo lo informado en la caracteristicas recomiedo el mismo todo el que necesite un colchon inflabe comodo de rapido armado muy bueno el sistema de bomba de aire incorporado al mismo elemento esnecesario nada ma para utilizarlo', 'would never buy third mattress week problem three leaked right beginning worse others built pump worked great liked much thus star instead one star thankful amazon great return policy really pleasure deal', 'intex pillow rest twin mattress flop bought bed september grandchild sleep visit weigh pound bed make one single night inflated either get night inflate kid wake u mattress lost much air uncomfortable repair bed develop pin hole folded put away hear air escaping around area bed inflate disappointed product buy another air mattress company since clear quality gone hill drastically since bought double bed seven year ago opinion save money find another solution guest sleep', 'comfortable bought air mattress researching site indeed comfortable easy operate important leaking', 'disappointed surprised saw several people written air leak point majority appeared happy purchase ordered two twin camp mine started leaking immediately husband seemed good spring nearly winter began leak bad u pumping air several time night keep little bit afloat bad enough several friend family bunk house part camp awake pushed edge father law bought time husband started going hill interesting see happens camp close winter spring big test suspect go something little expensive regret wasting money hubby good fixing thing maybe hope', 'work well air mattress blow second comfortable little difficult wrap plug little difficult put back well worth money daughter using get new baby sleep night', 'great summer daughter living couple summer alternative transporting regular twin bed mile house pleased quality ease use big deal two steel rod back college student mission student sure used', 'quick easy bed easy use plug turn walk away pump built worry keeping air pump using hairdryer finding double battery power pump', 'love recently moved smaller place parent came town took oldest son room needed something sleep much room twin airbed intex great love fact pump built get way like thought might son say comfortable easy inflate deflate', 'great find great price needed replace airbed want spend fortune one work great economical comparison one found local bed bath store', 'better normal bed moved mom house nt want bring huge bed dressar got airbed month since moved still sleeping fully inflated firm bed deflate softer bed like mine halfway deflated like sleeping cloud', 'electric pump failed took france electric pump worked minute blew bought hand pump pump painful job fully pumped bed rather comfortable decided bring home return pumped way deflate extend would fit back original box', 'excellent product price durable extremely comfortable loses little air extended use adding air easy', 'great mattress iraq mattress great x comfortable thing call mattress', 'would recommend bought campus residence two month worked fine problem began first two curve top sure exactly called merged one sleep one half bed recently noticed starting sink inflated shortly afterward heard air found leaking think much middle sleeping woke floor gave resort sleeping floor tried calling customer support line backed found main support line pool would recommend different brand like coleman getting something cabela', 'loosing air almost use bought airbed october used time loosing air loose air like us beginning seam good comfortable tall use anymore unless want fill air middle night', 'best air mattress ever love air mattress much easy inflate deflate quick sturdy durable well excellent gift anyone expects travel stay someone place even lot guest', 'fantastic bought intex pillow rest visit visitor inflation quick quiet easy deflation work slight loss air early morning fit back tote nicely take extra moment flattened tuck side upper lower fabric fold third length wise role bottom toward pump pillow end easy tote store', 'better queen size bed bought replace queen size intex bed exploded inside lasted month like twin size way better feel reliable full air queen size think queen size big much weigh one area caused explosion inside twin size perfect make room look even bigger looking bed perfect', 'step best work far fan step rideau zydeco outlaw since purchased cd standing room glad quickly become favorite tune folksy zydeco flare others zydeco must buy zydeco lover grammys catagory zydeco step would win performer year', 'buck paid comp usa known overpriced year ago anyways case get best air recommend getting fan problem front usb hub pc freeze plug something unplug bottom black wire r r w w g g b b b', 'dvd review good comprehensive review band give good insight individual member song written good addition collection', 'worth money thought getting think jell enjoyable silicone unfortunately pay find', 'good good like world really amazing work soooooo good put lot pressure using turn automatically suck', 'expensive used touched since dolfin wont stay clit clear stuuf soft waste money', 'way product worked time rotation stopped working battery run lose power us would read review buying another one looking hitachi wand massager believe buy since power operated toy never run power impressed product', 'worth money let excited get review tried nothing first heavy hard hold using second hurt clitoris sharp ear part go clit almost temped cut third forth smell loud tried time trying get used husband tried use luck worth money', 'great prodct wondering like come discrete package actual product omg never felt something like first official toy sooooo pleased little large kinda hard okay work wonderfully would definitely recommend especially price', 'awful much bigger anticipated fault reason gave star plastic hard hurt bunny clit irritated one bit pleasurable man suggested turn around taint became irritated one bit pleased product', 'big love jack rabbit feature vibrator overall big use sort slip inside tight comfortable maybe big cannot feel bead think room move vibrator also quite heavy would perfect slender girl big might want buy product', 'awful misguided review rating honesty product awful toxic smell bunny ear cause pain pleasure recommend product', 'hate hard please like clitoral stimulation vaginal penitration item work intended tried twice hated time worked trying make work switch back bullet gave best friend swabing rubing alcohol love say trick deff', 'fantastic fast definitely better last jackrabbit much higher quality got clear one cause like review say eye really jump left look mature le bubble gum first vibrator hahaha really quiet something move much powerful expected keep medium setting rotation vibration even got job second yeah timed might take getting used absolutely love downside rabbit ear part need little lifted shaft position way one people complaining weird plastic smell kind smell physically put nose right thing inhale went away wash highly recommend bu', 'year album still awesome album contains danceable techno mellow techno trancey ambient unlike album song album great definitely get money worth album even though year old music still sound brilliant like michael stipe r e said album several year ahead time', 'glad pay received christmas gift friend know like hot tea tea variation flavor green tea avoid drinking caffein green tea contains gave away tea kept chest fill selection chest kind cheap paper glued something described another reviewer pretty expect hold', 'great book book give great look jewish mindset early must read young bible student', 'streisand live concert cd good good double cd packed alot favorite liked slot dialouges song word message invaluble timeless il divo accompanies several song like evergreen would preferred sing one alone music night somewhere favorable il divo', 'come gotta kidding ok first looking lighthouse classic pop rock group nothing tell album gospel cd ok live listen new lighthouse gospel cd let tell impressed engineering sucked music mmmmmmm ok guess singing really feeling substance behind gospel steer clean looking lighthouse classic pop rock group latter', 'misleading photo little information product photo showed watchtower toy action figure thought action figure included also fooled good true price charge much shipping cost would pay store otherwise package arrived timely manner good condition appeared legitamate supplier', 'waste money get review please please spend hard earned money toy even half price worth faced problem everyone else forced use glue take time work toy supposed box watse money nuff said', 'waste hour trying put tower together gave leg kept falling making tower fall lever make door open major disapointment returned next day piece', 'slick looking component older technology keyboard suck picked one day mostly slick design wireless keyboard trackball type mouse controller look using keyboard quickly became tedious use since key hard push tight proximity usual place wireless hit miss possibly run mhz frequency miss key type slooow check work often password see typing good luck quickly becomes tire number pad trackball mouse skippy lack scroll feature processor generation older current dual core intel processor ram standard ddr instead ddr unless hp update component keyboard terr', 'confused downloaded sample could barely get though first chapter author writing felt juvenile kept mixing american london slang honestly dumbest book tried read long time least download sample first', 'great deliver product fast delivery product received bunn coffee maker fourth bunn coffee maker purchased thirty year great product book hair iron gift know liked', 'romeo juliet tragic story romeo juliet story two young child decided live forbidden love although parent terrible enemy life ended tragic death making family agree year fighting like story show bravery young people without caring adult say thought better ended tragic way committing tragic suicide tragic also affected life parent suffered lot', 'oh romeo stupid teenager boy fall love quickly fall poor communication shakespeare got teenage romance pat', 'good introduction tragedy romeo juliet beautiful story marvellous play introduce young people beauty shakespeare like read hear star crossed lover already heard legend play easy read plot move along rapidly beautifully written romeo juliet tragic love silly feud two family destructive senseless read story enjoy beautiful prose', 'romeo juliet think book great influence english difficult language look word time dictionary way learn two thing look word dictionary new word liked end main character died left great message video school hired videoclub understand video bit boring also liked leonardo di caprio acted romeo video', 'good book edition excellent book edition extremely poorly produced far many typo little information original publication book example layout ugly great book cheap wish paid little nicer version', 'film like get made worst movie ever seen certainly running would point absurdity film would much easier le time consuming list positive go kevin sorbo delivering truly pathetic performance swear must drinking filming looked fairly good shape', 'heck uniform ridiculous mixing ribbon stripe officer uniform technical advisor fired rewind movie several time put sleep kevin sorbo puleeze get roped making bovine feces type movie real stinker', 'cute little cheap nice costume material quite cheap also make bust look strange black part right middle bottom part really cute love polka dot inner layer skirt really like think could better', 'disappointed glad read review agree choose color want order another box similar lock choose color one order thanks review', 'color buy wanted much get blue one grand daughter afraid end black lost sale company sorry', 'classic yello good everyone like every album one second time favorite listed regularly since first released never tired complex rhythm musical variety offer one second different yello album opinion hold much appeal someone looking pure techno drum machine sequencer certainly brilliantly done sound le annalog feel background music rather must listened enjoyed latin influence wonderful music sound made shirley bassey style voice mind album creates genre music yet find elsewhere different good', 'disappointed thrilled daughter pregnancy purchased book could remember much admired year ago read feedback mom really good get homosexuality fails miserably reread passage page library edition want throw public library collection keep good part try forgive brigg dated misinformed attitude give star', 'double edged sword book unlike book written topic nuel emmons seems started eye ball release new information manson case fell short goal virtue adding lot thing really manson word nothing fabrication', 'manson hate emmons watch charlie video interview hear say emmons took life put book took life wrote second book name said life milked two book good crook way charlie talk book indicates le percent factual', 'lie lie lie illusion book charlie word mistaken time called interview author allowed sort writing utensil tape recorder etc word see author old medium hype make buck author betrayed charlie pretending friend charlie decline many interview everybody distorts everything ever said advice want read author take charlie buy want truth buy', 'really cmon let get real really think stuff going work especially trapping many people love trapping try sparring doesnt work lin lop sau bong lop sau hand tan lop sau cmon none work anyone doesnt leave hand throw punch may people fought hundred thousand year ago certainly isnt practical want spend lot precious time learning art cant use sparring street like bruce said man matter person man woman important art system even applies jkd wing chun way around', 'put nappily ever true page turner put venus earth character could relate wanted know story turned first chapter tempted read last chapter right first look forward book trisha r thomas wish could went way author made believable', 'adly predictable like surprised least bit novel mind writer technique see literary language necessary entertaining like book plot predictable character one dimensional language reminded mcmillan unpolished mcmillan course best part book cover enough keep satisfied', 'struggled struggled book storyline bore also anxious read book highly recommended disappointed absolutely read book borrow someone library', 'klaatu hopeless purchased original klaatu album vinyl love album much cd however hope far theatrical virtually actual song could give star would', 'must read book author interviewed friday april bill moyers pb fascinating book insightful explains much west truly understand government official need read well written make think', 'unique take classic theme really enjoyed book exception story slightly disjointed time sudden jump story one particular large chunk plot seems suddenly go missing aside short coming however science plot work well together character reasonably complex universe captivating', 'one brave act change civilization story gripping part female protagonist honestly feel making best decision affect whole crew severely opposed others approach despite close friend originally act captain pursue fleeing object thus stranding crew forever inspires entire human race pursue future space fulfill aspect larger destiny comet take end time space amazing affect crew span billion year book responsibility living including taking ownership vision mistake great read', 'great dali book great amazon price love book love dealing amazon com dealing amazon year never problem thanks amazon', 'great space heater swivel remote tipover safety feature mount wall desire work wonderfully providing plenty heat need', 'thorough interesting look intriguing literary woman watching masterpiece theatre presentation portrait marriage year ago went search information life vita sackville west bio one gem overturned quest treasure able find unca library time delighted able stumble search amazon com made permanent addition extensive library subject call three v three v vita sackville west violet trefusis virginia woolf three woman joined via literary emotional attachment vita sackville west acting hinge', 'buyer beware read review purchasing year old would never bought flimsy top heavy elevator get stuck take awhile put together driving town looking best price wondered store batcave display got together realized ended taking bottom pole moving part around would stop falling lot batman toy mattel product far biggest disappointment year toy buying santa would going back without doubt buy anything else', 'additional toy next spring yard sale almost year old wait get toy add super hero collection look great box however far worst toy purchased kid almost year flimsy cheaply built piece fall tip lot hopefully designed sturdier material considering purchasing save self money frustration', 'worst scanner owned looking forward new scanner hp died year purchased one based several good review amazon site scanner sorely disappointed picture quality horrible matter tweaking scanner dialog picture faded grainy software least useful interface ever worked auto button make image worse image area recognition never yet gotten right useful feature applies sending scan paperport something never want', 'childhood favorite greengage summer five english youth vacation trip battlefield france derailed mother develops disabling illness due insect bite hospital stay hotel run two sour proprietor peopled eccentric cast character youth pursues interest painting photography etc exploring hotel ground nearby befriend handyman paul young man perplexing past bond temporary guardian eliot whose background eventually discover even disturbing summer stay child also stumble upon mystery collide foreign adult world receive education quite one mother originally intended', 'forget belkin look guf thing easy intall dual g mac driver installation panther pre x mac visit iogear website usb driver problem using card g given bus support pci card either apple sell card store first iogear product best combo firewire usb pci card currently market', 'great book might think clavell novel might little long book great shortest six book asian saga plus stand right book leave impression emotionally result reading good book', 'interesting ending excellent book clavell book read except gai jin interesting best ending seemed clavell got slightly redundant natural disaster ending managed avoid book found way story character individual story resolved rather unresolved fit perfectly insanity would occurring wwii prison camp oh yeah rest book pretty cool', 'afghan lover unite great new book friend liesure art much fun looking new pattern color combo recomment book take yarn store pick design favorite color enjoy', 'complete nuisance set according direction clicked scan button contraption made noise never began scanning process uninstalled installed thing happened complete utter waste time gave one star part box', 'bad company scanner look nice deceiving bought scanner name xerox month scanned maybe sheet died xerox week call want pay return shipping say get refurbished unit bad company', 'work get two set dice one always come another set planned family fun fun work set come kind number thinking item', 'decent player last little year zen xtra stopped playing sound everything else work appears faulty headphone jack common problem creative player dinky portable expect much device unacceptable warranty period customer service joke go look forum stay away creative product alternative', 'poor substitute ipod simply friendly functional ipod even better ipod integrates perfectly itunes managing music snap', 'yet another broken headphone jack roughly year fairly reliable use also fallen prey faulty headphone jack wondering item paid nearly limited warranty conveniently ran eight nine month ago limited somewhat understatement one ever consider fixing possibly marring something paid much money month ago would given item four star coming seeing many people exact problem creative continues neglect outright angry alone', 'discontinued pd another reviewer recently advised model look advised well known retailer model discontinued true classic bait switch technique current weekly sale circular feature model sale price get store look computer show discontinued difficult relate review actual product review base buying decision could different model one actually buy online store creative lab website give model number adding confusion', 'top notch christmas jazz several dozen christmas jazz cd miss one long winner begining end trio really delivers tasty version favorite christmas standard nugget feature unique take song without straying far original sound upbeat lively thtoughout standard elevator jazz', 'review whole book could written half size well written due wordy hard follow', 'wow actually give zero star give star due amazon rule title slightly misleading wilson involvment manson part warning part contains explicit material anyone care know know brian wilson brain behind beach boy documentary predominantly brian titled brian wilson satan featuring rest seen beach boy documentary even made tv movie better jumpy compilation felt like trying watch documentary put together someone add', 'basketball best ok yall might know im gamer game game sorta like first nba street game p flaw lighting also point game might say game worth well worth good game portability lighting bad time hard beginner suggest must know first nba street game buying thsi title p fun game', 'never bought heater even work arrival pilot light came nothing else waste time money', 'reaching light really enjoyed book learning lot healing reason bought month back able read portion book hooked think book must read people struggling ritual abuse', 'hardly worth reading book fairly well written quite dull story depressing read sherwood seems researched subject well book seemed unnecessarily vulgar number place made book unpleasant read', 'statin level based researched read pill formula contain mg oflovastatins icluding monacolins ka form fda allow company print label want everyone reliant large pharma formula tested contained mycotoxin citrinin thought cause chronic kidney disease balkan toxin found high level dosage three pill day good start minimum effective dosage shown work clinical trial would also recommend taking coq supplement like q gel solubilized polysorbate excellent absorption', 'decepcionado encanta leer libros de cocina pense que este ser el libro para conocer arte costumbres culinarias de otros paises como soy originario de xico ahora vivo en brasil lo primero que le fue lo referente estoa paises que decepci n la idea del libro e excelente seguramente la autora tuvo que viajar leer estudiar mucho pero pienso que debi haber pedido ayuda que revisaran sus cap tulos persona conocedoras de cada pa regi n tiene muchos errores hist rico geogr ficos culinarios de ortograf del idioma original estoy preparando una lista de ellos que posteriormente enviar la felicito por su dedicaci n perodes graciadamente el resultado e del todo bueno han rio de janeiro brasil', 'excellent show poor sound unfortunatelly dvd dissapointing tina fan show fantastic dolby digital dts version dvd one worst sound ever heard subwoofer move tweeter front speaker nearly went flame soundtrack edited sound taken concert incredible one moment swear heard word munchen despite fact concert amsterdam oh yes dvd overpriced forget amsterdam miss one last time concert verry good sound quality image speaking abut phantastic show', 'northwinds great god pan black widow northwinds seems good share originality sound might sort tough describe work try french progressive outfit blend old school sabbath celtic music would formula even fly notice truly inspired heavy guitar work along superb keyboard flute playing great total six cut one averaging eight minute tune get enough title track great god pan sabbath cover national acrobat talk covering obscurity great work epic forest koncerei real keeper', 'use classification music organize file folder however device ignores classification sort file artist album way configure device browse music folder moreover easy way create playlist install software cames whith add new music playlist another computer playlist edition must done computer huge limitation use lot different computer home office notebook bought ipod limitation futhermore software come terrible much worst itunes organize file folder would like use classification mp player want buy ipod tied specific computer buy device', 'returned view twice one week bought sansa e encountered trouble decided buy view boyfriend right box player would turn power button stuck tried everything nothing would happen customer service people could turn also exchanged one next one received least turned went home charge tried start loading medium thats trouble came video picture convert file format using sansa downloadable converter able transfer photo problem never able get video player tried different file different computer different people nothing boyfriend spoke customer representative luck transferred music video photo sansa e problem player many problem', 'worst mp player market bought end meaning leave review ever since done account anything nice say product worst mp player market sound quality cannot create save playlist worst aspect player battery life charged one whole day disconnected power source battery bar immediately went red please please waste money time product one never buy anythign sandisk name', 'nice device nice mp got black friday amazon yes sansa view gb mp everyone else looking lighting round black friday see tiny small icon around today deal page use computer able tranfer sound image file without using program basic computer use sony sonicstage record crisp sound', 'player good wow one best product bought great sound great quality picture video easy load file memory compatible wmp also brings player sync installation cd like take pareto plug car sound hard extremely friendly navigate playlist presntacion several language spanish translation used good relevant unlike others say one thing mean another recommend', 'buy without good return policy player freeze constantly possible everyone issue also menu bit sluggish buy without good return policy', 'buy piece crap bought piece crap found compatible track downloaded drm digital right management format song downloaded napster basically radio worthless buy', 'nothing scratch earth would nothing made scratch selling point cookbook horrid good simple cooking look mark bittman cookbook', 'really funny exciting say book extremely informative responsible occasional sit home drug user read learned thing law know definately must read anyone us drug whether little lot dealer give outlook legal information one author commandment book thou shall sell every dealer already know rule dealer get caught', 'good book good story interesting character lot history story found interesting life indian always fascinated', 'great history big fan m blake one better book dragged lot time history involved story made fan people culture might want give book try', 'handy card holder play canasta frequently wind gob card since small hand also klutz drop lot mix card holder large size hold lot card little prop stand alone also slightly curved prevent player accidentally seeing card good deal klutz everywhere', 'job hold card work believe lost sight purpose trying address problem outside box idea make easier individual difficult get card place change position defeating fundamental purpose block wood better card holder game within game', 'buy attractive solid sturdy material well organized cheapest well worth especially discount amazon provides content top notch stuff perfect', 'forward mage alternate style eric flint become established sf author however one style writing book experimental style related rabelais cervantes voltaire swift sterne book set joe world second book series although main stream way enjoyable book well worth reading read hooked asking rest story quite normal style writing await eagerly next volume', 'fantasy writing best eric flint richard roach forward mage fantasy writing best artist swordsman face evil sorcerer arrest politics artistic ambition rerouted struggle survival feature fast paced action complex believable setting', 'device grows old related philosophical strangler story overlap book focus gwendolyn benvenutti sorcerer story event character life phil strangler found language bit much wade second time funny loved philosophical strangler probably love one growing weary end strangler probably pas one', 'cool documentary extremely excited pop dvd computer watch please aware like documentary please let deter buying dvd lot interview world championship mixed great interlude interviewee riding watching ride inspire mountain biking enthusiast description state rider sacrifice go riding skill extreme stunt expected non stop action still great dvd add collection watched time watch ride riding chapter must buy anyone serious competitive dh racing shred', 'informative idiosyncratic coverage historical warship book offer interesting diagrammatic presentation thirty six warship ranging roman galley nimitz class aircraft carrier naval buff find useful book numbered guide accompanying cut away color diagram offered detail layout various ship yet selection constitutes great warship rather idiosyncratic selection exclusively western orientation chinese junk ottoman galley imperial japanese navy vessel completely absent moreover compiler seemed unable decide whether great warship innovative one historic one included selection leaving others deserving process result interesting resource limited one lack theme could made truly valuable book', 'jabra eargels service good product enough info make wise decision end use product jabra ear piece item description information compatible ear set help make better purchasing choice', 'jabra ear gel come earbud easy use hear sent mine back', 'waste complete waste stayed ear might worth something good luck ear earbuds work much better', 'fast delivery great product super fast delivery last ear loop jawbone worn large ear gel fit jawbone earbud little superglue stay fit ear without using loop full day ear little tender getting better use would highly recommend ear gel anyone jawbone improves sound fit sensor jaw', 'jabra ear gel save youself money jabra ear gel absolute waste actually fit worse stock ear bud jawbone even disappointed paid shipping worthless product even worth returning lesson learned hopefully also', 'jabra eargels really make wearing jawbone lot better problem found buy many get one fit right', 'waste money look cheep feel cheep well cheep work bottom line fitting onto jawbone lock place ear piece spent buck fall ear worth since jawbone give five ear bud lock onto jawbone fit snugly ear also give left ear right ear bar let choose work product fails seen person spent money', 'well suited jawbone ii first installed one new jawbone ii fantastic fit ear canal perfectly negating need ear loop came unfotunately day started rejecting headset ear piece would stay jawbone would longer stay firmly ear tried washing drying thoroughly helped hour sure fit problem turned work jawbone ii', 'pain ear feel better jawbone junk perfect fit even though give several different size jawbone bluetooth fall basically waste money unless one lucky one fit hoped', 'jeg product arrived expected ear gel fit jawbone well perfect ill perfect ear', 'cottiesgems bought see using gel would help keep jawbone place none gel fit ear', 'waste money ordering eargels spent enormous amount time trying make fit useless unless elephant ear wish grease use hammer insert work', 'movie originally would give horrible dipiction odyssey star one last scene ugly telemachus threw two spear give two star everything horrible opinion accent kept changing everything read book watched movie would thinkt hat joke anything read book two star two star thrown ugly', 'hmmmmmmm seen better movie news channel odysseus played well part boring well rest movie scylla look like cartoon drew better stuff st grade every single scene look fake even funny probably get entertainment watching earthworm would recommend anyone young old movie worth penny book', 'crap crap would noticed horrible allusion crap call movie character simply annoying telemakhos whiny school boy cry whenever get way creepy athena eye supposed gray penelope obviously pleasureful time water beach husband course odysseus would make weep captain set looked elementary school kid put together scylla sock puppet shade sad never life seen crap hope fall star review make want puke', 'odyssey armand asanti really like version especially since really version work literature', 'great movie price seen movie looking buy show classroom heck good good', 'boring movie boaring really didnt enjoy gory dont enjoy people kill also dont enjoy people dress like old stone age dont enjoy anceint time rough crewl time movie odyssey took place greece back thousand year ago thing mythical creature really dont enjoy thing like others might although part like enjoyed part movie calypso venessa williams kept odysseus island two year maid seen man year thought interesting part muvie confuse name confuse penelope greta scacchi athene isabella rossellini cyclops reid asato eurybates ron cook would give movie one star f like movie like great go watch dont', 'bird beast relative always gerard durrell work make want hop flight greece right imagery lush flora fauna make seem irresistible anyone especially small boy though enjoyable read seemed bit similar family animal though sequel everything forgotten put first one exactly author state introduction book seemed focus bit animal le comical family though sea life fascination crustacean get bit old book relaxing read almost make feel like little boy slow paced funny enjoyable book put corfu top list place go', 'think quite often bringing classic story like moby dick screen thankless task least john huston version lot class well number great performance even moby dick looked lot realistic version make skip buy copy gregory peck rendition instead glad', 'white whale annimation white whale lousy original g peck classic remake match attempt give underwater scene white whale sending ship bottom stunk', 'fit ear amazed poorly fit ear fact trying couple week could tell one r l fit poorly spiky part hurt ear minute wearing threw purchased umbo earbud much much better fit', 'great series opener picked book used couple dollar vacation spent rest vacation reading rated book star even though found enjoyable seemed easily figure plot heading nevertheless still surprised ending found tension hester monk intriguing frustrating especially resolved end book needle say delighted discover soon book series plan read', 'face stranger since started somewhere middle series book explanation monk accident lost memory wonderful series would recommend anyone suggest beginning book face stranger first series complete appreciation following book', 'waste time money used product addition fogger carpet powder sprayed furniture bedding hard reach space etc month later still flea major waste time money', 'normal mercedes lackey book read mercedes lackey book expect care happens someone book one real enough care people felt like shadow without true substance reason action find reason cheer anyone one problem many people follow easily since many none drawn richly enough draw world', 'hope france mayes got lot money right love book much movie absolute insult original story wonderful understand film maker thought making something better ed ed geez could get part taking wall two room foolishly thinking movie would get better done another good thing dvd kind rewind would waste electricity vcr movie right ishtar except worse', 'much disappointed terrible living italy many year hated see exaggerated stereotyping italian men seemed real bad hollywood interpretation room view', 'sexy entertaining film star sexy entertaining film sure film heartwarming inspiring also funny pleasant also sexy sexy infact enjoyable entertaining star', 'terrible movie rented movie highest expectation due thing heard talked like funny romantic wonderful scenery disappointing story story sense direction seemed badly glued together scriptwriter saying make divorced woman make go gay tour oh wait let make moral sex man known even one day let make flirt real estate man story turned pretty stupid nothing admire main character', 'last time let blockbuster guy recommend movie waste two hour romantic comedy fall short romance comdey movie trying give lesson trite overdone poorly performed writing unimpressive story dull far fetched many detail either make sense detract overall plot point seemed forgotten find one', 'tuscany sun disappointed movie though brand new box stopping time latter part movie', 'wonderfully inspiring movie movie life usually plan beginning work like think one living dream twenty fifty etc year later sure counting blessing france new story begin act instinct instead planning thus life begin rather unexpectedly france design life hope dream life become little know get exactly asks however true life may way expect truly inspirational movie anyone struggling tough time life tell many time seen probably use finger count even counted twice also must mention diane lane sandra oh guy best', 'diane lane great skip movie diane lane redeemable part lame effort film take tremendous liberty plot book way way much pc madness waste time money', 'canon nb l good x think always best get actual canon battery rather replacement substitute battery life far pretty good least hour', 'really happened john houseman character excellent james caan original version jumped time machine intent destroying social commentary critical multinational monopoly first film spreading cultural plastic prevalent future history result dumbed junk must give idea wondering movie executive decision made think good job', 'failure battlefield earth proportion say worse battlefield earth proportion whole movie make sit end go everything convoluted sarcastic beefed badly edited tripe confusing watch poorly executed loses minute film introduced boring character cliched camera angle material know john mcteirnan far capable thankful got rent instead buying quite frankly movie plain stink really want see real rollerball rent buy original original much stronger story cryin loud james caan legend man know kind future chris klein movie far action movie go let put way already keanu reef quite bluntly much better actor steer clear save money', 'terrible movie buy movie one worst film seen year script horrible movie little glitch big scene movie shot night vision green thinking buying movie read review give movie star minimum star', 'horrible high hope movie actually thought would least little bit decent pure garbage leave movie first minute bad avoid movie cost', 'zero star omg believe even bothered finish thing wish read review distroyed copy tape inflict damage anyone else evironmentally friendly way course original roller ball pretty bad remake worse possible fit weakness put tape machine let play kept thinking get worse repeat thank god could sue return hr veiwing time would', 'junk need say junk movie never made basically story present bunch people going around rollerblade bashing brain really looking foreword flick preview misleading looked though brilliant exciting guess really really really trust waste time unless thing better give cat bath even really believe waste time', 'hope allergic ordered based review ordered received needed love musky smell tested drop wrist say couple hour smell turned strong sex smell bad definitely sex going test work next week real test report finding work definitely going go scent drove man crazy love purchase', 'concisely written book great help u work russian guest never going fluent russian little handbook make communication possible thank', 'jut action figure build let sit floor month stepped make noise looked price item think good price something nothing make noise sits one day played education value yu gi oh fan try buying yu gi oh tin instead crap', 'good product go bad bought two two year ago actually fell love machine despite tv guide debacle blame cable company manufacturer year half first one stopped working best tell hard drive failed cost fixing make smarter buy new one trashed month later second one stopped working altogether also absolutely love machine obviously problme hard drive waiting pioneer replaces line buy better one know little choose industry type product', 'disappointed although sheet pretty warm size fit horrible fitted bottom sheet far long plus elastic around corner tight enough keep sheet mattress tends come night flat sheet barely wide enough would buy', 'large run large fit correctly however price still think great bargain heavy duty probably last many year also warm almost warm southen california people cold climate would love anyhow would giving five star except mismatched fit tucked really good stay bed fine', 'dont get dont get graphic suck u get mega man u wait get progress pet double soul pet', 'good toy toy well made designed kid mind shake forever even anything thought broken first found shake min nothing happen normal like megaman get gba game instead pet toy', 'jbl mrx jbl several price point professional sound reinforcement product jrx least expensive mrx second least expensive mrx series offer higher quality durability reasonable price normally amazon offered new opened package able purchase much le extremely lightweight amount power handle power handling watt depending program nominal wattage watt ohm excellent live monitoring main smaller venue speakon connector non protruding handle great product', 'good downhill believe rate higher star fooled good hill well built propel trike advertized save money buy', 'pratchetts best since literature student read everything get person recognized pratchetts work left classic german literature aside started reading reading reading book small god beaten everything read even time favorite faust know goethe one witty intelligent deaply questioning remained nodding time yes always believed religion', 'pratchett review haiku trying distill review seventeen syllable attempt tortoise fall fromthe sky brutha must showthe heretic truth', 'people like garbage okay read book fantasy lit class taking teacher fellow classmate seems find hilarious however left wondering understand getting religion seen done much better way much better author character boring flat humor downright stupid book clever least know thing pointing way suggests think quite witty really need think guess might appeal great mass find nothing better time go next big blockbuster movie buy latest crap novel back book say popular author like thing popular must accessible public else understand', 'boring plot liked character alot idea like plot bored reason kept reading see anymore idea love idea especially book like mort colour magic light fantastic', 'cross contamination many idea given eat inside sandwich eat top canape avoid crust give true celiac serious consequence sometimes person eat gluten obvious side effect great silent damage one intestine complication celiac disease refractory sprue collagenous sprue complication due strict enough following gluten free diet', 'accepting gluten free life read review book appreciate everyone opinion must say book helped immensely new gluten free life ill two year finding gluten one issue prior knowledge book lot allay fear read grain cannot compare two jax made laugh often even tear recommend starting', 'terrible sister recently diagnosed celiac disease strong chance may well wanted read learn told book great place start unfortunately found book poorly written bizarre suggestion write family christmas letter informing diagnosis come instance felt little top realistic everyday life since finishing book began reading elizabeth hasselbeck book g free diet found much informative much better written m hasselbeck book get right point giving information really need understand disease', 'get fact people gave shining sparkly review book focus made feel boring jax talented writer give read page perscription drug year pfizer drug gf seriously troubled many follow ups pfizer online support group indicated full erroneous information book went med immediately thinking injesting gluten suffered undue consequence going cold turkey needed taper actuality med gf always want fact boring dont rely book want comfort laugh give read sure take factual information grain salt say jax indeed lax writing book', 'thank god jax peter lowell wonderful easy book read helpful many book article subject plain technical boring read gluten free bible clear easy understand engaging really appreciate author relates issue living gluten free everyday life intelligent book fun read informative time never written book review impressed gluten free bible want share thought everyone intend rush buy book insightful witty writer enjoy health', 'useful waste money software cocur current usmle pattern waste money question present trial cd misleading reflect pattern question inside waste money', 'devoid depth even much substance type person could possibly recommend book someone experience child want forest level view one source nothing book parent thick childrearing although completely date respect political correctness product availability series gesell institute one year old two year old etc etc provides immensely better insight going child particular age stage raising spirited child much better place start looking advice getting along difficult child even average difficulty child saddened bit annoyed purchased book basis organization recommendation american academy child adolescent psychiatry would put imprimatur book containing little insight', 'try something else picked book b n read two jane austin novel thought would light read wrong beggining end purpose story middle could much much shorter ending made little longer liked character mr bounderby well developed would even say developed one sissy influence youngest gradgrind know mr bounderbys inner turmoil till ran father every character something missing happened mr bounderby found sissy special really family long book nothing much happened last quarter finally ended felt cheated lacked complete story line full character story line could forgiven satisfied character', 'mr dickens slam industrial horror scene charles dickens custom slam called civilized th century british industrial scene smoky place called coketown writes sharp knife poverty hunger cruel management lack compassion humor grim side', 'le one star like book several reason hero ben seemed weak especially allowed mother slap come like year old unbelievable heroine way dependent upon daddy type backbone biggest ben knew truth yet create angst part yuck', 'parent waste money buy gba game purchased red blue pet son love show toy work properly son carry around prop difficult child understand child want pet gba game red sun blue moon build pet work kid battle', 'rivetting sci fi paradise regular nail biter strong plotlines excellent cast give relaible performance killer location sci fi horror flick twist knew tim hutton sci fi fan nice uncomplicated performance', 'must familiar burzum name hvis lyset tar os largely widely accepted crowning achievement utilizing stunning mixture layered guitar melody gloomy synths thunderous percussion varg work way three hypnotic metal song ambitious ambient outro tomhet rather sit rattle magic contained within record would rather claim must black metal fan rank among highest calibur metal release period', 'super reader excellent book kim newman put spin turn around wold newton style universe also bunch sneaky style cameo la john myers myers silverlock dracula found another way charge england marrying royal family prevent problem great detective thrown prison camp serial killed called silver knife killing vampire whore fall diogenes club investigate vampire heal normal wound silver investigation uncovers lot chain killing', 'politics rather disappointing read since book fails adequately deal politics period house argument oppositional painting necessarily political flawed little evidence offered support argument argument go something like many impressionist work also manet explicitly reject preordained hierachies value term legibility subject matter technique thus subversive disruptive oppositional result political expected book address explicit detailed concrete manner relationship art produced time politics however many description work enlightening chapter viewer modern life well worth read', 'must handgunners old new great reference anyone considering using handgun self defense even experienced people book like refresher reference perfect short book comphrensive manages impart lot knowledge nonetheless anyone think know lot gun study expert see alsothe seven myth gun control reclaiming truth gun crime second amendment', 'lousy camera first time post review compelled bought camera use christmas holiday tried use first time take picture christmas tree saw complete darkness realized needed light turned light house still darkness plan use camera indoor please forget way great outdoor neither took many picture automatic exposure setting cannot handle anything bright background bright tried use ski slope think cold temperature camera reset often make matter worse picture turned literally twisted belive hp camera many flaw disappointing please buy one', 'piece junk camera usable outside broad daylight trying anything inside home place business nothing black screen returning product probably try lifeview camera flash see camera aperture allows light room pretty well lit viewfinder dark night never released product flaw way laptop usb camera offer incredibly bright picture low light condition', 'video impressed take still movie clip great small great pocket p c add', 'motown heaven soundtrack boomer cd album wonerful collection best motown holland dozier holland tagline title record meant high quality r b almost always resulted mega hit collection begin earliest hit eddie holland singing jamie proceeds major early hit miracle supremes martha vandellas mary well marvalettes top isley brother cd replaces old collection rpm recording allowed enjoy motown sound without haaving huge number cd collect one downside wonderful collection rd cd contains mostly le well known tune exceeption two diana ross supremes cut world empty without forever came today collection terrific value brings back fond memory soundtrack', 'great true crime read really give author credit far able objective writing cousin killer police detective forced confession innocent brother book present fact case leaving u conclusion ironic case cousin going old chain rock bridge read anti racism poem written one victim brutally murdered gang minority probably referring fast good read', 'tatic central audio playback extension terrible constant static used multiple source playback device speaker headphone result static replaced higher quality cable problem solved worth hassle trying get replacement cable cost shipped begin', 'expected something better edit updated review response comment change product description purchased cable product photo showed gold plated connector existing review jose lima larkenfield mentioned separately insulated wire gold plated connector originally thought going get cable received nickel plated connector separately insulated wire worked sound started cutting le month long since thrown cable away given least one reviewer product joseph z singer get expected based product description think safe say product photo description product recent review unreliable buy another shipper', 'somewhat worked day starting fail update workaround described work day outside return window track play left headset channel come tried set ear bud one set ear headset issue plug headset source pc channel play ear would recommend purchasing item box plug ear bud iphone extension fully connected female end get sound right ear bud verified condition pair jvc ear bud well found insert male end headphone extender first click fully inserted sound come ear bud tension connected fashion work could better others may better luck headphone', 'freud crazy studied philosophy good degree therefore read freud work philosophy psychology making entertaining remark freud long discounted anything valid understandably', 'life dream wake book watershed human intellectual history freud undermines picture mankind primarily reason present idea creature wish inner unconscious life dream nothing freud eye rare religious gift rather key mental life freud book present vast world example interpretation psychologist consider competent really judge much freud present valid even capable scientific testing know work one like great literary masterpiece inspired countless interpretation reinterpretation understanding human intellectual history impossible without knowing work', 'arriived ordered arrived quickly used described update whenever read', 'barely unbeatable theory freud interpretation dream unique book treatise human dream truly product brilliant mind neither process creation result finding brought true wonder book great achievement freud theory immunity criticism word virtually impossible criticize result proposition inserted book main tenet dream fulfillment desire cannot attacked intelligible way one say instance unpleasant dream bloody nightmare clearly fulfillment desire freud would promptly mention masochism self punishment one finally brings forth dream surely desire fulfilled might nonetheless say least desire accomplished viz desire destroy freud dream theory', 'grandpa die tell kid grandma brother weird grandfather five year old granddaughter bought granddaughter dollhouse full set house furniture wtf thinking simpleton rule fricking world grandma grandpa brother sister idiot said granddaughter love entire set full wonderful yes came grandpa sister would buy set throw older brother away give rest maybe idiot soulless vampire', 'amazon com sent wrong size amazon com sent wrong size engine oil cooler ordered rather sending back made due work like wanted cooler wider originally ordered', 'one best marco polo josef strauss series one best marco polo josef strauss edition mika eichenholf allows quick polka gallop fleetly march plenty swagger polka mazur poise lilt joy waltz make welcome rather dread many repeat josef strauss often succeeded creating dance minor key none last composition hesperus bahnen waltz published op forty three year old composer death', 'janet best female singer watched velvet rope tour hbo bomb greatest tour ever seen everything choreographed pefectly music slammin janet really communicated fan sang get lonely nasty sent crazy love janet', 'another great addition buddy holl e story totally control buddy holly fan like book must library add great deal information buddy performance england well written researched great bibliographic information', 'captivating simply unable put book unlike reviewer way boston business whilst reading glued seat book first time say pleased flight delay managed finish reading book route avid reader say without reservation rapid descent easily good book written better known author crichton grisham cook etc name favorite well done dr jack next one', 'sure little annoying yes reading every review know sheri wee bit annoying participant interesting sort people yes put husband coma like trance everytime watched everything dvd valuable learned everything needed know dvd without taking time work go class since always available touch button able review important thing acually labor kill time waiting contraction min apart went hospital popped dvd trust husband longer trance taking note first child thanks sheri labor hour pushed min good one think sheri say waiting till dialated cm get epideral really key', 'great information husband got free class hospital nurse give able watch thing missed ton useful information much take love becasue forget something watch section helped u become familar term nurse use great information question asking go dr apts', 'good overview informative really enjoyed dvd provided good content nice pace highly recommend dvd', 'superb month pregnant desperate take child birth class order help normal delivery searched net best detailed class voila came accross product one search never second thought ordering product regularly viewed applied technique taught dvd really work easy labor plus normal delivery superb recommend dvd wanted modern comprehensive child birth class margery bermejo davao city philippine', 'chilbirth education video great video former labor delivery nurse video purchased daughter expecting first child summer video extrememly ionformative great fun watch helped daughter prepare first labor delivery experience also helped review update current l practice thanks wonderful product', 'th e annoying woman earth sure woman lot valuable info impart could barely watch dvd sheri bayles sooo annoying unfunny fast forwarded whole thing trying cling piece important information even people taking class seem embarassed avoid dvd unless think look past nurse think stand comedian wish another suggest', 'go tape simply fun informative even pregnant expecting conceive anytime soon watch woman lady corky yet serious enough practically writing note like college would recommend video anyone interested really learning childbirth explains everything body functioning stretching liquid look sign chart baby actually sitting exactly growing even quiz husband much learn open bag kettle corn grab pillow though like four five hour long phew probably best watch one sitting anyway lot information grasp enjoy', 'loved video bought dvd watched time husband son born laughed sheri mannerism really loved learned felt prepared even though able attend birthing class', 'recommend going med free birth reason wanted mom sister figured could well body meant right well dvd great saved paying lamaze class felt stuff touched lamaze section perfect doula midwife husband awesome nurse dvd enjoyed able watch comfort home go back certain part rewatch bit outdated cheesy overall honest good worked anything worht reference birthing class giving star instead b c really look updating soon', 'finish watching thank goodness borrowed public library waste money husband attend live class wanted refresher big event information consistent learned professional presenter terribly annoying although wanted information joke unbearable stop watching deal presenter sense humor benefit information good luck', 'informative laugh learn childbirthexcellent information humorous time', 'poignant intelligent give one listen ron playful probing musicality emerges album hold barred clairvoyance came expect wrote performed two film score find certifiable bonafide talent one life genuine little treasure secreted away mountain montana way selfishly sorry hear album realizing widespread success kind hoping keep', 'exquisitely fresh jazzy melodius crisp classy mysterious jazz roll imaginary world native american dance smokey nashville nightclub cruise whale hint paul consort crisp haunting classical foundation journey th century back lonely montana night ron stroll star gazing abandon', 'least free guess best part getting totally free wonder free though', 'yardbird informative fun listen someone generation heard bit piece yardbird story never complete picture', 'one favorite two favorite actor mark harmon lovely madeline stowe caught cable back early big crush madeline stowe since seeing revenge decided check disappointed definitely general classic love film le capable le likeable actor film would one rare case actor elevate material one rainy day got nothing else movie definitely worth look amazon price definitely right give shot think disappointed', 'nice french farce similar un elephant showed film french class hit actor jean de florette year later thoroughly enjoyable', 'daniel auteuil fabulous fan daniel auteuil time look forward new movie one funny entertaining', 'book aweful read book year ago still make highly agitated every time think feel bad main character book redemption end worst ending ever still piss spent time reading really much story lot detail weird issue many tangent protagonist character sort common sense aside read sensitive rape back cover disclaimer somewhere recommended', 'captivating engrossing first picked book year ago initially put thickness started reading totally hooked strong self assured intellegent female character truely refreshing given book sister several friend whenever get discussion good book one book bring strongly encourage every know read today come shop book might send pen pal west africa want send book assist speaking better english first book thouht send well dictionary thanks jean auel writing great novel', 'absolutely breathtaking first read clan cave bear prompted mom thought another one lousy story read first page enthralled simply could take eye page year old living kars ontario reccommend book everyone nobody writes like jean ever book made laugh well cry read book eagerly awaiting th book love book would give star possible anyone dare insult work presence', 'one best series ever dad first gave book read orignal cover sort deteriorating feeling woudln really like definitely happened ayla inspirational character hard put book start unfortunetaly vacation started stop reading would read day quickly bought book series read one better next although clan cave bear ultimatly best one recommend series someone age would hard follow younger part inappropriate especially following book one favorite book warned start hard stop', 'giant mat blue portion mat different blue looked like navy blue found disappointing like pair bootleg mat', 'exactly ordered product arrived time great condition usual amazon provided vehicle acquire product wanted', 'touching beautiful film excellent acting story transport world experience full gamut emotion real people real issue another example life stranger fiction portrayed film hope part ii', 'one best foreign language film film coming north european country neither unhealthy perverse suzanne bier wonderful director proved two favorite film thing lost fire brother', 'wonderfully emotional great story line pacing plot well thought sometimes rather predictable actor really brought sense honesty', 'remix different album original vinyl earlier cd release always sucker remaster decided heck chose poorly remixes sound right know version original intent hope', 'remix music company want remix old album put second disc like pearl jam recent release replace original album mix like mushroom new remix good original version song wish would remaster original mix issue', 'art passion science series short vignette fencing none detailed enough impart real knowledge definite lack technical instruction fencing sure video would useful certainly beginner trying learn technical aspect sport', 'illustration kindle version illustration formatting make hard read enjoy verse limerick appear without logical line shift illustration supposed say illustration lot annoying anything free hard read kind take fun least', 'drawing love love loved edward lear unfortunately free copy marvelous drawing would better get another edition wonderful book one illustrated', 'hard rock cut crap motorhead rock n roll loud dirty agressive also singalong album far favourite motorhead album actually one still survives collection nowadays many eternal hard rock classic must listened every metal hard rock stoner fan xxi century check overkill stay clean class sister metropolis', 'thuvia maid mar typical erb mar series find light reading much depth thought provoking nice escape everyday', 'old school bore metal album offer nothing new exciting genre metal reminiscent mediocre late trash metal song sounding mid paced tempo simplistic solo abound moronic wayyyyy date pretend satanic lyric cartoony cover art dumb dumb dumb want real thrash metal aside big four try coroner arch enemy arsis crown haunted hypocrisy ton others poop album mile', 'work microsoft e mail client security minded choose use e mail client like thunderbird bundled opera e mail client program protect fact ca anti virus work m outlook outlook express revealed documentation found hard way manual scan found virus opera mail folder clean quarantine ca tech confirmed av program work m e mail client false advertising', 'new beginning first true recording project although thier second full album give album four star though love album band five star would mean album stand next physical graffitti white album select record album must fan enjoy splinter discipline sabbath hendrix zeppelin started album worth money many great song performance criticism one would production leaf room improvement beyond hope band continue build upon awesome release year come purchas enjoy', 'order ritz camera wrong item order item expect get see ordered super high speed card rpsdh gu got low quality high speed card rpsdk gu seems kind scam ritz running amazon blessing buyer beware happened order one amazon partner amazon nothing help', 'ad book nothing page ad stauber school store cakeeater mn advise book', 'jesse stuart harvest opinion jesse stuart harvest collection story jesse stuart story bring personality talking old west book also introduction narrates life author jesse stuart think book really good take trip time world adventure favorite story snake teeth lot cliffhanger adventure would recommend book yr adult normally year age understand dialect book', 'flyboys another example hollywood going wrong history implicated event portrayed movie tough get right nevertheless film maker got detail correct added improbable special effect far many triplanes annoying social lesson stereotype host ridiculous story twist time wasting baggage conceptually movie winner execution disappointment ruined potentially good story instead buying movie would suggest blue max aerial scene far better propose would viewer read history book parting comment however always liked jean reno good part film', 'world war aviation visited enjoyed watching flyboys several time special effect outstanding lifelike one feature really enjoyed watching bonus feature end noticed one people interviewed colorado result went museum checked version plane represented movie find investment time money feature well worth', 'fly boy watched movie purchased christmas present heard movie american family radio gave wonderfuly review brother ex military love type movie since afr gave wonderful review thought would something would enjoy', 'sappy stupid bad movie bad music bad acting bad special effect slow predictable plot line glad borrowed buy one', 'cd rulez think one best cd ever really like song gravity next time best song cd everone get cd must', 'souless pop sick week ago brother bought cd one spin hooked pleasent surprise expecting heartless trash lou pearlman sound remember town cd definatly nothing like main singer guthrie wrote song along fact group choreographed dancing anybody else sick rating scale ohh kinda crazy one better great harmony need anyone feelin faded everyones fav wassup sarah let right mind stay baby come back gravity next time memory michael cuccione gether', 'thank god thank god writer book book explains new insight jesus parable taking consideration lord geographical location culture took read book type book may want meditate reading something read let bygone bygons book particularly focus action jesus follower address issue like greed society often ignore like stress jesus pointed everything plainly u book reminds u go back look deeper within question god really motivates u everything love book give friend know please pray share others well also put jesus word action thank god', 'getting tired cliche another one movie bunch young kid travelling somewhere get cut piece psycho want organ neither scary educational tommy taking anatomy believe movie help pas class many scene dark tell happened hear someone scream light streakes across screen next thing know someone dropped okay see free worth pay ticket', 'hameful ripoff even hour plus build charactor developement guess talky anti american horror movie latest trend watching talky trailer computer got sleepy', 'great movie horrible dvd buena vista company release disney film dvd chose release anamorphic dvd first came dvd none film anamorphically enhanced mean widescreen television black bar four side picture also disc absolutely barebones featuring dolby soundtrack widescreen presentation extra know guy mighty duck fan disappointed dvd release film', 'stuped get tell stuped get movie stuped get one stupedest movie ever seen trust seen alot movie whole movie dumb exspecailly actor recamend see movie actshoally recamend beg see movie incest recamend borrow friend rent cheapest place wasting money buying wast money', 'mighty duck rulz fun movie child son watched many time year old convinced significant impact learning love game hockey know sound corny true oldest playing hockey college younger son playing high school club good clean movie bought two copy two friend mine younger son interested game hopefully impact like go duck', 'first heard single one wish thought good tune got second verse thought eh guy cant sing later album came along vocal destroy track literally comparing artist mario realize sing full stop disappointing', 'raydiation thank god stopped rapping album suck glad free reppin cali oh hell crazy thing tried working new producer like r kelly timberland wrong three tight song number produced rodney jerkin sister though album prof ray j got maybe could stuck using rodney jerkin beat supposed make tight supposed make beat', 'well done ray j good come back aint game album album good wit song like wait minute go wet formal invite etc however album even better tell grown album think making name music business wont known brandy kid brother fav track album exotic love song bit cant get enough tha mood anytime one wish need crunk track keep sweatin however dodgy track like quit actin excited saw r kelly bt sadly disappointed heard war liked last duet another day paradise bt hearing song stopped however overall good album well done ray j', 'stew well say honesty true magnum fan past followed way see perform live best personal opinion time vigilante certainly one magnum finest example good solid heavy rock one given cd need lot love one finest along vigilante coarse also track like lonely night midnight personally magnum cd genre music culture simply could nt without like bit live concert magnum recomend get hand magnum live cd', 'waste money love historical novel thought book added bonus naughtiness got book story read gave written horney year old single purchase rethinking loyalty amazon', 'brilliant reinvention bayard startlingly fine writer made number smart decision novel sequel christmas carol reader assume great thriller make right use source material slyly dropping detail delight know dickens way detract reading tightly contructed historical thriller remarkable definitely writer watch', 'contrived spoiler alert book continuation story tiny tim adult part see tim really opposed tim parent wanted far best part book mystery though silly way someone england time confronted child rapist murdered spot tim went completely author developed tim true nature action one throughout book seemed obviously placed order drive plot forward exasperating annoying', 'bad boring concept good certainly worked bayard poe novel half dozen chapter still care le tim prose tended towards pedantic supporting character flat', 'carnivale wow whole show entertaining felt like heaven dancing beat along ricky dancer band whole concert great really entertaining felt much like carnivale', 'great book chopped like onion wimpy minute much left unless read book lot happening probably make sense avoid movie definitely read book favorite author douglas kennedy', 'dissapointing thin air climb nearly obsessed thin air climb eagerly awaited latest book lene also lived speak danish added bonus however found lene chronicle pretty weak little background insight writing book written like journal without analysis billed gaining insight state mind lene interesting better writing deeper analysis tragedy stick book', 'bother book total waste time read wait read saw amazon com lucky happen see library hurried home read gammelgaard make sick think think scott fischer needed team order expedition make unreal never league true mountaineer like fischer rob hall save money one read almost everything mount everest tragedy far worst never compare thin air climb also style writing never seen jump one thing another guarantee always strong great', 'book climbing mt everest proud first danish woman sentence whole content book dramatic climbing season tallest mountain planet nothing mere background great self esteem drama gammelgaard going thru sharing u lot detail krakauer boukreev run circle around lady definitely recommended', 'best show around even like programme could worth buying simply watch george eads whole way hot combination good cast interesting often creepy storyline keep watching show every week could watch episode go buy get hooked', 'cj robust taste good topping macaroni good addition quick nutritional meal resemble cheddar cheese flavor without salty taste', 'great game rookie champ bored kid game fun exciting easy learn play got christmas last year still love play trust short attention span complex mind found game great pro cool monster raise tournament win many secret breed unlock many task accomplish lot monster pick challenging pro gamers enjoyable untalented gamers rule confusing good graphicscons people talk lot monster year life spansthis game varied variety people enjoy first ahhh uhhh okay understand becomes great fun game fifth grade friend shared much laughter good memory good game anyone try', 'biggest cult someone biggest cult christianity make usual error alternative spiritual path know nothing pure ignorance bigotry evangelical christianity done far damage new age ever could sowing seed discord division fear based dogma keep blinded light others book say god love therefore love god god love new age really simple many christian miss boat stuck fear perfect love cast fear right jesus say love god love neighbor many christian stay stuck fear feel must attack spirituality others offer spirituality love choose respect right others follow spiritual path choice', 'pro huh detail explaining conceptstoo numerical examplescontent far simple desktop ref dealing rm poor editing formatting similar earlier edition', 'good great first heard album loved listening closely still like lot quite blown away first came might groundbreaking much happened since world technical avant garde metal much album sound little tame material aged well couple truly great song middle others definitely good mind blowing material older album still new vocalist album added new dimension band great improvement snake opinion want truly great album though get next phobos', 'gave try sorry gave album spin still think one good thing say except maybe probably weirdest thing ever hear say original case necessairly good thing familiar band probably best album start', 'work window xp beware game work window xp vendor said would work xp version except medium center xp pro crash despite changing compatibility setting older version changing video resolution suspect like another game purchased worked fine xp first came window auto update changed something destroyed compatibility old win game like running year old laptop win cpu intensive run properly old thing game seems ok right pc operating system though', 'love cat get book awhile thiong dont care colored chart cant lot people cant especially older get ginger tabby named sassy look like cat cover draped sofa piece forever remind longer drape couch wont disappointed get colored chart fact gave star colored chart', 'terrible unable use television advertisement advise needed special television play game', 'hope may wrong concept wonder person seriously ill write powerful book like orwell hope imagined world situation interesting', 'timeless classic unforgettable must read timeless classic term orwellian big brother derived terrifying look apossible future government big brother holdstotal control populace orwell vision thefuture still hold true day must readfor anyone concerned future technology andgovernmental control han chen', 'orwell futuristic pleasure read detailed symbolism antique paper weight crashing onto floor policeman bombarded arrest winston julia paper weight symbolizes end winston julia private secure existence allow safe found refuge small apartment could without big brother watching every move ironic government still able scrutinize every moment life enjoyed reading novel recommend anyone enjoys orwell', 'boring book part book catch attention get boring really like futuristic based book book perfect example recommend book one unless type genre give book', 'helpful history book research paper year according teacher none actually happened got flippin f last time ever read history book orwell scrub know thing mention def leppard karma chameleon gave copy donkey said communism as', 'teacher upset learn longer required reading advanced english high school ordered son one considered well read without one history', 'read owe read first time wow eye opener thing orwell predicted technology amazing considering long ago written politics messed current standard frighteningly possible tense mood book draw moment especially near end would truly terrifying experience chapter room read shudder reason give star bog time understand explain world horrific existence came slow start book rather annoying', 'scary george orwell prophetic word coming pas right eye see got tv started paying attention politician law passing hope revolution sort grim forecast played end', 'disturbing relevant surprised noam chomsky mentioned previous review nineteen eighty four supreme work art politically relevant phenomenon identified orwell doublethink newspeak etc various form actively used today even freest society chomsky give detailed description repeatedly found say audience mostly poor le educated skip lot background already obvious taken granted everyone curious', 'greatest work th century one say book said one powerful work one ever read forever fresh remains relevant matter era read', 'orwel roll grave book incredible wrote book like believe he writing future right amazing job writing government control people government us propaganda government watch people listens people book good care world book good aware propaganda people fooled book good someone want controlled fooled kindof like way today sadly', 'thoughtful read though novel drag read tract conspiracy manual found novel rather enjoyable idea world would shaped reason interesting narrator able lead reader world allow reader engulfed thing end well done good closure work character die changed indeed awakens thye doctrine state accepts yeah tortured brainwashed give torture though seed definitely laid time like depressing book totalitarian state try stamp individual thought reason go ahead pick book want something lighter though would try find something else', 'title revised say advancement homeland security united state beginning see onset true big brother number agency fbi cia in alphabet soup organization cross matching database gathering information local municipality system better anything hide september th accelerated path already hope sanity also metered process future author investor broker past year one glaring point book statistical data constantly modified rewritten serve benefit moment hope mistake misquote misinformed change never occur draconian fashion great book everyone copy shelf', 'george good idea book really stunk first like book started suck right around time winston getting sexually involved girl friend hated book much forgot name first hundred page liked got really boring ii highly reccomend read book please love god read brave new world book hoxley twice worse put bluntly read george orwell waisting time', 'two plus two make four george orwell imagined future dull state every single thought emotion action would monitored government tell story winston living socialist country feeling depressed deciding rebel orwell able convey helplessness winston well routine use short snappy sentence however plot thickens orwell extends sentence conveying winton hope rebellion truly captivating rather depressing read saw everything mind grey broken put book', 'interesting read first book book wanted read assigned english project u independent study unit like every kid high school started dread started read though story started get better better point wanted continue reading put story well written give good idea dystopian world could potentially look like although beginning start slow good read read book enjoyed also take look brave new world aldous huxley quite similar', 'let pat back happen ruined forced read school looking back truly great book like many enduring work science fiction lasting popularity rest powerful archetpyes metaphor tapps big brother two minute hate room scary seems coming true big brother much government corporation try getting away viewscreen nowadays also watch tv tv also watch u advertiser internet mtv control u thoroughly government could ever hope espire instead telling u war east asia always war east asia tell u value music listen movie watch etc listen britney spear always listened britney spear orwell would', 'boring depressingly morbid time ok maybe mr orwell intended way still hide fact book move incredibly slow compared author work read book remember thoroughly enjoying understanding animal farm year ago work recommended several friend want unrealistic view future totally morbid depressing check yes science fiction people call classic mean like want best genre recommend dune frank herbert space odyssey arthur c clarke enders game orson scott card', 'thought dull cheesy book every time picked fell asleep read school took forever get ordered barely finished time', 'masterpiece read book first time high school found mildly interesting read recently realized incredible piece genius really thing realized book make perfect sense satire christianity big brother thought crime room fit perfectly course whether orwell intent know though atheist think book masterpiece analyzed way paul gehrman author kaleidoscope', 'true today wrote novel make sense vision future could never happen would ask look nazi germany soviet union historical perspective billion people china speak mind without fear arrested government control many child thank god live country free read novel theme true today orwell wrote government desire control people think see clinton man inhumanity man see serb kosovo child please read newspaper', 'thought book great thought book good read gave idea world really could wanted enjoyed reading kept suspence', 'already like others wondering final season one durable laugh loud sit coms timewill ever released bought season song border went business expecting series loved time dated badly great cast fine funny writer performed believe live audiencei quickly caught like rest feeling pre ordereda box set inexplicably never released already ever', 'might well fan hand save battery always rely amazon customer review first time completely disappointed hold fan inch face felt circulating air fan high due size shape fan blade air come center fan little breeze come small stream side fan comment light since interested option got sending right back', 'could give negative rating would guess unlucky installed battery light would shut figured would break light since needed fan well could fan went', 'like silky velvet dream moment put cd heard light lulling strum dreamy guitar fluttering like soft breeze carried whispered caress sun kissed gregorian chant followed ocean spray middle eastern voice sweetly singing amidst gorgeous string hypnotic beat knew going one journey willing take many year come impression got first track alone imagine ensued get better every song aptly titled create spellbinding mood find exotically soothing debut album black ether astonishingly overlooked group extremely hard classify diversified use instrument style say enjoy lush chillout music ethnic world flavor definitely cup tea', 'remember cd remember liberace great performer showman cd little solo piano music little grand piano type music get overshadowed background music disapointed', 'need proof read work book could useful example actually worked barely reached th page ready found error allowed entire book example mi quoted several work book might helpful proof reader knew enough subject correct obvious error buy book ready experiment syntax may close always correct', 'recomended buy warmer hi bought warmer vacation trip really dissapointed wasnt even minute first time started get fire melted plastic place smoke like crazy around car unsafe buy product spend money dont put baby danger plugged car cu warmer might get fire mine hope review help wont ever buy product ever', 'waste money bought first long trip baby waste money time baby pumped milk grab hot water drive thru would taken hour milk get warm enough patient neither baby matter', 'west west yall album good meant west coast gangsta music lowridin smokin chronic kickin gangbangin golden state accustomed south music probably like west coast funk different flavor cali love stuff rare someone capture essence west agree best album still worth buying got enough head banger get club cali ya star', 'erotic romantic one anne best exit eden one anne best work opinion many people turned film adaptation hollywood decided one would want see bondage film beyond eg book focus relationship master slave happens table turned anne many side lestat one true rice fan adore beautiful work fiction', 'wonderful story coupled steamy erotic scene book hard put story excellent erotic scene good like anne book one tastefully done well worth', 'stick sleeping beauty perhaps time book cutting edge u within lifestyle tame contrived unsatisfying degree ironic film adaptation watered even turned one worst movie likely see ann rice deserve treatment book capture true essence bdsm fanatsy much engrossing interestingly enough m rice written well writing n roquelaure see trilogy sleeping beauty series', 'vile beginning let start saying never put book even like one even get past first page maybe give chance foul language vile event depicted first page turned completely book glad free download kindle gave two star give chance get better deleted maybe would give another chance certainly pay', 'pirirt house boring bloody mess shame buying shame reading karen b wisconsin', 'spirit house read air conditioned space reviewer renee nyc august plot typical noir hero typical world weary disillusioned hammett orchandler atmosphere stunning whole new world fellcompletely vinnie first nightmare final dripping conclusion mr moore description thailand andthe thai people evocative real onecan feel heat humidity see swirlsand flash color almost touch wave misery radiate offthe page story bad either interested little tidbitsabout life bangkok story bad either confusing numberof character advance plot plotting could tighter would definitely recommend book sure read air conditioned space otherwise surely melt heat', 'hate book thought worst book ever read point way confusing would ramble stuff even importnat plot hated reading stay away book', 'degree really temp book burn imediatly torch book bit piece book prof one point burning book society much better farenheit published', 'good fahrenheit disappointing book reader avid science fiction lover book difficult read correctors sometimes confusing understand setting also hard visual picture although plot good way described hard understand think science fiction lover would like book sometimes like read science fiction like huge science fiction lover like also think need th grade advanced reader', 'start memorizing book give many thing five star bradbury novel simple powerful beautiful truly marvelous negative utopia along line brave new world like book either ultimately utterly hopeful bradbury love messed world message come across urgency honesty startling impressive know plot burn book scared idea montag wonder idea becomes outcast sterile society book make want change world want read maybe memorize quick read fairly easy read engrossing enough want put finish might tempted start read recommend', 'dystopian classic wow great book dystopian society censorship need state keep mass blind deaf dumb enjoyed brave new world giver must read one favorite', 'really good good book part called coca best cencorship book kind like giver lot better', 'classic perfectly honest really understand classic rated star reader yes know every reader personal taste story classic age every kid middle school read story lucky able read book matter content agenda story might contain anyone never read story pick copy start immediately best ever spend', 'like confusing disturbing stupid word use describing book fireman start fire come burning every book exists look future look bradbury twisted little mind bottom line waste time', 'book many level appears cursory reading story banned book reflection comment systematic suppression free thought free speech book give insight look way concerned right applied actually loss individual freedom thought provoking novel', 'fahrenheit read book teenager wanted student read well although loved get reaction saw video however think video cheesy', 'great book read listen always liked book read thought would get cd ray bradbury read bad painful listen voice turn read monotone voice put sleep someone need make cd', 'read mind numbing drivel book deserve one star deserves negative star worst book ever read book moved slow character stupid guy montag main character fireman set book fire becuase home fireproof meet crazy girl nmaed clairese ramble dumb stuff past important like know one time billboard foot long instead care one book deserves burnt', 'hardly even deserves star definitely one worst book ever come across modern version forword introduction nothing story ray bradbury babble past came idea book one care almost fell asleep forword dont know survived book book drag one painfully slow pace ray bradbury state introduction eye hitler burning brutally killing people level burning book think statement pretty much self explanatory view humanity great guy eh', 'captivating language needle say amazing teenager say usually mean nothing get credit personally loved book reading day ago entirely captivated plot idea censorship future precise book would censored unbelievable posse person censor book realistic amazing actually prove writer writing precise astonishing would recommend anyone need love read know read', 'ok felt author book described war little still thought interesting perspective world might become thought weird fireman looked mechanical hound great part story u guessing would attack montag felt book well worth reading', 'excellent book time actually forced read book high school english class fell love simply chilling portrayal future deliberate ambiguity clarrise cool deeper theme book make one completely rife feeling poignant book definitely must read', 'important book book important must read every person living america time history paralells drawn story novel dumbing america going today quite unnerving quite scary book required reading everyone ever turned television escape world everyone country', 'never go date foreign language bookstore yanan road hangzhou saw classic shelf would believe never read read bradbury school year ago make much impression remember knowing fault could mine gave another shot book cheap hey famous right well folk famous damn good reason many fact fifty year old perhaps relevant ever good writing entertain real character oh correct theme dressed novel oh yes absolutely fantastic plain recommend enough love sci fi great matter say transcends genre straight face yes reading one folk write sick je', 'bleak blind boring forced read school called relation censorship sp would say burn althoughthe book censorship wrong say much good theme good story trash one un realistic idea ever heard first everyone country idiot second includes hero third even mind intellegence finally way many crack foundation story two many hole story l r', 'fahrenheit burning brain read fahrenheit year seventh grade required reading read book got confused plot twisted turned left hanging wondering wait happened mr bradbury used large word learned vocab would recommend book one age maybe chose age hard concept burning book fast moving plot hound', 'sadly disappointment perhaps dated perhaps built much yet another book came highly recommended day day reader critic alike could enjoy bradbury tale world book banned powerful interesting premise seem follow shame book importance book life boring rather get something come away thinking boring least', 'f show dangerous person idea enjoyed book much give extreme look towards censorship medium influence way think individual idea thought shunned society general', 'must read especially teenager first read book adult recalled enjoying book lot first read around age recently recommended daughter age thought one best book ever read attitude towards subject potential loss freedom combined mass culture although much earth teen still pretty much respect appreciation human freedom expression bradbury clear fight freedom extreme fictional situation devised real ever true prohibited keeping book country anyway offered enough mass culture people spend hour front tv rather reading book visiting museum lot hard believe book written', 'poor reading bought book tape read author excruciating listen get known actor would better reader author', 'good fahrenheit set time reading book strictly forbidden world instead putting fire keeping people safe firefighter burn entire house containing book occasionally even people one firefighter guy montag doubt whole situation doubt strengthened meet freethinking girl name clarisse mcclellan major theme book include value intelligence human interaction would suggest everyone read book least help understand important attain knowledge break free ignorance overall liked book would give', 'explains lot thing movie book good movie book help understanding point seemed totally random saw compared mile away still really nice', 'fahrenheit book pretty good except definitely advanced confusing especially tv family understand adult book', 'fahrenheit zero fahrenheit ray bradburyi didnt really like book people rambling life suck whole world suck burn book dont know could enjoy book people talk talk book guy named montage firefighter burn thing instaed putting fire meet wierdo girl talk nonsense guy start think he start reading book get caught burn book doesnt want go jail run away', 'burn book hey reader missouri hear book make sense ever read school idesa world book horrible could stayed around year talked everyone know read first page immeadiatly hated rented movie watched read verbatum guess even worse book reccomend book well want find terrible book get want find type flammable liquid burn better book', 'dark mysterious book first read book english assignment school reading first page completely lost bradbury express world far different seem scary unrealistic easy get caught different thing happen hard get mood plot definetly greatest book world personally hated book', 'tried reading book summer reading bad sorry book make sense straight student choice pick one', 'waste time first assigned read book class started lame get worse care firefighter burn book come could write book book ten time better maybe book name talked maybe would caught attention', 'lamest book ever read book really suck make sense whatsoever waste time ray better thing', 'weird weird weird weird book started weird ended wierd boring author good idea read instead watching tv book one choice better turn tv back mean right mind would ever write book wall tv robot dog burning book story never really ending stopped guess end boredom think author get sort deal teacher assign book else would get required reading list maybe give profit sale please buy book supporting lunatic', 'real cranberry say love album simple reason first one never equaled sound elegance quality essence delicate sadness youth incomparable deserves listen good pacient taste post xx century pop music recomended', 'interesting sad well done interesting film really five story one dead girl found story effected one way another great cast honest dialogue make one well worth time film ultimately sad depressing story interesting cast featuring toni collette giovanni ribisi piper laurie many talent go wrong', 'motorola phone car charger product great work like supposed order processing shipment speedy efficient', 'worked yep motorola know make automobile power cord convenient light never miss big bright', 'well made product fair price purchased product skepticism inexpensive auto car charger constructed well seems made good material used month charge phone expected much auto adapter cost ridiculous price motorola resellers charge', 'good work best say outer insulating cover started wear many place exposing wire month phone telling using unauthorized charger good purchase trust source', 'battle weary game horrible battle long slow unexciting scenery cute alittle dark gba waste money', 'chalinging game game hard still havn beaten two mothes reconmend skilled player play delta thanks youre time patience', 'horrible game game boring follow story line read book would understand fight scene take long also boring mine moria one place go get stuck game bug control extremely weird take long time get used bought game like would suggest buying', 'oh anyone play yes good graphic yes kind zelda theme really looking game fit lord ring best get two tower used get return king best game ive played three fellowship far worst game please gameboy dont let vivendi universal maker game ever make game based film ever wasted away good part book want fight game good luck buy waste money', 'code dusty fog read book enjoyed one favorite fill story line rereading book floating outfit series process reading order instead purchase', 'intriguing beginning schmaltz go plot reviewer already given rather complete synopsis beginning book character development weak disappointing annie start strong quirky individual mid book hung jake loos charm strength character jake angst ridden enjoy secondary character problem brought book major maritial problem resolved sex sauna well female character melt pun intended guess anticipated stronger female male character one get think m well show promise next book get library', 'kept waking husband laughing hard reading kept waking tried laughing body shaking much woke wonderfully funny book hope read book robin well', 'high quality reasonable price recently purchased case tested depth foot bonaire easy open close possiblity partially closed control operated camera function leakage fogging case absolutely work advertised', 'hallmark disposable society throw away hour assume plastic folk hour obsolete throw create useless landfill trash last millenia yay hooray', 'availability rating amazon product placed order received mail available availability updated still see available disappointing', 'poor quality dvd recording movie okay video quality poor legit dvd black market watchable grainy guess get pay', 'interesting view british culture one would expect producrions beautifully presented quality acting superb england seems produce character actor great skill presence thoroughly enjoyed variety theme presented', 'colin firth need one say ah colin firth ultimate consumate actor variety role delightful diet film one day plus bonus week end one film festival', 'one watch excellent classic style movie well acted excellent star watch many time colin firth one favorite', 'sweet revenge film watched far usual british cinema quality either acting content watch end found tied bed turned', 'worth great price paying collection film could great buy traveled uk enough know british people generally quite polite polished reserved mannered exception englishman went hill came mountain redeeming film collection hugh grant portrays real british style well maker obviously visited hollywood many time drunk kool aid courseness vulgarity even offensiveness dumbed run dialogue babbling idiotic nonsense lack plausible plot usual british polish film lack class levity usual british approach obviously came hog pen u cinema trough', 'warning highly recommend set would idea reading description looking picture front movie rating pg even r mostly sex sensuality like yuck bought daughter like historical movie like pride prejudice emma etc threw set away without even opening rating back written page', 'great card better expedcted considering price card hard disappointed installed freshly built system using full version window xp write watching old episode star trek tng small screen top aol capture feature work great additional goody cable nice remote controller exceptional never use enclosed driver disk new hardware dv exception reason download newest driver initial install found reduces many hassle speaking hassle none card window xp improvement handling complex component like dv would recommend hassling maxed win system card cost prime gaming card provides dramatic capability ati really done great job card price', 'great card difficult setup review noted problem installing card even though got working successfully end although top pick graphic card enjoyed able hook vcr print digital video vhs yes possible although bit tricky setup withhold one star card lack customer support hard setup user manual would comprehensive ati website would help subject installing card whole nasty ordeal card setup almost night might spared', 'ame certain song naglfar without doubt outstanding esp th rising brimstone gate song vittra sound similar really decipher riff capturing hard find cd diabolical song mentioned already tell cd better vittra', 'louie goose good childrens book excellent reading pre school aged child text easily understood year old library story hour identify louie favorite stuffed animal red goose illustration great', 'trite story line poor recipe new guanajuato enjoyed part book discus city story line trite even contrived culinary part mystery included recipe tasty hardly gourmet mostly consisted thing made campbell soup one recall indigenous mexico least quick read', 'unusual writing technique joyce quite understandably frustrated magnum opus ulysses immediately receive critical attention felt warranted upon publication thus artist composing next work finnegan wake got habit periodically banging head typewriter key poignant expression obviously searing torment boiling within happily u result repeated cranial collision viewed content volume', 'elf indulgent tripe secondtonone myther rector maximost bridge maker first rise taller beanstale thebluegum buaboababbaun giganteous wellingtonia sequoia went nudiboots trouters liffeyette wasbarely tricklies well known claud conciliationcap onto esker hooth wrote attempted pas novel one would ever read would correctly assume fact pompous erudite fool way know million academic rating book come tell completely wrong point view guess care never actually read response save poor student old bearded friend wearing tweed jacket elbow patch rest normal people stay away book', 'fart make sense finnegans wake ye make book ala life green bay packer sandwich baby eat president lake like prose james joyce king gibberish made classic gibberish hell going finnegans wake know joyce must genious gibberish get', 'naked emperor admirer glimpse madness must great need feel smug superior intellectual painfully desperate afraid reality realm naked emperor pretend hip', 'mad vanity english novelist evelyn waugh descibed joyce came write fw judgment apt book tripe contortion joyce fan put justify always source amusement', 'challenging u doodle give book two star first last book tell u already know think gibberish ethereal state waking sleep finningan wake reminds canvas seen countless art show jumble random splattering paint one u could create thing joyce challenging u get duff splatter paint canvas think worthwhile personally could next james joyce', 'nietzsche antichrist nietzsche fed christianity fed christian people distort christianity nietzsche antichrist simply messenger greek tragedy antichrist reality ofnly one christian died cross evangel died cross called evangel moment already oposite lived antichrist five star nietzsche three lack note also many time nietzsche writes french latin note translation p older twelve', 'pocket chart birthday present granddaughter opened yet appears promised girl benefit', 'sraight raw emotion female hardcore lover point view got say hatebreed amazing far one best hardcore album heard album full raw true emotion make aware well others hatebreed go delivering simple hardcore sound truly give way make feel music ability take one emotional edge back would love thank band personally creating sharing thier sound others inspiring', 'know sepultura hardcore interesting hatebreed get much credit following step slipknot limp bizkit tour band like also interesting light fact music basically identical alterna metal band except without little talent melody band posse band much hardcore sepultura thought joke band heard f really interested hardcore put jug weight gainer turn victory sampler cd order universal order armadgeddon cd immediately stop wearing much adidas newjack', 'hatebreed god god hardcore hatebreed album satifaction death desire one time best album ever heard list lot hardcore album never come disc changer looking strong lyric strong music awsome groove friend kill buy never stop listening', 'worse quest beginning film nothing hurried attempt get van damme foreign legion real story action begin right unfortunately rest film nothing snoozefest ripoff war movie least van damme split movie might given film memorable momement', 'liked dog bought one old dog large german shorthaired pointer horrible pulling problem worked perfectly seem mind hand bought one month old coonhound also worked stop pulling hate take walk without trying get atleast time think may love sniff ground much kind make head go higher order something else stop pulling difficulty use amazing product self', 'imitation brand sent imitation holt china instead advertised halti cut dog face tried contacting response', 'good small dog like lhasa probably good product dog square jaw line owner small dog lhasa apso shitzu beware flatter facial structure collar slip hold speaking experience size issue e even small size work', 'wild thornberry movie game cool played already would like purchase coloring puzzling even adventure time ave played going dna lab gba fun game somebody let play wild thornberry movie game would like purchase say', 'disappointed sure story fine disk imperfect lost packing slip need call return', 'targate continuum story without bunchline good others stargates bought', 'targat continuam review cvf movie awsome bring back general oneill wich really happy problem movie richerd dean anderson character wasent showed enough', 'pleased loyal fan stargate franchise since first movie applaud actor writer producer director job well done still take getting used feature length movie v made television meaning used getting right learn sit back relax let actor take say satisfied purchase little bit stargate home belongs thanks darrylcincinnati oh', 'done pretty happy installment promised convention shaken hand star way go yet anxiously awaiting next one', 'great sgc back hope see mini movie though seems story like hour movie could better yet fantastic storyline exploring new way allowing u however see favorite team seens year show', 'expectation entertainament quality average series sg think film reached quality level stargate atlantis', 'video review length minsthis video review stargate continuum video review search mikepetel youtube enjoy', 'great movie butt grainy blueray like stargates one ark truth way grainy look better standard dvd another great stargate film', 'one time cooker rice cooker good one time cooking rice last hour usually leave rice day keep cooking lazy returned bought cukoo rice cooker made korea rice last day without changing color get old cukoo expensive last year', 'standout track album intro soulstar youloveme first single forthenight somewhere momentinlife thereason otherwise le stellar album', 'soulstar quite yet got feeling listening album musically lyrically majority album pas could take leave forthenight song get major play cd player even give five minute really get song sound going left field could justgivemeawholealbumicouldlistentoo', 'cd really cool give break love musiq even soulchild get wrong song hit part thing album cut man break trying look forward new album love voice music general track fav infatueightieswhoknowsforthenightyouknowyoulovememomentinlifewomanopolybuy borrow friend library cd mellow like way neo soul supposed toodles', 'jusbeautiful first really care album couple listens love neo soul stay musiq greatest favorite track womanopoly babymother know cd hot wait next one', 'ultimately ineffective kind book realize early writer talented enough pull set sad since looking forward reading based jacket copy oh well reviewer recommends others look elsewhere compelling read', 'run lola run without doubt one time best film ever seen thinking buying disapointed', 'bag like action fun stunt thrillif want see something completely uniqueif afraid timeblendsif like fabulous music hippest german people make look far streamlined usual score look veeeery old like cartoonsif like rather sit hold stop vcr go toiletif like experience sheer speedso waiting run get one funny sidenote movie rating year germany american really funny prudery seems american afraid sex german violence', 'favorite movie ever movie simply best ever seen film simply great wonderful story line great art direction wonderful camera work movie everyone', 'bit overrated actually really even movie really long music video maybe advertisement know say good movie requires thing first foremost engaging story interesting character film lack director trickster sort depends neat stylized filming technique device attempt cover fact nothing really happening plot wise sorry alternate scenario theme work end movie left wondering bothered even watch first two third maybe missed point point somebody please enlighten', 'achtung movie left edge seat short breath enough theater see big screen never used movie subtitle effect native tongue thought take another turn another another like fast paced unpredictable action soundtrack fit movie like glove one', 'good hip knee joint bichons product palatable seems work well bichon injured knee tussle younger bichon joint work well seems anymore pain recommend product', 'relly chalinging relly quick action play tag play tag youhave tag othere car wethowt tagd retern batell chalinging game fite race', 'another excuse make money sorry reading book admit feminist right men pig reason book written author make money book try justify existance saying designed help find love life internet actually help find love night actually used tip book would alot sex doubt finding soulmate would possible fact doubt anyone using tip would find ultimate mate would inspite tip entire chapter devoted sterotyping woman though author try explain woman meet type list watch glad actually pay would demanded money back', 'star album brilliant buy guarantee best album buy year', 'disappointing disappointing purchase premium hand decorated exotic wooden tea chest appears pine decorated printed paper although print nice description bit overblown tea inside okay combination flavor go well together often drowned flavor tea', 'thank goodness amazon cable missed favorite show thank goodness amazon could watch worry virus signing monthly fee thanks', 'joshua child easy reading profound story child change prejudice elder', 'nice cd mislabelled cd touch sampler yet released touch sampler released commemorate millenium nice cd track listing right product title incorrect see', 'colleen colleen et le botes musique imagine limiting instrument music box tone set specific pattern deviate colleen somehow make music box magical mixing traditional plucked sound processed synthesized counterpart manages evoke fairy tale mysticism componium part go thick sonics singular tone end even charles birthday card relies solely iteration pop go weasel gamelan creation immediately tinkling come fast furious componium part track sparkle like moondust calypso box show processed side almost senor coconut feel short running time standout piece final track read story appeared earlier album always welcome anywhere', 'mcduffie elegance artistry marvelous knew nothing robert mcduffie heard perform mendelssohn concerto wolf trap national symphony performance led seek cd mcduffie playing lovely disc live performance tone may big itzhak perlman nevertheless exquisite phrase spun silver though cliched apt true concerto playing soloist carrying conversation orchestra extension listener definitely seek mcduffie disc hope others', 'great value brute force first let help novice little bit buy video card price hype look research card excellent blazingly fast beat geforce steal br key feature radeon programmable pixel shaders let tell little geforce radeon share witht exception geforce mx newest game use programmable pixel shaders video card us play radeon beat competition half price cautious driver issue ati seems cheating driver pro blazingly fastcomes respectable companyexcellent image qualitycons driver issue', 'horror movie horrible movie movie personifies everything wrong hollywood day character superficial plot anemic special effect vastly overused liam neeson lead cast character spend day haunted house gauge fear reaction house possessed spirit builder hate kid terrible remake original classic best horror film ever made get original save buck letting one sit warehouse rot', 'absolute crap okay special effect freak might like however much better film equally good effect fan minor thing like say oh plot character development etc stay away robert wise film scariest film ever seen scare come wise show version brilliantly plotted paced one greatest ending line film history version none favor see movie better yet read shirley jackson novel reason get one star c zeta jones easy eye', 'truley horrible horror film truly horrible horror film use special special effect attempted divert attention fact movie never gained momentum character never developed interesting thing scary film someone actually tried improve upon classic horror movie frightening memory still scare year thing scare movie reoccurring memory actually paid see', 'awful funny admit year ago seen part movie remake bad corny awfully un scary even continue punish barely made half way lover thing spooky recall however three thing movie directing awful script terrible cathy jones know married old man yet really launched career gave performance particularly bile producing one worst thing movie speak haste number worst thing movie want creeped read book haunting hill house shirley jackson must see story movie form watch old black white original starring julie harris dark moody may give shiver two along tinge vertigo happy hauntingness wind', 'catherine zeta jones trap house haunted hill different haunting share failure great old story pictured every year still make good thriller movie make better poor picture good actor good story well told poor suspense old classic movie limited graphic much successful', 'great mystery great horror flick like super natural mystery like film technically horror film really frightening though scene movie made mother jump three foot result people watch horror film fright mystery however really quite good deserves watched find hidden clue answer end', 'feeble haunting went wrong big budget film great actor get visually appealing film completely flat liam neeson paper thin storyline catherine zeta jones try charm way even though okay job movie still bad lili taylor owen wilson also try add flavour cannot manage save day get movie novelty way little content seems really begin nothing really make much sense eerie mood almost totally absent good omen horror movie believe went wrong neeson usually drag movie watch house haunted hill instead stuff people haunted house see survive movie se proper haunting', 'great zzzzzz egads waste sad sad sadthe waste talent movie sad state affair catherine zeta jones much higher caliber actress along liam neeson lame attempt make movie palatable crime almost movie set haunted beginning movie much promise feel backround centralized story promise get suckered premise house offer without warning silliness begin thrown addams family reunion story line start wander character continue wander idea solution pop without warning explanation say horror movie believable almost sound absurd movie get suckered throw floor flat definite buy borrow rent wait cable', 'poor plot actor movie great bunch plot weak dont get much mean liam neeson he great actor weak movie wasnt scary end movie bad maybe one scary part fake lookin skeleton popped made jump dont recommend movie people like scary movie b c polar opposite', 'catherine zeta hipboots fan jackson novel robert wise adadptation went movie expecting underwhelming worse fact bad laughed way along two friend accompanied many digital effect house seems alive indeed computer geek set free big budget creep annoying movie house shape shift sigh moan hell even door knocker get reaction shot zeta jones leather hipboots manage act lili taylor hilariously bad eleanor got save child wha liam neeson even le interesting phantom menace possible let put way sacrificed minute time write review waste hour minute film', 'typical hollywood pulp third grade mentality third rate dialog adult egads actually bought dvd shame', 'embarassingly bad worst film time amusement came making fun acting got liam neeson zeta jones movie incredible looking forward bathroom break would miss movie total poop', 'broken fix haunting julie harris good even better black white medium enhances sense macabre general kilterness set remake wizard oz picture could made much pertier modern cinematography cheap set old theatre style acting throw damper still great universal story', 'sadly disappointing overdone remake brilliant classic sorely disappointing released original movie original title would worked special effect though good much movie bare', 'may modern day classic horror film based original haunting creepy way altogether really great film good acting scare pop out clever thing boost rating ending perfect really hold movie completely falling apart film move slow beginning start pick pace soon later intense ending film ok way ultimately becomes fail win still horrible liked house setting though cool complete storyline pretty good also want innovative horror suggest get blair witch project', 'poor make good movie originally looking forward seeing movie wish spent money story lame actor dull story changed shirley jackson wonderful book movie even deserve share title forget buying botched movie purchase older haunting wonder bothered make make proving newer necessarily mean better', 'lot better factory seat seat cinch install took minute top lot comfortable factory seat bike came', 'great story bought book alamut high school lost year ago happy download read kindle', 'please parent kid almost year old son know nearly every word album heart month old perk ralph parent hum tune enjoy smart lyric even though hear music daily music rich go stale manages bridge generation gap', 'small newborn ordered bag without knowledge big wanted use wkend trip taking shocked small bag month old baby girl way small carry thing able fit diaper wipe small item even able fit change clothes tried putting change clothes back pocket made way bulky bag adorable way small newborn recommend bag mother newborn baby', 'book review book packaged properly easy tamper great come cd', 'great buy book great anyone trouble taking asvab first time daughter score improved tremendously', 'helped bit studied asvab day taking test book helped get idea difficulty expect test practice test book actually harder actual asvab helped study harder version passed score', 'surprising find composer song almost born second half th century attempt create american music native american source rhythm tonality get sense hearing original music song got first time heard erik satie song tend melodic peaceful fresh expect much way tom tom movie indian harmony love find song go unexpected place found much sophisticated review search american indianists fred flaxman', 'st nd loved movie jean de florette sequel manon spring would rate first pair edge second masterfully done really watch one inseparable pair first movie forming background second second providing resolution first without giving much story movie tell story greed accidental murder resolution like greek tragedy critically tenderly revealing mysterious nature human heart two best set movie ever lifetime criticism nd movie weak portrayal young woman came either poor direction perhaps poor casting decision overall flaw overlooked two movie stand classic many year come', 'make sure see jean de florette first second part two part series pick jean de florette leaf see jean de florette missing much background movie context important example without viewing first movie viewer know manons background happened father farm viewer also know full relationship soubeyran clan quality dvd picture avarage picture fairly clean clear', 'work minolta dimage digital cam bought simpletech compactfalsh card mb use digital camera minolta dimage work card work fine pc compatibility problem digital cam guess simpletech must aware problem since tech support e mailed would post patch website soon would find one course clue compatibility issue buying card hope might help potential buyer', 'die buy simple everything ever owned simpletech died including drive usb stick sd card cf card one product lasted year caused lot headache', 'favorite book time still remember force first two three paragraph hit reading bookstore albuquerque inventive humane human magical', 'simply superb read book spanish english believe simply best novel written th century else book burn fire imagination dream like one touch soul something magical creating world buendias inside someone said finishing book like waking dream agree', 'book changed life reading book never realized book could piece art easily painting book akin beauty bound page utterly amazing personally understand people say difficult understand even difficult get put simple spoke rule follow reading pay attention savor open mind', 'macondo la capital del mundo gracias este libro recien llegamos descubrir que toda la humanidad habito en algun momento en macondo olvidensen de la grandes civilizaciones del pasado este pueblo perdido lo abarca todo amor odio guerras los buendia son como cualquier ser humano de este planeta esta novela son de la que se leen de un tiron importa que afuera pase un viento huracanado como el que destruye al pueblo al final al cerrar la ultima pagina todos llevamos algo de macondo dentro de nosotros', 'boring continue made page book boring lot sound fury signifying little marriage death love affair suicide battle lot happen care character care character quirky fault seem abstract dull like dusty butterfly catalog various life chronicled dry description adventure left maybe dryness pass sophistication book left cold', 'columbian family value marquez book take reader life time hope atypical columbian family covering roughly fun part oddly repetitive style seemed half magic realism half freud course standard enervating anti american diatribe thrown guess latin american author even magic realism mode overcome predilictions', 'page boredom first paragraph book one greatest literary history enough compel reader read next one hundred page unfortunately book becomes one overrated history many praise given say book difficult confusing yet come conclusion great book say difficult confusing book good parable many character magic realism genre deserves ignored though another discussion give marquez credit magical realism response limit placed upon government lived nevertheless poor literary form imitated purely awful intertwining life move story make reader wonder big fuss marquez book miguel litton news kidnapping much better book', 'book book changed changed way look thing way observe event life wasnt easy read beginning book helped get rid depression writing character name brief thm help alot', 'must read book first encounter magical realism style love buendia family quite possibly intriguing encountered book must read', 'emporer new clothes one obsessive force finish book start plugged away hoping experience enlightenment reviewer seem found get maybe lost something translation prefer little dialog fiction even heavy pretentious intellectual politically correct fiction mind magic realism get bored sentence run two plus page without period oh well chalk dissent libertarian crumudgeon redneck educated beyond intelligence underwhelmed', 'u never read anything like read one hudred year solitude like time year still hold magic atmosphyre unbelievable classic feel weary long moment also distracting moment originality magical venture arise fill soul must', 'one best ever read book time read time never get tired great piece literture book unforgetable scene one cannot differenciate dream reality exists story take mind let go till set aside book even captivated imagineray gone masterpiece', 'haunting incredible experience approached novel reluctance friend recommended said best read original spanish understand spanish decided try english translation overwhelmed day trance could want pull away macondo buendia family word hypnotized scene evoked haunted day filled dream night gabriel garcia marquez created masterpiece language', 'lesson depravity man opened book thought wow seems like great story found growing depressed disgusted every page although style marquez technique unquestionably wonderful overlaying theme lust lack self control immorality outweighed good goal nearly character life please character least bit caring self sacrificing way could reconcile reading disapointing work fact lesson man depravity realized every person without god intervention bad worse marquez perverse character book without high point loved ending mystery segundo twin ursula strength passage language incredible marquez mastery imagery wish mor', 'could never read book think problem like translation book novel written spanish translated english would sit say loved descriptive flow sentence compelled give novel another try based review year feel well deserving', 'excellent translation marquez masterpiece translation marquez quintessential work great justice remarkable prose clarity depth hundred year symbolism excellent development buendia character send reader back austere complicated time time exploration political upheaval social transition one criticism translation absence footnote specific historical cultural social element life colombia past two century taciturn silent insensible new breath vitality shaking house colonel aureliano buendia could understand secret good old age simply honorable pact solitude p overall great read', 'great card card bast purchase ever made grapghics great directx supported biggie far superior card price reviewer say work obviously know nothing computer know well enough whether motherboard work card bought agp card maybe try pci anyway great video card great company great price buy', 'best discworld novel beginner veteran read nearly favorite definitely check one death lead role like mort instance', 'pratchett love whole city watch series favorite bunch book ever read almost read alonme get whole family looking askingly laugh loud great story obviousl fantasy real love word play never find better', 'second nearly cried realized abridged version indication record really looking forward cd', 'carrot vimes colon nobbs back fight crime carrot vimes colon nobbs back also alot new recruit angua detritus cuddy mysterious thing killing dwarf clown assasins vimes finally going get married know', 'terrible product work company unreachable purchased item son work right box followed terrible instruction still work went coby website answer nothing either attempted tiems contact coby via telephone never able get finally returned product different bran strongly suggest buying something else longer battery life much better support documentation', 'season one favorite show contacted sony release date seem get difinitive answer almost year please post response anyone know contact request season released sign petition help l w', 'kindle version bantam classic un readable looking well structured side side version canterbury tale bantam classic normally great job book whoever transcribed kindle know kindle left unstructured translation place intermingled line translating wrong verse generally place practically reading four line middle english five line modern three line middle english line modern line middle english forth connection middle english translation wasted usd kindle version huge disappointment', 'beware edition general book llc beware edition general book llcthey produce book scanning ocr copyright free material without editing many error though result may unusable usability probably depends subject matter many ocr error make even prose annoying read especially mathematical technical text text note become completely garbled see review j keynes treatise probability site bought useless similar comment buyer vanity fair thackeray italian radcliffe', 'kindle version poorly edited content introductory note translation great one favourite adaptation canterbury tale modern english kindle version however complete ruin book printed version present facing page translation work great kindle version attempt one page considering due font size adaptability work', 'aaarrrggghhh think rendition cantebury tale translated modern english second three item purchased amazon second disappointment perhaps shop online regardless classic suspect read nearly many would enjoy', 'cnnterbury tale oxford word classic translation allows read story often poetry pleasure found story earthy funny sometimes sad', 'great movie poor audio transfer incredibly disappointing fine film released dvd audio would synch anyone know inherent problem pressing', 'tedious self inflating always another look titanic especially new light shed story unfortunately pelligrino spends huge percentage book referring admiringly third person subtly inflating worth parallel story line ballard expedition top interesting retelling event ship fine carry deadweight pelligrino attempt make central figure important story literary equivalent watching actor talk moved acting pas', 'gold jenna reid produced debut solo cd sheer quality start finish young woman stunning live performer joy see produced equally impressive studio recording stripped bare production let talent heard fiddle playing highest order', 'excellent fiddle really enjoy album level playing admirable good range tune fit together well whole think listened time row first got', 'coyote genius usual girl go big city cliche bad expect mr bruckheimer thanks lovely charismatic m perabo nice performance mr goodman dad still gal aspires write song absolutely nothing say whole whitney mariah thing yecch bar scene certain energy em coyote apparently hope dream personality hoping adorable piper get great even better movie near future definitely following career', 'good movie coyote ugly really good cheesy movie girl guy like however boyfriend like type movie put unrated version regular version kissing sex scene show anything unrated version show lot skin pretty steamy definitely cutesy movie eye candy bar scene keep guy watching piper perabo rest girl disappoint promise', 'bar scene cool bought movie love jerry bruckheimer movie rented entertaining part movie bar scene shown trailer sum good scene watched featurette hard looking lead actress excited find piper perabo believe perabo acting annoying ruined whole movie fear singing public became irritating movie proceeded wanted smack say stop whining sniveling one people like kind movie even really bad one one think watching', 'coyote stupid movie dumb dumb movie dumb even though bunch hot chick dancing around sexy clothes provocatively anything sexy provocative dumb dumb dumb mention stunk', 'absolutely horrible movie one worst seen past year right whole nine yard cruel intention plot predictable actor worthless maybe plot good really good reason watch see movie least rated r actually showed instead hinting maybe reason watch movie hotties however bad dialogue combined predictable plot bad performance actor hotties nudity make totally worthless movie waste time', 'great movie love movie watched first time best friend realized copy great movie', 'stunning bought cd initialey mistake hurry missed cd wanted right next must god hand directing stunning album heard band radio time song one hooked sat let shirley manson rich voice enthrall rest cd went immeadiately found first cd good different way make great band among thing ability reinvent without loosing soul sound music two great album hope grace u many', 'must bad song albumn cd even better first u thinking getting advice go buy go spend measly buck get well worth money', 'rock best get amazing sound odd first time around hear slowly hit stop listening also cd sorta insane literaly first one abit slow paced rock get also cd got nut garbage', 'great garbage rock shirley manson uniqe voice great music record expressive tune singable', 'album grows bought garbage first album first thought album great boasting good track like milk queer happy rain sophomore album even better temptation wait started manson menacing voice simplistic lyric like tell something wolf like wear sheep clothing second track rockier edge slowed medication fun way till look fine ended album sombre note like garbage ended first title milk great buy almost perfection repeat without losing interest', 'shirley yum garbage band like really take listen amazing band realize one incorporates many style one little album album packed full classic garbage song really give chill opening track temptation wait eerie first time heard loved next track think paranoid heavy bass light vocal band known love lyric great album anyone looking continue digging thru garbage word advice though bother beautifulgarbage rock fan defienatley impressive', 'shirley boy garbage deliver terrific euro trash rock second album version another mix crunching guitar wild beat groovy keyboard effect sensual voice shirley manson band still frontrunners modern rock great rockin track temptation wait think paranoid push personal fave sleep together also playful pop rock special shirley tipping hat pretender chrissie hynde end delirious hammering head truly gorgeous look fine fabulous music production fabulous band version essential garbage', 'great show watching show dvd since got made even make want get season store great show one fav show', 'great reciving th season set would work made short phone call replacement next day wow service grand daughter also thanks', 'absolutely engrossing wonderful movie disregard story hellman cooked story passed true redgrave protest oscar apparently true certainly second one see movie simply one best movie story time script acting top notch', 'julia like jane fonda vannassa redgrave like movie content dark considering wwii surprise movie touching sad someways make feel nice love friendship another way make u wonder far go name friendship', 'review julia dvd arrived quickly safely good srvice would use folk problem encountered first saw film early seaside picture plcae east coast england bridlington charmed thew story actor loved moody scenery dvd reflected original perfectly enjoyable', 'glich heaven bought game thinking going cool hell sadly mistaken got halfway kept hitting glich glich thought xbox took friend glich glich guess got worst game history happens get massed produced game like one', 'wonderful flow great video received went routine flow wonderful surfer never surfed looking good video everybody recommended maybe surfing summer', 'waste money many better yoga dvd choose surfer special surf yoga opposed regular yoga surfer take time practice yoga benefit peggy video lack vital instruction beginner need pose properly without injury real shame many famous surfer supporting effort spread yoga surf community better option shiva rhea shakti yoga provides excellent instruction yoga matrix allows create unique routine dvd become stale awhile yoga matrix shiva rhea dvd addition ready made routine prevent dvd ever getting old', 'another bogus better surfer dvd perhaps worst video today type basic knowledge yoga need create tailor workout know yoga useless instruction poor peppered split screen people surfing practicing yoga wonder surf mag think great little poorly demonstrated technique basic yoga scene even see foot crucial failure even instructor say save money take yoga long enough learn properly apply surfing yoga great surfing poor video', 'dont know anything yoga buy cd positive part location view wave novelty useful honestly yoga wetsuit pipeline try ali mcgraw video great intermediate yoga tape', 'book key purchased book impression book key quia required profesora book key return buy one bookstore like done beginning also ups day late leave book requested signing leave package form left delivery man go pick never home', 'need modification thing ok realize must hold onto blow port make work therefore need people blow pipe blowing rv constant air pressure key saying ripped needle attached air chuck fitting screw attach air hose pop compressor longer need hold place', 'nigerian industrious people selected book looking book could share young child age year give glimpse nigeria people culture liked photograph accurately depicted various profession lifestyle nigeria provide wonderful idea story book extension example photograph grandmother making traditional outfit could complemented presenting child yard woven fabric typically used nigeria outfit professional role see nigerian baker doctor wood carver carpenter lawyer potter blacksmith finally traditional native doctor herbalist give u excellent botanist lesson plant healing property paint nigerian industrious people', 'love song noddy buy son excited put cd player music started unhappy song sound anything like one show melody pace different performer interesting buy familiar real song', 'nice experience first lou reed video honestly say enjoyed gained new perspective lou music true professional turned knew would like favorite sweet jane walk wild side found enveloped song never heard casual lou reed fan think liked real hardcore fan love video high quality sound great like front row seat glad purchased one', 'rebuttal jazzie hampstead london know looking last graf make quote lou end show totally bogus fact lou say opposite pay attention innacurate review lou good night bad night one best performance career', 'native american herbal remedy far really like informative useful would given star kindle hindsight would rather gotten book paper difficult flip book find need fairly new kindle maybe old fashion enough prefer book hand recommend whichever form prefer', 'blleeuurrgghhhh listened single want feed garbage man urge avoid cost notice insipidly simple tune working way core thus transform similar state insipid simplicity kylie minogue find many us music find none', 'dad trouble movie two twin look alike soccer team switch team without mom nowing', 'stand male co star think movie great stand bad acting guy mary kate character liked seemed angry even talking yuck', 'bad acting movie bad acting dad dramactic corney mom corney soccer coach acting like big pro sport championship olson twin corny entertaining watch movie unrealistic emma ashley sam mary kate different team rule sibling sport team movie bad quality actor unrealistic plot', 'switching goal good movie switching goal good plot better average mary kate ashley movie funny good acting others movie good watch couple time couple time extra cash though say get regret', 'entertaining freaky son wanted video got danger making thing child think real maybe warning video saying real would good', 'bore death langston hughes definitely better poet novelist found book lack luster boring although may like character two general character developed intriguing wording lacked rapture accustomed delivering', 'good book really liked book character intersting relationship sandy grandmother made think grandmother book would good young people give idea black life like back', 'happy contact company e mail return product directed company e mail back ask reason product opened replied company next step return product', 'nice suit great suit great buy great service around would highly recommend anyone looking frosty suit buy one', 'worst test prep book ever used reviewer suggested book full error used book along official guide rea book much better preperation found virtually useless many error found unable trust book source information already know accurate course defeat purpose study guide many mistake obvious perhaps problematic several instance author explains subtle point error book worth time', 'preliminary review began using book review gre april gotten far book first page already found four seriously misleading error one caught equation even henderson hasselbalch provide wrong even convenient example worked erroneous equation use book learn topic study gre actual studying real chemistry textbook', 'wild wild west awesome soundtrack fun enjoyable listen best song cd listened cd recommend', 'larger version game small age child designed swear used larger version plus survive session play group spring broke', 'disappointed year old son received christmas gift initally set blast teeth chomped finger gentle however round play unable get teeth pop back get rest teeth push needle say disappointed appear durable got bad one', 'great work specifically bought toy self contained part loose taken trip visit year old grandson fun laughed pushed teeth taking turn well le day tooth would cause jaw snap center tooth much fun feel wasted money', 'bad quality ruin concert yes video bad quality great see bowie spider final concert bad quality obviously never privilidge seeing live great opportunity believe ziggy era fascinating exciting adrogyny way go', 'goodfun imagine action film minute long would time sub plot romantic involvement go without would car chase explosion godwill book rather like liked forget measured blend theory fact example style reilly author book cut chase work see tomcat servlet runner interesting even best breed jetty way better tomcat interesting goodwill drag along flash tour goody bit like night tour naples back italian cigarette smuggler vespa somehow end despite understood much find know way around feel comfortable exloring take leave kind book', 'borinmg dumb waste time glory old time movie try claim life new world bother nice tape record last time buy film brandon frazier naked', 'best film year one best film ever made god monster work many level present many role men play gay straight husband bachelor parent child lover monster youth elderly whitecollar bluecollar wrapped captivating story listen music hauntingly beautiful', 'see movie ian mckellen performance god monster superb movie last day gay film director james whale directed frankenstein bride frankenstein acting superb especially ian mckellan lead thought dragged area whole great movie', 'best screenplay stability one recent film anticipated good exceeded expectation sir ian mckellen performs well real surprise brendan fraser thanks bill condon amazing screenplay fraser study expressive innocent contrast mckellen anguished self defeated character make point get one best screenplay consist strong dialogue pacing narrative oscar usually accurrate', 'tree arrived bent poorly packed manufacturer packed product poorly plastic joint section tree smashed pole center tree bent beyond redemption idea tree looked put together since repack send back thankfully amazon com return policy generous swift get five star service meantime real tree year may try go artificial one next year order one online']\n"
     ]
    }
   ],
   "source": [
    "print(reviewCorpus)"
   ]
  },
  {
   "cell_type": "code",
   "execution_count": 25,
   "metadata": {
    "colab": {
     "base_uri": "https://localhost:8080/",
     "height": 34
    },
    "colab_type": "code",
    "executionInfo": {
     "elapsed": 87661,
     "status": "ok",
     "timestamp": 1576469046043,
     "user": {
      "displayName": "Louise Dev",
      "photoUrl": "",
      "userId": "08535859031441537751"
     },
     "user_tz": 300
    },
    "id": "-3sEmmLeXxVk",
    "outputId": "a2965f2c-0022-49cb-9b65-3d0176fa98d9",
    "pycharm": {
     "is_executing": false,
     "name": "#%%\n"
    }
   },
   "outputs": [
    {
     "data": {
      "text/plain": [
       "1000"
      ]
     },
     "execution_count": 25,
     "metadata": {},
     "output_type": "execute_result"
    }
   ],
   "source": [
    "len(reviewCorpus)\n"
   ]
  },
  {
   "cell_type": "code",
   "execution_count": 26,
   "metadata": {
    "colab": {
     "base_uri": "https://localhost:8080/",
     "height": 54
    },
    "colab_type": "code",
    "executionInfo": {
     "elapsed": 87654,
     "status": "ok",
     "timestamp": 1576469046044,
     "user": {
      "displayName": "Louise Dev",
      "photoUrl": "",
      "userId": "08535859031441537751"
     },
     "user_tz": 300
    },
    "id": "zZn9tRBXXxVn",
    "outputId": "bcb99093-067e-4d7c-9eb1-3951176be4f1",
    "pycharm": {
     "name": "#%%\n"
    }
   },
   "outputs": [
    {
     "data": {
      "text/plain": [
       "'great cd lovely pat one great voice generation listened cd year still love good mood make feel better bad mood evaporates like sugar rain cd ooze life vocal jusat stuunning lyric kill one life hidden gem desert isle cd book never made big beyond everytime play matter black white young old male female everybody say one thing singing'"
      ]
     },
     "execution_count": 26,
     "metadata": {},
     "output_type": "execute_result"
    }
   ],
   "source": [
    "reviewCorpus[0]\n"
   ]
  },
  {
   "cell_type": "code",
   "execution_count": 27,
   "metadata": {
    "colab": {
     "base_uri": "https://localhost:8080/",
     "height": 34
    },
    "colab_type": "code",
    "executionInfo": {
     "elapsed": 87646,
     "status": "ok",
     "timestamp": 1576469046045,
     "user": {
      "displayName": "Louise Dev",
      "photoUrl": "",
      "userId": "08535859031441537751"
     },
     "user_tz": 300
    },
    "id": "jU7GolAzfziL",
    "outputId": "721b3db1-0b93-4ab4-c095-97679411cfc5"
   },
   "outputs": [
    {
     "name": "stdout",
     "output_type": "stream",
     "text": [
      "It's a Python list.\n"
     ]
    }
   ],
   "source": [
    "# Use isinstance to check if the data type is list/array/Pandas series:\n",
    "\n",
    "if isinstance(reviewCorpus, list):\n",
    "  print(\"It's a Python list.\")\n",
    "\n",
    "if isinstance(reviewCorpus, np.ndarray):\n",
    "  print(\"It's a Numpy array.\")\n",
    "  \n",
    "if isinstance(reviewCorpus, pd.core.series.Series):\n",
    "  print(\"It's a Pandas serie.\")"
   ]
  },
  {
   "cell_type": "markdown",
   "metadata": {
    "colab_type": "text",
    "id": "R3O2IFdtNEAx"
   },
   "source": [
    "# Bag-of-Words"
   ]
  },
  {
   "cell_type": "markdown",
   "metadata": {
    "colab_type": "text",
    "id": "Ow31VCzaxe-w"
   },
   "source": [
    "#### BOW with Count Vectorizer:"
   ]
  },
  {
   "cell_type": "code",
   "execution_count": 28,
   "metadata": {
    "colab": {},
    "colab_type": "code",
    "id": "aRrvJSb2vSQ-"
   },
   "outputs": [],
   "source": [
    "from sklearn.feature_extraction.text import CountVectorizer"
   ]
  },
  {
   "cell_type": "code",
   "execution_count": 29,
   "metadata": {
    "colab": {},
    "colab_type": "code",
    "id": "RGepi2dLOQxe"
   },
   "outputs": [],
   "source": [
    "# Define the count vectorizer:\n",
    "countVect = CountVectorizer()  # Build a vocabulary from all words in the review corpus.\n",
    "\n",
    "reviewArray = countVect.fit_transform(reviewCorpus).toarray()  # Count the number of times a word from vocabulary appears in each sentence of review."
   ]
  },
  {
   "cell_type": "code",
   "execution_count": 30,
   "metadata": {
    "colab": {
     "base_uri": "https://localhost:8080/"
    },
    "colab_type": "code",
    "executionInfo": {
     "elapsed": 87878,
     "status": "ok",
     "timestamp": 1576469046297,
     "user": {
      "displayName": "Louise Dev",
      "photoUrl": "",
      "userId": "08535859031441537751"
     },
     "user_tz": 300
    },
    "id": "fkXMrTFGxcU6",
    "outputId": "8996e1be-6dcf-4ba6-f94d-549dba2a37e6"
   },
   "outputs": [
    {
     "data": {
      "text/plain": [
       "8213"
      ]
     },
     "execution_count": 30,
     "metadata": {},
     "output_type": "execute_result"
    }
   ],
   "source": [
    "# Show the total number of features:\n",
    "len(countVect.get_feature_names())"
   ]
  },
  {
   "cell_type": "code",
   "execution_count": 31,
   "metadata": {
    "colab": {
     "base_uri": "https://localhost:8080/"
    },
    "colab_type": "code",
    "executionInfo": {
     "elapsed": 87869,
     "status": "ok",
     "timestamp": 1576469046298,
     "user": {
      "displayName": "Louise Dev",
      "photoUrl": "",
      "userId": "08535859031441537751"
     },
     "user_tz": 300
    },
    "id": "nGptJ8cuq1QG",
    "outputId": "dd5778ee-b5c7-4752-ddcd-12e585dcc0f8",
    "scrolled": true
   },
   "outputs": [
    {
     "name": "stdout",
     "output_type": "stream",
     "text": [
      "['aa', 'aaarrrggghhh', 'abandon', 'abarca', 'abbreviated', 'abduction', 'ability', 'abit', 'able', 'aboard', 'aboration', 'abound', 'abounds', 'abridged', 'abroad', 'abrupt', 'absence', 'absent', 'absolute', 'absolutely', 'absorbed', 'absorption', 'abstract', 'absurd', 'absurdity', 'abuse', 'abusing', 'abut', 'ac', 'academic', 'academy', 'accelerated', 'accent', 'accepted', 'accepting', 'accepts', 'access', 'accessed', 'accessible', 'accident', 'accidental', 'accidentally', 'accolade', 'accommodate', 'accommodates', 'accompanied', 'accompanies', 'accompanying', 'accomplish', 'accomplished', 'according', 'account', 'accross', 'accurate', 'accurately', 'accurrate', 'accustomed', 'ace', 'achebe', 'achievement', 'achtung', 'acid', 'acknowledges', 'acquire', 'acrobat', 'across', 'act', 'acted', 'actin', 'acting', 'action', 'actioner', 'actively', 'actor', 'actress', 'actshoally', 'actual', 'actuality', 'actually', 'actualy', 'actuar', 'acually', 'acuerdo', 'ad', 'adadptation', 'adam', 'adaptability', 'adaptation', 'adapter', 'adapting', 'add', 'addams', 'added', 'addict', 'adding', 'addition', 'additional', 'additionally', 'addresed', 'address', 'addressed', 'adequate', 'adequately', 'adidas', 'adjust', 'adjustable', 'adly', 'admirable', 'admiral', 'admire', 'admired', 'admirer', 'admiringly', 'admission', 'admit', 'admitted', 'admittedly', 'adolescent', 'adorable', 'adore', 'adrift', 'adrogyny', 'adult', 'adultery', 'advance', 'advanced', 'advancement', 'adventure', 'advertise', 'advertised', 'advertisement', 'advertiser', 'advertising', 'advertized', 'advice', 'advise', 'advised', 'advisor', 'aerial', 'aerobed', 'aesthetic', 'affair', 'affect', 'affected', 'affection', 'affordable', 'afformentioned', 'afghan', 'afield', 'afloat', 'afr', 'afraid', 'africa', 'afternoon', 'afterward', 'afterwork', 'afuera', 'age', 'aged', 'agency', 'agenda', 'aggressive', 'agitated', 'ago', 'agonizing', 'agp', 'agree', 'agreed', 'agressive', 'agricultural', 'ah', 'ahead', 'ahhh', 'ahora', 'aid', 'aiding', 'aim', 'aint', 'air', 'airbed', 'aircraft', 'aire', 'airlift', 'airplane', 'airy', 'akin', 'al', 'ala', 'alamut', 'alan', 'alarm', 'albeit', 'album', 'albumn', 'albuquerque', 'alcohol', 'aldous', 'alert', 'alerted', 'algebra', 'algo', 'algun', 'ali', 'alien', 'alike', 'alittle', 'alive', 'alkaline', 'allan', 'allay', 'allergic', 'allow', 'allowed', 'allowing', 'allows', 'allude', 'allure', 'allusion', 'almost', 'alone', 'along', 'alonme', 'alot', 'aloud', 'alphabet', 'already', 'also', 'alsothe', 'alterna', 'alternate', 'alternative', 'although', 'althoughthe', 'altogether', 'aluminum', 'alvin', 'alw', 'always', 'amazed', 'amazement', 'amazes', 'amazing', 'amazingly', 'amazon', 'ambient', 'ambiguity', 'ambition', 'ambitious', 'ame', 'amendment', 'america', 'american', 'amidst', 'amish', 'ammunition', 'among', 'amongst', 'amor', 'amos', 'amount', 'ample', 'amsterdam', 'amusement', 'anabel', 'anachronistic', 'analysis', 'analytical', 'analyzed', 'anamorphic', 'anamorphically', 'anatomy', 'anceint', 'ancestor', 'anchor', 'ancient', 'anderson', 'andgovernmental', 'andqueen', 'andrea', 'android', 'andthe', 'anemic', 'angel', 'anger', 'angery', 'angle', 'angry', 'angst', 'angua', 'anguished', 'ani', 'animal', 'animated', 'animation', 'anime', 'ankle', 'ann', 'annalog', 'anne', 'annie', 'annimation', 'announced', 'announces', 'annoyed', 'annoying', 'anointed', 'anone', 'another', 'answer', 'anthony', 'anti', 'antichrist', 'anticipated', 'antidote', 'antique', 'antiquicated', 'antoine', 'antonio', 'antony', 'anxiety', 'anxious', 'anxiously', 'anybody', 'anyhow', 'anymore', 'anyone', 'anythign', 'anything', 'anytime', 'anyway', 'anyways', 'anywhere', 'aol', 'apart', 'apartment', 'apasionado', 'apatow', 'aperture', 'apex', 'aplenty', 'apossible', 'app', 'apparel', 'apparently', 'appeal', 'appealing', 'appear', 'appeared', 'appears', 'appetite', 'applaud', 'apple', 'application', 'applied', 'applies', 'apply', 'appreciate', 'appreciated', 'appreciation', 'approach', 'approached', 'approaching', 'appropriate', 'april', 'apron', 'apso', 'apt', 'aptly', 'apts', 'aquellas', 'arch', 'archetpyes', 'architect', 'area', 'argues', 'argument', 'arise', 'aristocracy', 'ark', 'arm', 'armadgeddon', 'armado', 'armand', 'armed', 'army', 'arnold', 'around', 'arrange', 'arrangement', 'arrest', 'arrested', 'arriived', 'arrival', 'arrived', 'arriving', 'arse', 'arsis', 'art', 'arte', 'arthur', 'article', 'artificial', 'artist', 'artistic', 'artistry', 'artwork', 'arverne', 'as', 'asanti', 'asap', 'asato', 'asatru', 'aseguro', 'ash', 'ashley', 'asia', 'asian', 'aside', 'asimov', 'asimow', 'ask', 'asked', 'asking', 'askingly', 'asks', 'asleep', 'aspect', 'aspires', 'assails', 'assasins', 'assembled', 'assertion', 'assign', 'assigned', 'assignment', 'assist', 'assistance', 'assume', 'assure', 'assured', 'astonishing', 'astonishingly', 'asvab', 'ate', 'atheist', 'athena', 'athene', 'ati', 'atlantic', 'atlantis', 'atleast', 'atmosphere', 'atmospheric', 'atmosphyre', 'atrevete', 'atrevez', 'atrocity', 'attach', 'attached', 'attachment', 'attack', 'attacked', 'attain', 'attempt', 'attempted', 'attempting', 'attend', 'attention', 'attic', 'attitude', 'attractive', 'attracts', 'atypical', 'audience', 'audiencei', 'audio', 'audiophile', 'auditioning', 'auel', 'august', 'aureliano', 'aussie', 'austere', 'austin', 'australia', 'australian', 'auteuil', 'author', 'auto', 'autobiography', 'autobot', 'autobots', 'automatic', 'automatically', 'automobile', 'autopsy', 'autora', 'av', 'avai', 'avail', 'availability', 'available', 'availablity', 'avant', 'avarage', 'ave', 'average', 'averaging', 'aviation', 'avid', 'avoid', 'await', 'awaited', 'awaiting', 'awake', 'awakens', 'award', 'awarded', 'aware', 'away', 'aweful', 'awesome', 'awesomeness', 'awful', 'awfully', 'awfulness', 'awhile', 'awkward', 'awsome', 'ax', 'ayla', 'ayuda', 'ayudar', 'az', 'babble', 'babbling', 'baby', 'babymother', 'bachelor', 'back', 'backbone', 'backed', 'background', 'backordered', 'backround', 'backwater', 'bad', 'badge', 'badging', 'badly', 'baffled', 'baffling', 'bag', 'baggage', 'bagger', 'bahnen', 'bait', 'baker', 'baking', 'balanced', 'baldwin', 'balkan', 'ball', 'ballad', 'ballard', 'bam', 'bampow', 'banal', 'band', 'banderas', 'bandit', 'banger', 'banging', 'bangkok', 'banned', 'banner', 'bantam', 'banter', 'bar', 'barbie', 'bare', 'barebones', 'barely', 'bargain', 'barking', 'barley', 'barn', 'barnes', 'barrage', 'barred', 'barrel', 'base', 'based', 'basement', 'bashing', 'basic', 'basically', 'basis', 'basket', 'basketball', 'bass', 'bassey', 'bast', 'batcave', 'batell', 'bath', 'bathroom', 'batman', 'battery', 'battle', 'battlefield', 'bay', 'bayard', 'bayles', 'bdsm', 'beach', 'beacon', 'bead', 'beanstale', 'bear', 'bearded', 'beast', 'beat', 'beaten', 'beating', 'beatle', 'beatles', 'beautiful', 'beautifulgarbage', 'beautifull', 'beautifully', 'beauty', 'became', 'becasue', 'become', 'becomes', 'becomimg', 'becuase', 'bed', 'bedding', 'bedtime', 'bee', 'beef', 'beefed', 'beevor', 'befriend', 'beg', 'began', 'beggining', 'begin', 'begining', 'beginner', 'beginning', 'begrudgingly', 'behalf', 'behaving', 'behavior', 'behind', 'being', 'beleive', 'belief', 'believable', 'believe', 'believed', 'believer', 'believing', 'belive', 'belkin', 'bellesa', 'belly', 'belongs', 'beloved', 'belt', 'belva', 'ben', 'bend', 'beneath', 'benefit', 'bent', 'benton', 'benvenutti', 'beofer', 'bergerac', 'bergerud', 'berkley', 'berlin', 'bermejo', 'bertie', 'besides', 'best', 'bet', 'beta', 'betrayed', 'better', 'beuonos', 'beware', 'beyond', 'biased', 'bible', 'bibliographic', 'bichon', 'bichons', 'bier', 'bifurcation', 'big', 'bigger', 'biggest', 'biggie', 'bigot', 'bigotry', 'bike', 'biking', 'bile', 'bill', 'billboard', 'billed', 'billion', 'billy', 'bimbo', 'binchy', 'binding', 'binoche', 'bio', 'biography', 'bird', 'birth', 'birthday', 'birthing', 'bit', 'bite', 'biter', 'bittman', 'bizarre', 'bizet', 'bizkit', 'black', 'blacksmith', 'blade', 'blair', 'blake', 'blame', 'bland', 'blanket', 'blast', 'blazingly', 'bleach', 'bleak', 'blend', 'blessing', 'blew', 'blind', 'blinded', 'blinking', 'blister', 'blleeuurrgghhhh', 'block', 'blockbuster', 'blog', 'blonde', 'blood', 'bloody', 'blow', 'blowing', 'blown', 'blu', 'blue', 'bluecollar', 'bluegrass', 'blueray', 'bluetooth', 'bluish', 'bluntly', 'blurb', 'board', 'boaring', 'boasting', 'boat', 'body', 'bog', 'bogged', 'bogus', 'boiling', 'bolding', 'bomb', 'bomba', 'bombarded', 'bonafide', 'bonaire', 'bond', 'bondage', 'bong', 'boning', 'bonus', 'boob', 'book', 'bookarmed', 'bookstore', 'boomer', 'boondock', 'boost', 'boot', 'bootleg', 'bootstrap', 'border', 'bore', 'bored', 'boredom', 'boring', 'borinmg', 'born', 'borrow', 'borrowed', 'boston', 'botanist', 'botched', 'botes', 'bother', 'bothered', 'bottom', 'bought', 'boukreev', 'bound', 'bounderby', 'bounderbys', 'bout', 'bovine', 'bow', 'bowie', 'bowler', 'box', 'boxeadores', 'boy', 'boyfriend', 'br', 'bradbury', 'bradburyi', 'brain', 'brainer', 'brainwashed', 'brake', 'bran', 'brand', 'branded', 'brandon', 'brandy', 'brasil', 'brave', 'bravery', 'breadth', 'break', 'breakdown', 'breaking', 'breakout', 'breakthrough', 'breast', 'breath', 'breathable', 'breathes', 'breathtaking', 'breed', 'breeze', 'brendan', 'brewin', 'brian', 'brick', 'bride', 'bridge', 'bridlington', 'brief', 'brigg', 'bright', 'brighten', 'brillantes', 'brilliant', 'brilliantly', 'brimstone', 'bring', 'bringing', 'brings', 'brio', 'british', 'britney', 'broad', 'broadway', 'broke', 'broken', 'broker', 'brooding', 'brother', 'brought', 'brown', 'browse', 'bruce', 'bruckheimer', 'bruising', 'bruno', 'brushed', 'brutally', 'brute', 'brutha', 'bt', 'bu', 'buaboababbaun', 'bubble', 'buck', 'bud', 'buddhist', 'buddy', 'budget', 'buena', 'buendia', 'buendias', 'bueno', 'buff', 'bug', 'build', 'builder', 'building', 'built', 'bulky', 'bull', 'bullet', 'bum', 'bumble', 'bumbling', 'bump', 'bunch', 'bunchline', 'bundled', 'bunk', 'bunn', 'bunny', 'burn', 'burning', 'burnt', 'burzum', 'bus', 'business', 'bust', 'busy', 'butler', 'butt', 'butterfly', 'button', 'buy', 'buyer', 'buying', 'byce', 'bye', 'bygone', 'bygons', 'byjames', 'ca', 'caan', 'cabela', 'cabinwith', 'cable', 'cada', 'caffein', 'cage', 'caked', 'cakeeater', 'cali', 'caliber', 'calibur', 'california', 'call', 'called', 'calling', 'calypso', 'cam', 'camcorder', 'camcorderthere', 'came', 'cameo', 'camera', 'cames', 'camp', 'campaign', 'campbell', 'campeones', 'campus', 'canal', 'canape', 'canasta', 'cancer', 'candle', 'candy', 'canister', 'cannot', 'canon', 'cant', 'cantar', 'cantebury', 'canterbury', 'canvas', 'cap', 'capability', 'capable', 'capella', 'capital', 'capitalize', 'caprio', 'captain', 'captivated', 'captivating', 'capture', 'captured', 'capturing', 'car', 'caracteristicas', 'carbon', 'card', 'care', 'career', 'carefully', 'caress', 'caring', 'carlson', 'carmen', 'carnivale', 'carol', 'carpathian', 'carpenter', 'carpet', 'carried', 'carrier', 'carrot', 'carry', 'carrying', 'carton', 'cartoon', 'cartoonish', 'cartoonsif', 'cartoony', 'cartridge', 'carver', 'casablanca', 'case', 'caseit', 'cash', 'cassette', 'cast', 'castal', 'casting', 'castle', 'casual', 'cat', 'catagory', 'catalog', 'catch', 'catchy', 'categorized', 'catherine', 'cathy', 'caught', 'cause', 'caused', 'cautious', 'cave', 'caveat', 'cavern', 'cb', 'cbs', 'cd', 'ceiling', 'celiac', 'cell', 'celtic', 'cena', 'cencorship', 'censor', 'censored', 'censorship', 'cent', 'center', 'central', 'centralized', 'century', 'cereal', 'cerrar', 'certain', 'certainly', 'certifiable', 'cervantes', 'cf', 'cgi', 'chain', 'chalinging', 'chalk', 'challenge', 'challenging', 'chameleon', 'champ', 'championship', 'chance', 'change', 'changed', 'changer', 'changing', 'channel', 'chanson', 'chant', 'chaos', 'chapter', 'character', 'characterization', 'charactor', 'charge', 'charged', 'charger', 'charging', 'charisma', 'charismatic', 'charles', 'charlie', 'charm', 'charmed', 'chart', 'chase', 'chasm', 'chaucer', 'che', 'cheap', 'cheaper', 'cheapest', 'cheaply', 'cheat', 'cheated', 'cheating', 'check', 'checked', 'cheddar', 'cheep', 'cheer', 'cheese', 'cheesy', 'chemical', 'chemistry', 'chen', 'cherished', 'chest', 'chicago', 'chick', 'chicken', 'chilbirth', 'child', 'childbirth', 'childbirthexcellent', 'childhood', 'childish', 'childrearing', 'childrens', 'chill', 'chilling', 'chillingworth', 'chillout', 'china', 'chinese', 'chipped', 'choice', 'cholesterol', 'chomped', 'chomsky', 'choose', 'chopin', 'chopped', 'choppy', 'chore', 'choreographed', 'chose', 'chris', 'chrissie', 'christain', 'christendom', 'christian', 'christianity', 'christmas', 'christopher', 'chronic', 'chronicle', 'chronicled', 'chrono', 'chronological', 'chuck', 'chumbawamba', 'chun', 'chunk', 'cia', 'cielo', 'cien', 'cigarette', 'cinch', 'cincher', 'cinema', 'cinematography', 'circle', 'circuit', 'circular', 'circulating', 'circumstance', 'circumvent', 'citrinin', 'city', 'civilizaciones', 'civilization', 'civilized', 'cj', 'claim', 'claimed', 'claiming', 'clairese', 'clairvoyance', 'clan', 'clarify', 'clarisse', 'clarity', 'clarke', 'clarrise', 'class', 'classic', 'classical', 'classification', 'classify', 'classmate', 'classroom', 'classy', 'claud', 'claudia', 'clavell', 'claw', 'clean', 'cleaner', 'clear', 'clearer', 'clearly', 'clever', 'clich', 'cliche', 'cliched', 'click', 'clicked', 'client', 'cliff', 'cliffhanger', 'climalite', 'climate', 'climb', 'climbing', 'cline', 'cling', 'clingy', 'clinical', 'clinton', 'clip', 'clit', 'clitoral', 'clitoris', 'clock', 'clogged', 'clogging', 'close', 'closed', 'closely', 'closure', 'cloth', 'clothes', 'clothing', 'cloud', 'clown', 'club', 'clue', 'cm', 'cmon', 'cnnterbury', 'co', 'coach', 'coarse', 'coarseness', 'coast', 'coated', 'coby', 'coca', 'cocina', 'coconut', 'cocur', 'code', 'cody', 'coffee', 'coherent', 'cohesive', 'coketown', 'colchon', 'cold', 'colection', 'coleman', 'colin', 'collagenous', 'collar', 'collect', 'collected', 'collection', 'collector', 'colleen', 'college', 'collette', 'collide', 'collins', 'collision', 'colombia', 'colon', 'colonel', 'colony', 'color', 'colorado', 'colored', 'colorful', 'coloring', 'colorwave', 'colour', 'columbian', 'com', 'coma', 'combination', 'combined', 'combo', 'comdey', 'come', 'comedian', 'comedy', 'coment', 'comet', 'comfort', 'comfortable', 'comi', 'comic', 'comical', 'coming', 'commandment', 'commemorate', 'comment', 'commentary', 'commits', 'committing', 'common', 'commonly', 'communicated', 'communicates', 'communication', 'communism', 'communist', 'community', 'como', 'comodo', 'comp', 'compact', 'compactfalsh', 'companion', 'company', 'companyexcellent', 'compare', 'compared', 'comparing', 'comparison', 'compassion', 'compatibility', 'compatible', 'compel', 'compelled', 'compelling', 'competent', 'competition', 'competitive', 'comphrensive', 'compilation', 'compiler', 'complain', 'complained', 'complaining', 'complaint', 'complementary', 'complemented', 'complete', 'completely', 'complex', 'complexe', 'complicated', 'complication', 'compliment', 'component', 'componium', 'composer', 'composing', 'composition', 'comprehensive', 'compress', 'compressor', 'comprises', 'computer', 'coms', 'con', 'concealed', 'conceive', 'conceived', 'concept', 'conceptstoo', 'conceptually', 'concern', 'concerned', 'concerning', 'concert', 'concerto', 'concieved', 'conciliationcap', 'concisely', 'conclusion', 'concrete', 'condition', 'conditioned', 'condon', 'confesses', 'confession', 'confidence', 'confidently', 'configure', 'confirmation', 'confirmed', 'confirms', 'conflict', 'confrontation', 'confronted', 'confuse', 'confused', 'confusing', 'confusion', 'connect', 'connected', 'connection', 'connector', 'connects', 'conocedoras', 'conocer', 'conocimientos', 'consequence', 'consider', 'considerable', 'consideration', 'considered', 'considering', 'consist', 'consistantly', 'consisted', 'consistent', 'consort', 'conspiracy', 'constant', 'constantly', 'constipation', 'constitutes', 'constitution', 'constructed', 'construction', 'consultanos', 'consumate', 'consumer', 'consuming', 'contact', 'contacted', 'contacting', 'contain', 'contained', 'containing', 'contains', 'contamination', 'contemplates', 'contemplating', 'contemporary', 'content', 'context', 'continent', 'continually', 'continuam', 'continuation', 'continue', 'continued', 'continues', 'continuous', 'continuum', 'contortion', 'contract', 'contraction', 'contraption', 'contrary', 'contrast', 'contribute', 'contribution', 'contridicting', 'contrived', 'control', 'controllable', 'controlled', 'controller', 'controlling', 'contructed', 'convenience', 'convenient', 'conveniently', 'convention', 'conversation', 'convert', 'converter', 'convey', 'conveying', 'convicted', 'convince', 'convinced', 'convoluted', 'cook', 'cookbook', 'cooked', 'cooker', 'cooking', 'cool', 'cooler', 'coonhound', 'cop', 'copland', 'coplit', 'copy', 'copyright', 'coq', 'cord', 'core', 'corfu', 'corky', 'corn', 'corner', 'corney', 'cornwell', 'corny', 'coroner', 'corporate', 'corporation', 'correct', 'corrected', 'corrective', 'correctly', 'correctness', 'correctors', 'corruption', 'corset', 'corwell', 'cosa', 'cost', 'costumbres', 'costume', 'cotter', 'cottiesgems', 'cotton', 'couch', 'could', 'couldnt', 'count', 'counted', 'counterpart', 'counting', 'countless', 'country', 'countryside', 'couple', 'coupled', 'coupon', 'course', 'courseness', 'courtney', 'cousin', 'cover', 'coverage', 'covered', 'covering', 'cowboy', 'coworkers', 'coyote', 'cpu', 'crack', 'crafted', 'crafty', 'cranberry', 'cranial', 'crap', 'crapped', 'crash', 'crashing', 'crave', 'crazed', 'crazy', 'cream', 'creamy', 'create', 'created', 'creates', 'creating', 'creation', 'creative', 'creatively', 'creativity', 'creature', 'crecimiento', 'credential', 'credibility', 'credit', 'creep', 'creeped', 'creepiest', 'creepy', 'crew', 'crewl', 'cribbed', 'crichton', 'cried', 'crime', 'criminal', 'criminally', 'crisis', 'crisp', 'critic', 'critical', 'critically', 'criticism', 'criticize', 'critique', 'crock', 'cronilogical', 'crook', 'cross', 'crossed', 'crossing', 'crown', 'crowning', 'crucial', 'crude', 'cruel', 'cruise', 'cruising', 'crumudgeon', 'crunched', 'crunchiness', 'crunching', 'crunchy', 'crunk', 'crush', 'crusher', 'crust', 'crustacean', 'cry', 'cryin', 'cs', 'cu', 'cualquier', 'cuccione', 'cuddy', 'cue', 'cuisine', 'cukoo', 'culinarias', 'culinarios', 'culinary', 'cult', 'cultural', 'culturally', 'culture', 'cup', 'curious', 'current', 'currently', 'curse', 'cursory', 'curve', 'curved', 'cushion', 'custom', 'customer', 'customizing', 'cut', 'cute', 'cutesy', 'cutltural', 'cutting', 'cvf', 'cybershot', 'cycling', 'cyclops', 'cyrano', 'czyz', 'dad', 'daddy', 'daily', 'dali', 'damage', 'damme', 'damn', 'damon', 'damper', 'dampness', 'dance', 'danceable', 'dancer', 'dancing', 'danelectro', 'danger', 'dangerous', 'daniel', 'danish', 'dare', 'dark', 'darker', 'darkness', 'darrylcincinnati', 'dat', 'data', 'database', 'date', 'dated', 'daughter', 'daunting', 'davao', 'david', 'day', 'daylight', 'ddr', 'de', 'dead', 'deadweight', 'deaf', 'deal', 'dealer', 'dealing', 'dealt', 'dean', 'deaply', 'death', 'debacle', 'debi', 'debut', 'decade', 'deceive', 'deceiving', 'decent', 'decepci', 'decepcionado', 'decepticons', 'decide', 'decided', 'deciding', 'decipher', 'decision', 'deck', 'decline', 'decorated', 'decorating', 'decoration', 'dedicaci', 'dedicarse', 'dedication', 'deep', 'deeper', 'deeply', 'deepness', 'def', 'defeat', 'defeated', 'defeating', 'defendant', 'defense', 'deff', 'defienatley', 'definate', 'definately', 'definatly', 'defined', 'definently', 'definetly', 'definite', 'definitely', 'definition', 'deflate', 'deflated', 'deflates', 'deflation', 'degree', 'del', 'delay', 'deleted', 'delia', 'deliberate', 'delicate', 'delight', 'delighted', 'delightful', 'delirious', 'deliver', 'delivered', 'delivering', 'delivers', 'delivery', 'dell', 'delta', 'delusional', 'deluxe', 'demand', 'demanded', 'demeaning', 'demented', 'demo', 'demogoguery', 'demonstrate', 'demonstrated', 'demonstrates', 'denounces', 'dense', 'dentro', 'department', 'dependable', 'dependent', 'depending', 'depends', 'depicted', 'depicts', 'depravity', 'depressed', 'depressing', 'depressingly', 'depression', 'depth', 'derailed', 'derive', 'derived', 'descended', 'descent', 'descibed', 'describe', 'described', 'describes', 'describing', 'description', 'descriptive', 'descubrir', 'desert', 'deserve', 'deserves', 'deserving', 'design', 'designed', 'desire', 'desired', 'desk', 'desktop', 'desolation', 'desperate', 'despicable', 'despite', 'despues', 'destiny', 'destroy', 'destroyed', 'destroying', 'destructive', 'destruye', 'detail', 'detailed', 'detection', 'detective', 'deter', 'deteriorating', 'determine', 'detract', 'detritus', 'devastation', 'develop', 'developed', 'developement', 'developing', 'development', 'develops', 'deveria', 'deviate', 'device', 'devil', 'devised', 'devoid', 'devoted', 'devotion', 'devout', 'dh', 'dharma', 'dhtml', 'di', 'dia', 'diabolical', 'diagnosed', 'diagnosis', 'diagram', 'diagrammatic', 'dial', 'dialated', 'dialect', 'dialog', 'dialogue', 'dialouges', 'diana', 'diane', 'diaper', 'diarrhea', 'diatribe', 'dibease', 'dice', 'dick', 'dickens', 'dictatorship', 'dictionary', 'didactic', 'didnt', 'die', 'died', 'diehard', 'diet', 'diferente', 'diff', 'difference', 'differenciate', 'different', 'difficult', 'difficulty', 'difinitive', 'difranco', 'digest', 'digging', 'digital', 'dignity', 'dillon', 'dim', 'dimage', 'dime', 'dimension', 'dimensional', 'diminsional', 'dimmesdale', 'dingle', 'dinky', 'diogenes', 'dip', 'dipiction', 'direct', 'directed', 'directing', 'direction', 'directly', 'director', 'directx', 'dirty', 'dis', 'disability', 'disabling', 'disaffected', 'disagree', 'disagreed', 'disapointed', 'disapointing', 'disapointment', 'disappoint', 'disappointed', 'disappointing', 'disappointingly', 'disappointment', 'disaster', 'disc', 'discharge', 'discipline', 'disclaimer', 'disclosed', 'disco', 'disconnected', 'discontinued', 'discontinuing', 'discord', 'discotheque', 'discount', 'discounted', 'discouraged', 'discover', 'discovered', 'discovers', 'discrete', 'discriptions', 'discus', 'discussing', 'discussion', 'discworld', 'disease', 'disengage', 'disfrutas', 'disguise', 'disgusted', 'disgusting', 'dish', 'dishonesty', 'disillusioned', 'disjointed', 'disk', 'dislike', 'disliked', 'dismayed', 'disney', 'disorder', 'display', 'disposable', 'dispose', 'disregard', 'disruptive', 'dissapionted', 'dissapointecd', 'dissapointed', 'dissapointing', 'dissapointment', 'dissatified', 'dissatisfied', 'dissent', 'dissident', 'distant', 'distill', 'distinct', 'distinctive', 'distinguish', 'distinguishable', 'distort', 'distorts', 'distract', 'distracting', 'distribution', 'distributor', 'distroyed', 'distrust', 'disturbing', 'ditto', 'dive', 'diversified', 'divert', 'division', 'divo', 'divorced', 'dj', 'dla', 'dna', 'docker', 'doctor', 'doctrine', 'documentary', 'documentation', 'dodgy', 'doesnt', 'dog', 'dogma', 'dolan', 'dolby', 'dolfin', 'dollar', 'dollhouse', 'dolly', 'dome', 'domestic', 'donal', 'done', 'donkey', 'dont', 'doodle', 'doomed', 'door', 'dope', 'dorie', 'dosage', 'dostoyevsky', 'dot', 'double', 'doublecharged', 'doublethink', 'doubt', 'douglas', 'doula', 'dover', 'downer', 'downhill', 'download', 'downloadable', 'downloaded', 'downright', 'downside', 'dozen', 'dozier', 'dr', 'draconian', 'dracula', 'draft', 'drag', 'dragged', 'drain', 'drama', 'dramactic', 'dramatic', 'drape', 'draped', 'drastic', 'drastically', 'draw', 'drawback', 'drawer', 'drawing', 'drawn', 'dread', 'dream', 'dreamworks', 'dreamy', 'dredg', 'dress', 'dressar', 'dressed', 'dressing', 'drew', 'drifter', 'drink', 'drinking', 'dripping', 'drive', 'drivel', 'driven', 'driver', 'driving', 'drm', 'drone', 'drop', 'dropped', 'dropping', 'drove', 'drowned', 'drug', 'drum', 'drunk', 'dry', 'dryer', 'drying', 'dryness', 'drywall', 'dsl', 'dts', 'dual', 'dubbed', 'dubious', 'duck', 'dude', 'due', 'duet', 'duff', 'duke', 'dull', 'dulled', 'dullest', 'dulli', 'dumb', 'dumbed', 'dumbest', 'dumbing', 'dummie', 'dune', 'duplication', 'durability', 'durable', 'durante', 'durrell', 'dust', 'dusty', 'duty', 'dv', 'dvd', 'dwarf', 'dynamic', 'dystopian', 'eads', 'eager', 'eagerly', 'ear', 'earbud', 'earbuds', 'eargels', 'earlier', 'earliest', 'early', 'earned', 'earth', 'earthly', 'earthworm', 'earthy', 'ease', 'easier', 'easily', 'east', 'eastern', 'easy', 'eat', 'eating', 'ebay', 'eccentric', 'ecelente', 'economic', 'economical', 'economics', 'economist', 'ed', 'eddie', 'eden', 'edgar', 'edge', 'edged', 'edit', 'edited', 'edith', 'editing', 'edition', 'editor', 'educated', 'education', 'educational', 'edward', 'eerie', 'effect', 'effected', 'effective', 'effectively', 'efficient', 'effort', 'eg', 'egads', 'eh', 'ehh', 'eichenholf', 'eidos', 'eight', 'eighty', 'either', 'el', 'elastic', 'elasticity', 'elbow', 'elder', 'elderly', 'eleanor', 'electric', 'electricity', 'electronic', 'elegance', 'elegant', 'elem', 'element', 'elementary', 'elemento', 'elephant', 'elevate', 'elevator', 'eleven', 'elf', 'eliot', 'elixir', 'elizabeth', 'ellos', 'else', 'elsewhere', 'em', 'email', 'emailed', 'emarker', 'embarassed', 'embarassingly', 'embarrasment', 'embarrassment', 'embed', 'emer', 'emerges', 'emma', 'emmons', 'emmy', 'emotion', 'emotional', 'emotionally', 'empathetic', 'emperor', 'emphasis', 'empire', 'employed', 'emporer', 'empowers', 'emptor', 'empty', 'en', 'enable', 'encanta', 'enclosed', 'encounter', 'encountered', 'encourage', 'encouraging', 'end', 'ended', 'enders', 'ending', 'endless', 'endure', 'enduring', 'enemy', 'energy', 'enervating', 'enfance', 'engage', 'engaging', 'engine', 'engineering', 'england', 'engle', 'english', 'englishman', 'engraving', 'engrossed', 'engrossing', 'engulfed', 'enhanced', 'enhances', 'enjoy', 'enjoyable', 'enjoyed', 'enjoying', 'enjoys', 'enlighten', 'enlightening', 'enlightenment', 'enormous', 'enough', 'ensued', 'entaining', 'enter', 'entertain', 'entertainament', 'entertaining', 'entertainment', 'entertwining', 'enthrall', 'enthralled', 'enthusiast', 'enthusiastic', 'enticing', 'entire', 'entirely', 'entranced', 'entry', 'envelope', 'enveloped', 'enviar', 'envious', 'environment', 'envision', 'epic', 'epideral', 'episode', 'epson', 'equal', 'equaled', 'equally', 'equation', 'equity', 'equivalent', 'era', 'erb', 'ergeant', 'eric', 'erik', 'erotic', 'eroticism', 'erroneous', 'error', 'errores', 'erudite', 'erudites', 'escape', 'escaped', 'escaping', 'escapism', 'escuchado', 'esker', 'esnecesario', 'esoteric', 'esp', 'especially', 'espionage', 'espire', 'espiritual', 'espl', 'esque', 'essay', 'essence', 'essential', 'essentially', 'est', 'esta', 'established', 'establishment', 'estate', 'este', 'esteem', 'estoa', 'estos', 'estoy', 'estudiar', 'et', 'etc', 'eternal', 'ether', 'ethereal', 'ethnic', 'euro', 'europe', 'european', 'eurybates', 'evacuate', 'evangel', 'evangelical', 'evaporates', 'evel', 'evelyn', 'even', 'evening', 'event', 'eventually', 'ever', 'everest', 'evergreen', 'everone', 'every', 'everybody', 'everyday', 'everyone', 'everyones', 'everything', 'everytime', 'everywhere', 'evidence', 'evil', 'evironmentally', 'evita', 'evn', 'evocative', 'evoke', 'evoked', 'evolve', 'evolved', 'ewww', 'ex', 'exact', 'exactly', 'exaggerated', 'exaggeration', 'examined', 'examines', 'examining', 'example', 'examplescontent', 'exasperating', 'exceeded', 'exceeds', 'exceeption', 'excelente', 'excellant', 'excellent', 'except', 'excepting', 'exception', 'exceptional', 'exceptionally', 'excessive', 'exchange', 'exchanged', 'excited', 'excitement', 'exciting', 'exclusively', 'excruciating', 'excuse', 'excuted', 'executed', 'execution', 'executive', 'exemplifies', 'exeptional', 'exist', 'existance', 'existence', 'existential', 'existing', 'exists', 'exit', 'exloring', 'exorcise', 'exotic', 'exotically', 'expect', 'expectation', 'expected', 'expectedand', 'expecting', 'expects', 'expedcted', 'expedition', 'expense', 'expensive', 'experience', 'experienced', 'experiment', 'experimental', 'expert', 'expired', 'explain', 'explaination', 'explaining', 'explains', 'explanation', 'explanatory', 'explicit', 'explicitly', 'exploded', 'explodimg', 'exploding', 'exploitation', 'exploration', 'explore', 'explores', 'exploring', 'explosion', 'exposing', 'exposure', 'express', 'expressed', 'expression', 'expressive', 'exquisite', 'exquisitely', 'exspecailly', 'extend', 'extended', 'extender', 'extending', 'extends', 'extense', 'extension', 'extensive', 'extensively', 'extra', 'extramely', 'extreme', 'extremely', 'extrememly', 'eye', 'fab', 'fabric', 'fabrication', 'fabulous', 'face', 'facebooking', 'faced', 'facial', 'facing', 'fact', 'faction', 'factor', 'factory', 'factual', 'fade', 'faded', 'fahrenheit', 'fail', 'failed', 'failing', 'fails', 'failure', 'fair', 'fairly', 'fairy', 'faith', 'fake', 'fall', 'fallen', 'falling', 'false', 'fama', 'famer', 'familar', 'familiar', 'family', 'famous', 'fan', 'fanatic', 'fanatsy', 'fantastic', 'fantastical', 'fantasy', 'fantasyland', 'far', 'farce', 'fare', 'farenheit', 'farm', 'fart', 'fascinated', 'fascinating', 'fascination', 'fashion', 'fashioned', 'fast', 'fastcomes', 'faster', 'fat', 'fate', 'father', 'fault', 'faulty', 'fauna', 'faust', 'faux', 'fav', 'fave', 'favor', 'favorable', 'favorite', 'favourite', 'fbi', 'fda', 'fear', 'feature', 'featurette', 'featuring', 'feces', 'fed', 'fee', 'feeble', 'feed', 'feedback', 'feehan', 'feel', 'feelin', 'feeling', 'felicito', 'fell', 'fellcompletely', 'fellow', 'fellowship', 'felt', 'female', 'feminist', 'fencing', 'festival', 'festive', 'fetched', 'feud', 'fi', 'fiat', 'fiber', 'ficbe', 'ficos', 'fiction', 'fictional', 'fiddle', 'fidelity', 'field', 'fifteen', 'fifth', 'fifty', 'fight', 'fighting', 'figure', 'figured', 'figuring', 'file', 'fill', 'filled', 'filler', 'filling', 'film', 'filmed', 'filming', 'filmmaker', 'filthy', 'final', 'finale', 'finally', 'financial', 'find', 'finding', 'fine', 'finest', 'finger', 'fingerprint', 'finish', 'finished', 'finishing', 'finnegan', 'finnegans', 'finningan', 'fire', 'firearm', 'fired', 'firefighter', 'fireman', 'fireplace', 'fireproof', 'firewire', 'firm', 'firmly', 'firmness', 'first', 'firstly', 'firth', 'fischer', 'fish', 'fishing', 'fission', 'fit', 'fite', 'fitted', 'fitting', 'five', 'fix', 'fixed', 'fixing', 'flaking', 'flaky', 'flame', 'flammable', 'flare', 'flash', 'flashback', 'flashy', 'flat', 'flatten', 'flattened', 'flatter', 'flattest', 'flavor', 'flavour', 'flaw', 'flawed', 'flaxman', 'flea', 'fleeing', 'fleetly', 'flexible', 'flick', 'flight', 'flimsy', 'flint', 'flip', 'flippin', 'flirt', 'float', 'floating', 'floor', 'flop', 'flora', 'florette', 'florida', 'flow', 'flower', 'flowery', 'flowing', 'floyd', 'fluent', 'fluff', 'fluid', 'flute', 'fluttering', 'fly', 'flyboys', 'flyer', 'foam', 'focus', 'focuse', 'focussed', 'fog', 'fogger', 'fogging', 'foil', 'fold', 'folded', 'folder', 'folding', 'folk', 'folksy', 'follow', 'followed', 'follower', 'following', 'fond', 'fonda', 'font', 'food', 'fool', 'fooled', 'foolish', 'foolishly', 'foot', 'footnote', 'foray', 'forbidden', 'force', 'forced', 'forcing', 'forecast', 'foreground', 'foreign', 'foremost', 'foreshadowing', 'forest', 'forever', 'foreword', 'forgave', 'forget', 'forgive', 'forgiven', 'forgot', 'forgotten', 'form', 'formal', 'format', 'formatting', 'former', 'forming', 'formula', 'forsyte', 'fort', 'forth', 'forthenight', 'fortunately', 'fortune', 'forty', 'forum', 'forward', 'forwarded', 'forword', 'foster', 'fought', 'foul', 'found', 'foundation', 'foundi', 'four', 'fourth', 'fox', 'fraction', 'fragile', 'frame', 'framework', 'france', 'franchise', 'frank', 'frankenstein', 'frankly', 'franz', 'fraser', 'frazier', 'freak', 'freaky', 'fred', 'free', 'freedom', 'freest', 'freestyle', 'freethinking', 'freeze', 'french', 'frequency', 'frequent', 'frequently', 'fresh', 'freshly', 'fretting', 'freud', 'fricking', 'friday', 'friend', 'friendly', 'friendship', 'frigging', 'fright', 'frightening', 'frighteningly', 'fringe', 'fritz', 'frivolous', 'fromthe', 'front', 'frontrunners', 'frost', 'frosty', 'frozen', 'fruitfull', 'frustrated', 'frustrating', 'frustration', 'fu', 'fue', 'fuel', 'fuerte', 'fulfill', 'fulfilled', 'fulfillment', 'fulfills', 'full', 'fully', 'fun', 'funciono', 'function', 'functional', 'functioning', 'fundamental', 'fundamnetals', 'funk', 'funniest', 'funny', 'furious', 'furniture', 'furthermore', 'fury', 'fusion', 'fuss', 'fussed', 'futhermore', 'future', 'futuristic', 'fuzzy', 'fw', 'gabriel', 'gadget', 'gai', 'gain', 'gained', 'gainer', 'gaining', 'gal', 'galactic', 'galilieo', 'galley', 'gallop', 'game', 'gameboy', 'gamelan', 'gamer', 'gamers', 'gaming', 'gammelgaard', 'gammell', 'gamut', 'gang', 'gangbangin', 'gangsta', 'gap', 'gaping', 'garage', 'garbage', 'garbled', 'garcia', 'garde', 'garnered', 'garter', 'gas', 'gasket', 'gate', 'gathering', 'gauge', 'gault', 'gave', 'gay', 'gazing', 'gb', 'gba', 'gear', 'geared', 'geek', 'geez', 'geforce', 'gehrman', 'gel', 'gem', 'general', 'generally', 'generating', 'generation', 'generator', 'generic', 'generous', 'genious', 'genius', 'genre', 'gentle', 'gently', 'genuine', 'genuis', 'geogr', 'geographical', 'george', 'gerard', 'german', 'germanic', 'germany', 'gesell', 'get', 'gether', 'gettin', 'getting', 'gezeichneten', 'gf', 'ghetto', 'gi', 'giant', 'gibberish', 'gibson', 'gift', 'gifted', 'giganteous', 'gillian', 'gilmore', 'gimmick', 'ginger', 'giovanni', 'girl', 'girlfriend', 'give', 'given', 'giver', 'giving', 'glad', 'glance', 'glare', 'glaring', 'glass', 'glich', 'glimpse', 'glitch', 'global', 'gloomy', 'glorify', 'glory', 'glove', 'glow', 'glue', 'glued', 'gluten', 'go', 'goal', 'gob', 'gobble', 'gobbling', 'god', 'godmother', 'godwill', 'goethe', 'going', 'goingin', 'gold', 'golden', 'gone', 'gonna', 'gonzo', 'good', 'goodfun', 'goodman', 'goodness', 'goodwill', 'goody', 'google', 'gooooooooood', 'goose', 'gorgeous', 'gory', 'gospel', 'got', 'gothic', 'gotta', 'gotten', 'gouge', 'gourmet', 'government', 'grab', 'grace', 'graced', 'graciadamente', 'gracias', 'graciously', 'grad', 'grade', 'gradgrind', 'graf', 'graffitti', 'grain', 'grainy', 'grammatical', 'grammer', 'grammy', 'grammys', 'grand', 'grandchild', 'granddaughter', 'grandes', 'grandfather', 'grandma', 'grandmother', 'grandpa', 'grandparent', 'grandson', 'grant', 'granted', 'grapghics', 'graphic', 'graphicscons', 'grasp', 'grass', 'grateful', 'grating', 'grave', 'gravity', 'gray', 'gre', 'grease', 'greasy', 'great', 'greatest', 'greece', 'greed', 'greek', 'green', 'greengage', 'greening', 'greenspan', 'gregorian', 'gregory', 'greta', 'grew', 'grey', 'grider', 'grieving', 'grill', 'grim', 'grinder', 'grindhouse', 'grinding', 'grip', 'gripe', 'gripping', 'grisham', 'grooming', 'groove', 'groovy', 'grossly', 'ground', 'groundbreaking', 'group', 'grouping', 'grow', 'growin', 'growing', 'grown', 'grows', 'gruesome', 'gu', 'guanajuato', 'guarantee', 'guardaldi', 'guardian', 'gud', 'guerras', 'guess', 'guessing', 'guest', 'guf', 'guidance', 'guide', 'guilt', 'guitar', 'gum', 'gun', 'gusta', 'gut', 'guthrie', 'guy', 'gwendolyn', 'gymnast', 'ha', 'haaving', 'haber', 'habit', 'habito', 'hae', 'hahaha', 'hahahahahahah', 'haiku', 'hair', 'hairdryer', 'half', 'halfway', 'hall', 'hallmark', 'halti', 'hambuger', 'hameful', 'hammer', 'hammering', 'hammett', 'hampstead', 'hampton', 'han', 'hand', 'handbook', 'handed', 'handful', 'handgun', 'handgunners', 'handle', 'handling', 'handwashed', 'handy', 'handyman', 'hang', 'hanging', 'hangzhou', 'hanukah', 'happen', 'happened', 'happening', 'happens', 'happier', 'happily', 'happiness', 'happy', 'hard', 'hardcore', 'hardcover', 'harder', 'hardly', 'hardware', 'hardy', 'harmon', 'harmony', 'harper', 'harris', 'harshness', 'harvest', 'hash', 'hasselbalch', 'hasselbeck', 'hassle', 'hassling', 'haste', 'hat', 'hate', 'hatebreed', 'hated', 'haugan', 'haunt', 'haunted', 'haunting', 'hauntingly', 'hauntingness', 'havent', 'havn', 'hawaii', 'hawthorne', 'hayward', 'haywire', 'hbo', 'hdtv', 'he', 'head', 'headache', 'heading', 'headphone', 'headset', 'heal', 'healing', 'health', 'hear', 'heard', 'hearing', 'hearingthe', 'heart', 'heartless', 'heartwarming', 'heat', 'heater', 'heathen', 'heaven', 'heavier', 'heavily', 'heavy', 'heck', 'height', 'heild', 'held', 'hell', 'hellman', 'helluva', 'help', 'helped', 'helpful', 'helping', 'helplessness', 'henderson', 'hendrix', 'henry', 'herbal', 'herbalist', 'herbert', 'herein', 'heretic', 'hero', 'heroine', 'hesitant', 'hesperus', 'hester', 'hetser', 'hey', 'heyday', 'hhhooottt', 'hi', 'hick', 'hidden', 'hide', 'hierachies', 'higgins', 'high', 'higher', 'highest', 'highly', 'highshcool', 'highway', 'hilarious', 'hilariously', 'hill', 'hillarious', 'hillside', 'hindi', 'hindsight', 'hinge', 'hint', 'hinting', 'hip', 'hipboots', 'hippest', 'hired', 'hist', 'historia', 'historic', 'historical', 'history', 'hit', 'hitachi', 'hitler', 'hitter', 'hitting', 'hmmmmmmm', 'hockey', 'hocking', 'hodge', 'hog', 'hold', 'holder', 'holdsell', 'holdstotal', 'hole', 'holiday', 'holl', 'holland', 'holly', 'hollywood', 'holt', 'holy', 'hombre', 'home', 'homeland', 'homespun', 'homework', 'homosexuality', 'honest', 'honestly', 'honesty', 'honor', 'honorable', 'hook', 'hooked', 'hooking', 'hooray', 'hooth', 'hop', 'hope', 'hoped', 'hopeful', 'hopefully', 'hopeless', 'hoping', 'horatio', 'horizontally', 'horney', 'horrendous', 'horrible', 'horribly', 'horrid', 'horrific', 'horrified', 'horror', 'hose', 'hospital', 'host', 'hot', 'hotel', 'hottie', 'hotties', 'hound', 'hour', 'house', 'houseman', 'howeve', 'however', 'hoxley', 'hp', 'hr', 'hte', 'html', 'hub', 'hubby', 'hudred', 'hug', 'huge', 'hugging', 'hugh', 'hughes', 'huh', 'hum', 'human', 'humane', 'humanidad', 'humanity', 'humano', 'humble', 'humidity', 'humm', 'humming', 'humor', 'humorous', 'hundred', 'hung', 'hunger', 'hungry', 'hunt', 'hunter', 'hunting', 'huracanado', 'hurdle', 'hurried', 'hurry', 'hurt', 'husband', 'husbandand', 'huston', 'hutton', 'huxley', 'hvis', 'hyacinth', 'hynde', 'hype', 'hypnotic', 'hypnotized', 'hypocrisy', 'hysterically', 'ian', 'ibm', 'ibook', 'ice', 'icluding', 'icon', 'id', 'idea', 'ideal', 'identical', 'identified', 'identify', 'identifying', 'idesa', 'idiom', 'idioma', 'idiosyncracies', 'idiosyncratic', 'idiot', 'idiotic', 'idleness', 'ignorance', 'ignore', 'ignored', 'ignores', 'igual', 'ii', 'il', 'ill', 'illegal', 'illness', 'illusion', 'illustrated', 'illustration', 'illustrator', 'im', 'imac', 'image', 'imagery', 'imaginary', 'imagination', 'imaginative', 'imagine', 'imagined', 'imagineray', 'imagining', 'imediatly', 'imitated', 'imitation', 'immature', 'immeadiately', 'immeadiatly', 'immediate', 'immediately', 'immense', 'immensely', 'immorality', 'immortality', 'immunity', 'imo', 'impact', 'impart', 'imparted', 'impeccable', 'imperfect', 'imperial', 'implausibly', 'implemented', 'implicated', 'imply', 'importa', 'importance', 'important', 'importnat', 'imposed', 'impossible', 'impressed', 'impression', 'impressionist', 'impressive', 'imprimatur', 'imprint', 'improbable', 'improve', 'improved', 'improvement', 'improves', 'improvisation', 'improviser', 'in', 'inability', 'inane', 'inappropriate', 'incest', 'inch', 'inclined', 'include', 'included', 'includes', 'including', 'incoherent', 'incomparable', 'inconveniente', 'incorporado', 'incorporates', 'incorrect', 'increase', 'increasing', 'incredible', 'incredibly', 'indeed', 'independent', 'index', 'indian', 'indianists', 'indicate', 'indicated', 'indicates', 'indication', 'indicator', 'indie', 'indigenous', 'individual', 'indoor', 'indulgent', 'industrial', 'industrious', 'industry', 'ineffective', 'inevitable', 'inexcusably', 'inexpensive', 'inexplicably', 'infact', 'infamous', 'infant', 'infatueightieswhoknowsforthenightyouknowyoulovememomentinlifewomanopolybuy', 'infinite', 'inflabe', 'inflate', 'inflated', 'inflates', 'inflating', 'inflation', 'inflict', 'influence', 'influential', 'info', 'informado', 'information', 'informative', 'informed', 'informing', 'infrequently', 'infront', 'ingenious', 'ingredient', 'ingulfs', 'inhale', 'inherent', 'inhumanity', 'initally', 'initial', 'initialey', 'initially', 'initiator', 'injesting', 'injured', 'injury', 'ink', 'innacurate', 'inner', 'innocence', 'innocent', 'innovation', 'innovative', 'innumerable', 'input', 'inquired', 'inquiry', 'insane', 'insanity', 'insect', 'insensible', 'insensitive', 'inseparable', 'insert', 'inserted', 'inside', 'insider', 'insight', 'insightful', 'insipid', 'insipidly', 'insolvency', 'inspiration', 'inspirational', 'inspire', 'inspired', 'inspires', 'inspiring', 'inspite', 'instaed', 'install', 'installation', 'installed', 'installing', 'installment', 'instance', 'instant', 'instead', 'instinct', 'institute', 'instructed', 'instruction', 'instructor', 'instrument', 'instrumental', 'insturctions', 'insular', 'insulated', 'insulating', 'insult', 'insulted', 'intact', 'intall', 'integrates', 'integrating', 'integrity', 'intel', 'intellect', 'intellectual', 'intellegence', 'intellegent', 'intelligence', 'intelligent', 'intelligible', 'intend', 'intended', 'intense', 'intensive', 'intent', 'intention', 'interaction', 'interconnected', 'interest', 'interested', 'interesting', 'interestingly', 'interface', 'interfere', 'interfering', 'interlude', 'intermediate', 'intermingled', 'intermittent', 'internal', 'international', 'internet', 'interpretation', 'interpreted', 'intersting', 'intertwining', 'interuppted', 'intervention', 'interview', 'interviewed', 'interviewee', 'intestine', 'intex', 'intolerable', 'intriguing', 'intro', 'introduce', 'introduced', 'introduction', 'introductory', 'introspective', 'invaluable', 'invaluble', 'invented', 'inventive', 'invest', 'investigate', 'investigation', 'investigator', 'investment', 'investor', 'invite', 'involved', 'involvement', 'involving', 'involvment', 'inwinning', 'iogear', 'ionformative', 'ipad', 'iphone', 'ipod', 'iraq', 'ireland', 'irish', 'iron', 'ironic', 'ironical', 'ironically', 'irrational', 'irresistible', 'irritated', 'irritating', 'isaac', 'isabella', 'isbn', 'ishtar', 'islam', 'islamic', 'islamism', 'island', 'isle', 'isley', 'isnt', 'isolating', 'issue', 'italian', 'italy', 'item', 'iteration', 'itfor', 'itnerested', 'itten', 'itunes', 'itzhak', 'ive', 'izzy', 'jabra', 'jack', 'jacket', 'jackrabbit', 'jackson', 'jacques', 'jaguar', 'jail', 'jake', 'jam', 'jamaica', 'jamas', 'james', 'jamie', 'jane', 'janeiro', 'janet', 'japanese', 'javascript', 'jaw', 'jawbone', 'jax', 'jay', 'jazz', 'jazzie', 'jazzy', 'jbl', 'je', 'jean', 'jeez', 'jeg', 'jell', 'jenna', 'jerk', 'jerker', 'jerkin', 'jerky', 'jerry', 'jesse', 'jesus', 'jetty', 'jewish', 'jimmy', 'jin', 'jkd', 'job', 'joe', 'john', 'johnny', 'joined', 'joint', 'joke', 'joking', 'jon', 'jonathan', 'jonathin', 'jones', 'jong', 'jose', 'josef', 'joseph', 'joshua', 'journal', 'journey', 'joy', 'joyce', 'jrx', 'judd', 'judge', 'judged', 'judgement', 'judgment', 'judgmental', 'judokas', 'jug', 'jujitsuka', 'jul', 'julia', 'julie', 'juliet', 'juliette', 'juliun', 'jumble', 'jumbo', 'jump', 'jumped', 'jumping', 'jumpy', 'junior', 'junk', 'jury', 'jusat', 'jusbeautiful', 'justgivemeawholealbumicouldlistentoo', 'justice', 'justify', 'jut', 'juvenile', 'jvc', 'ka', 'kafka', 'kala', 'kaleidoscope', 'kane', 'kansa', 'karen', 'karma', 'kars', 'kate', 'katrina', 'kay', 'keanu', 'keel', 'keep', 'keeper', 'keepin', 'keeping', 'kelly', 'kennedy', 'kenneth', 'kent', 'kept', 'kerouac', 'kettle', 'kevin', 'key', 'keyboard', 'keynes', 'keyring', 'khaki', 'kick', 'kickin', 'kid', 'kidding', 'kidnapped', 'kidnapping', 'kidney', 'kill', 'killed', 'killer', 'killing', 'kilterness', 'kim', 'kincade', 'kind', 'kinda', 'kindle', 'kindof', 'king', 'kingdom', 'kingston', 'kiss', 'kissed', 'kissing', 'kit', 'kitchen', 'klaatu', 'klein', 'klimek', 'klutz', 'knee', 'knew', 'knievel', 'knife', 'knight', 'knob', 'knock', 'knocker', 'know', 'knowing', 'knowledge', 'known', 'knoxville', 'koncerei', 'kool', 'koontz', 'korea', 'kosovo', 'krakauer', 'kreuz', 'krusty', 'kudos', 'kundera', 'kurdish', 'kvr', 'kylie', 'la', 'lab', 'label', 'labor', 'lace', 'lack', 'lacked', 'lackey', 'lacking', 'lady', 'laetitia', 'laid', 'laiden', 'lake', 'lakein', 'lamaze', 'lambert', 'lame', 'lament', 'lamenting', 'lamest', 'lamp', 'land', 'landed', 'landfill', 'landlord', 'landscape', 'lane', 'langston', 'language', 'laptop', 'lara', 'large', 'largely', 'larger', 'larkenfield', 'last', 'lasted', 'lasting', 'lastly', 'late', 'later', 'latest', 'latin', 'latter', 'laugh', 'laughable', 'laughed', 'laughing', 'laughter', 'lauguage', 'launch', 'launched', 'laura', 'laurie', 'law', 'lawrence', 'lawyer', 'lax', 'lay', 'layer', 'layered', 'layout', 'lazy', 'lb', 'lbw', 'lcd', 'le', 'lead', 'leader', 'leadership', 'leading', 'leaf', 'leafing', 'league', 'leak', 'leakage', 'leaked', 'leaking', 'lean', 'leap', 'lear', 'learn', 'learned', 'learning', 'least', 'leather', 'leave', 'leaving', 'led', 'leen', 'leer', 'leerlo', 'left', 'leg', 'legal', 'legend', 'legendary', 'legibility', 'legion', 'legit', 'legitamate', 'lena', 'lene', 'length', 'leonardo', 'leppard', 'leslie', 'lesser', 'lesson', 'lestat', 'let', 'letch', 'letdown', 'letter', 'letting', 'level', 'lever', 'levity', 'lewis', 'lhasa', 'liam', 'liberace', 'libertarian', 'liberty', 'librarian', 'library', 'libro', 'libros', 'licious', 'lie', 'liesure', 'life', 'lifelike', 'lifestyle', 'lifetime', 'lifeview', 'lifewe', 'liffeyette', 'lifted', 'light', 'lighted', 'lighter', 'lighthouse', 'lighting', 'lightness', 'lightweight', 'like', 'likeable', 'liked', 'likely', 'lilac', 'lili', 'lilt', 'lima', 'limbo', 'limerick', 'limit', 'limitation', 'limited', 'limiting', 'limp', 'lin', 'line', 'liner', 'lingers', 'link', 'linus', 'lion', 'lipstick', 'liquid', 'list', 'lista', 'listed', 'listen', 'listened', 'listener', 'listening', 'listens', 'listing', 'lit', 'lite', 'literally', 'literallyliterally', 'literaly', 'literary', 'literature', 'literture', 'little', 'litton', 'live', 'lived', 'lively', 'living', 'lj', 'llc', 'llcthey', 'llegamos', 'llevamos', 'lo', 'load', 'loaded', 'loading', 'loathing', 'local', 'located', 'location', 'lock', 'logic', 'logical', 'logically', 'lol', 'lola', 'london', 'loneline', 'lonely', 'lonesome', 'long', 'longed', 'longer', 'longest', 'look', 'looked', 'lookin', 'looking', 'loop', 'loos', 'loose', 'looser', 'loosing', 'lop', 'lord', 'lore', 'los', 'lose', 'loses', 'losing', 'loss', 'lost', 'lot', 'lou', 'loud', 'loudly', 'louie', 'lounge', 'lousy', 'lovable', 'love', 'loved', 'lovely', 'lover', 'loving', 'lovitz', 'low', 'lowbrow', 'lowell', 'lower', 'lowridin', 'loyal', 'loyalty', 'lsat', 'ltte', 'lucas', 'luck', 'luckily', 'lucky', 'lucy', 'luftwaffe', 'lulling', 'lulu', 'lunatic', 'lunch', 'lush', 'lust', 'luster', 'luxury', 'lynetee', 'lynette', 'lynyrd', 'lyric', 'lyrical', 'lyrically', 'lyset', 'ma', 'mabye', 'mac', 'macabre', 'macally', 'macaroni', 'macbook', 'macdonald', 'machine', 'mackeral', 'macondo', 'mad', 'made', 'madeleine', 'madeline', 'mades', 'madness', 'madonna', 'mag', 'magazine', 'mage', 'magic', 'magical', 'magnet', 'magnetic', 'magnificent', 'magnifying', 'magnitude', 'magnum', 'mah', 'maha', 'maid', 'mail', 'mailed', 'mailedwhere', 'mailer', 'main', 'mainly', 'maintain', 'major', 'majority', 'make', 'maker', 'making', 'male', 'malformed', 'maligned', 'mall', 'man', 'manage', 'managed', 'management', 'managerafter', 'manages', 'managing', 'mandatory', 'manera', 'manet', 'maneuver', 'maneuvered', 'manga', 'manger', 'mangling', 'manipulation', 'mankind', 'manned', 'manner', 'mannered', 'mannerism', 'manon', 'manons', 'manor', 'mansion', 'manson', 'manual', 'manually', 'manuever', 'manufactured', 'manufacturer', 'many', 'map', 'mar', 'mara', 'maravilloso', 'marcellino', 'march', 'marco', 'marcus', 'margaret', 'margery', 'margin', 'mariah', 'marijuana', 'marine', 'marino', 'mario', 'maritial', 'mark', 'marker', 'market', 'markup', 'marquez', 'marriage', 'married', 'marring', 'marrying', 'marsh', 'martha', 'martial', 'martin', 'marvalettes', 'marvellous', 'marvelous', 'mary', 'masking', 'masochism', 'masquerading', 'mass', 'massachusetts', 'massacre', 'massager', 'massed', 'master', 'masterfully', 'masterpiece', 'mastery', 'mat', 'match', 'matching', 'mate', 'material', 'materialistic', 'mathematical', 'mathematically', 'mathimatical', 'matilda', 'matrix', 'matt', 'mattel', 'matter', 'mattress', 'mature', 'max', 'maxed', 'maximost', 'maxwell', 'may', 'maybe', 'mayes', 'mazur', 'mb', 'mccarty', 'mcclellan', 'mcduffie', 'mcgraw', 'mckellan', 'mckellen', 'mcmillan', 'mcteirnan', 'meadow', 'meal', 'mean', 'meandering', 'meaning', 'meaningless', 'meant', 'meantime', 'measly', 'measure', 'measured', 'measurement', 'meat', 'meaty', 'mechanical', 'mechanically', 'med', 'medication', 'medicinal', 'medicore', 'medieval', 'mediocre', 'meditate', 'meditation', 'mediterranean', 'medium', 'meet', 'mega', 'megaman', 'megan', 'mejores', 'mel', 'melancholic', 'melendez', 'mellow', 'mellows', 'melodic', 'melodius', 'melodrama', 'melody', 'melt', 'melted', 'member', 'memoir', 'memorable', 'memorize', 'memorizing', 'memory', 'men', 'menace', 'menacing', 'mendelssohn', 'menos', 'mental', 'mentality', 'mention', 'mentioned', 'mentioning', 'mentoins', 'menu', 'mercantilism', 'mercedes', 'merchant', 'mere', 'merely', 'merged', 'merit', 'merrill', 'merrills', 'merriment', 'mesmerized', 'mess', 'message', 'messed', 'messenger', 'messy', 'met', 'metal', 'metamucil', 'metaphor', 'metaphysical', 'meteorologist', 'metered', 'method', 'methodist', 'metropolis', 'mexico', 'mg', 'mh', 'mhz', 'mi', 'mia', 'mib', 'michael', 'microphone', 'microsoft', 'mics', 'mid', 'middle', 'midi', 'midland', 'midnight', 'midnite', 'midway', 'midwife', 'midworld', 'miedo', 'might', 'mighty', 'miguel', 'mika', 'mike', 'mikepetel', 'milan', 'mildly', 'mile', 'military', 'milk', 'milked', 'mill', 'millenia', 'millenium', 'miller', 'million', 'mimic', 'min', 'mind', 'minded', 'mindful', 'mindless', 'mindset', 'mine', 'mini', 'minimal', 'minimum', 'minister', 'minogue', 'minolta', 'minor', 'minority', 'minsthis', 'minute', 'miracle', 'misaligned', 'mischief', 'miserably', 'misery', 'misfortune', 'misguided', 'misinformed', 'mislabeling', 'mislabelled', 'misleading', 'misma', 'mismatched', 'mismo', 'misplaced', 'misquote', 'misrepresentation', 'miss', 'missed', 'missing', 'mission', 'missouri', 'mistake', 'mistaken', 'misteps', 'mistress', 'misunderstood', 'mitchum', 'mix', 'mixed', 'mixer', 'mixing', 'mixture', 'mmmmmmm', 'mn', 'moan', 'moby', 'mode', 'model', 'modem', 'moderate', 'modern', 'modernistic', 'modicum', 'modification', 'modified', 'modify', 'moisture', 'moisturizing', 'mom', 'momement', 'moment', 'momentinlife', 'momento', 'momentum', 'monacolins', 'monarch', 'monday', 'money', 'mongolia', 'mongolian', 'monitored', 'monitoring', 'monk', 'monkey', 'monopoly', 'monotone', 'monotonous', 'monoxide', 'monster', 'montag', 'montage', 'montana', 'month', 'monthly', 'mood', 'moody', 'moon', 'moondust', 'moore', 'mor', 'moral', 'morality', 'morbid', 'moreover', 'moria', 'moriah', 'morning', 'moronic', 'mort', 'mortage', 'mostly', 'mother', 'motherboard', 'mothes', 'mothman', 'motif', 'motion', 'motivates', 'motivation', 'motor', 'motorhead', 'motorola', 'motown', 'mount', 'mountain', 'mountaineer', 'mouse', 'mouth', 'move', 'moved', 'movement', 'movie', 'moving', 'moyers', 'mozart', 'mp', 'mr', 'mrx', 'mt', 'mtv', 'much', 'mucho', 'muchos', 'mud', 'muders', 'muff', 'mujer', 'multinational', 'multiple', 'munchen', 'munchkin', 'mundo', 'municipality', 'murder', 'murdered', 'murderer', 'murphy', 'murray', 'museum', 'mush', 'mushroom', 'music', 'musical', 'musicality', 'musically', 'musician', 'musiq', 'musique', 'musky', 'muslim', 'must', 'musty', 'muvie', 'muy', 'mx', 'mycotoxin', 'myers', 'mykel', 'mysterious', 'mystery', 'mysticism', 'myth', 'myther', 'mythical', 'nada', 'nafgaa', 'naglfar', 'nail', 'naked', 'name', 'named', 'nameless', 'nanny', 'naomi', 'naples', 'nappily', 'napster', 'narcissism', 'narrates', 'narrative', 'narrator', 'narrow', 'nasa', 'nashville', 'nasty', 'nathaniel', 'nation', 'national', 'nationalist', 'native', 'natty', 'natural', 'naturally', 'nature', 'naughtiness', 'nauseating', 'naval', 'navidad', 'navigate', 'navy', 'nazi', 'nb', 'nba', 'nd', 'ndido', 'near', 'nearby', 'nearly', 'neat', 'nebel', 'necesite', 'necessairly', 'necessarily', 'necessary', 'necessity', 'need', 'needed', 'needle', 'neeson', 'negating', 'negative', 'negativitiy', 'neglect', 'negligent', 'negotiable', 'neighbor', 'neither', 'nelson', 'neo', 'nervousness', 'net', 'netflix', 'never', 'nevertheless', 'new', 'newborn', 'newer', 'newest', 'newjack', 'newland', 'newman', 'news', 'newspaper', 'newspeak', 'newton', 'next', 'ni', 'nic', 'nice', 'nicely', 'nicer', 'nick', 'nickel', 'nickle', 'nicky', 'nicolas', 'nieghbors', 'nietzsche', 'nigeria', 'nigerian', 'night', 'nightclub', 'nightmare', 'nilly', 'nimitz', 'nine', 'nineteen', 'nineteenth', 'ningun', 'nirvana', 'nivel', 'nj', 'nmaed', 'noam', 'nobbs', 'noble', 'nobody', 'nodding', 'noddy', 'noir', 'noise', 'nominal', 'non', 'none', 'nonessential', 'nonetheless', 'nonsense', 'nonsensical', 'nonstop', 'noritake', 'norm', 'normal', 'normally', 'norman', 'north', 'northern', 'northwinds', 'nose', 'nosotros', 'nostalgic', 'notch', 'note', 'notebook', 'noted', 'noteriety', 'nothing', 'noti', 'notice', 'noticeably', 'noticed', 'novel', 'novela', 'novelfinally', 'novelist', 'novelization', 'novella', 'novelty', 'novice', 'nowadays', 'nowhere', 'nowing', 'nowload', 'nt', 'nude', 'nudiboots', 'nudity', 'nuel', 'nuestro', 'nuff', 'nugget', 'nuisance', 'number', 'numbered', 'numberof', 'numbing', 'numerical', 'numerous', 'nurse', 'nut', 'nutrition', 'nutritional', 'nutshell', 'nutty', 'nyc', 'oat', 'obey', 'object', 'objective', 'obligation', 'obligatory', 'obnoxious', 'obnoxiously', 'obra', 'obscene', 'obscures', 'obscurity', 'observe', 'obsessed', 'obsessive', 'obsolete', 'obstacle', 'obvious', 'obviousl', 'obviously', 'oc', 'occasion', 'occasional', 'occasionally', 'occur', 'occuring', 'occurring', 'occurs', 'ocean', 'oceando', 'ocndition', 'ocr', 'october', 'odd', 'oddly', 'odds', 'odio', 'odysseus', 'odyssey', 'offensive', 'offensiveness', 'offer', 'offered', 'offering', 'office', 'officer', 'official', 'offs', 'offthe', 'oflovastatins', 'ofnly', 'oft', 'often', 'oh', 'ohh', 'ohm', 'oil', 'ok', 'okay', 'old', 'older', 'oldest', 'olin', 'olson', 'olvidensen', 'omen', 'omg', 'one', 'onecan', 'onei', 'oneill', 'onion', 'online', 'onset', 'ontario', 'onto', 'ooh', 'ooze', 'op', 'open', 'opened', 'opener', 'opening', 'opera', 'operate', 'operated', 'operating', 'operation', 'operative', 'opinion', 'oposite', 'opponent', 'opportunity', 'opposed', 'opposite', 'oppositional', 'oppressed', 'oppression', 'optimus', 'opting', 'option', 'opus', 'orchandler', 'orchestra', 'orchestral', 'orchestrated', 'orchestration', 'orchid', 'ordeal', 'order', 'ordered', 'ordereda', 'ordering', 'organ', 'organisation', 'organization', 'organize', 'organized', 'orginal', 'orient', 'orientalia', 'orientation', 'origin', 'original', 'originality', 'originally', 'originario', 'originates', 'orignal', 'orleans', 'orson', 'ortograf', 'orwel', 'orwell', 'orwellian', 'os', 'oscar', 'ost', 'ostentatious', 'othere', 'otherewise', 'others', 'otherwise', 'otra', 'otras', 'otros', 'ottoman', 'ought', 'oustanding', 'out', 'outcast', 'outcome', 'outdated', 'outdoor', 'outer', 'outfit', 'outfrom', 'outlaw', 'outline', 'outlook', 'output', 'outright', 'outro', 'outside', 'outsider', 'outstanding', 'outta', 'outweighed', 'overall', 'overblown', 'overcome', 'overcoming', 'overcritical', 'overdone', 'overdubbing', 'overkill', 'overlap', 'overlaying', 'overlong', 'overlooked', 'overly', 'overplayed', 'overpriced', 'overrated', 'overshadowed', 'overtly', 'overtone', 'overture', 'overturned', 'overused', 'overview', 'overweight', 'overwhelmed', 'overwhelming', 'overwrought', 'owe', 'owen', 'owned', 'owner', 'ownership', 'owning', 'owns', 'oxford', 'oz', 'pa', 'pace', 'paced', 'pacient', 'pacing', 'pack', 'package', 'packaged', 'packaging', 'packed', 'packer', 'packing', 'pact', 'pad', 'page', 'pagina', 'pagination', 'pahmplets', 'paid', 'pain', 'paine', 'painful', 'painfully', 'paint', 'painted', 'painting', 'pair', 'paises', 'pajama', 'pal', 'palatable', 'palette', 'pamphlet', 'pan', 'panel', 'panning', 'pant', 'panther', 'panty', 'paper', 'paperport', 'para', 'parable', 'parade', 'paradise', 'paragraph', 'paralells', 'parallel', 'paramount', 'paranoid', 'parasite', 'pard', 'pardum', 'parent', 'pareto', 'parinoid', 'paris', 'park', 'parricia', 'part', 'partially', 'participant', 'particular', 'particularly', 'partin', 'parting', 'partner', 'parton', 'party', 'pas', 'pasado', 'pasar', 'pase', 'pass', 'passage', 'passed', 'passing', 'passion', 'password', 'past', 'pasted', 'pastime', 'pat', 'patch', 'path', 'pathetic', 'patience', 'patient', 'patricia', 'patrick', 'patriotic', 'pattern', 'patty', 'paul', 'paulus', 'paxton', 'pay', 'paying', 'payoff', 'pb', 'pc', 'pci', 'pd', 'peaceful', 'peak', 'peanut', 'pearl', 'pearlman', 'peccadillo', 'peck', 'pedal', 'pedantic', 'pedido', 'peek', 'peel', 'peeling', 'pefectly', 'peggy', 'peice', 'pelligrino', 'pen', 'pending', 'penelope', 'penguin', 'peninsula', 'penis', 'penitration', 'penny', 'pense', 'people', 'peopled', 'peores', 'pepper', 'peppered', 'per', 'perabo', 'percent', 'percentage', 'perception', 'perchaced', 'percussion', 'perdido', 'perennial', 'perfect', 'perfection', 'perfectly', 'perform', 'performance', 'performed', 'performer', 'performs', 'perhaps', 'period', 'periodically', 'perk', 'perlman', 'permanent', 'pero', 'perodes', 'perplexing', 'perscription', 'person', 'persona', 'personal', 'personality', 'personalized', 'personally', 'personifies', 'perspective', 'persuasive', 'pertier', 'perverse', 'pet', 'peter', 'petition', 'pfizer', 'pg', 'phantastic', 'phantom', 'phargaph', 'pharma', 'phd', 'phenomenal', 'phenomenon', 'phew', 'phil', 'philippine', 'philosophical', 'philosophy', 'phobos', 'phone', 'photo', 'photograph', 'photographic', 'photography', 'photoplay', 'photosmart', 'phrase', 'physical', 'physically', 'piano', 'pick', 'picked', 'pickin', 'pickup', 'picture', 'pictured', 'pictureshow', 'piece', 'pienso', 'pierce', 'pierdas', 'pig', 'pill', 'pillow', 'pilot', 'pin', 'pine', 'pinhead', 'pink', 'pioneer', 'pipe', 'pipeline', 'piper', 'pirirt', 'piss', 'pitched', 'pithy', 'pitiful', 'pity', 'pixel', 'pkk', 'place', 'placed', 'placement', 'plain', 'plainly', 'plan', 'plane', 'planet', 'planeta', 'planned', 'planning', 'plant', 'plastic', 'plated', 'plausible', 'play', 'playback', 'played', 'player', 'playful', 'playing', 'playlist', 'playtime', 'plcae', 'pleasant', 'pleasantly', 'please', 'pleased', 'pleasent', 'pleasurable', 'pleasure', 'pleasureful', 'plenty', 'plot', 'plotline', 'plotlines', 'plotted', 'plotting', 'plucked', 'plug', 'plugged', 'plus', 'poca', 'pocket', 'podido', 'poe', 'poem', 'poet', 'poetic', 'poetry', 'poignant', 'point', 'pointed', 'pointer', 'pointing', 'pointless', 'poise', 'poked', 'poking', 'polar', 'pole', 'police', 'policeman', 'policy', 'polish', 'polished', 'politcal', 'polite', 'political', 'politically', 'politician', 'politics', 'polka', 'polo', 'polysorbate', 'pompous', 'ponder', 'pontifications', 'pony', 'pool', 'poop', 'poor', 'poorest', 'poorly', 'pop', 'popluar', 'popped', 'popping', 'poppy', 'populace', 'popular', 'popularity', 'por', 'pore', 'porque', 'port', 'portability', 'portable', 'portion', 'portrait', 'portray', 'portrayal', 'portrayed', 'portrays', 'pose', 'posing', 'position', 'positive', 'positively', 'positronic', 'posse', 'possessed', 'possibility', 'possible', 'possiblity', 'possibly', 'post', 'postcard', 'poster', 'posteriormente', 'posture', 'pot', 'potential', 'potentially', 'potholder', 'potter', 'potty', 'pound', 'pouting', 'poverty', 'powder', 'power', 'powerbook', 'powered', 'powerex', 'powerful', 'powerscore', 'practical', 'practicality', 'practically', 'practice', 'practicing', 'prague', 'praise', 'praising', 'pratchett', 'pratchetts', 'pray', 'pre', 'preached', 'preachy', 'precious', 'precise', 'precisely', 'precocious', 'predates', 'predictable', 'predicted', 'prediction', 'predilictions', 'predominantly', 'prefer', 'preferred', 'pregnancy', 'pregnant', 'prejudice', 'preliminary', 'prelude', 'premise', 'premium', 'prendergast', 'preordained', 'prep', 'preparando', 'preparation', 'prepare', 'prepared', 'preperation', 'prepregnancy', 'preschool', 'presence', 'present', 'presentation', 'presented', 'presenter', 'presenting', 'president', 'presidential', 'presntacion', 'press', 'pressed', 'pressing', 'pressure', 'presuming', 'pretend', 'pretender', 'pretending', 'pretentious', 'prettily', 'pretty', 'prevalent', 'prevent', 'preview', 'previous', 'prey', 'price', 'priced', 'pride', 'priest', 'primarily', 'primary', 'prime', 'primero', 'principle', 'print', 'printed', 'printer', 'printerand', 'printing', 'prior', 'priori', 'prison', 'pristine', 'private', 'priveliged', 'privilidge', 'prizing', 'pro', 'probability', 'probably', 'probing', 'problem', 'problematic', 'problme', 'proceeded', 'proceeds', 'process', 'processed', 'processing', 'processor', 'prodct', 'produce', 'produced', 'producer', 'producing', 'producrions', 'product', 'production', 'productive', 'producto', 'prof', 'profesora', 'profession', 'professional', 'professionally', 'professor', 'proficies', 'profit', 'profound', 'program', 'programmable', 'programme', 'programming', 'progress', 'progression', 'progressive', 'prohibited', 'project', 'projection', 'proletariat', 'prologue', 'prominent', 'promiscious', 'promise', 'promised', 'promotes', 'prompt', 'prompted', 'promptly', 'prong', 'pronounce', 'proof', 'prop', 'propaganda', 'propel', 'proper', 'properly', 'property', 'prophecy', 'prophetic', 'proportion', 'propose', 'proposition', 'proposito', 'proprietor', 'prose', 'prospect', 'prospective', 'protagonist', 'protect', 'protection', 'protest', 'protrude', 'protruding', 'proud', 'prove', 'proved', 'provice', 'provide', 'provided', 'provider', 'provides', 'providing', 'proving', 'provocateur', 'provocative', 'provocatively', 'provoking', 'proximity', 'prpduction', 'prudery', 'pryce', 'prynne', 'pscyo', 'psyche', 'psychedelic', 'psychiatry', 'psycho', 'psychohistory', 'psychological', 'psychologist', 'psychology', 'psychosis', 'public', 'publication', 'published', 'publisher', 'pueblo', 'puedes', 'puke', 'puleeze', 'pulitzer', 'pull', 'pulled', 'pulling', 'pulp', 'pump', 'pumped', 'pumping', 'pun', 'punch', 'punctuation', 'punish', 'punishment', 'punk', 'puppet', 'purchace', 'purchas', 'purchase', 'purchased', 'purchasing', 'pure', 'purely', 'purge', 'puritan', 'puritanical', 'puritanism', 'purpose', 'pursue', 'pursues', 'purtian', 'pus', 'push', 'pushed', 'pushing', 'pussyfoot', 'put', 'putrid', 'putting', 'puzzle', 'puzzling', 'quaker', 'qualification', 'quality', 'qualitycons', 'quarantine', 'quarter', 'quartet', 'que', 'queen', 'queer', 'quest', 'question', 'questionable', 'questioning', 'quia', 'quibble', 'quick', 'quickly', 'quicktime', 'quien', 'quiet', 'quigley', 'quigleys', 'quin', 'quinn', 'quintessential', 'quirk', 'quirky', 'quit', 'quite', 'quixotic', 'quiz', 'quote', 'quoted', 'ra', 'rabbi', 'rabbit', 'rabelais', 'race', 'rachel', 'racing', 'racism', 'racquet', 'radcliffe', 'radeon', 'radiant', 'radiate', 'radical', 'radio', 'rag', 'ragged', 'raging', 'raider', 'rain', 'rainy', 'raise', 'raised', 'raising', 'ralph', 'ram', 'ramble', 'rambling', 'ramblings', 'rammstein', 'ramp', 'ran', 'rancid', 'random', 'range', 'ranging', 'rank', 'rape', 'rapid', 'rapidly', 'rapido', 'raping', 'rapist', 'rapping', 'rapture', 'rapunzel', 'rare', 'rarely', 'rashel', 'rate', 'rated', 'rather', 'rating', 'ratio', 'rattle', 'raunchy', 'raw', 'ray', 'raydiation', 'rd', 'rea', 'reach', 'reached', 'reaching', 'reaction', 'read', 'readable', 'reader', 'readfor', 'reading', 'ready', 'real', 'realism', 'realistic', 'reality', 'realize', 'realized', 'realizing', 'really', 'realm', 'rear', 'reason', 'reasonable', 'reasonably', 'rebel', 'rebellion', 'reboot', 'rebuttal', 'recall', 'recalled', 'recamend', 'recapture', 'reccomend', 'reccommend', 'receipt', 'receive', 'received', 'receiver', 'receiving', 'recent', 'recently', 'rechargeable', 'recien', 'recieve', 'recieved', 'recipe', 'recipient', 'reciving', 'reckless', 'reclaiming', 'recognised', 'recognition', 'recognize', 'recognized', 'recomend', 'recomended', 'recomiedo', 'recommend', 'recommendation', 'recommended', 'recommends', 'recomment', 'recommneded', 'reconcile', 'reconmend', 'record', 'recorded', 'recorder', 'recording', 'recover', 'recovered', 'recreate', 'recreational', 'recruit', 'rectangle', 'rector', 'red', 'redeem', 'redeemable', 'redeeming', 'redemption', 'redgrave', 'redneck', 'reduces', 'redundant', 'reed', 'reef', 'reeking', 'ref', 'refer', 'reference', 'referente', 'referring', 'refers', 'reffering', 'reflect', 'reflected', 'reflection', 'reflects', 'refractory', 'refresher', 'refreshing', 'refrigerator', 'refuge', 'refund', 'refurbished', 'refusing', 'regarding', 'regardless', 'regi', 'regret', 'regular', 'regularly', 'rehash', 'reid', 'reilly', 'reimburse', 'reinforcement', 'reinhold', 'reinstalled', 'reinterpretation', 'reinvent', 'reinvention', 'reinvigorate', 'reisssued', 'reject', 'rejecting', 'rejuivinate', 'relaible', 'relate', 'related', 'relates', 'relation', 'relationship', 'relative', 'relatively', 'relax', 'relaxer', 'relaxing', 'release', 'released', 'relevant', 'reliable', 'reliant', 'relies', 'relieve', 'religion', 'religious', 'relish', 'relite', 'relly', 'reload', 'reluctance', 'rely', 'remain', 'remained', 'remains', 'remake', 'remark', 'remarkable', 'remarkably', 'remaster', 'remedy', 'remember', 'remembered', 'remind', 'reminded', 'reminder', 'reminds', 'reminiscent', 'remix', 'remixes', 'remnick', 'remote', 'remotely', 'remove', 'renaissance', 'rendition', 'renee', 'reno', 'rent', 'rental', 'rented', 'renting', 'reoccurring', 'repack', 'repackaged', 'repair', 'repaired', 'repeat', 'repeatdo', 'repeated', 'repeatedly', 'repetition', 'repetitive', 'replace', 'replaced', 'replacement', 'replaces', 'replied', 'report', 'reppin', 'represent', 'representative', 'represented', 'represents', 'reprint', 'republican', 'reputation', 'requered', 'request', 'requested', 'require', 'required', 'requirement', 'requires', 'reread', 'rereading', 'rerouted', 'rescue', 'research', 'researched', 'researching', 'resellers', 'resemble', 'reservation', 'reserved', 'reset', 'residence', 'residual', 'resigning', 'resist', 'resistance', 'resolution', 'resolved', 'resort', 'resource', 'resourcefulness', 'respect', 'respectable', 'respected', 'response', 'responsibility', 'responsible', 'rest', 'restarting', 'restaurant', 'result', 'resultado', 'resulted', 'resuscitated', 'retailer', 'retarded', 'retelling', 'retern', 'rethinking', 'retiring', 'retractable', 'return', 'returned', 'returning', 'reunion', 'reveal', 'revealed', 'revealing', 'reveals', 'revelation', 'revenge', 'reverberation', 'reverse', 'review', 'reviewed', 'reviewer', 'revisaran', 'revised', 'revision', 'revolution', 'rewarded', 'rewatch', 'rewind', 'rewritten', 'rf', 'rhea', 'rhythm', 'ribbon', 'ribisi', 'rice', 'rich', 'richard', 'richer', 'richerd', 'richly', 'ricky', 'rico', 'rid', 'ridden', 'ride', 'rideau', 'rider', 'ridge', 'ridicula', 'ridiculous', 'ridiculously', 'riding', 'rife', 'riff', 'rifle', 'rig', 'right', 'righteous', 'rigor', 'ring', 'rio', 'rip', 'ripoff', 'ripped', 'rise', 'rising', 'risk', 'risky', 'ritual', 'ritz', 'rival', 'river', 'rivetting', 'rm', 'roach', 'road', 'rob', 'robbery', 'robert', 'robin', 'robot', 'robotic', 'robotics', 'robust', 'rock', 'rockaway', 'rocker', 'rocket', 'rockier', 'rockin', 'rocky', 'rod', 'rodney', 'rogan', 'rogue', 'role', 'roll', 'roller', 'rollerball', 'rollerblade', 'rom', 'roman', 'romance', 'romantic', 'romeo', 'ron', 'rooftop', 'rookie', 'room', 'root', 'rope', 'roped', 'roquelaure', 'ross', 'rossellini', 'rot', 'rotary', 'rotation', 'rotf', 'rotten', 'rough', 'roughed', 'roughly', 'round', 'route', 'routine', 'routinely', 'row', 'royal', 'rpm', 'rpsdh', 'rpsdk', 'rst', 'rt', 'rtbarry', 'rubber', 'rubbish', 'rubing', 'ruin', 'ruined', 'rule', 'rulez', 'ruling', 'rulz', 'rumination', 'rumor', 'run', 'runner', 'running', 'rush', 'rushed', 'russia', 'russian', 'rv', 'ryan', 'sabbath', 'sabin', 'sabina', 'sackville', 'sacred', 'sacrifice', 'sacrificed', 'sacrificing', 'sad', 'saddened', 'sadly', 'sadness', 'sadthe', 'safe', 'safely', 'safety', 'saga', 'said', 'saint', 'sale', 'salicylic', 'salt', 'salty', 'salvage', 'salvation', 'sam', 'sample', 'sampler', 'sand', 'sandal', 'sandisk', 'sandler', 'sandpaper', 'sandra', 'sandwich', 'sandy', 'sang', 'sanity', 'sansa', 'santa', 'santana', 'sappy', 'sara', 'sarah', 'sarcastic', 'sassy', 'sat', 'satan', 'satanic', 'satie', 'satifaction', 'satire', 'satisfaction', 'satisfactory', 'satisfied', 'satisfy', 'sau', 'sauna', 'save', 'saved', 'saving', 'savor', 'saw', 'say', 'saying', 'scacchi', 'scale', 'scam', 'scames', 'scan', 'scandal', 'scandinavian', 'scanned', 'scanner', 'scanning', 'scare', 'scared', 'scarier', 'scariest', 'scarlet', 'scarpetta', 'scary', 'scatological', 'scattered', 'scenario', 'scene', 'scenery', 'scent', 'schizophrenic', 'schmaltz', 'schneider', 'scholar', 'scholarly', 'scholarship', 'school', 'schooling', 'schreker', 'schulz', 'schwartz', 'schwarzenegger', 'sci', 'science', 'scientific', 'scientist', 'scifi', 'scope', 'score', 'scored', 'scott', 'scoured', 'scraped', 'scrapped', 'scratch', 'scream', 'screaming', 'screechy', 'screen', 'screenplay', 'screw', 'screwed', 'screwup', 'script', 'scriptwriter', 'scroll', 'scrub', 'scrutinize', 'scylla', 'sd', 'se', 'sea', 'seal', 'sealed', 'seam', 'search', 'searched', 'searching', 'searing', 'seaside', 'season', 'seat', 'secluded', 'second', 'secondary', 'secondtonone', 'secret', 'secreted', 'sect', 'section', 'secure', 'security', 'seductress', 'see', 'seed', 'seeing', 'seek', 'seeking', 'seem', 'seemed', 'seemingly', 'seems', 'seen', 'seens', 'segundo', 'seguramente', 'select', 'selected', 'selecting', 'selection', 'self', 'selfconscious', 'selfishly', 'sell', 'seller', 'selling', 'send', 'sending', 'senior', 'senor', 'sense', 'senseless', 'sensiable', 'sensible', 'sensilla', 'sensitive', 'sensor', 'sensual', 'sensuality', 'sent', 'sentence', 'sentido', 'sentiment', 'separate', 'separated', 'separately', 'separating', 'seperate', 'sept', 'september', 'sepultura', 'sequel', 'sequence', 'sequencer', 'sequoia', 'ser', 'serb', 'seres', 'serf', 'seria', 'serial', 'series', 'serious', 'seriously', 'seris', 'serve', 'service', 'servlet', 'session', 'set', 'seth', 'setting', 'setup', 'seven', 'seventeen', 'seventh', 'seventy', 'several', 'severe', 'severely', 'sew', 'sex', 'sexed', 'sexual', 'sexually', 'sexus', 'sexy', 'sf', 'sg', 'sgc', 'shade', 'shaders', 'shadow', 'shaft', 'shake', 'shaken', 'shakespeare', 'shaking', 'shakti', 'shaky', 'shall', 'shallow', 'shallower', 'shame', 'shampoo', 'shape', 'shaped', 'shaper', 'share', 'shared', 'sharing', 'sharp', 'sharpened', 'sharpening', 'sharpest', 'shatner', 'shatter', 'shattering', 'shear', 'shed', 'sheep', 'sheer', 'sheet', 'shelf', 'shelter', 'shen', 'shepherd', 'sheri', 'sherwood', 'shes', 'shield', 'shift', 'shimmering', 'shine', 'shining', 'ship', 'shipment', 'shipped', 'shipper', 'shipping', 'shirley', 'shirt', 'shitzu', 'shiva', 'shiver', 'shocked', 'shoe', 'shoot', 'shooter', 'shooting', 'shop', 'shopping', 'short', 'shorter', 'shortest', 'shorthaired', 'shortly', 'shot', 'shouted', 'show', 'showcase', 'showed', 'shower', 'showing', 'showman', 'shown', 'showthe', 'showy', 'shred', 'shredded', 'shrunk', 'shrunken', 'shudder', 'shulzz', 'shunned', 'shut', 'shy', 'si', 'sibling', 'sick', 'side', 'sidenote', 'sigh', 'sight', 'sighting', 'sign', 'significant', 'signifying', 'signing', 'silent', 'silicone', 'silky', 'sill', 'silliness', 'silly', 'silver', 'silverlock', 'similar', 'simple', 'simpler', 'simpletech', 'simpleton', 'simplicity', 'simplistic', 'simply', 'sin', 'since', 'sing', 'singable', 'singalong', 'singer', 'singing', 'single', 'sings', 'singular', 'sink', 'sinus', 'sir', 'sissy', 'sistema', 'sister', 'sit', 'site', 'sits', 'sitting', 'situation', 'six', 'size', 'sizing', 'skeleton', 'skepticism', 'ski', 'skill', 'skilled', 'skin', 'skip', 'skipped', 'skippy', 'skirt', 'sky', 'skylarking', 'skynyrd', 'slam', 'slammin', 'slang', 'slap', 'slave', 'slayer', 'sleek', 'sleep', 'sleeping', 'sleepy', 'slender', 'slept', 'slick', 'slide', 'sliding', 'slight', 'slightly', 'slim', 'slimmer', 'slinky', 'slip', 'slipknot', 'slooow', 'slope', 'slot', 'slow', 'slowed', 'slower', 'slowing', 'slowly', 'slug', 'sluggish', 'slyly', 'smack', 'small', 'smaller', 'smarmy', 'smart', 'smarter', 'smashed', 'smell', 'smelled', 'smiled', 'smith', 'smoke', 'smokey', 'smokin', 'smoking', 'smoky', 'smooth', 'smoothly', 'smug', 'smuggler', 'snake', 'snap', 'snappy', 'sneaky', 'snetenced', 'sniff', 'sniper', 'sniveling', 'snoozefest', 'snug', 'snugly', 'soames', 'soap', 'socal', 'soccer', 'social', 'socialist', 'society', 'sock', 'sofa', 'soft', 'softer', 'software', 'sold', 'solely', 'solid', 'solitude', 'solo', 'soloist', 'solubilized', 'solution', 'solve', 'solved', 'solving', 'somber', 'sombre', 'somebody', 'somehow', 'someone', 'something', 'somethings', 'sometimes', 'someways', 'somewhat', 'somewhere', 'son', 'song', 'sonically', 'sonics', 'sonicstage', 'sony', 'soon', 'sooner', 'sooo', 'sooooo', 'soooooo', 'soothing', 'sophisticated', 'sophistication', 'sophocles', 'sophomore', 'soprano', 'sorbo', 'sorcerer', 'sore', 'sorely', 'sorry', 'sort', 'sorta', 'soubeyran', 'soul', 'soulchild', 'souless', 'soulless', 'soulmate', 'soulmates', 'soulstar', 'sound', 'sounding', 'soundtrack', 'soup', 'sour', 'source', 'south', 'southen', 'soviet', 'sowing', 'soy', 'sp', 'space', 'spaced', 'spade', 'span', 'spanish', 'spansthis', 'spared', 'spark', 'sparkle', 'sparkly', 'sparky', 'sparring', 'sparse', 'speak', 'speaker', 'speaking', 'speakon', 'spear', 'special', 'specially', 'specific', 'specifically', 'spectactular', 'spectacular', 'spectral', 'spectrum', 'speech', 'speed', 'speedso', 'speedy', 'spell', 'spellbinder', 'spellbinding', 'spelling', 'spend', 'spending', 'spends', 'spent', 'spicebush', 'spider', 'spiderman', 'spiky', 'spin', 'spine', 'spirit', 'spirited', 'spiritual', 'spirituality', 'spitting', 'splash', 'splatter', 'splattering', 'splendidly', 'splinter', 'split', 'splosions', 'spoiler', 'spoke', 'spontanious', 'spooky', 'sporadic', 'sport', 'spot', 'spray', 'sprayed', 'spread', 'spreading', 'spring', 'sprue', 'spun', 'spy', 'square', 'squash', 'squeem', 'squeeze', 'squiggler', 'sraight', 'srvice', 'st', 'stability', 'stable', 'stage', 'stainless', 'stake', 'stale', 'stalin', 'stalingrad', 'stamp', 'stand', 'standard', 'standing', 'standout', 'standpoint', 'staple', 'star', 'stare', 'stargate', 'stargates', 'stark', 'starring', 'start', 'started', 'starter', 'starting', 'startling', 'startlingly', 'state', 'stated', 'statement', 'statheads', 'static', 'statin', 'station', 'statistic', 'statistical', 'statitically', 'statment', 'stats', 'statue', 'stauber', 'stay', 'stayed', 'staying', 'steadily', 'steady', 'steak', 'steal', 'steamy', 'steel', 'steep', 'steer', 'stellar', 'step', 'stephen', 'stepped', 'stereo', 'stereolab', 'stereotype', 'stereotyping', 'sterile', 'sterling', 'sterne', 'sterotyping', 'stew', 'stick', 'sticking', 'stifled', 'still', 'stimulation', 'stink', 'stinker', 'stinking', 'stinkpot', 'stipe', 'stitched', 'stock', 'stocking', 'stomach', 'stone', 'stoner', 'stoneware', 'stop', 'stopped', 'stopping', 'store', 'stored', 'story', 'storyline', 'storytelling', 'stowe', 'straight', 'straightforward', 'strain', 'stranding', 'strange', 'stranger', 'strangler', 'strap', 'strategy', 'stratosphere', 'strauss', 'straying', 'streakes', 'stream', 'streaming', 'streamlined', 'street', 'streisand', 'strength', 'strengthened', 'stress', 'stressed', 'stretch', 'stretched', 'stretching', 'stretchy', 'strict', 'strictly', 'strike', 'string', 'strip', 'stripe', 'stripped', 'strobe', 'stroll', 'strong', 'stronger', 'strongly', 'strove', 'struck', 'structure', 'structured', 'struggle', 'struggled', 'struggling', 'strum', 'stuart', 'stuck', 'student', 'studied', 'studio', 'study', 'studying', 'stuff', 'stuffed', 'stumble', 'stumbled', 'stunk', 'stunned', 'stunning', 'stunt', 'stuntwork', 'stuped', 'stupedest', 'stupid', 'stupor', 'sturdier', 'sturdy', 'stuuf', 'stuunning', 'style', 'stylings', 'stylish', 'stylist', 'stylized', 'su', 'suave', 'sub', 'subdued', 'subject', 'subsequent', 'substance', 'substitute', 'subterraneans', 'subtitle', 'subtitled', 'subtle', 'subtlety', 'subtly', 'subversive', 'subwoofer', 'succeeded', 'succeeds', 'success', 'successful', 'successfully', 'successor', 'succintly', 'suck', 'sucked', 'sucker', 'suckered', 'suckerpunch', 'suckx', 'sudden', 'suddenly', 'sue', 'suffer', 'suffered', 'sugar', 'suggest', 'suggested', 'suggestion', 'suggests', 'suicide', 'suit', 'suitable', 'suited', 'sultry', 'sum', 'summarize', 'summary', 'summed', 'summer', 'summon', 'sun', 'sunday', 'sunwarmed', 'super', 'superb', 'superficial', 'superglue', 'superior', 'suposedly', 'suppervised', 'supplement', 'supplier', 'supply', 'support', 'supported', 'supporter', 'supporting', 'suppose', 'supposed', 'suppression', 'supreme', 'supremes', 'sure', 'surely', 'surf', 'surfed', 'surfer', 'surfing', 'surprise', 'surprised', 'surprising', 'surprisingly', 'surreal', 'surround', 'surrounding', 'survival', 'survive', 'survived', 'survives', 'sus', 'suspect', 'suspence', 'suspense', 'suspensful', 'sustain', 'sustained', 'suzanne', 'swabing', 'swagger', 'swallowtail', 'swear', 'sweatin', 'sweet', 'sweetest', 'sweetly', 'swift', 'swipe', 'swirlsand', 'switch', 'switched', 'switching', 'swivel', 'sword', 'swordsman', 'syllable', 'symbolism', 'symbolizes', 'sympathetic', 'symphony', 'symposium', 'symptom', 'sync', 'synch', 'synopsis', 'syntax', 'synthesized', 'synthesizer', 'synths', 'system', 'systematic', 'tabbed', 'tabby', 'table', 'tac', 'taciturn', 'tacked', 'tag', 'tagd', 'tagent', 'tagging', 'tagline', 'tailor', 'taint', 'take', 'taken', 'taking', 'tale', 'talent', 'talented', 'talento', 'talk', 'talked', 'talkin', 'talking', 'talky', 'tall', 'taller', 'tallest', 'tame', 'tamper', 'tan', 'tangent', 'tangled', 'tank', 'tape', 'taper', 'tapestry', 'tapped', 'tapps', 'tar', 'targat', 'targate', 'target', 'task', 'taste', 'tastefully', 'tasteless', 'tasty', 'tatic', 'taught', 'taut', 'taylor', 'te', 'tea', 'teach', 'teacher', 'teaching', 'team', 'teamwork', 'tear', 'tearjerker', 'tech', 'technical', 'technically', 'technique', 'techno', 'technobeat', 'technology', 'technotronic', 'ted', 'tedious', 'teen', 'teenage', 'teenager', 'teeth', 'telemachus', 'telemakhos', 'telephone', 'teleporting', 'televised', 'television', 'tell', 'telling', 'temp', 'temped', 'temperature', 'temple', 'tempo', 'temporary', 'temptation', 'tempted', 'ten', 'tend', 'tended', 'tendency', 'tender', 'tenderly', 'tends', 'tenet', 'tenneseean', 'tense', 'tension', 'tereza', 'term', 'termed', 'terr', 'terrible', 'terribly', 'terrific', 'terrifying', 'terrorism', 'terrorist', 'test', 'testament', 'tested', 'testified', 'testifying', 'testing', 'texas', 'text', 'textaul', 'textbook', 'texture', 'textured', 'th', 'tha', 'thackeray', 'thai', 'thailand', 'thank', 'thankful', 'thankfully', 'thankless', 'thanks', 'thats', 'theater', 'theatre', 'theatrical', 'thebluegum', 'thefuture', 'theme', 'theology', 'theorist', 'theory', 'ther', 'there', 'thereason', 'therefore', 'thereif', 'thesis', 'thew', 'thick', 'thickens', 'thicker', 'thickness', 'thier', 'thierry', 'thievery', 'thigh', 'thin', 'thing', 'thingabob', 'think', 'thinking', 'thinkt', 'thiong', 'third', 'thirsty', 'thirteen', 'thirty', 'thisi', 'thm', 'tho', 'thomas', 'thornberry', 'thorough', 'thoroughly', 'thou', 'though', 'thought', 'thoughtful', 'thouht', 'thousand', 'thrash', 'three', 'threw', 'thrift', 'thrilled', 'thriller', 'thrillif', 'thro', 'throughout', 'throw', 'thrown', 'thru', 'thsi', 'thtoughout', 'thumb', 'thunderbird', 'thunderous', 'thus', 'thuvia', 'thy', 'thye', 'tic', 'ticket', 'tidbitsabout', 'tied', 'tiems', 'tiene', 'tienen', 'tiger', 'tight', 'tighter', 'tightly', 'till', 'tiller', 'tim', 'timberland', 'time', 'timeblendsif', 'timed', 'timeless', 'timely', 'timewill', 'tin', 'tina', 'tinge', 'tinkling', 'tiny', 'tip', 'tipover', 'tipping', 'tire', 'tired', 'tiron', 'titanic', 'title', 'titled', 'tn', 'tng', 'toda', 'today', 'toddler', 'todo', 'todos', 'toe', 'together', 'toggle', 'toiletif', 'tokoyo', 'told', 'tolded', 'tolerate', 'tolstoy', 'tom', 'tomas', 'tomasso', 'tomb', 'tomcat', 'tomhet', 'tommy', 'tomorrow', 'ton', 'tonality', 'tone', 'tongue', 'toni', 'tonight', 'toodles', 'took', 'tool', 'toon', 'tooooooo', 'tooth', 'top', 'topic', 'topping', 'torch', 'torment', 'torso', 'tortoise', 'torture', 'tortured', 'torus', 'tossed', 'total', 'totalitarian', 'totally', 'tote', 'touch', 'touched', 'touching', 'tough', 'tour', 'tournament', 'toward', 'towards', 'tower', 'town', 'towner', 'toxic', 'toxin', 'toy', 'tr', 'track', 'trackball', 'tract', 'trader', 'trading', 'traditional', 'trae', 'tragedy', 'tragic', 'trail', 'trailer', 'train', 'trained', 'trance', 'trancey', 'tranfer', 'tranformers', 'tranquil', 'tranquility', 'transcends', 'transcribed', 'transfer', 'transferred', 'transform', 'transformation', 'transformer', 'transition', 'translate', 'translated', 'translating', 'translation', 'transport', 'transporting', 'traod', 'trap', 'trapped', 'trapping', 'trash', 'trashed', 'travel', 'traveled', 'traveler', 'travelled', 'travelling', 'travesty', 'travis', 'treasure', 'treat', 'treatise', 'treatment', 'tree', 'trefusis', 'trek', 'tremendous', 'tremendously', 'trend', 'trial', 'triangle', 'tribulation', 'trick', 'tricklies', 'trickster', 'tricky', 'tried', 'trigger', 'trike', 'trilogy', 'trio', 'trip', 'tripe', 'triplanes', 'triple', 'tripod', 'tripp', 'trisha', 'trite', 'trivia', 'trivialize', 'tropic', 'trouble', 'troubled', 'troubleshooting', 'trough', 'trout', 'trouters', 'truck', 'true', 'truely', 'truerenu', 'truley', 'truly', 'trumpet', 'trust', 'trusting', 'truth', 'try', 'trying', 'tsk', 'tu', 'tubthumping', 'tuck', 'tucked', 'tulos', 'tummy', 'tune', 'turkey', 'turmoil', 'turn', 'turned', 'turner', 'turning', 'tuscany', 'tussle', 'tutorial', 'tuvo', 'tv', 'tweaking', 'tweed', 'tweens', 'tweeter', 'twelve', 'twenty', 'twice', 'twig', 'twin', 'twist', 'twisted', 'twisting', 'two', 'tyley', 'tynan', 'type', 'typewriter', 'typical', 'typically', 'typing', 'typo', 'typographical', 'ufo', 'ugly', 'uhhh', 'uk', 'ulead', 'ultima', 'ultimate', 'ultimately', 'ultimatly', 'ulysses', 'umbo', 'ummm', 'un', 'una', 'unable', 'unacceptable', 'unamusing', 'unapologetically', 'unauthorized', 'unbearable', 'unbeatable', 'unbeleivable', 'unbelievable', 'unbiased', 'unca', 'uncomfortable', 'uncomplicated', 'unconscious', 'uncovers', 'uncut', 'underarms', 'underdeveloped', 'underground', 'undermine', 'undermines', 'underneath', 'underrated', 'understand', 'understandably', 'understanding', 'understated', 'understatement', 'understood', 'undertone', 'underwater', 'underwhelmed', 'underwhelming', 'undue', 'undulation', 'uneducated', 'unexciting', 'unexpected', 'unexpectedly', 'unfamiliar', 'unfavorable', 'unfolding', 'unfolds', 'unforgetable', 'unforgettable', 'unforseen', 'unfortunate', 'unfortunatelly', 'unfortunately', 'unfortunetaly', 'unfotunately', 'unfunny', 'unhappy', 'unhealthy', 'uniform', 'uniformly', 'unimaginable', 'unimpressive', 'uninstalled', 'unintentionally', 'union', 'uniqe', 'unique', 'uniqueif', 'unit', 'unite', 'united', 'universal', 'universally', 'universe', 'university', 'unknown', 'unless', 'unlike', 'unlikely', 'unlisted', 'unloaded', 'unlock', 'unlucky', 'unmistakable', 'unnecessarily', 'unnecessary', 'unnerving', 'uno', 'unparalleled', 'unplayable', 'unpleasant', 'unplug', 'unplugged', 'unpolished', 'unpredictable', 'unquestionably', 'unrated', 'unreachable', 'unreadable', 'unreal', 'unrealistic', 'unreliable', 'unresolved', 'unrestrained', 'unsafe', 'unsatisfying', 'unscrewing', 'unspoiled', 'unstructured', 'unsuccessful', 'unsuitable', 'untalented', 'unusable', 'unusual', 'unwrapping', 'upbeat', 'upcoming', 'update', 'updated', 'updating', 'upgrade', 'upguerilla', 'upheaval', 'uplifting', 'uplook', 'upon', 'upper', 'ups', 'upset', 'urge', 'urgency', 'url', 'ursula', 'us', 'usa', 'usability', 'usable', 'usar', 'usb', 'usd', 'use', 'used', 'useful', 'useless', 'user', 'ushering', 'using', 'usmle', 'usual', 'usually', 'utensil', 'utilizarlo', 'utilizing', 'utmost', 'utopia', 'utter', 'utterly', 'va', 'vacation', 'vacuum', 'vaginal', 'vague', 'vaio', 'valid', 'valuable', 'value', 'valve', 'vamp', 'vampire', 'van', 'vandellas', 'vanilla', 'vanishing', 'vanity', 'vannassa', 'vapid', 'varg', 'variable', 'variation', 'varied', 'variety', 'various', 'vast', 'vastly', 'vcr', 'veeeery', 'veggie', 'vehicle', 'veiwing', 'velcro', 'velvet', 'vendor', 'venessa', 'venture', 'venue', 'venus', 'ver', 'verbatum', 'verdad', 'verdict', 'verified', 'verify', 'verison', 'veritable', 'vernacular', 'verry', 'versatile', 'verse', 'version', 'versus', 'vertically', 'vertigo', 'veryfiable', 'vespa', 'vessel', 'vest', 'veteran', 'vhs', 'via', 'viajar', 'vibe', 'vibration', 'vibrator', 'viceroy', 'victim', 'victoria', 'victorian', 'victory', 'vida', 'video', 'videoclub', 'viento', 'vietnam', 'view', 'viewed', 'viewer', 'viewfinder', 'viewing', 'viewpoint', 'viewscreen', 'vigilante', 'vignette', 'vile', 'village', 'villain', 'vimes', 'vince', 'vincent', 'vinnie', 'vinny', 'vinyl', 'violence', 'violet', 'virginia', 'virtually', 'virtue', 'virtuous', 'virus', 'vision', 'visit', 'visitation', 'visited', 'visiting', 'visitor', 'vista', 'visual', 'visually', 'vita', 'vital', 'vitality', 'vittra', 'vivendi', 'vivid', 'vivir', 'vivo', 'viz', 'vocab', 'vocal', 'vocalist', 'voice', 'void', 'voila', 'volleyball', 'voltaire', 'volume', 'volvera', 'voz', 'vulgar', 'vulgarity', 'wade', 'wading', 'wafting', 'waist', 'waisting', 'wait', 'waited', 'waiting', 'wake', 'waking', 'walk', 'walker', 'walking', 'wall', 'wally', 'waltz', 'wand', 'wander', 'wandering', 'wanna', 'want', 'wanted', 'wanting', 'war', 'warehouse', 'warm', 'warmer', 'warming', 'warn', 'warned', 'warning', 'warrant', 'warranted', 'warranty', 'warrior', 'warship', 'wasbarely', 'wasent', 'wash', 'washed', 'washing', 'wasnt', 'wassup', 'wast', 'waste', 'wasted', 'waster', 'wasting', 'watch', 'watchable', 'watched', 'watching', 'watchtower', 'water', 'watered', 'watering', 'watershed', 'waterstones', 'watse', 'watsonon', 'watt', 'wattage', 'waugh', 'wave', 'waxin', 'way', 'wayyyyy', 'weak', 'weakness', 'weaning', 'wear', 'wearer', 'wearing', 'weary', 'weasel', 'weather', 'weave', 'web', 'website', 'wed', 'wedding', 'wee', 'week', 'weekend', 'weekly', 'weep', 'weib', 'weigh', 'weight', 'weird', 'weirdest', 'welcome', 'welcomed', 'well', 'wellingtonia', 'went', 'werewolf', 'west', 'western', 'wet', 'wether', 'wethowt', 'wetsuit', 'wha', 'whack', 'whale', 'wham', 'whatever', 'whats', 'whatsoever', 'wheel', 'whenever', 'whereas', 'whether', 'whichever', 'whilst', 'whining', 'whiny', 'whispered', 'white', 'whitecollar', 'whitey', 'whith', 'whitney', 'whoever', 'whole', 'wholly', 'whore', 'whose', 'whould', 'whyyy', 'wicca', 'wich', 'wide', 'widely', 'wider', 'widescreen', 'widespread', 'widow', 'wierd', 'wierdo', 'wife', 'wig', 'wild', 'willed', 'william', 'williams', 'willing', 'willy', 'wilson', 'wimpy', 'win', 'wind', 'window', 'wing', 'winner', 'winston', 'winter', 'winton', 'wipe', 'wire', 'wired', 'wiredweird', 'wireless', 'wisconsin', 'wise', 'wish', 'wisking', 'wispers', 'wit', 'witch', 'witchcraft', 'wither', 'withhold', 'within', 'without', 'witht', 'witness', 'witty', 'witwicky', 'wizard', 'wkend', 'wmp', 'woke', 'wold', 'wolf', 'woman', 'womanopoly', 'wonder', 'wonderded', 'wondered', 'wonderful', 'wonderfully', 'wonderfuly', 'wondering', 'wonerful', 'wont', 'wood', 'wooden', 'woodwind', 'woolf', 'word', 'wording', 'wordy', 'wore', 'worht', 'work', 'workaround', 'worked', 'worker', 'working', 'workout', 'world', 'worldbuilding', 'worn', 'worried', 'worry', 'worse', 'worship', 'worst', 'worth', 'worthless', 'worthwhile', 'worthy', 'woudln', 'would', 'wouldnt', 'wound', 'woven', 'wow', 'wrangler', 'wrap', 'wrapped', 'wrapping', 'wrenching', 'wrestler', 'wrestling', 'wright', 'wrinkled', 'wrist', 'write', 'writer', 'writes', 'writing', 'written', 'writter', 'wrong', 'wrongness', 'wrote', 'wtf', 'ww', 'wwii', 'xbox', 'xerox', 'xico', 'xmas', 'xp', 'xtc', 'xtra', 'xvii', 'xx', 'xxi', 'ya', 'yahoo', 'yall', 'yanan', 'yard', 'yardbird', 'yarn', 'yay', 'ye', 'yea', 'yeah', 'year', 'yecch', 'yelling', 'yello', 'yellow', 'yep', 'yes', 'yesterday', 'yet', 'yield', 'yoga', 'york', 'yorker', 'youhave', 'youloveme', 'young', 'younger', 'youngest', 'youre', 'youself', 'youth', 'youtube', 'yr', 'yu', 'yuck', 'yum', 'yuppie', 'zebra', 'zelda', 'zen', 'zep', 'zeppelin', 'zero', 'zeta', 'zhivago', 'ziggy', 'zillion', 'zr', 'zydeco', 'zzzzzz']\n"
     ]
    }
   ],
   "source": [
    "# Print all features:\n",
    "print(countVect.get_feature_names())"
   ]
  },
  {
   "cell_type": "code",
   "execution_count": 32,
   "metadata": {
    "colab": {
     "base_uri": "https://localhost:8080/"
    },
    "colab_type": "code",
    "executionInfo": {
     "elapsed": 87861,
     "status": "ok",
     "timestamp": 1576469046300,
     "user": {
      "displayName": "Louise Dev",
      "photoUrl": "",
      "userId": "08535859031441537751"
     },
     "user_tz": 300
    },
    "id": "7Pe18mklrCWu",
    "outputId": "f90c101c-0ca0-4e95-9a92-e7112feca2ba"
   },
   "outputs": [
    {
     "name": "stdout",
     "output_type": "stream",
     "text": [
      "[[0 0 0 ... 0 0 0]\n",
      " [0 0 0 ... 0 0 0]\n",
      " [0 0 0 ... 0 0 0]\n",
      " ...\n",
      " [0 0 0 ... 0 0 0]\n",
      " [0 0 0 ... 0 0 0]\n",
      " [0 0 0 ... 0 0 0]]\n"
     ]
    }
   ],
   "source": [
    "# Print the number of times each word appears in each document (review):\n",
    "print(reviewArray)"
   ]
  },
  {
   "cell_type": "markdown",
   "metadata": {
    "colab_type": "text",
    "id": "Uql4dG370D6P"
   },
   "source": [
    "Because the number of words in the vocabulary is way much larger than the number of features, many word does not existi in most of the review, which is shown as \"0\" occurrence."
   ]
  },
  {
   "cell_type": "code",
   "execution_count": 33,
   "metadata": {
    "colab": {
     "base_uri": "https://localhost:8080/"
    },
    "colab_type": "code",
    "executionInfo": {
     "elapsed": 87852,
     "status": "ok",
     "timestamp": 1576469046301,
     "user": {
      "displayName": "Louise Dev",
      "photoUrl": "",
      "userId": "08535859031441537751"
     },
     "user_tz": 300
    },
    "id": "biw_VbpTwaHf",
    "outputId": "856cee76-582b-4704-f0c0-0d46b24ebba0"
   },
   "outputs": [
    {
     "data": {
      "text/plain": [
       "[(0, 'aa'),\n",
       " (0, 'aaarrrggghhh'),\n",
       " (0, 'abandon'),\n",
       " (0, 'abarca'),\n",
       " (0, 'abbreviated'),\n",
       " (0, 'abduction'),\n",
       " (0, 'ability'),\n",
       " (0, 'abit'),\n",
       " (0, 'able'),\n",
       " (0, 'aboard')]"
      ]
     },
     "execution_count": 33,
     "metadata": {},
     "output_type": "execute_result"
    }
   ],
   "source": [
    "# Print the first 10 word counts from the vectorization mapping of the first sentence of review:\n",
    "list(zip(reviewArray[0], countVect.get_feature_names()))[ : 10]"
   ]
  },
  {
   "cell_type": "markdown",
   "metadata": {
    "colab_type": "text",
    "id": "IZLrfwY5NC2U"
   },
   "source": [
    "##### Find the most common words:"
   ]
  },
  {
   "cell_type": "code",
   "execution_count": 34,
   "metadata": {
    "colab": {
     "base_uri": "https://localhost:8080/"
    },
    "colab_type": "code",
    "executionInfo": {
     "elapsed": 87843,
     "status": "ok",
     "timestamp": 1576469046302,
     "user": {
      "displayName": "Louise Dev",
      "photoUrl": "",
      "userId": "08535859031441537751"
     },
     "user_tz": 300
    },
    "id": "DhU_sAi5l3R9",
    "outputId": "99a434b2-744e-46a2-a801-fc91078fdd35"
   },
   "outputs": [
    {
     "data": {
      "text/html": [
       "<div>\n",
       "<style scoped>\n",
       "    .dataframe tbody tr th:only-of-type {\n",
       "        vertical-align: middle;\n",
       "    }\n",
       "\n",
       "    .dataframe tbody tr th {\n",
       "        vertical-align: top;\n",
       "    }\n",
       "\n",
       "    .dataframe thead th {\n",
       "        text-align: right;\n",
       "    }\n",
       "</style>\n",
       "<table border=\"1\" class=\"dataframe\">\n",
       "  <thead>\n",
       "    <tr style=\"text-align: right;\">\n",
       "      <th></th>\n",
       "      <th>word</th>\n",
       "      <th>count_BOW</th>\n",
       "    </tr>\n",
       "  </thead>\n",
       "  <tbody>\n",
       "    <tr>\n",
       "      <td>0</td>\n",
       "      <td>book</td>\n",
       "      <td>794</td>\n",
       "    </tr>\n",
       "    <tr>\n",
       "      <td>1</td>\n",
       "      <td>one</td>\n",
       "      <td>404</td>\n",
       "    </tr>\n",
       "    <tr>\n",
       "      <td>2</td>\n",
       "      <td>read</td>\n",
       "      <td>327</td>\n",
       "    </tr>\n",
       "    <tr>\n",
       "      <td>3</td>\n",
       "      <td>movie</td>\n",
       "      <td>320</td>\n",
       "    </tr>\n",
       "    <tr>\n",
       "      <td>4</td>\n",
       "      <td>great</td>\n",
       "      <td>295</td>\n",
       "    </tr>\n",
       "    <tr>\n",
       "      <td>...</td>\n",
       "      <td>...</td>\n",
       "      <td>...</td>\n",
       "    </tr>\n",
       "    <tr>\n",
       "      <td>8208</td>\n",
       "      <td>accurrate</td>\n",
       "      <td>1</td>\n",
       "    </tr>\n",
       "    <tr>\n",
       "      <td>8209</td>\n",
       "      <td>smashed</td>\n",
       "      <td>1</td>\n",
       "    </tr>\n",
       "    <tr>\n",
       "      <td>8210</td>\n",
       "      <td>repack</td>\n",
       "      <td>1</td>\n",
       "    </tr>\n",
       "    <tr>\n",
       "      <td>8211</td>\n",
       "      <td>meantime</td>\n",
       "      <td>1</td>\n",
       "    </tr>\n",
       "    <tr>\n",
       "      <td>8212</td>\n",
       "      <td>artificial</td>\n",
       "      <td>1</td>\n",
       "    </tr>\n",
       "  </tbody>\n",
       "</table>\n",
       "<p>8213 rows × 2 columns</p>\n",
       "</div>"
      ],
      "text/plain": [
       "            word  count_BOW\n",
       "0           book        794\n",
       "1            one        404\n",
       "2           read        327\n",
       "3          movie        320\n",
       "4          great        295\n",
       "...          ...        ...\n",
       "8208   accurrate          1\n",
       "8209     smashed          1\n",
       "8210      repack          1\n",
       "8211    meantime          1\n",
       "8212  artificial          1\n",
       "\n",
       "[8213 rows x 2 columns]"
      ]
     },
     "execution_count": 34,
     "metadata": {},
     "output_type": "execute_result"
    }
   ],
   "source": [
    "# List the words/feature names in the corpus and their counts, sorted by descending order of occurrence:\n",
    "vec = countVect.fit(reviewCorpus)\n",
    "bow = vec.transform(reviewCorpus)\n",
    "sum_words = bow.sum(axis = 0)\n",
    "words_freq = [(word, sum_words[0, ind]) for word, ind in vec.vocabulary_.items()]\n",
    "words_order_desc = sorted(words_freq, key = lambda x: x[1], reverse = True)   # Data Type: A list of tuples.\n",
    "# Reference: \n",
    "# https://medium.com/@cristhianboujon/how-to-list-the-most-common-words-from-text-corpus-using-scikit-learn-dad4d0cab41d\n",
    "# https://stackoverflow.com/questions/16078015/list-the-words-in-a-vocabulary-according-to-occurrence-in-a-text-corpus-scikit\n",
    "\n",
    "# print(\"Top 100 common words in the dataset: \", words_order_desc[0:99])\n",
    "\n",
    "bow_reviewDF = pd.DataFrame(words_order_desc, columns = ['word', 'count_BOW'])\n",
    "bow_reviewDF"
   ]
  },
  {
   "cell_type": "code",
   "execution_count": 35,
   "metadata": {
    "colab": {
     "base_uri": "https://localhost:8080/"
    },
    "colab_type": "code",
    "executionInfo": {
     "elapsed": 87834,
     "status": "ok",
     "timestamp": 1576469046303,
     "user": {
      "displayName": "Louise Dev",
      "photoUrl": "",
      "userId": "08535859031441537751"
     },
     "user_tz": 300
    },
    "id": "Um8o22aeJI3l",
    "outputId": "17a68acd-0882-4d18-da3f-5956987dd52f"
   },
   "outputs": [
    {
     "data": {
      "text/html": [
       "<div>\n",
       "<style scoped>\n",
       "    .dataframe tbody tr th:only-of-type {\n",
       "        vertical-align: middle;\n",
       "    }\n",
       "\n",
       "    .dataframe tbody tr th {\n",
       "        vertical-align: top;\n",
       "    }\n",
       "\n",
       "    .dataframe thead th {\n",
       "        text-align: right;\n",
       "    }\n",
       "</style>\n",
       "<table border=\"1\" class=\"dataframe\">\n",
       "  <thead>\n",
       "    <tr style=\"text-align: right;\">\n",
       "      <th></th>\n",
       "      <th>count</th>\n",
       "      <th>mean</th>\n",
       "      <th>std</th>\n",
       "      <th>min</th>\n",
       "      <th>25%</th>\n",
       "      <th>50%</th>\n",
       "      <th>75%</th>\n",
       "      <th>max</th>\n",
       "    </tr>\n",
       "  </thead>\n",
       "  <tbody>\n",
       "    <tr>\n",
       "      <td>count_BOW</td>\n",
       "      <td>8213.0</td>\n",
       "      <td>4.89614</td>\n",
       "      <td>17.052755</td>\n",
       "      <td>1.0</td>\n",
       "      <td>1.0</td>\n",
       "      <td>1.0</td>\n",
       "      <td>3.0</td>\n",
       "      <td>794.0</td>\n",
       "    </tr>\n",
       "  </tbody>\n",
       "</table>\n",
       "</div>"
      ],
      "text/plain": [
       "            count     mean        std  min  25%  50%  75%    max\n",
       "count_BOW  8213.0  4.89614  17.052755  1.0  1.0  1.0  3.0  794.0"
      ]
     },
     "execution_count": 35,
     "metadata": {},
     "output_type": "execute_result"
    }
   ],
   "source": [
    "# Get a statistical summary of the word count info:\n",
    "bow_reviewDF.describe().transpose()"
   ]
  },
  {
   "cell_type": "code",
   "execution_count": 36,
   "metadata": {
    "colab": {
     "base_uri": "https://localhost:8080/"
    },
    "colab_type": "code",
    "executionInfo": {
     "elapsed": 88198,
     "status": "ok",
     "timestamp": 1576469046677,
     "user": {
      "displayName": "Louise Dev",
      "photoUrl": "",
      "userId": "08535859031441537751"
     },
     "user_tz": 300
    },
    "id": "DbOxKxVlSY23",
    "outputId": "60facd2e-7d36-44e0-d453-114e31ce766d"
   },
   "outputs": [
    {
     "data": {
      "text/plain": [
       "<matplotlib.axes._subplots.AxesSubplot at 0x1be430aa6c8>"
      ]
     },
     "execution_count": 36,
     "metadata": {},
     "output_type": "execute_result"
    },
    {
     "data": {
      "image/png": "[encoded data removed]",
      "text/plain": [
       "<Figure size 432x288 with 1 Axes>"
      ]
     },
     "metadata": {
      "needs_background": "light"
     },
     "output_type": "display_data"
    }
   ],
   "source": [
    "bow_reviewDF.boxplot()"
   ]
  },
  {
   "cell_type": "code",
   "execution_count": 37,
   "metadata": {
    "colab": {},
    "colab_type": "code",
    "id": "xkjr7cu5RfOI"
   },
   "outputs": [],
   "source": [
    "# if isinstance(reviewArray, np.ndarray):\n",
    "#   print(\"It's a Numpy array.\")\n",
    "\n",
    "# if isinstance(labels, np.ndarray):\n",
    "#   print(\"It's a Numpy array.\")\n",
    "\n",
    "# if isinstance(words_order_asce, np.ndarray):\n",
    "#   print(\"It's a Numpy array.\")"
   ]
  },
  {
   "cell_type": "markdown",
   "metadata": {
    "colab_type": "text",
    "id": "gpp5t2m_v_EY"
   },
   "source": [
    "#### BOW with TF-IDF:"
   ]
  },
  {
   "cell_type": "code",
   "execution_count": 38,
   "metadata": {
    "colab": {
     "base_uri": "https://localhost:8080/",
     "height": 439
    },
    "colab_type": "code",
    "executionInfo": {
     "elapsed": 88742,
     "status": "ok",
     "timestamp": 1576469047240,
     "user": {
      "displayName": "Louise Dev",
      "photoUrl": "",
      "userId": "08535859031441537751"
     },
     "user_tz": 300
    },
    "id": "8YTgataZUgQw",
    "outputId": "c6d4d478-5ce5-4268-9607-656dd1599cd5"
   },
   "outputs": [
    {
     "data": {
      "text/html": [
       "<div>\n",
       "<style scoped>\n",
       "    .dataframe tbody tr th:only-of-type {\n",
       "        vertical-align: middle;\n",
       "    }\n",
       "\n",
       "    .dataframe tbody tr th {\n",
       "        vertical-align: top;\n",
       "    }\n",
       "\n",
       "    .dataframe thead th {\n",
       "        text-align: right;\n",
       "    }\n",
       "</style>\n",
       "<table border=\"1\" class=\"dataframe\">\n",
       "  <thead>\n",
       "    <tr style=\"text-align: right;\">\n",
       "      <th></th>\n",
       "      <th>aa</th>\n",
       "      <th>aaarrrggghhh</th>\n",
       "      <th>abandon</th>\n",
       "      <th>abarca</th>\n",
       "      <th>abbreviated</th>\n",
       "      <th>abduction</th>\n",
       "      <th>ability</th>\n",
       "      <th>abit</th>\n",
       "      <th>able</th>\n",
       "      <th>aboard</th>\n",
       "      <th>...</th>\n",
       "      <th>zep</th>\n",
       "      <th>zeppelin</th>\n",
       "      <th>zero</th>\n",
       "      <th>zeta</th>\n",
       "      <th>zhivago</th>\n",
       "      <th>ziggy</th>\n",
       "      <th>zillion</th>\n",
       "      <th>zr</th>\n",
       "      <th>zydeco</th>\n",
       "      <th>zzzzzz</th>\n",
       "    </tr>\n",
       "  </thead>\n",
       "  <tbody>\n",
       "    <tr>\n",
       "      <td>0</td>\n",
       "      <td>0.0</td>\n",
       "      <td>0.0</td>\n",
       "      <td>0.0</td>\n",
       "      <td>0.0</td>\n",
       "      <td>0.0</td>\n",
       "      <td>0.0</td>\n",
       "      <td>0.0</td>\n",
       "      <td>0.0</td>\n",
       "      <td>0.0</td>\n",
       "      <td>0.0</td>\n",
       "      <td>...</td>\n",
       "      <td>0.0</td>\n",
       "      <td>0.0</td>\n",
       "      <td>0.0</td>\n",
       "      <td>0.0</td>\n",
       "      <td>0.0</td>\n",
       "      <td>0.0</td>\n",
       "      <td>0.0</td>\n",
       "      <td>0.0</td>\n",
       "      <td>0.0</td>\n",
       "      <td>0.0</td>\n",
       "    </tr>\n",
       "    <tr>\n",
       "      <td>1</td>\n",
       "      <td>0.0</td>\n",
       "      <td>0.0</td>\n",
       "      <td>0.0</td>\n",
       "      <td>0.0</td>\n",
       "      <td>0.0</td>\n",
       "      <td>0.0</td>\n",
       "      <td>0.0</td>\n",
       "      <td>0.0</td>\n",
       "      <td>0.0</td>\n",
       "      <td>0.0</td>\n",
       "      <td>...</td>\n",
       "      <td>0.0</td>\n",
       "      <td>0.0</td>\n",
       "      <td>0.0</td>\n",
       "      <td>0.0</td>\n",
       "      <td>0.0</td>\n",
       "      <td>0.0</td>\n",
       "      <td>0.0</td>\n",
       "      <td>0.0</td>\n",
       "      <td>0.0</td>\n",
       "      <td>0.0</td>\n",
       "    </tr>\n",
       "    <tr>\n",
       "      <td>2</td>\n",
       "      <td>0.0</td>\n",
       "      <td>0.0</td>\n",
       "      <td>0.0</td>\n",
       "      <td>0.0</td>\n",
       "      <td>0.0</td>\n",
       "      <td>0.0</td>\n",
       "      <td>0.0</td>\n",
       "      <td>0.0</td>\n",
       "      <td>0.0</td>\n",
       "      <td>0.0</td>\n",
       "      <td>...</td>\n",
       "      <td>0.0</td>\n",
       "      <td>0.0</td>\n",
       "      <td>0.0</td>\n",
       "      <td>0.0</td>\n",
       "      <td>0.0</td>\n",
       "      <td>0.0</td>\n",
       "      <td>0.0</td>\n",
       "      <td>0.0</td>\n",
       "      <td>0.0</td>\n",
       "      <td>0.0</td>\n",
       "    </tr>\n",
       "    <tr>\n",
       "      <td>3</td>\n",
       "      <td>0.0</td>\n",
       "      <td>0.0</td>\n",
       "      <td>0.0</td>\n",
       "      <td>0.0</td>\n",
       "      <td>0.0</td>\n",
       "      <td>0.0</td>\n",
       "      <td>0.0</td>\n",
       "      <td>0.0</td>\n",
       "      <td>0.0</td>\n",
       "      <td>0.0</td>\n",
       "      <td>...</td>\n",
       "      <td>0.0</td>\n",
       "      <td>0.0</td>\n",
       "      <td>0.0</td>\n",
       "      <td>0.0</td>\n",
       "      <td>0.0</td>\n",
       "      <td>0.0</td>\n",
       "      <td>0.0</td>\n",
       "      <td>0.0</td>\n",
       "      <td>0.0</td>\n",
       "      <td>0.0</td>\n",
       "    </tr>\n",
       "    <tr>\n",
       "      <td>4</td>\n",
       "      <td>0.0</td>\n",
       "      <td>0.0</td>\n",
       "      <td>0.0</td>\n",
       "      <td>0.0</td>\n",
       "      <td>0.0</td>\n",
       "      <td>0.0</td>\n",
       "      <td>0.0</td>\n",
       "      <td>0.0</td>\n",
       "      <td>0.0</td>\n",
       "      <td>0.0</td>\n",
       "      <td>...</td>\n",
       "      <td>0.0</td>\n",
       "      <td>0.0</td>\n",
       "      <td>0.0</td>\n",
       "      <td>0.0</td>\n",
       "      <td>0.0</td>\n",
       "      <td>0.0</td>\n",
       "      <td>0.0</td>\n",
       "      <td>0.0</td>\n",
       "      <td>0.0</td>\n",
       "      <td>0.0</td>\n",
       "    </tr>\n",
       "    <tr>\n",
       "      <td>...</td>\n",
       "      <td>...</td>\n",
       "      <td>...</td>\n",
       "      <td>...</td>\n",
       "      <td>...</td>\n",
       "      <td>...</td>\n",
       "      <td>...</td>\n",
       "      <td>...</td>\n",
       "      <td>...</td>\n",
       "      <td>...</td>\n",
       "      <td>...</td>\n",
       "      <td>...</td>\n",
       "      <td>...</td>\n",
       "      <td>...</td>\n",
       "      <td>...</td>\n",
       "      <td>...</td>\n",
       "      <td>...</td>\n",
       "      <td>...</td>\n",
       "      <td>...</td>\n",
       "      <td>...</td>\n",
       "      <td>...</td>\n",
       "      <td>...</td>\n",
       "    </tr>\n",
       "    <tr>\n",
       "      <td>995</td>\n",
       "      <td>0.0</td>\n",
       "      <td>0.0</td>\n",
       "      <td>0.0</td>\n",
       "      <td>0.0</td>\n",
       "      <td>0.0</td>\n",
       "      <td>0.0</td>\n",
       "      <td>0.0</td>\n",
       "      <td>0.0</td>\n",
       "      <td>0.0</td>\n",
       "      <td>0.0</td>\n",
       "      <td>...</td>\n",
       "      <td>0.0</td>\n",
       "      <td>0.0</td>\n",
       "      <td>0.0</td>\n",
       "      <td>0.0</td>\n",
       "      <td>0.0</td>\n",
       "      <td>0.0</td>\n",
       "      <td>0.0</td>\n",
       "      <td>0.0</td>\n",
       "      <td>0.0</td>\n",
       "      <td>0.0</td>\n",
       "    </tr>\n",
       "    <tr>\n",
       "      <td>996</td>\n",
       "      <td>0.0</td>\n",
       "      <td>0.0</td>\n",
       "      <td>0.0</td>\n",
       "      <td>0.0</td>\n",
       "      <td>0.0</td>\n",
       "      <td>0.0</td>\n",
       "      <td>0.0</td>\n",
       "      <td>0.0</td>\n",
       "      <td>0.0</td>\n",
       "      <td>0.0</td>\n",
       "      <td>...</td>\n",
       "      <td>0.0</td>\n",
       "      <td>0.0</td>\n",
       "      <td>0.0</td>\n",
       "      <td>0.0</td>\n",
       "      <td>0.0</td>\n",
       "      <td>0.0</td>\n",
       "      <td>0.0</td>\n",
       "      <td>0.0</td>\n",
       "      <td>0.0</td>\n",
       "      <td>0.0</td>\n",
       "    </tr>\n",
       "    <tr>\n",
       "      <td>997</td>\n",
       "      <td>0.0</td>\n",
       "      <td>0.0</td>\n",
       "      <td>0.0</td>\n",
       "      <td>0.0</td>\n",
       "      <td>0.0</td>\n",
       "      <td>0.0</td>\n",
       "      <td>0.0</td>\n",
       "      <td>0.0</td>\n",
       "      <td>0.0</td>\n",
       "      <td>0.0</td>\n",
       "      <td>...</td>\n",
       "      <td>0.0</td>\n",
       "      <td>0.0</td>\n",
       "      <td>0.0</td>\n",
       "      <td>0.0</td>\n",
       "      <td>0.0</td>\n",
       "      <td>0.0</td>\n",
       "      <td>0.0</td>\n",
       "      <td>0.0</td>\n",
       "      <td>0.0</td>\n",
       "      <td>0.0</td>\n",
       "    </tr>\n",
       "    <tr>\n",
       "      <td>998</td>\n",
       "      <td>0.0</td>\n",
       "      <td>0.0</td>\n",
       "      <td>0.0</td>\n",
       "      <td>0.0</td>\n",
       "      <td>0.0</td>\n",
       "      <td>0.0</td>\n",
       "      <td>0.0</td>\n",
       "      <td>0.0</td>\n",
       "      <td>0.0</td>\n",
       "      <td>0.0</td>\n",
       "      <td>...</td>\n",
       "      <td>0.0</td>\n",
       "      <td>0.0</td>\n",
       "      <td>0.0</td>\n",
       "      <td>0.0</td>\n",
       "      <td>0.0</td>\n",
       "      <td>0.0</td>\n",
       "      <td>0.0</td>\n",
       "      <td>0.0</td>\n",
       "      <td>0.0</td>\n",
       "      <td>0.0</td>\n",
       "    </tr>\n",
       "    <tr>\n",
       "      <td>999</td>\n",
       "      <td>0.0</td>\n",
       "      <td>0.0</td>\n",
       "      <td>0.0</td>\n",
       "      <td>0.0</td>\n",
       "      <td>0.0</td>\n",
       "      <td>0.0</td>\n",
       "      <td>0.0</td>\n",
       "      <td>0.0</td>\n",
       "      <td>0.0</td>\n",
       "      <td>0.0</td>\n",
       "      <td>...</td>\n",
       "      <td>0.0</td>\n",
       "      <td>0.0</td>\n",
       "      <td>0.0</td>\n",
       "      <td>0.0</td>\n",
       "      <td>0.0</td>\n",
       "      <td>0.0</td>\n",
       "      <td>0.0</td>\n",
       "      <td>0.0</td>\n",
       "      <td>0.0</td>\n",
       "      <td>0.0</td>\n",
       "    </tr>\n",
       "  </tbody>\n",
       "</table>\n",
       "<p>1000 rows × 8213 columns</p>\n",
       "</div>"
      ],
      "text/plain": [
       "      aa  aaarrrggghhh  abandon  abarca  abbreviated  abduction  ability  \\\n",
       "0    0.0           0.0      0.0     0.0          0.0        0.0      0.0   \n",
       "1    0.0           0.0      0.0     0.0          0.0        0.0      0.0   \n",
       "2    0.0           0.0      0.0     0.0          0.0        0.0      0.0   \n",
       "3    0.0           0.0      0.0     0.0          0.0        0.0      0.0   \n",
       "4    0.0           0.0      0.0     0.0          0.0        0.0      0.0   \n",
       "..   ...           ...      ...     ...          ...        ...      ...   \n",
       "995  0.0           0.0      0.0     0.0          0.0        0.0      0.0   \n",
       "996  0.0           0.0      0.0     0.0          0.0        0.0      0.0   \n",
       "997  0.0           0.0      0.0     0.0          0.0        0.0      0.0   \n",
       "998  0.0           0.0      0.0     0.0          0.0        0.0      0.0   \n",
       "999  0.0           0.0      0.0     0.0          0.0        0.0      0.0   \n",
       "\n",
       "     abit  able  aboard  ...  zep  zeppelin  zero  zeta  zhivago  ziggy  \\\n",
       "0     0.0   0.0     0.0  ...  0.0       0.0   0.0   0.0      0.0    0.0   \n",
       "1     0.0   0.0     0.0  ...  0.0       0.0   0.0   0.0      0.0    0.0   \n",
       "2     0.0   0.0     0.0  ...  0.0       0.0   0.0   0.0      0.0    0.0   \n",
       "3     0.0   0.0     0.0  ...  0.0       0.0   0.0   0.0      0.0    0.0   \n",
       "4     0.0   0.0     0.0  ...  0.0       0.0   0.0   0.0      0.0    0.0   \n",
       "..    ...   ...     ...  ...  ...       ...   ...   ...      ...    ...   \n",
       "995   0.0   0.0     0.0  ...  0.0       0.0   0.0   0.0      0.0    0.0   \n",
       "996   0.0   0.0     0.0  ...  0.0       0.0   0.0   0.0      0.0    0.0   \n",
       "997   0.0   0.0     0.0  ...  0.0       0.0   0.0   0.0      0.0    0.0   \n",
       "998   0.0   0.0     0.0  ...  0.0       0.0   0.0   0.0      0.0    0.0   \n",
       "999   0.0   0.0     0.0  ...  0.0       0.0   0.0   0.0      0.0    0.0   \n",
       "\n",
       "     zillion   zr  zydeco  zzzzzz  \n",
       "0        0.0  0.0     0.0     0.0  \n",
       "1        0.0  0.0     0.0     0.0  \n",
       "2        0.0  0.0     0.0     0.0  \n",
       "3        0.0  0.0     0.0     0.0  \n",
       "4        0.0  0.0     0.0     0.0  \n",
       "..       ...  ...     ...     ...  \n",
       "995      0.0  0.0     0.0     0.0  \n",
       "996      0.0  0.0     0.0     0.0  \n",
       "997      0.0  0.0     0.0     0.0  \n",
       "998      0.0  0.0     0.0     0.0  \n",
       "999      0.0  0.0     0.0     0.0  \n",
       "\n",
       "[1000 rows x 8213 columns]"
      ]
     },
     "execution_count": 38,
     "metadata": {},
     "output_type": "execute_result"
    }
   ],
   "source": [
    "from sklearn.feature_extraction.text import TfidfVectorizer\n",
    "# Define the Tfidf vectorizer:\n",
    "tfidfVect = TfidfVectorizer()  # Build a matrix of TF-IDF features from all words in the review corpus\n",
    "tfidf_reviewArray = tfidfVect.fit_transform(reviewCorpus).toarray()\n",
    "\n",
    "tfidf_reviewDF = pd.DataFrame(tfidf_reviewArray, columns = tfidfVect.get_feature_names())\n",
    "tfidf_reviewDF"
   ]
  },
  {
   "cell_type": "code",
   "execution_count": 39,
   "metadata": {
    "colab": {
     "base_uri": "https://localhost:8080/",
     "height": 34
    },
    "colab_type": "code",
    "executionInfo": {
     "elapsed": 88717,
     "status": "ok",
     "timestamp": 1576469047244,
     "user": {
      "displayName": "Louise Dev",
      "photoUrl": "",
      "userId": "08535859031441537751"
     },
     "user_tz": 300
    },
    "id": "iJC8k8FZbkKp",
    "outputId": "02b141cb-02e1-40aa-b4b4-926fec1339fa"
   },
   "outputs": [
    {
     "data": {
      "text/plain": [
       "8213"
      ]
     },
     "execution_count": 39,
     "metadata": {},
     "output_type": "execute_result"
    }
   ],
   "source": [
    "# Show the total number of features:\n",
    "len(tfidfVect.get_feature_names())"
   ]
  },
  {
   "cell_type": "markdown",
   "metadata": {
    "colab_type": "text",
    "id": "Q7K1S0q6ZxYm"
   },
   "source": [
    "## Split The Training and Testing Datasets:"
   ]
  },
  {
   "cell_type": "code",
   "execution_count": 40,
   "metadata": {
    "colab": {},
    "colab_type": "code",
    "id": "_TLSI9kUZ36h"
   },
   "outputs": [],
   "source": [
    "# Import train_test_split from Sciket Learn for splitting the dataset:\n",
    "from sklearn.model_selection import train_test_split"
   ]
  },
  {
   "cell_type": "code",
   "execution_count": 41,
   "metadata": {
    "colab": {},
    "colab_type": "code",
    "id": "AMvAa9bQbXGZ"
   },
   "outputs": [],
   "source": [
    "reviewArray_train, reviewArray_test, labelArray_train, labelArray_test = train_test_split(\n",
    "    tfidf_reviewArray, labelArray, test_size = 0.2, random_state = 234)"
   ]
  },
  {
   "cell_type": "markdown",
   "metadata": {
    "colab_type": "text",
    "id": "h2CQFkqqehHK"
   },
   "source": [
    "# Classification"
   ]
  },
  {
   "cell_type": "markdown",
   "metadata": {
    "colab_type": "text",
    "id": "eVuPj12d5LCD"
   },
   "source": [
    "## Naive Bayes Classification:"
   ]
  },
  {
   "cell_type": "code",
   "execution_count": 42,
   "metadata": {
    "colab": {},
    "colab_type": "code",
    "id": "5K0qbNVTFQ6p"
   },
   "outputs": [],
   "source": [
    "# Import Gaussian Naive Bayes model from Sciket Learn for classification:\n",
    "from sklearn.naive_bayes import GaussianNB"
   ]
  },
  {
   "cell_type": "code",
   "execution_count": 43,
   "metadata": {
    "colab": {
     "base_uri": "https://localhost:8080/",
     "height": 34
    },
    "colab_type": "code",
    "executionInfo": {
     "elapsed": 88691,
     "status": "ok",
     "timestamp": 1576469047252,
     "user": {
      "displayName": "Louise Dev",
      "photoUrl": "",
      "userId": "08535859031441537751"
     },
     "user_tz": 300
    },
    "id": "nI9eNszNFsIH",
    "outputId": "d1eca181-20d9-4e0d-e615-fccd73853455"
   },
   "outputs": [
    {
     "data": {
      "text/plain": [
       "GaussianNB(priors=None, var_smoothing=1e-09)"
      ]
     },
     "execution_count": 43,
     "metadata": {},
     "output_type": "execute_result"
    }
   ],
   "source": [
    "nbModel = GaussianNB()\n",
    "\n",
    "nbModel.fit(reviewArray_train, labelArray_train)"
   ]
  },
  {
   "cell_type": "code",
   "execution_count": 44,
   "metadata": {
    "colab": {},
    "colab_type": "code",
    "id": "prmO_LP-F8zu"
   },
   "outputs": [],
   "source": [
    "label_predict_nb = nbModel.predict(reviewArray_test)"
   ]
  },
  {
   "cell_type": "code",
   "execution_count": 45,
   "metadata": {
    "colab": {
     "base_uri": "https://localhost:8080/",
     "height": 187
    },
    "colab_type": "code",
    "executionInfo": {
     "elapsed": 88674,
     "status": "ok",
     "timestamp": 1576469047255,
     "user": {
      "displayName": "Louise Dev",
      "photoUrl": "",
      "userId": "08535859031441537751"
     },
     "user_tz": 300
    },
    "id": "SEaRez6lGT82",
    "outputId": "8e86e2f6-f778-48cf-a84b-704541930ed1"
   },
   "outputs": [
    {
     "data": {
      "text/plain": [
       "array([1, 1, 1, 1, 2, 2, 1, 2, 2, 1, 2, 1, 1, 1, 2, 1, 1, 1, 1, 1, 2, 2,\n",
       "       1, 2, 1, 2, 2, 1, 1, 2, 1, 2, 2, 2, 1, 2, 2, 1, 2, 1, 2, 1, 1, 1,\n",
       "       2, 2, 2, 2, 2, 2, 1, 1, 1, 2, 2, 1, 2, 1, 2, 1, 2, 2, 1, 1, 2, 2,\n",
       "       1, 1, 2, 1, 1, 1, 1, 2, 1, 1, 1, 2, 1, 2, 1, 1, 2, 1, 1, 2, 2, 1,\n",
       "       1, 2, 1, 2, 1, 1, 2, 1, 2, 2, 2, 2, 2, 1, 1, 2, 2, 1, 1, 1, 1, 1,\n",
       "       1, 2, 2, 1, 1, 2, 1, 2, 2, 1, 1, 2, 1, 2, 2, 1, 1, 1, 1, 2, 2, 2,\n",
       "       1, 1, 2, 2, 1, 1, 2, 1, 1, 2, 1, 2, 2, 2, 1, 2, 2, 2, 1, 2, 1, 1,\n",
       "       2, 1, 1, 2, 2, 2, 1, 2, 2, 1, 1, 1, 2, 1, 2, 1, 1, 1, 2, 1, 1, 1,\n",
       "       1, 1, 1, 1, 2, 1, 1, 2, 1, 1, 1, 2, 2, 2, 1, 2, 1, 2, 1, 2, 2, 2,\n",
       "       1, 2])"
      ]
     },
     "execution_count": 45,
     "metadata": {},
     "output_type": "execute_result"
    }
   ],
   "source": [
    "label_predict_nb"
   ]
  },
  {
   "cell_type": "code",
   "execution_count": 46,
   "metadata": {
    "colab": {},
    "colab_type": "code",
    "id": "mVd7RI_wGZsj"
   },
   "outputs": [],
   "source": [
    "# Import confusion_matrix from Scikit Learn for accuracy evaluation:\n",
    "from sklearn.metrics import confusion_matrix"
   ]
  },
  {
   "cell_type": "code",
   "execution_count": 47,
   "metadata": {
    "colab": {
     "base_uri": "https://localhost:8080/",
     "height": 51
    },
    "colab_type": "code",
    "executionInfo": {
     "elapsed": 88657,
     "status": "ok",
     "timestamp": 1576469047257,
     "user": {
      "displayName": "Louise Dev",
      "photoUrl": "",
      "userId": "08535859031441537751"
     },
     "user_tz": 300
    },
    "id": "6DNicpORGaqD",
    "outputId": "f99cfa94-1f48-423d-848e-fc52f8f6b2f4"
   },
   "outputs": [
    {
     "data": {
      "text/plain": [
       "array([[75, 27],\n",
       "       [33, 65]], dtype=int64)"
      ]
     },
     "execution_count": 47,
     "metadata": {},
     "output_type": "execute_result"
    }
   ],
   "source": [
    "confMetrix_nb = confusion_matrix(labelArray_test, label_predict_nb)\n",
    "confMetrix_nb"
   ]
  },
  {
   "cell_type": "code",
   "execution_count": 48,
   "metadata": {
    "colab": {},
    "colab_type": "code",
    "id": "z0LtLJTjGuGx"
   },
   "outputs": [],
   "source": [
    "# Import accuracy_score from Scikit Learn for computing the prediction accuracy:\n",
    "from sklearn.metrics import accuracy_score"
   ]
  },
  {
   "cell_type": "code",
   "execution_count": 49,
   "metadata": {
    "colab": {
     "base_uri": "https://localhost:8080/",
     "height": 34
    },
    "colab_type": "code",
    "executionInfo": {
     "elapsed": 89185,
     "status": "ok",
     "timestamp": 1576469047828,
     "user": {
      "displayName": "Louise Dev",
      "photoUrl": "",
      "userId": "08535859031441537751"
     },
     "user_tz": 300
    },
    "id": "J1DGds8fG2DJ",
    "outputId": "a51b3edb-5dc9-4268-e165-a11e218b81d7"
   },
   "outputs": [
    {
     "name": "stdout",
     "output_type": "stream",
     "text": [
      "Accuracy for Naive Bayes Classifier: 70.0%\n"
     ]
    }
   ],
   "source": [
    "print(\"Accuracy for Naive Bayes Classifier: \" + str(accuracy_score(labelArray_test, label_predict_nb) * 100) + \"%\")"
   ]
  },
  {
   "cell_type": "code",
   "execution_count": 50,
   "metadata": {
    "colab": {},
    "colab_type": "code",
    "id": "ueRUYFdoMlpU"
   },
   "outputs": [],
   "source": [
    "import seaborn as sns"
   ]
  },
  {
   "cell_type": "code",
   "execution_count": 51,
   "metadata": {
    "colab": {
     "base_uri": "https://localhost:8080/",
     "height": 297
    },
    "colab_type": "code",
    "executionInfo": {
     "elapsed": 89173,
     "status": "ok",
     "timestamp": 1576469047834,
     "user": {
      "displayName": "Louise Dev",
      "photoUrl": "",
      "userId": "08535859031441537751"
     },
     "user_tz": 300
    },
    "id": "zRKJv6v5LbPT",
    "outputId": "eece6e4a-c78e-4816-c42f-22f6cef05d59"
   },
   "outputs": [
    {
     "data": {
      "image/png": "[encoded data removed]",
      "text/plain": [
       "<Figure size 432x288 with 2 Axes>"
      ]
     },
     "metadata": {
      "needs_background": "light"
     },
     "output_type": "display_data"
    }
   ],
   "source": [
    "ax = plt.subplot()\n",
    "sns.heatmap(confMetrix_nb, annot = True)\n",
    "\n",
    "ax.set_xlabel(\"Predicted Label of Review\")\n",
    "ax.set_ylabel(\"True Label of Review\")\n",
    "ax.set_xticklabels([\"1\", \"2\"])\n",
    "ax.set_yticklabels([\"1\", \"2\"])\n",
    "ax.set_title(\"Confusion Matrix of Naive Bayes Classification Result\", fontsize = 14)\n",
    "\n",
    "plt.tight_layout()"
   ]
  },
  {
   "cell_type": "markdown",
   "metadata": {
    "colab_type": "text",
    "id": "lSNn2oJfevgz"
   },
   "source": [
    "## Random Forest Classification:"
   ]
  },
  {
   "cell_type": "code",
   "execution_count": 52,
   "metadata": {
    "colab": {},
    "colab_type": "code",
    "id": "uJZeSr1Kd21A"
   },
   "outputs": [],
   "source": [
    "# Import RandomForestClassifier from Sciket Learn for classification:\n",
    "from sklearn.ensemble import RandomForestClassifier"
   ]
  },
  {
   "cell_type": "code",
   "execution_count": 53,
   "metadata": {
    "colab": {
     "base_uri": "https://localhost:8080/",
     "height": 136
    },
    "colab_type": "code",
    "executionInfo": {
     "elapsed": 96308,
     "status": "ok",
     "timestamp": 1576469054986,
     "user": {
      "displayName": "Louise Dev",
      "photoUrl": "",
      "userId": "08535859031441537751"
     },
     "user_tz": 300
    },
    "id": "qR53v-6Ze8yk",
    "outputId": "baf3f3c8-f874-4226-fb66-b008f96da9a2"
   },
   "outputs": [
    {
     "data": {
      "text/plain": [
       "RandomForestClassifier(bootstrap=True, class_weight=None, criterion='entropy',\n",
       "                       max_depth=None, max_features='auto', max_leaf_nodes=None,\n",
       "                       min_impurity_decrease=0.0, min_impurity_split=None,\n",
       "                       min_samples_leaf=1, min_samples_split=2,\n",
       "                       min_weight_fraction_leaf=0.0, n_estimators=500,\n",
       "                       n_jobs=None, oob_score=False, random_state=456,\n",
       "                       verbose=0, warm_start=False)"
      ]
     },
     "execution_count": 53,
     "metadata": {},
     "output_type": "execute_result"
    }
   ],
   "source": [
    "# Set the parameter random_state with an abitary number so that the same seed is used by the random number generator in every run.\n",
    "rfModel = RandomForestClassifier(n_estimators = 500, criterion = 'entropy', random_state = 456)\n",
    "\n",
    "rfModel.fit(reviewArray_train, labelArray_train)"
   ]
  },
  {
   "cell_type": "code",
   "execution_count": 54,
   "metadata": {
    "colab": {},
    "colab_type": "code",
    "id": "NAHMpYiDgMY1"
   },
   "outputs": [],
   "source": [
    "label_predict_rf = rfModel.predict(reviewArray_test)"
   ]
  },
  {
   "cell_type": "code",
   "execution_count": 55,
   "metadata": {
    "colab": {
     "base_uri": "https://localhost:8080/",
     "height": 187
    },
    "colab_type": "code",
    "executionInfo": {
     "elapsed": 96292,
     "status": "ok",
     "timestamp": 1576469054988,
     "user": {
      "displayName": "Louise Dev",
      "photoUrl": "",
      "userId": "08535859031441537751"
     },
     "user_tz": 300
    },
    "id": "Foopu9R8gfMW",
    "outputId": "ad2d4db8-88d6-4f64-be53-e3d7e25f8fb1"
   },
   "outputs": [
    {
     "data": {
      "text/plain": [
       "array([1, 2, 2, 1, 2, 2, 2, 2, 1, 1, 2, 2, 2, 1, 2, 1, 1, 1, 2, 2, 2, 2,\n",
       "       2, 2, 2, 1, 2, 1, 1, 2, 2, 2, 1, 2, 2, 2, 2, 1, 2, 1, 2, 2, 1, 1,\n",
       "       2, 2, 2, 2, 2, 2, 2, 2, 2, 2, 2, 1, 2, 1, 2, 1, 2, 1, 1, 1, 2, 2,\n",
       "       1, 2, 2, 1, 2, 1, 2, 2, 2, 2, 1, 2, 1, 2, 1, 1, 2, 2, 1, 1, 1, 2,\n",
       "       1, 1, 1, 2, 1, 1, 2, 1, 2, 1, 2, 1, 1, 2, 2, 1, 2, 2, 1, 1, 2, 1,\n",
       "       2, 1, 1, 2, 1, 2, 1, 2, 2, 2, 2, 1, 1, 2, 2, 1, 2, 1, 1, 2, 1, 1,\n",
       "       1, 1, 2, 2, 1, 1, 2, 1, 2, 2, 1, 2, 2, 2, 1, 2, 1, 2, 2, 2, 2, 2,\n",
       "       2, 1, 1, 2, 2, 1, 2, 1, 2, 2, 1, 1, 2, 2, 2, 2, 1, 1, 2, 2, 2, 2,\n",
       "       1, 2, 1, 1, 2, 1, 1, 2, 2, 2, 2, 2, 2, 1, 2, 1, 1, 1, 1, 2, 2, 1,\n",
       "       1, 2])"
      ]
     },
     "execution_count": 55,
     "metadata": {},
     "output_type": "execute_result"
    }
   ],
   "source": [
    "label_predict_rf"
   ]
  },
  {
   "cell_type": "code",
   "execution_count": 56,
   "metadata": {
    "colab": {},
    "colab_type": "code",
    "id": "pZbREUcaglQg"
   },
   "outputs": [],
   "source": [
    "# Import confusion_matrix from Scikit Learn for accuracy evaluation:\n",
    "from sklearn.metrics import confusion_matrix"
   ]
  },
  {
   "cell_type": "code",
   "execution_count": 57,
   "metadata": {
    "colab": {
     "base_uri": "https://localhost:8080/",
     "height": 51
    },
    "colab_type": "code",
    "executionInfo": {
     "elapsed": 96272,
     "status": "ok",
     "timestamp": 1576469054989,
     "user": {
      "displayName": "Louise Dev",
      "photoUrl": "",
      "userId": "08535859031441537751"
     },
     "user_tz": 300
    },
    "id": "WToEjRtrg6jS",
    "outputId": "6153439f-cfbc-4ad1-d0b5-c5c5597f6fd3"
   },
   "outputs": [
    {
     "data": {
      "text/plain": [
       "array([[75, 27],\n",
       "       [ 9, 89]], dtype=int64)"
      ]
     },
     "execution_count": 57,
     "metadata": {},
     "output_type": "execute_result"
    }
   ],
   "source": [
    "confMetrix_rf = confusion_matrix(labelArray_test, label_predict_rf)\n",
    "confMetrix_rf"
   ]
  },
  {
   "cell_type": "code",
   "execution_count": 58,
   "metadata": {
    "colab": {},
    "colab_type": "code",
    "id": "Jeq0GbY2AH3P"
   },
   "outputs": [],
   "source": [
    "# Import accuracy_score from Scikit Learn for computing the prediction accuracy:\n",
    "from sklearn.metrics import accuracy_score"
   ]
  },
  {
   "cell_type": "code",
   "execution_count": 59,
   "metadata": {
    "colab": {
     "base_uri": "https://localhost:8080/",
     "height": 34
    },
    "colab_type": "code",
    "executionInfo": {
     "elapsed": 96251,
     "status": "ok",
     "timestamp": 1576469054990,
     "user": {
      "displayName": "Louise Dev",
      "photoUrl": "",
      "userId": "08535859031441537751"
     },
     "user_tz": 300
    },
    "id": "gn0LX6JDABNs",
    "outputId": "5e68453f-10aa-4ce5-c310-a4674b0f3f15"
   },
   "outputs": [
    {
     "name": "stdout",
     "output_type": "stream",
     "text": [
      "Accuracy for Random Forest Classifier: 82.0%\n"
     ]
    }
   ],
   "source": [
    "print(\"Accuracy for Random Forest Classifier: \" + str(accuracy_score(labelArray_test, label_predict_rf) * 100) + \"%\")"
   ]
  },
  {
   "cell_type": "code",
   "execution_count": 60,
   "metadata": {
    "colab": {},
    "colab_type": "code",
    "id": "G-FSWoe2igxG"
   },
   "outputs": [],
   "source": [
    "# plt.matshow(confMetrix)"
   ]
  },
  {
   "cell_type": "code",
   "execution_count": 61,
   "metadata": {
    "colab": {},
    "colab_type": "code",
    "id": "MH9I7ybUhvmt"
   },
   "outputs": [],
   "source": [
    "# Import the Seaborn library for pretty statiscal visualization:\n",
    "import seaborn as sns"
   ]
  },
  {
   "cell_type": "code",
   "execution_count": 62,
   "metadata": {
    "colab": {
     "base_uri": "https://localhost:8080/",
     "height": 297
    },
    "colab_type": "code",
    "executionInfo": {
     "elapsed": 96765,
     "status": "ok",
     "timestamp": 1576469055530,
     "user": {
      "displayName": "Louise Dev",
      "photoUrl": "",
      "userId": "08535859031441537751"
     },
     "user_tz": 300
    },
    "id": "qSVAfYN_h6em",
    "outputId": "032ac033-c3d8-4599-8898-bfaea72afc12"
   },
   "outputs": [
    {
     "data": {
      "image/png": "[encoded data removed]",
      "text/plain": [
       "<Figure size 432x288 with 2 Axes>"
      ]
     },
     "metadata": {
      "needs_background": "light"
     },
     "output_type": "display_data"
    }
   ],
   "source": [
    "ax = plt.subplot()\n",
    "sns.heatmap(confMetrix_rf, annot = True)\n",
    "\n",
    "ax.set_xlabel(\"Predicted Label of Review\")\n",
    "ax.set_ylabel(\"True Label of Review\")\n",
    "ax.set_xticklabels([\"1\", \"2\"])\n",
    "ax.set_yticklabels([\"1\", \"2\"])\n",
    "ax.set_title(\"Confusion Matrix of Random Forest Classification Result\", fontsize = 14)\n",
    "\n",
    "plt.tight_layout()"
   ]
  },
  {
   "cell_type": "markdown",
   "metadata": {
    "colab_type": "text",
    "id": "3mGcdy09flcR"
   },
   "source": [
    "**NOTE that the results below changes in each runtime:**\n",
    "\n",
    "\n",
    "Comparison of prediction results based on different # of n_estimators, the prediction achieved highest accuracy at 82.0% while n_estimators = 500 in this experiement using Random Forest approach.\n",
    "\n",
    "\n",
    "---\n",
    "\n"
   ]
  },
  {
   "cell_type": "markdown",
   "metadata": {
    "colab_type": "text",
    "id": "nA-ijggI-rsJ"
   },
   "source": [
    "## Support Vector Machine (SVM):"
   ]
  },
  {
   "cell_type": "code",
   "execution_count": 63,
   "metadata": {
    "colab": {},
    "colab_type": "code",
    "id": "kE5Vxud--280"
   },
   "outputs": [],
   "source": [
    "# Import SVM from Sciket Learn for classification:\n",
    "from sklearn import svm"
   ]
  },
  {
   "cell_type": "code",
   "execution_count": 64,
   "metadata": {
    "colab": {
     "base_uri": "https://localhost:8080/"
    },
    "colab_type": "code",
    "executionInfo": {
     "elapsed": 102780,
     "status": "ok",
     "timestamp": 1576469061572,
     "user": {
      "displayName": "Louise Dev",
      "photoUrl": "",
      "userId": "08535859031441537751"
     },
     "user_tz": 300
    },
    "id": "F5v-Zx7oCpPh",
    "outputId": "73a2f04c-103d-4f83-ee58-dbf69d963bb8"
   },
   "outputs": [
    {
     "data": {
      "text/plain": [
       "SVC(C=1.0, cache_size=200, class_weight=None, coef0=0.0,\n",
       "    decision_function_shape='ovr', degree=3, gamma='auto_deprecated',\n",
       "    kernel='linear', max_iter=-1, probability=False, random_state=None,\n",
       "    shrinking=True, tol=0.001, verbose=False)"
      ]
     },
     "execution_count": 64,
     "metadata": {},
     "output_type": "execute_result"
    }
   ],
   "source": [
    "svmModel = svm.SVC(kernel = 'linear')\n",
    "\n",
    "svmModel.fit(reviewArray_train, labelArray_train)"
   ]
  },
  {
   "cell_type": "code",
   "execution_count": 65,
   "metadata": {
    "colab": {},
    "colab_type": "code",
    "id": "DGT7PygTDRAE"
   },
   "outputs": [],
   "source": [
    "label_predict_svm = svmModel.predict(reviewArray_test)"
   ]
  },
  {
   "cell_type": "code",
   "execution_count": 66,
   "metadata": {
    "colab": {
     "base_uri": "https://localhost:8080/"
    },
    "colab_type": "code",
    "executionInfo": {
     "elapsed": 104240,
     "status": "ok",
     "timestamp": 1576469063051,
     "user": {
      "displayName": "Louise Dev",
      "photoUrl": "",
      "userId": "08535859031441537751"
     },
     "user_tz": 300
    },
    "id": "IURkO_dYDjCl",
    "outputId": "ef0c9965-c03c-4258-efb3-5cd9434406e6"
   },
   "outputs": [
    {
     "data": {
      "text/plain": [
       "array([1, 1, 1, 1, 2, 2, 2, 2, 1, 1, 1, 2, 2, 2, 2, 1, 1, 1, 1, 2, 2, 2,\n",
       "       1, 2, 2, 1, 2, 1, 1, 2, 2, 2, 1, 2, 2, 2, 2, 2, 1, 1, 2, 1, 1, 1,\n",
       "       2, 2, 2, 2, 2, 2, 1, 2, 1, 1, 2, 1, 2, 1, 2, 1, 2, 1, 1, 1, 2, 2,\n",
       "       1, 2, 1, 1, 2, 1, 2, 2, 2, 2, 1, 2, 1, 2, 1, 1, 2, 2, 1, 1, 1, 2,\n",
       "       1, 2, 2, 2, 1, 1, 2, 1, 2, 2, 2, 1, 1, 2, 1, 2, 2, 2, 1, 1, 2, 1,\n",
       "       2, 1, 2, 1, 1, 2, 1, 2, 2, 2, 2, 1, 1, 2, 2, 1, 2, 1, 1, 2, 1, 1,\n",
       "       1, 1, 2, 2, 1, 1, 1, 1, 2, 2, 1, 2, 2, 2, 1, 2, 1, 2, 2, 2, 2, 1,\n",
       "       1, 1, 1, 2, 2, 1, 2, 1, 2, 2, 1, 1, 2, 1, 2, 2, 1, 1, 2, 2, 2, 2,\n",
       "       1, 2, 1, 1, 2, 1, 1, 2, 1, 2, 2, 1, 1, 2, 2, 1, 1, 1, 1, 2, 2, 1,\n",
       "       1, 2])"
      ]
     },
     "execution_count": 66,
     "metadata": {},
     "output_type": "execute_result"
    }
   ],
   "source": [
    "label_predict_svm"
   ]
  },
  {
   "cell_type": "code",
   "execution_count": 67,
   "metadata": {
    "colab": {},
    "colab_type": "code",
    "id": "DGWI9mIbDr8b"
   },
   "outputs": [],
   "source": [
    "# Import confusion_matrix from Scikit Learn for accuracy evaluation:\n",
    "from sklearn.metrics import confusion_matrix"
   ]
  },
  {
   "cell_type": "code",
   "execution_count": 68,
   "metadata": {
    "colab": {
     "base_uri": "https://localhost:8080/"
    },
    "colab_type": "code",
    "executionInfo": {
     "elapsed": 104225,
     "status": "ok",
     "timestamp": 1576469063053,
     "user": {
      "displayName": "Louise Dev",
      "photoUrl": "",
      "userId": "08535859031441537751"
     },
     "user_tz": 300
    },
    "id": "muxD0qqJHg2b",
    "outputId": "f3f7569f-eaaf-4cc5-94e4-2c4d639a04fa"
   },
   "outputs": [
    {
     "data": {
      "text/plain": [
       "array([[84, 18],\n",
       "       [12, 86]], dtype=int64)"
      ]
     },
     "execution_count": 68,
     "metadata": {},
     "output_type": "execute_result"
    }
   ],
   "source": [
    "confMetrix_svm = confusion_matrix(labelArray_test, label_predict_svm)\n",
    "confMetrix_svm"
   ]
  },
  {
   "cell_type": "code",
   "execution_count": 69,
   "metadata": {
    "colab": {},
    "colab_type": "code",
    "id": "qnLgpPLWHpb0"
   },
   "outputs": [],
   "source": [
    "# Import accuracy_score from Scikit Learn for computing the prediction accuracy:\n",
    "from sklearn.metrics import accuracy_score"
   ]
  },
  {
   "cell_type": "code",
   "execution_count": 70,
   "metadata": {
    "colab": {
     "base_uri": "https://localhost:8080/"
    },
    "colab_type": "code",
    "executionInfo": {
     "elapsed": 104208,
     "status": "ok",
     "timestamp": 1576469063054,
     "user": {
      "displayName": "Louise Dev",
      "photoUrl": "",
      "userId": "08535859031441537751"
     },
     "user_tz": 300
    },
    "id": "oGXwQ9l0Dssn",
    "outputId": "37556eba-7fec-4629-dcbe-c897a61100cb"
   },
   "outputs": [
    {
     "name": "stdout",
     "output_type": "stream",
     "text": [
      "Accuracy for SVM Classifier: 85.0%\n"
     ]
    }
   ],
   "source": [
    "print(\"Accuracy for SVM Classifier: \" + str(accuracy_score(labelArray_test, label_predict_svm) * 100) + \"%\")"
   ]
  },
  {
   "cell_type": "code",
   "execution_count": 71,
   "metadata": {
    "colab": {},
    "colab_type": "code",
    "id": "XO0RU4JLMqwe"
   },
   "outputs": [],
   "source": [
    "import seaborn as sns"
   ]
  },
  {
   "cell_type": "code",
   "execution_count": 72,
   "metadata": {
    "colab": {
     "base_uri": "https://localhost:8080/"
    },
    "colab_type": "code",
    "executionInfo": {
     "elapsed": 104355,
     "status": "ok",
     "timestamp": 1576469063221,
     "user": {
      "displayName": "Louise Dev",
      "photoUrl": "",
      "userId": "08535859031441537751"
     },
     "user_tz": 300
    },
    "id": "aZw-12HqMtft",
    "outputId": "9e764c1c-dfca-44cb-d021-9bd5ecefe487"
   },
   "outputs": [
    {
     "data": {
      "image/png": "[encoded data removed]",
      "text/plain": [
       "<Figure size 432x288 with 2 Axes>"
      ]
     },
     "metadata": {
      "needs_background": "light"
     },
     "output_type": "display_data"
    }
   ],
   "source": [
    "ax = plt.subplot()\n",
    "sns.heatmap(confMetrix_svm, annot = True)\n",
    "\n",
    "ax.set_xlabel(\"Predicted Label of Review\")\n",
    "ax.set_ylabel(\"True Label of Review\")\n",
    "ax.set_xticklabels([\"1\", \"2\"])\n",
    "ax.set_yticklabels([\"1\", \"2\"])\n",
    "ax.set_title(\"Confusion Matrix of SVM Classification Result\", fontsize = 14)\n",
    "\n",
    "plt.tight_layout()"
   ]
  },
  {
   "cell_type": "markdown",
   "metadata": {
    "colab_type": "text",
    "id": "Tjq5nqqAQZzM"
   },
   "source": [
    "# Clustering"
   ]
  },
  {
   "cell_type": "markdown",
   "metadata": {
    "colab_type": "text",
    "id": "y0uow5Q1QstM"
   },
   "source": [
    "## K-means Clustering:"
   ]
  },
  {
   "cell_type": "markdown",
   "metadata": {
    "colab_type": "text",
    "id": "maK4np01sOLn"
   },
   "source": [
    "### Find the best *k*:"
   ]
  },
  {
   "cell_type": "code",
   "execution_count": 73,
   "metadata": {
    "colab": {},
    "colab_type": "code",
    "id": "57oRacyjQ1hQ"
   },
   "outputs": [],
   "source": [
    "from sklearn.cluster import KMeans"
   ]
  },
  {
   "cell_type": "code",
   "execution_count": 74,
   "metadata": {
    "colab": {
     "base_uri": "https://localhost:8080/"
    },
    "colab_type": "code",
    "executionInfo": {
     "elapsed": 163607,
     "status": "ok",
     "timestamp": 1576469122490,
     "user": {
      "displayName": "Louise Dev",
      "photoUrl": "",
      "userId": "08535859031441537751"
     },
     "user_tz": 300
    },
    "id": "k5AstGXZYvLp",
    "outputId": "189aaf25-92f7-445f-ea53-c81cbf73370d"
   },
   "outputs": [
    {
     "data": {
      "image/png": "[encoded data removed]",
      "text/plain": [
       "<Figure size 432x288 with 1 Axes>"
      ]
     },
     "metadata": {
      "needs_background": "light"
     },
     "output_type": "display_data"
    }
   ],
   "source": [
    "# Find the best number of clusters:\n",
    "ks = range(1, 10)   # Create a sequence of numbers from 1 to 9.\n",
    "inertias = []\n",
    "\n",
    "for k in ks:\n",
    "  model = KMeans(n_clusters = k, random_state = 1234 )\n",
    "  # Select the first 2 PCs by calling .iloc[] on the dataframe:\n",
    "  # .iloc[] is primarily integer position based (from 0 to length-1 of the axis), or you can use the index with : directly.\n",
    "  model.fit(tfidf_reviewDF.iloc[:, :])  # Select all columns/features of BOW.\n",
    "  inertias.append(model.inertia_)\n",
    "\n",
    "plt.plot(ks, inertias, '-o', color='blue')\n",
    "plt.xlabel('number of clusters, k')\n",
    "plt.ylabel('inertia')\n",
    "plt.xticks(ks)\n",
    "plt.title(\"Elbow Method: Find The Best k\", fontsize = 16)\n",
    "\n",
    "plt.tight_layout()"
   ]
  },
  {
   "cell_type": "markdown",
   "metadata": {
    "colab_type": "text",
    "id": "CWLX2k0dvfxQ"
   },
   "source": [
    "The scree plot shows a slow decrease of inertia after k = 5, indicating that 5 clusters would be a good choice for the K-means Clustering approach with this dataset.\n",
    "\n",
    "---\n",
    "\n"
   ]
  },
  {
   "cell_type": "markdown",
   "metadata": {
    "colab_type": "text",
    "id": "ovVJXodIptWA"
   },
   "source": [
    "### K-means of all features (words):"
   ]
  },
  {
   "cell_type": "code",
   "execution_count": 75,
   "metadata": {
    "colab": {
     "base_uri": "https://localhost:8080/"
    },
    "colab_type": "code",
    "executionInfo": {
     "elapsed": 164123,
     "status": "ok",
     "timestamp": 1576469123017,
     "user": {
      "displayName": "Louise Dev",
      "photoUrl": "",
      "userId": "08535859031441537751"
     },
     "user_tz": 300
    },
    "id": "NmURly9FZXhv",
    "outputId": "bbda96f2-6ebe-4d23-b726-68a8e4cc039e"
   },
   "outputs": [
    {
     "data": {
      "text/plain": [
       "KMeans(algorithm='auto', copy_x=True, init='k-means++', max_iter=100,\n",
       "       n_clusters=5, n_init=1, n_jobs=None, precompute_distances='auto',\n",
       "       random_state=2345, tol=0.0001, verbose=0)"
      ]
     },
     "execution_count": 75,
     "metadata": {},
     "output_type": "execute_result"
    }
   ],
   "source": [
    "k = 5\n",
    "kmModel = KMeans(n_clusters = k, init = 'k-means++', max_iter = 100, n_init = 1, random_state = 2345)\n",
    "kmModel.fit(tfidf_reviewArray)"
   ]
  },
  {
   "cell_type": "code",
   "execution_count": 76,
   "metadata": {
    "colab": {
     "base_uri": "https://localhost:8080/"
    },
    "colab_type": "code",
    "executionInfo": {
     "elapsed": 164117,
     "status": "ok",
     "timestamp": 1576469123019,
     "user": {
      "displayName": "Louise Dev",
      "photoUrl": "",
      "userId": "08535859031441537751"
     },
     "user_tz": 300
    },
    "id": "11hB46tbZ3S2",
    "outputId": "d242edbd-ddb3-45b6-91f5-7043a8ca5313"
   },
   "outputs": [
    {
     "name": "stdout",
     "output_type": "stream",
     "text": [
      "Top 10 terms per Cluster: \n",
      "Cluster 0: product good work sony charger nice battery price power great\n",
      "Cluster 1: one great work game would time get well money film\n",
      "Cluster 2: book read reading story one author like time would great\n",
      "Cluster 3: cd album music song one band sound like heard track\n",
      "Cluster 4: movie film time bad great watch good story plot make\n"
     ]
    }
   ],
   "source": [
    "print(\"Top 10 terms per Cluster: \")\n",
    "order_centroids = kmModel.cluster_centers_.argsort()[:, ::-1]\n",
    "terms = tfidfVect.get_feature_names()\n",
    "\n",
    "for i in range(k):\n",
    "  top_term_words = [terms[ind] for ind in order_centroids[i, :10]]\n",
    "  print(\"Cluster {}: {}\".format(i, ' '.join(top_term_words)))"
   ]
  },
  {
   "cell_type": "markdown",
   "metadata": {
    "colab_type": "text",
    "id": "8wmODyblrQyk"
   },
   "source": [
    "\"great\" and \"bad\" will be the top two features to be used in the following visualation.\n",
    "\n",
    "---\n",
    "\n"
   ]
  },
  {
   "cell_type": "code",
   "execution_count": 77,
   "metadata": {
    "colab": {
     "base_uri": "https://localhost:8080/"
    },
    "colab_type": "code",
    "executionInfo": {
     "elapsed": 164107,
     "status": "ok",
     "timestamp": 1576469123020,
     "user": {
      "displayName": "Louise Dev",
      "photoUrl": "",
      "userId": "08535859031441537751"
     },
     "user_tz": 300
    },
    "id": "01v5Wsq-bhxY",
    "outputId": "1443dcee-3a12-46ce-b0e0-48e91d574cb6",
    "scrolled": true
   },
   "outputs": [
    {
     "data": {
      "text/plain": [
       "array([3, 3, 0, 0, 0, 1, 1, 1, 1, 2, 2, 1, 1, 0, 0, 0, 1, 1, 1, 3, 2, 0,\n",
       "       1, 1, 1, 3, 1, 1, 1, 0, 2, 2, 2, 2, 1, 1, 1, 1, 2, 2, 3, 2, 2, 4,\n",
       "       1, 1, 2, 2, 1, 2, 2, 1, 4, 4, 1, 1, 2, 2, 2, 4, 2, 1, 1, 2, 1, 1,\n",
       "       0, 1, 0, 1, 0, 1, 1, 1, 1, 0, 1, 2, 2, 2, 0, 1, 1, 1, 2, 2, 1, 2,\n",
       "       2, 2, 2, 2, 2, 2, 1, 2, 2, 2, 2, 4, 0, 1, 2, 1, 1, 4, 4, 4, 1, 1,\n",
       "       3, 2, 2, 3, 3, 0, 2, 3, 3, 1, 4, 1, 1, 1, 1, 1, 1, 1, 1, 4, 3, 0,\n",
       "       0, 0, 0, 0, 0, 0, 0, 0, 0, 0, 0, 0, 1, 1, 2, 2, 1, 2, 2, 0, 1, 2,\n",
       "       1, 2, 2, 1, 1, 1, 1, 2, 1, 3, 3, 3, 3, 2, 1, 2, 2, 1, 2, 1, 1, 1,\n",
       "       1, 2, 1, 1, 0, 1, 1, 1, 1, 2, 1, 0, 2, 3, 3, 2, 1, 0, 0, 2, 2, 1,\n",
       "       1, 0, 1, 1, 1, 2, 2, 1, 2, 3, 2, 1, 2, 1, 1, 1, 1, 3, 0, 3, 3, 1,\n",
       "       2, 1, 0, 1, 1, 4, 2, 1, 1, 1, 2, 3, 2, 1, 0, 0, 2, 1, 2, 3, 2, 2,\n",
       "       3, 0, 1, 1, 2, 0, 2, 2, 2, 3, 1, 2, 2, 3, 2, 1, 1, 2, 2, 2, 1, 3,\n",
       "       3, 3, 3, 3, 0, 1, 1, 1, 2, 2, 2, 1, 1, 1, 1, 1, 2, 3, 1, 3, 1, 3,\n",
       "       3, 3, 1, 2, 2, 0, 1, 2, 1, 2, 2, 2, 2, 1, 2, 1, 2, 2, 1, 2, 1, 1,\n",
       "       1, 1, 2, 1, 2, 4, 1, 3, 0, 2, 0, 1, 2, 1, 2, 1, 2, 2, 4, 4, 4, 4,\n",
       "       4, 1, 1, 4, 4, 4, 4, 4, 1, 1, 4, 4, 4, 4, 4, 0, 4, 4, 4, 1, 4, 4,\n",
       "       4, 4, 4, 1, 4, 4, 4, 4, 0, 0, 0, 0, 0, 1, 0, 0, 0, 1, 2, 2, 1, 1,\n",
       "       0, 2, 2, 1, 4, 4, 1, 4, 1, 1, 4, 2, 2, 2, 3, 3, 3, 3, 3, 1, 1, 0,\n",
       "       1, 2, 2, 2, 1, 2, 2, 2, 2, 2, 1, 1, 1, 1, 4, 4, 4, 4, 1, 1, 1, 1,\n",
       "       3, 1, 1, 2, 1, 1, 1, 2, 1, 2, 1, 4, 4, 2, 3, 1, 4, 4, 3, 3, 1, 2,\n",
       "       3, 1, 1, 2, 1, 1, 3, 1, 1, 0, 2, 1, 1, 1, 1, 1, 1, 1, 1, 1, 1, 1,\n",
       "       1, 1, 1, 1, 1, 1, 1, 1, 1, 1, 1, 1, 0, 1, 1, 1, 1, 1, 1, 1, 1, 0,\n",
       "       1, 0, 1, 0, 1, 0, 0, 1, 0, 1, 1, 3, 0, 2, 3, 3, 0, 1, 1, 0, 2, 0,\n",
       "       1, 1, 2, 1, 2, 4, 4, 0, 0, 0, 3, 2, 2, 2, 2, 1, 2, 2, 2, 3, 2, 1,\n",
       "       1, 2, 1, 1, 0, 1, 1, 1, 0, 2, 2, 2, 1, 0, 1, 0, 1, 1, 1, 3, 2, 1,\n",
       "       1, 1, 2, 2, 1, 1, 1, 1, 3, 1, 0, 0, 0, 0, 1, 0, 2, 2, 2, 1, 1, 1,\n",
       "       2, 1, 1, 1, 1, 0, 1, 1, 1, 1, 1, 1, 1, 1, 1, 1, 1, 2, 4, 1, 1, 4,\n",
       "       4, 2, 1, 1, 1, 2, 2, 1, 2, 4, 1, 1, 4, 4, 4, 4, 4, 0, 4, 4, 4, 4,\n",
       "       1, 4, 0, 2, 1, 0, 0, 0, 1, 1, 0, 1, 2, 1, 2, 2, 1, 2, 2, 2, 2, 1,\n",
       "       2, 2, 1, 1, 1, 1, 1, 1, 2, 2, 1, 0, 4, 3, 2, 1, 0, 1, 1, 1, 1, 1,\n",
       "       1, 1, 1, 1, 1, 2, 1, 1, 0, 1, 1, 1, 1, 1, 1, 1, 1, 3, 1, 1, 1, 1,\n",
       "       1, 4, 2, 2, 2, 2, 1, 0, 1, 1, 1, 3, 3, 1, 1, 2, 3, 0, 3, 1, 3, 1,\n",
       "       2, 2, 4, 1, 4, 4, 3, 3, 2, 4, 4, 4, 4, 4, 3, 3, 3, 3, 2, 1, 2, 1,\n",
       "       1, 2, 2, 2, 2, 1, 0, 1, 1, 1, 3, 3, 1, 1, 1, 2, 1, 1, 2, 2, 1, 2,\n",
       "       1, 1, 2, 2, 2, 2, 2, 2, 2, 1, 2, 2, 2, 2, 2, 1, 1, 1, 3, 3, 2, 0,\n",
       "       1, 3, 1, 2, 2, 2, 1, 2, 2, 2, 2, 2, 2, 2, 2, 2, 2, 2, 2, 2, 2, 2,\n",
       "       2, 2, 2, 2, 2, 2, 2, 2, 2, 2, 2, 4, 2, 2, 2, 2, 2, 2, 2, 2, 3, 1,\n",
       "       0, 0, 0, 0, 1, 1, 1, 1, 2, 2, 2, 0, 1, 0, 4, 1, 1, 4, 1, 1, 4, 1,\n",
       "       1, 3, 1, 2, 1, 2, 1, 1, 1, 2, 1, 1, 3, 3, 3, 4, 1, 1, 0, 4, 1, 1,\n",
       "       4, 4, 1, 4, 1, 1, 4, 0, 3, 3, 3, 3, 2, 1, 0, 4, 4, 4, 0, 1, 2, 3,\n",
       "       0, 1, 1, 3, 3, 3, 1, 4, 4, 4, 4, 4, 4, 4, 4, 4, 4, 1, 4, 1, 4, 4,\n",
       "       4, 1, 2, 3, 1, 2, 2, 2, 3, 4, 4, 1, 1, 2, 2, 2, 1, 2, 1, 2, 2, 2,\n",
       "       1, 2, 2, 1, 2, 2, 1, 1, 1, 2, 3, 1, 0, 1, 1, 2, 1, 1, 1, 4, 1, 3,\n",
       "       3, 1, 4, 4, 4, 4, 4, 3, 3, 3, 3, 3, 3, 3, 1, 1, 4, 4, 1, 1, 0, 0,\n",
       "       0, 0, 2, 1, 2, 3, 3, 1, 2, 1, 4, 4, 4, 4, 1, 2, 2, 0, 0, 2, 2, 3,\n",
       "       1, 1, 1, 1, 2, 4, 1, 4, 1, 1])"
      ]
     },
     "execution_count": 77,
     "metadata": {},
     "output_type": "execute_result"
    }
   ],
   "source": [
    "kmModel.labels_"
   ]
  },
  {
   "cell_type": "code",
   "execution_count": 78,
   "metadata": {
    "colab": {
     "base_uri": "https://localhost:8080/"
    },
    "colab_type": "code",
    "executionInfo": {
     "elapsed": 164099,
     "status": "ok",
     "timestamp": 1576469123022,
     "user": {
      "displayName": "Louise Dev",
      "photoUrl": "",
      "userId": "08535859031441537751"
     },
     "user_tz": 300
    },
    "id": "oQDBDIandE4b",
    "outputId": "23e7eeb9-3d46-41da-bd77-b13a3b9067c5"
   },
   "outputs": [
    {
     "data": {
      "text/plain": [
       "array([[ 4.60785923e-19,  3.79470760e-19, -2.43945489e-19, ...,\n",
       "         1.08420217e-18,  1.30104261e-18, -1.89735380e-19],\n",
       "       [ 1.19262239e-18,  6.59955877e-04,  4.48604115e-04, ...,\n",
       "         1.29177432e-03,  1.82664121e-03, -1.89735380e-19],\n",
       "       [ 8.81257202e-04, -3.25260652e-19, -3.79470760e-19, ...,\n",
       "        -2.38524478e-18,  1.40946282e-18, -1.89735380e-19],\n",
       "       [ 3.79470760e-19,  2.71050543e-19, -2.16840434e-19, ...,\n",
       "         1.08420217e-18,  1.19262239e-18, -1.89735380e-19],\n",
       "       [ 5.42101086e-19,  3.79470760e-19, -2.43945489e-19, ...,\n",
       "         1.19262239e-18,  1.30104261e-18,  1.01965155e-03]])"
      ]
     },
     "execution_count": 78,
     "metadata": {},
     "output_type": "execute_result"
    }
   ],
   "source": [
    "kmModel.cluster_centers_"
   ]
  },
  {
   "cell_type": "code",
   "execution_count": 79,
   "metadata": {
    "colab": {
     "base_uri": "https://localhost:8080/"
    },
    "colab_type": "code",
    "executionInfo": {
     "elapsed": 164091,
     "status": "ok",
     "timestamp": 1576469123023,
     "user": {
      "displayName": "Louise Dev",
      "photoUrl": "",
      "userId": "08535859031441537751"
     },
     "user_tz": 300
    },
    "id": "1DHV1Dbtbprz",
    "outputId": "68137fdb-4218-4fb1-dc53-99031cb89d83"
   },
   "outputs": [
    {
     "data": {
      "text/html": [
       "<div>\n",
       "<style scoped>\n",
       "    .dataframe tbody tr th:only-of-type {\n",
       "        vertical-align: middle;\n",
       "    }\n",
       "\n",
       "    .dataframe tbody tr th {\n",
       "        vertical-align: top;\n",
       "    }\n",
       "\n",
       "    .dataframe thead th {\n",
       "        text-align: right;\n",
       "    }\n",
       "</style>\n",
       "<table border=\"1\" class=\"dataframe\">\n",
       "  <thead>\n",
       "    <tr style=\"text-align: right;\">\n",
       "      <th></th>\n",
       "      <th>review</th>\n",
       "      <th>cluster</th>\n",
       "    </tr>\n",
       "  </thead>\n",
       "  <tbody>\n",
       "    <tr>\n",
       "      <td>0</td>\n",
       "      <td>great cd lovely pat one great voice generation...</td>\n",
       "      <td>3</td>\n",
       "    </tr>\n",
       "    <tr>\n",
       "      <td>1</td>\n",
       "      <td>one best game music soundtrack game really pla...</td>\n",
       "      <td>3</td>\n",
       "    </tr>\n",
       "    <tr>\n",
       "      <td>2</td>\n",
       "      <td>battery died within year bought charger jul wo...</td>\n",
       "      <td>0</td>\n",
       "    </tr>\n",
       "    <tr>\n",
       "      <td>3</td>\n",
       "      <td>work fine maha energy better check maha energy...</td>\n",
       "      <td>0</td>\n",
       "    </tr>\n",
       "    <tr>\n",
       "      <td>4</td>\n",
       "      <td>great non audiophile reviewed quite bit combo ...</td>\n",
       "      <td>0</td>\n",
       "    </tr>\n",
       "    <tr>\n",
       "      <td>...</td>\n",
       "      <td>...</td>\n",
       "      <td>...</td>\n",
       "    </tr>\n",
       "    <tr>\n",
       "      <td>995</td>\n",
       "      <td>borinmg dumb waste time glory old time movie t...</td>\n",
       "      <td>4</td>\n",
       "    </tr>\n",
       "    <tr>\n",
       "      <td>996</td>\n",
       "      <td>best film year one best film ever made god mon...</td>\n",
       "      <td>1</td>\n",
       "    </tr>\n",
       "    <tr>\n",
       "      <td>997</td>\n",
       "      <td>see movie ian mckellen performance god monster...</td>\n",
       "      <td>4</td>\n",
       "    </tr>\n",
       "    <tr>\n",
       "      <td>998</td>\n",
       "      <td>best screenplay stability one recent film anti...</td>\n",
       "      <td>1</td>\n",
       "    </tr>\n",
       "    <tr>\n",
       "      <td>999</td>\n",
       "      <td>tree arrived bent poorly packed manufacturer p...</td>\n",
       "      <td>1</td>\n",
       "    </tr>\n",
       "  </tbody>\n",
       "</table>\n",
       "<p>1000 rows × 2 columns</p>\n",
       "</div>"
      ],
      "text/plain": [
       "                                                review  cluster\n",
       "0    great cd lovely pat one great voice generation...        3\n",
       "1    one best game music soundtrack game really pla...        3\n",
       "2    battery died within year bought charger jul wo...        0\n",
       "3    work fine maha energy better check maha energy...        0\n",
       "4    great non audiophile reviewed quite bit combo ...        0\n",
       "..                                                 ...      ...\n",
       "995  borinmg dumb waste time glory old time movie t...        4\n",
       "996  best film year one best film ever made god mon...        1\n",
       "997  see movie ian mckellen performance god monster...        4\n",
       "998  best screenplay stability one recent film anti...        1\n",
       "999  tree arrived bent poorly packed manufacturer p...        1\n",
       "\n",
       "[1000 rows x 2 columns]"
      ]
     },
     "execution_count": 79,
     "metadata": {},
     "output_type": "execute_result"
    }
   ],
   "source": [
    "kmResults = pd.DataFrame()\n",
    "kmResults['review'] = reviewCorpus\n",
    "kmResults['cluster'] = kmModel.labels_\n",
    "kmResults"
   ]
  },
  {
   "cell_type": "code",
   "execution_count": 80,
   "metadata": {
    "colab": {
     "base_uri": "https://localhost:8080/"
    },
    "colab_type": "code",
    "executionInfo": {
     "elapsed": 164085,
     "status": "ok",
     "timestamp": 1576469123025,
     "user": {
      "displayName": "Louise Dev",
      "photoUrl": "",
      "userId": "08535859031441537751"
     },
     "user_tz": 300
    },
    "id": "9o3M1Kyp0Ttq",
    "outputId": "65012bca-abe9-47bf-d2c9-2d1b1bd41b88"
   },
   "outputs": [
    {
     "name": "stdout",
     "output_type": "stream",
     "text": [
      "Cluster:  [0]\n"
     ]
    }
   ],
   "source": [
    "# Predict a random sentence:\n",
    "test = tfidfVect.transform([\"love the product but shipping was too slow\"])\n",
    "kmPred = kmModel.predict(test)\n",
    "print(\"Cluster: \", kmPred)\n"
   ]
  },
  {
   "cell_type": "markdown",
   "metadata": {
    "colab_type": "text",
    "id": "qP5qFrFjqFeu"
   },
   "source": [
    "### K-means of selected features (words)"
   ]
  },
  {
   "cell_type": "code",
   "execution_count": 81,
   "metadata": {
    "colab": {
     "base_uri": "https://localhost:8080/"
    },
    "colab_type": "code",
    "executionInfo": {
     "elapsed": 164189,
     "status": "ok",
     "timestamp": 1576469123140,
     "user": {
      "displayName": "Louise Dev",
      "photoUrl": "",
      "userId": "08535859031441537751"
     },
     "user_tz": 300
    },
    "id": "f3XktyFDp02L",
    "outputId": "a2ba6331-1831-4a41-a97b-dbf558f0245e"
   },
   "outputs": [
    {
     "data": {
      "text/plain": [
       "KMeans(algorithm='auto', copy_x=True, init='k-means++', max_iter=300,\n",
       "       n_clusters=5, n_init=10, n_jobs=None, precompute_distances='auto',\n",
       "       random_state=None, tol=0.0001, verbose=0)"
      ]
     },
     "execution_count": 81,
     "metadata": {},
     "output_type": "execute_result"
    }
   ],
   "source": [
    "kmModelSelected = KMeans(n_clusters = k)\n",
    "kmModelSelected.fit(tfidf_reviewDF[['great', 'bad']])"
   ]
  },
  {
   "cell_type": "code",
   "execution_count": 82,
   "metadata": {
    "colab": {},
    "colab_type": "code",
    "id": "Xzh1HasXofyL"
   },
   "outputs": [],
   "source": [
    "tfidf_reviewDF['cluster'] = kmModelSelected.labels_"
   ]
  },
  {
   "cell_type": "code",
   "execution_count": 83,
   "metadata": {
    "colab": {
     "base_uri": "https://localhost:8080/"
    },
    "colab_type": "code",
    "executionInfo": {
     "elapsed": 169912,
     "status": "ok",
     "timestamp": 1576469128878,
     "user": {
      "displayName": "Louise Dev",
      "photoUrl": "",
      "userId": "08535859031441537751"
     },
     "user_tz": 300
    },
    "id": "wPNvPU4To2tg",
    "outputId": "6fc710d4-c876-4d6c-e770-5fb20cc2809e"
   },
   "outputs": [
    {
     "data": {
      "image/png": "[encoded data removed]",
      "text/plain": [
       "<Figure size 432x288 with 1 Axes>"
      ]
     },
     "metadata": {
      "needs_background": "light"
     },
     "output_type": "display_data"
    }
   ],
   "source": [
    "# Create the color palette:\n",
    "colorPalette = { 0: 'red', 1: 'green', 2: 'blue', 3: 'yellow', 4: 'orange' }\n",
    "colors = tfidf_reviewDF.apply(lambda row: colorPalette[row.cluster], axis = 1)\n",
    "\n",
    "# Create a scatter plot of \"great\" vs \"bad\" in clusters:\n",
    "tfidf_reviewDF.plot(kind = 'scatter', x = 'great', y = 'bad', alpha = 0.1, s = 300, c = colors)\n",
    "\n",
    "plt.xlabel(\"great\")\n",
    "plt.ylabel(\"bad\")\n",
    "\n",
    "plt.title(\"Great vs Bad in Clusters\", fontsize = 16)\n",
    "\n",
    "plt.tight_layout()"
   ]
  },
  {
   "cell_type": "markdown",
   "metadata": {
    "colab_type": "text",
    "id": "-JIiqTg0bNha"
   },
   "source": [
    "# Regression"
   ]
  },
  {
   "cell_type": "code",
   "execution_count": 84,
   "metadata": {
    "colab": {},
    "colab_type": "code",
    "id": "SHBWzZbKtWGC"
   },
   "outputs": [],
   "source": [
    "from sklearn.linear_model import LinearRegression, LogisticRegression\n",
    "from sklearn import metrics"
   ]
  },
  {
   "cell_type": "markdown",
   "metadata": {
    "colab_type": "text",
    "id": "P7IF_TGpm_wf"
   },
   "source": [
    "## Logistic Regression:"
   ]
  },
  {
   "cell_type": "code",
   "execution_count": 85,
   "metadata": {
    "colab": {
     "base_uri": "https://localhost:8080/"
    },
    "colab_type": "code",
    "executionInfo": {
     "elapsed": 169895,
     "status": "ok",
     "timestamp": 1576469128880,
     "user": {
      "displayName": "Louise Dev",
      "photoUrl": "",
      "userId": "08535859031441537751"
     },
     "user_tz": 300
    },
    "id": "ffblbog3tWGF",
    "outputId": "0ddadc02-46e6-41bf-b9da-a997e5c7d037"
   },
   "outputs": [
    {
     "name": "stderr",
     "output_type": "stream",
     "text": [
      "C:\\ProgramData\\Anaconda3\\lib\\site-packages\\sklearn\\linear_model\\logistic.py:432: FutureWarning: Default solver will be changed to 'lbfgs' in 0.22. Specify a solver to silence this warning.\n",
      "  FutureWarning)\n"
     ]
    },
    {
     "data": {
      "text/plain": [
       "LogisticRegression(C=1.0, class_weight=None, dual=False, fit_intercept=True,\n",
       "                   intercept_scaling=1, l1_ratio=None, max_iter=100,\n",
       "                   multi_class='warn', n_jobs=None, penalty='l2',\n",
       "                   random_state=None, solver='warn', tol=0.0001, verbose=0,\n",
       "                   warm_start=False)"
      ]
     },
     "execution_count": 85,
     "metadata": {},
     "output_type": "execute_result"
    }
   ],
   "source": [
    "logRegModel = LogisticRegression()\n",
    "\n",
    "logRegModel.fit(reviewArray_train, labelArray_train)"
   ]
  },
  {
   "cell_type": "code",
   "execution_count": 86,
   "metadata": {
    "colab": {},
    "colab_type": "code",
    "id": "1tQzI1uOttiK"
   },
   "outputs": [],
   "source": [
    "label_predict_logReg = logRegModel.predict(reviewArray_test)"
   ]
  },
  {
   "cell_type": "code",
   "execution_count": 87,
   "metadata": {
    "colab": {
     "base_uri": "https://localhost:8080/"
    },
    "colab_type": "code",
    "executionInfo": {
     "elapsed": 169881,
     "status": "ok",
     "timestamp": 1576469128881,
     "user": {
      "displayName": "Louise Dev",
      "photoUrl": "",
      "userId": "08535859031441537751"
     },
     "user_tz": 300
    },
    "id": "jx6ekEexuYzM",
    "outputId": "aba0d339-fae9-4cb4-e034-c4f76cf0db7f"
   },
   "outputs": [
    {
     "data": {
      "text/plain": [
       "array([1, 1, 2, 1, 2, 2, 2, 1, 1, 1, 1, 2, 2, 2, 2, 1, 1, 1, 1, 2, 2, 2,\n",
       "       1, 2, 2, 1, 2, 1, 1, 2, 2, 2, 1, 2, 2, 1, 2, 1, 1, 1, 2, 1, 1, 1,\n",
       "       2, 2, 2, 2, 2, 2, 1, 2, 1, 2, 2, 1, 2, 1, 2, 1, 2, 1, 1, 1, 2, 2,\n",
       "       2, 2, 1, 1, 2, 1, 2, 2, 2, 2, 1, 2, 1, 2, 1, 1, 2, 2, 1, 1, 1, 2,\n",
       "       1, 2, 2, 2, 1, 2, 2, 1, 2, 1, 2, 1, 1, 2, 2, 2, 2, 1, 1, 1, 2, 1,\n",
       "       2, 1, 2, 1, 1, 2, 1, 2, 2, 2, 2, 1, 1, 2, 2, 1, 2, 1, 1, 2, 1, 1,\n",
       "       1, 1, 2, 2, 1, 1, 2, 1, 2, 2, 1, 2, 2, 2, 1, 2, 1, 2, 2, 2, 1, 1,\n",
       "       2, 1, 1, 2, 2, 1, 2, 1, 2, 2, 1, 1, 2, 1, 2, 2, 1, 1, 2, 2, 2, 2,\n",
       "       1, 2, 1, 2, 2, 1, 1, 2, 1, 2, 2, 1, 1, 2, 2, 1, 1, 1, 1, 2, 2, 1,\n",
       "       1, 2])"
      ]
     },
     "execution_count": 87,
     "metadata": {},
     "output_type": "execute_result"
    }
   ],
   "source": [
    "label_predict_logReg"
   ]
  },
  {
   "cell_type": "code",
   "execution_count": 88,
   "metadata": {
    "colab": {},
    "colab_type": "code",
    "id": "PK-bqNEOurtu"
   },
   "outputs": [],
   "source": [
    "# Import confusion_matrix from Scikit Learn for accuracy evaluation:\n",
    "from sklearn.metrics import confusion_matrix"
   ]
  },
  {
   "cell_type": "code",
   "execution_count": 89,
   "metadata": {
    "colab": {
     "base_uri": "https://localhost:8080/"
    },
    "colab_type": "code",
    "executionInfo": {
     "elapsed": 169868,
     "status": "ok",
     "timestamp": 1576469128883,
     "user": {
      "displayName": "Louise Dev",
      "photoUrl": "",
      "userId": "08535859031441537751"
     },
     "user_tz": 300
    },
    "id": "o_oXZ2IJH1V2",
    "outputId": "a0e25067-26ea-4dba-e89c-afcf3a545335"
   },
   "outputs": [
    {
     "data": {
      "text/plain": [
       "array([[84, 18],\n",
       "       [10, 88]], dtype=int64)"
      ]
     },
     "execution_count": 89,
     "metadata": {},
     "output_type": "execute_result"
    }
   ],
   "source": [
    "confMetrix_logReg = confusion_matrix(labelArray_test, label_predict_logReg)\n",
    "confMetrix_logReg"
   ]
  },
  {
   "cell_type": "code",
   "execution_count": 90,
   "metadata": {
    "colab": {},
    "colab_type": "code",
    "id": "iv8WmhROHvTc"
   },
   "outputs": [],
   "source": [
    "# Import accuracy_score from Scikit Learn for computing the prediction accuracy:\n",
    "from sklearn.metrics import accuracy_score"
   ]
  },
  {
   "cell_type": "code",
   "execution_count": 91,
   "metadata": {
    "colab": {
     "base_uri": "https://localhost:8080/"
    },
    "colab_type": "code",
    "executionInfo": {
     "elapsed": 169854,
     "status": "ok",
     "timestamp": 1576469128884,
     "user": {
      "displayName": "Louise Dev",
      "photoUrl": "",
      "userId": "08535859031441537751"
     },
     "user_tz": 300
    },
    "id": "taEYwKaMusme",
    "outputId": "ceaf6f70-bb2f-44b4-f31f-a85e22d0e1bf"
   },
   "outputs": [
    {
     "name": "stdout",
     "output_type": "stream",
     "text": [
      "Accuracy for Logistic Regression Classifier: 86.0%\n"
     ]
    }
   ],
   "source": [
    "print(\"Accuracy for Logistic Regression Classifier: \" + str(accuracy_score(labelArray_test, label_predict_logReg) * 100) + \"%\")"
   ]
  },
  {
   "cell_type": "code",
   "execution_count": 92,
   "metadata": {
    "colab": {},
    "colab_type": "code",
    "id": "Xi8ZOqP51a60"
   },
   "outputs": [],
   "source": [
    "# reviewArray_test"
   ]
  },
  {
   "cell_type": "code",
   "execution_count": 93,
   "metadata": {
    "colab": {},
    "colab_type": "code",
    "id": "HyEZxnETvI2R"
   },
   "outputs": [],
   "source": [
    "# logRegResults = pd.DataFrame()\n",
    "# logRegResults['review'] = reviewArray_test\n",
    "# logRegResults['true label'] = labelArray_test\n",
    "# logRegResults['predicted label'] = logRegModel.labels_\n",
    "# logRegResults"
   ]
  },
  {
   "cell_type": "code",
   "execution_count": 94,
   "metadata": {
    "colab": {
     "base_uri": "https://localhost:8080/"
    },
    "colab_type": "code",
    "executionInfo": {
     "elapsed": 169994,
     "status": "ok",
     "timestamp": 1576469129042,
     "user": {
      "displayName": "Louise Dev",
      "photoUrl": "",
      "userId": "08535859031441537751"
     },
     "user_tz": 300
    },
    "id": "MwxjqscI2Izz",
    "outputId": "f9d5d468-a266-43d3-dcf0-1ea759236e93"
   },
   "outputs": [
    {
     "data": {
      "image/png": "[encoded data removed]",
      "text/plain": [
       "<Figure size 432x288 with 2 Axes>"
      ]
     },
     "metadata": {
      "needs_background": "light"
     },
     "output_type": "display_data"
    }
   ],
   "source": [
    "ax = plt.subplot()\n",
    "sns.heatmap(confMetrix_logReg, annot = True)\n",
    "\n",
    "ax.set_xlabel(\"Predicted Label of Review\")\n",
    "ax.set_ylabel(\"True Label of Review\")\n",
    "ax.set_xticklabels([\"1\", \"2\"])\n",
    "ax.set_yticklabels([\"1\", \"2\"])\n",
    "ax.set_title(\"Confusion Matrix of Logistic Regression Classification Result\", fontsize = 14)\n",
    "\n",
    "plt.tight_layout()"
   ]
  },
  {
   "cell_type": "markdown",
   "metadata": {
    "colab_type": "text",
    "id": "5C55Y2VusvBl"
   },
   "source": [
    "## Linear Regression:"
   ]
  },
  {
   "cell_type": "code",
   "execution_count": 95,
   "metadata": {
    "colab": {
     "base_uri": "https://localhost:8080/"
    },
    "colab_type": "code",
    "executionInfo": {
     "elapsed": 171641,
     "status": "ok",
     "timestamp": 1576469130698,
     "user": {
      "displayName": "Louise Dev",
      "photoUrl": "",
      "userId": "08535859031441537751"
     },
     "user_tz": 300
    },
    "id": "ZgZSQ9fTHl3f",
    "outputId": "5644becd-7588-47ce-e3bd-2cda87f28a79"
   },
   "outputs": [
    {
     "data": {
      "text/plain": [
       "LinearRegression(copy_X=True, fit_intercept=True, n_jobs=None, normalize=False)"
      ]
     },
     "execution_count": 95,
     "metadata": {},
     "output_type": "execute_result"
    }
   ],
   "source": [
    "linRegModel = LinearRegression()\n",
    "\n",
    "linRegModel.fit(reviewArray_train, labelArray_train)"
   ]
  },
  {
   "cell_type": "code",
   "execution_count": 96,
   "metadata": {
    "colab": {
     "base_uri": "https://localhost:8080/"
    },
    "colab_type": "code",
    "executionInfo": {
     "elapsed": 171635,
     "status": "ok",
     "timestamp": 1576469130700,
     "user": {
      "displayName": "Louise Dev",
      "photoUrl": "",
      "userId": "08535859031441537751"
     },
     "user_tz": 300
    },
    "id": "HTskiu6yIkal",
    "outputId": "b7a0949b-70c6-4d33-f529-66b53dcd490e"
   },
   "outputs": [
    {
     "name": "stdout",
     "output_type": "stream",
     "text": [
      "1.5352216113227184\n"
     ]
    }
   ],
   "source": [
    "# To retrieve the intercept:\n",
    "print(linRegModel.intercept_)"
   ]
  },
  {
   "cell_type": "code",
   "execution_count": 97,
   "metadata": {
    "colab": {
     "base_uri": "https://localhost:8080/"
    },
    "colab_type": "code",
    "executionInfo": {
     "elapsed": 171625,
     "status": "ok",
     "timestamp": 1576469130700,
     "user": {
      "displayName": "Louise Dev",
      "photoUrl": "",
      "userId": "08535859031441537751"
     },
     "user_tz": 300
    },
    "id": "uG2Z1AHzIoyt",
    "outputId": "50c11e44-6b69-420c-887c-d1199f693a12"
   },
   "outputs": [
    {
     "name": "stdout",
     "output_type": "stream",
     "text": [
      "[-0.0417829  -0.07961768 -0.03559155 ... -0.17415352  0.31975446\n",
      " -0.05825594]\n"
     ]
    }
   ],
   "source": [
    "# For retrieving the slope:\n",
    "print(linRegModel.coef_)"
   ]
  },
  {
   "cell_type": "code",
   "execution_count": 98,
   "metadata": {
    "colab": {},
    "colab_type": "code",
    "id": "nn21Gp-nIHg8"
   },
   "outputs": [],
   "source": [
    "label_predict_linReg = linRegModel.predict(reviewArray_test)"
   ]
  },
  {
   "cell_type": "code",
   "execution_count": 99,
   "metadata": {
    "colab": {
     "base_uri": "https://localhost:8080/"
    },
    "colab_type": "code",
    "executionInfo": {
     "elapsed": 171824,
     "status": "ok",
     "timestamp": 1576469130914,
     "user": {
      "displayName": "Louise Dev",
      "photoUrl": "",
      "userId": "08535859031441537751"
     },
     "user_tz": 300
    },
    "id": "SKwMUm9ZI3o0",
    "outputId": "08663bbd-945b-44a5-e455-36e1284f9614",
    "scrolled": true
   },
   "outputs": [
    {
     "data": {
      "text/plain": [
       "array([0.64276434, 1.20604122, 1.51768789, 1.45364913, 1.66545897,\n",
       "       1.92511161, 1.52396454, 1.56295065, 1.34234459, 0.92728289,\n",
       "       1.48865771, 1.8955341 , 1.82682375, 1.55529911, 1.89835069,\n",
       "       1.07464046, 0.92285682, 1.0417782 , 1.41381056, 1.76762911,\n",
       "       1.47710334, 1.80776309, 1.33505631, 1.69377866, 1.55144865,\n",
       "       1.39302615, 1.74824121, 1.18430785, 1.18374357, 1.64374317,\n",
       "       1.52058048, 1.60716604, 1.13671601, 2.19952277, 1.72657687,\n",
       "       1.58423439, 1.60909165, 1.57513551, 1.51613294, 0.89178352,\n",
       "       1.70888026, 1.3614695 , 1.34724885, 1.19383   , 1.61472841,\n",
       "       1.81120138, 1.63722569, 2.00300293, 1.65989858, 1.70978923,\n",
       "       1.21035074, 1.65899345, 1.44710211, 1.31965745, 1.8263699 ,\n",
       "       1.02844061, 2.05811662, 1.42837783, 1.66515056, 1.1182801 ,\n",
       "       1.92034735, 1.3504024 , 1.27589874, 1.38867761, 2.09230025,\n",
       "       1.86925869, 1.16645999, 1.83876343, 1.45463968, 1.19377528,\n",
       "       1.73949217, 1.41009188, 1.53525469, 1.69609932, 1.51349434,\n",
       "       1.55434345, 1.46478017, 1.83731548, 1.33414998, 1.87470516,\n",
       "       1.33943293, 1.17620465, 1.70445073, 2.1831647 , 1.1284152 ,\n",
       "       1.50181684, 1.13420744, 1.61664277, 1.25154753, 1.65873977,\n",
       "       1.48515586, 1.79651028, 0.54232917, 1.51894119, 1.84441822,\n",
       "       1.36458684, 1.72338181, 1.5842974 , 1.63447309, 1.48223869,\n",
       "       1.10079142, 1.57891175, 1.53313566, 1.66567168, 1.84649732,\n",
       "       1.54338829, 1.58486   , 1.26057517, 1.82709713, 0.97367178,\n",
       "       1.70685542, 0.94844008, 2.02134902, 1.46616742, 0.9739253 ,\n",
       "       1.90164978, 1.44512707, 1.63149794, 1.97045083, 2.21019776,\n",
       "       1.86103153, 1.5040315 , 1.20094528, 2.02514336, 1.60918819,\n",
       "       1.23103475, 1.90145992, 1.3740816 , 0.86685636, 1.65805099,\n",
       "       1.11745863, 1.5133872 , 1.21084079, 1.06053681, 1.72707149,\n",
       "       1.79252745, 1.42872183, 1.24886225, 1.43354211, 1.24188566,\n",
       "       1.61257211, 1.78932353, 0.95660004, 2.13163478, 1.75616514,\n",
       "       1.71851565, 1.43709435, 1.80340118, 1.24273151, 1.79910096,\n",
       "       1.94078095, 1.52059845, 1.44362848, 1.19294798, 1.46652967,\n",
       "       1.07275412, 1.28900309, 1.88427891, 1.48854418, 1.4095881 ,\n",
       "       1.58298725, 1.43982011, 1.51834895, 1.82347651, 1.28576188,\n",
       "       1.01260713, 1.72036415, 1.34276594, 1.79163333, 1.6449379 ,\n",
       "       1.27888325, 1.39775452, 1.84524179, 1.66001138, 1.82720962,\n",
       "       1.50734435, 0.8844368 , 1.89287784, 1.20469079, 1.331986  ,\n",
       "       1.57664995, 0.96813559, 1.36825818, 1.50630373, 1.51758698,\n",
       "       1.56050575, 1.65716708, 1.52617361, 1.36173015, 1.70662756,\n",
       "       2.12105565, 1.10213513, 1.30440567, 1.4375017 , 1.26088361,\n",
       "       1.80757606, 1.87763958, 1.19145233, 1.16651307, 1.78580086])"
      ]
     },
     "execution_count": 99,
     "metadata": {},
     "output_type": "execute_result"
    }
   ],
   "source": [
    "label_predict_linReg"
   ]
  },
  {
   "cell_type": "markdown",
   "metadata": {
    "colab_type": "text",
    "id": "xUv59OujNSIB"
   },
   "source": [
    "# Sentiment Analysis"
   ]
  },
  {
   "cell_type": "code",
   "execution_count": 101,
   "metadata": {
    "colab": {},
    "colab_type": "code",
    "id": "Czt1Cs6yBKKs"
   },
   "outputs": [],
   "source": [
    "# Import SentimentIntensityAnalyzer from NLTK Vader lexicon:\n",
    "from nltk.sentiment.vader import SentimentIntensityAnalyzer"
   ]
  },
  {
   "cell_type": "code",
   "execution_count": 102,
   "metadata": {
    "colab": {},
    "colab_type": "code",
    "id": "NbyfjrzWECi7"
   },
   "outputs": [],
   "source": [
    "# Define the Vader sentiment analyzer:\n",
    "vaderAnalyzer = SentimentIntensityAnalyzer()\n",
    "\n",
    "# Define the function of review rate:\n",
    "def sentiment_analyzer_scores(text):\n",
    "  score = vaderAnalyzer.polarity_scores(text)\n",
    "  print(text)\n",
    "  print(score)\n",
    "  print()\n",
    "\n",
    "  print(\"Overall, the review is rated as: \")\n",
    "\n",
    "  if score['compound'] <= -0.05:\n",
    "    print(\"Negative (Label: 1)\")\n",
    "\n",
    "  elif score['compound'] >= 0.05:\n",
    "    print(\"Positive (Label: 2)\")\n",
    "\n",
    "  else:\n",
    "    print(\"Neutral (No Label)\")\n",
    "\n",
    "  print()\n",
    "  print(\"-------------------------------------\")\n",
    "  print()\n",
    "  "
   ]
  },
  {
   "cell_type": "code",
   "execution_count": 103,
   "metadata": {
    "colab": {
     "base_uri": "https://localhost:8080/",
     "height": 425
    },
    "colab_type": "code",
    "executionInfo": {
     "elapsed": 171804,
     "status": "ok",
     "timestamp": 1576469130918,
     "user": {
      "displayName": "Louise Dev",
      "photoUrl": "",
      "userId": "08535859031441537751"
     },
     "user_tz": 300
    },
    "id": "eDVNBqn4E9f9",
    "outputId": "b911687c-968b-44e9-f2da-13964cff0239"
   },
   "outputs": [
    {
     "name": "stdout",
     "output_type": "stream",
     "text": [
      "Lmao, it's so cute~\n",
      "{'neg': 0.0, 'neu': 0.435, 'pos': 0.565, 'compound': 0.5994}\n",
      "\n",
      "Overall, the review is rated as: \n",
      "Positive (Label: 2)\n",
      "\n",
      "-------------------------------------\n",
      "\n",
      "im very disappointed\n",
      "{'neg': 0.629, 'neu': 0.371, 'pos': 0.0, 'compound': -0.5256}\n",
      "\n",
      "Overall, the review is rated as: \n",
      "Negative (Label: 1)\n",
      "\n",
      "-------------------------------------\n",
      "\n",
      "The price is good but the quality is trash!\n",
      "{'neg': 0.0, 'neu': 0.781, 'pos': 0.219, 'compound': 0.3054}\n",
      "\n",
      "Overall, the review is rated as: \n",
      "Positive (Label: 2)\n",
      "\n",
      "-------------------------------------\n",
      "\n"
     ]
    }
   ],
   "source": [
    "text1 = \"Lmao, it's so cute~\"\n",
    "text2 = \"im very disappointed\"\n",
    "text3 = \"The price is good but the quality is trash!\"\n",
    "\n",
    "sentiment_analyzer_scores(text1)\n",
    "sentiment_analyzer_scores(text2)\n",
    "sentiment_analyzer_scores(text3)\n"
   ]
  },
  {
   "cell_type": "code",
   "execution_count": 104,
   "metadata": {
    "colab": {
     "base_uri": "https://localhost:8080/",
     "height": 360
    },
    "colab_type": "code",
    "executionInfo": {
     "elapsed": 171788,
     "status": "ok",
     "timestamp": 1576469130919,
     "user": {
      "displayName": "Louise Dev",
      "photoUrl": "",
      "userId": "08535859031441537751"
     },
     "user_tz": 300
    },
    "id": "CU6q4hXV9Iw9",
    "outputId": "2442f28e-cf25-44db-ca29-fed6d52fa67b"
   },
   "outputs": [
    {
     "name": "stdout",
     "output_type": "stream",
     "text": [
      "=> Original Review:\n",
      "misleading photo: There was little information about the product other than the photo which showed the Watchtower toys with 3 action figures. We thought that the 3 action figures were included - they were not. Also, do not be fooled by the \"too good to be true\" price. They charge so much for shipping it costs the same as you would pay in a store.Otherwise, the package arrived in a timely manner, was in good condition and appeared to be from a legitamate supplier.\n",
      "{'neg': 0.047, 'neu': 0.829, 'pos': 0.124, 'compound': 0.7707}\n",
      "\n",
      "Overall, the review is rated as: \n",
      "Positive (Label: 2)\n",
      "\n",
      "-------------------------------------\n",
      "\n",
      "=> Cleaned Text of the review:\n",
      "misleading photo little information product photo showed watchtower toy action figure thought action figure included also fooled good true price charge much shipping cost would pay store otherwise package arrived timely manner good condition appeared legitamate supplier\n",
      "{'neg': 0.145, 'neu': 0.67, 'pos': 0.186, 'compound': 0.4404}\n",
      "\n",
      "Overall, the review is rated as: \n",
      "Positive (Label: 2)\n",
      "\n",
      "-------------------------------------\n",
      "\n",
      "Actual Label:  1\n"
     ]
    }
   ],
   "source": [
    "print(\"=> Original Review:\")\n",
    "sentiment_analyzer_scores(df1.iloc[500, 1])\n",
    "# print(df1.iloc[0, 1])\n",
    "# print(\"=> Sentiment Analysis of the Original Review:\")\n",
    "# print(vaderAnalyzer.polarity_scores(df1.iloc[0, 1]))\n",
    "# print()\n",
    "\n",
    "print(\"=> Cleaned Text of the review:\")\n",
    "sentiment_analyzer_scores(reviewCorpus[500])\n",
    "# print(reviewCorpus[0])\n",
    "# print(\"=> Sentiment Analysis of the Cleaned Text:\")\n",
    "# print(vaderAnalyzer.polarity_scores(reviewCorpus[0]))\n",
    "\n",
    "print(\"Actual Label: \",labelArray[500])\n"
   ]
  }
 ],
 "metadata": {
  "accelerator": "GPU",
  "colab": {
   "machine_shape": "hm",
   "name": "Copy of emotion-ai-chatbot.ipynb",
   "provenance": []
  },
  "kernelspec": {
   "display_name": "Python 3",
   "language": "python",
   "name": "python3"
  },
  "language_info": {
   "codemirror_mode": {
    "name": "ipython",
    "version": 3
   },
   "file_extension": ".py",
   "mimetype": "text/x-python",
   "name": "python",
   "nbconvert_exporter": "python",
   "pygments_lexer": "ipython3",
   "version": "3.7.4"
  },
  "pycharm": {
   "stem_cell": {
    "cell_type": "raw",
    "metadata": {
     "collapsed": false
    },
    "source": []
   }
  }
 },
 "nbformat": 4,
 "nbformat_minor": 4
}
